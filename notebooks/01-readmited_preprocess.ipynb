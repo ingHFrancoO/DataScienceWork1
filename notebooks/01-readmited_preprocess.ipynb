{
 "cells": [
  {
   "cell_type": "markdown",
   "metadata": {},
   "source": [
    "#  Work on Data preparation, visualization and Machine learning with Python\n",
    "## Data Science in Production\n",
    "\n",
    "<img src='https://www.uniquindio.edu.co/info/uniquindio/media/bloque2.png' width=\"90\" height=\"110\" >\n",
    "\n",
    "**Students:** <br>\n",
    "\n",
    "Humberto Franco Osorio - Juan Felipe Padilla\n",
    "\n",
    "\n",
    "**Email:** hfranoo@uqvirtual.edu.co - jfpadillag@uqvirtual.edu.co\n",
    "\n",
    "\n",
    "**Teacher:** [Jose R. Zapata](https://joserzapata.github.io) <br>\n",
    "<br>\n",
    "<a href='https://joserzapata.github.io'>\n",
    "    <img src='https://1000marcas.net/wp-content/uploads/2020/02/logo-GitHub.png' width=\"90\" height=\"50\" >\n",
    "</a>\n",
    "&nbsp;\n",
    "<a href='https://twitter.com/joserzapata'>\n",
    "    <img src='https://upload.wikimedia.org/wikipedia/commons/thumb/4/4f/Twitter-logo.svg/1200px-Twitter-logo.svg.png' width=\"50\" height=\"40\" >\n",
    "</a>\n",
    "&nbsp;&nbsp;&nbsp;&nbsp;\n",
    "<a href='https://www.linkedin.com/in/jose-ricardo-zapata-gonzalez/'>\n",
    "    <img src='https://cdn-icons-png.flaticon.com/512/174/174857.png' width=\"50\" height=\"50\" >\n",
    "</a>\n"
   ]
  },
  {
   "cell_type": "markdown",
   "metadata": {},
   "source": [
    "## Table of Contents\n",
    "1) Import Libreries\n",
    "2) Load Dataset\n",
    "3) Data description and cleaning\n",
    "\n",
    "    - Variable identification\n",
    "    - Missing  and  Duplicate values\n",
    "        - Identify missing values\n",
    "        - Identify duplicated\n",
    "        - Dataset cleaning\n",
    "    - Elimination of features that do not provide information\n",
    "4) Save intermediated transformed data\n",
    "5) Partial Results"
   ]
  },
  {
   "cell_type": "markdown",
   "metadata": {},
   "source": [
    "### Introduction\n",
    "Analyze the relationship between the characteristics of a cell phone and its selling price, with the aim of classifying the price range in which a cell phone is found.\n",
    "\n",
    "4 different outputs: <br>\n",
    "&nbsp;&nbsp;&nbsp; **0** -> Low  <br>\n",
    "&nbsp;&nbsp;&nbsp; **1** -> Medium   <br>\n",
    "&nbsp;&nbsp;&nbsp; **2** -> High   <br>\n",
    "&nbsp;&nbsp;&nbsp; **3** -> Very High   <br>"
   ]
  },
  {
   "cell_type": "markdown",
   "metadata": {},
   "source": [
    "### Main Objective\n",
    "> What is the price range of a mobile phone according to its features?"
   ]
  },
  {
   "cell_type": "markdown",
   "metadata": {},
   "source": [
    "## 1. Import Libreries"
   ]
  },
  {
   "cell_type": "code",
   "execution_count": 1,
   "metadata": {},
   "outputs": [],
   "source": [
    "import pandas as pd\n",
    "pd.options.plotting.backend = \"plotly\"\n",
    "import numpy as np\n",
    "import re"
   ]
  },
  {
   "cell_type": "markdown",
   "metadata": {},
   "source": [
    "## 2. Load Dataset"
   ]
  },
  {
   "cell_type": "code",
   "execution_count": 2,
   "metadata": {},
   "outputs": [],
   "source": [
    "ds = pd.read_csv(\"../data/raw/CellPhoneDS.csv\")"
   ]
  },
  {
   "cell_type": "markdown",
   "metadata": {},
   "source": [
    "## 3. Data description and cleaning"
   ]
  },
  {
   "cell_type": "markdown",
   "metadata": {},
   "source": [
    "### Variable identification"
   ]
  },
  {
   "cell_type": "markdown",
   "metadata": {},
   "source": [
    "<center>\n",
    "\n",
    "_**Table 1.** List of features and their descriptions in the initial dataset._\n",
    "\n",
    "|     | Feature name  | Description and values |  Type| % missing |\n",
    "|:---:|     :---:     | :---: |:---: |:---: | \n",
    "| 1 | Unnamed: 0    | Unique identifier of registered mobile phone. | Numeric |  0\n",
    "| 2 | index         | Unique mobile phone model identifier. | Nominal | 0\n",
    "| 3 | battery_power | Total energy a battery can store in one time measured in mAh.     | Numeric | 3.77\n",
    "| 4 | blue          | Has bluetooth or not. <br>0: NO. &nbsp;&nbsp;&nbsp;&nbsp;&nbsp;&nbsp;  1: YES.| Nominal| 4.02\n",
    "| 5 | clock_speed   | Speed at which microprocessor executes instructions.<br> 31 distinct values. | Numeric| 3.67\n",
    "| 6 | dual_sim      | Has dual sim support or not.<br>0: NO. &nbsp;&nbsp;&nbsp;&nbsp;&nbsp;&nbsp;  1: YES. | Nominal | 3.54\n",
    "| 7 | fc            | Front Camera mega pixels. | Numeric| 4.00\n",
    "| 8 | four_g        | Has 4G or not. <br>0: NO. &nbsp;&nbsp;&nbsp;&nbsp;&nbsp;&nbsp;  1: YES.| Nominal | 3.96\n",
    "| 9 | int_memory    | Internal Memory in Gigabytes. | Numeric | 3.86\n",
    "| 10 | m_dep         | Mobile Depth in cm. | Numeric  | 3.79\n",
    "| 11 | mobile_wt     | Weight of mobile phone. | Numeric | 3.67\n",
    "| 12 | n_cores       | Number of cores of processor. | Numeric| 3.71\n",
    "| 13 | pc            | Primary Camera mega pixels. | Numeric| 3.54\n",
    "| 14 | px_height     | Pixel Resolution Height. | Numeric | 3.86\n",
    "| 15 | px_width      | Pixel Resolution Width | Numeric | 3.77\n",
    "| 16 | ram           | Random Access Memory in Megabytes.| Numeric  | 4.02\n",
    "| 17 | sc_h          | Screen Height of mobile in cm.| Numeric  | 3.87\n",
    "| 18 | sc_w          | Screen Width of mobile in cm. | Numeric  | 3.58\n",
    "| 19 | talk_time     | Longest time that a single battery charge will last when you are charget.  | Numeric | 4.01\n",
    "| 20 | three_g       | Has 3G or not. <br>0: NO. &nbsp;&nbsp;&nbsp;&nbsp;&nbsp;&nbsp;  1: YES.| Nominal | 3.64\n",
    "| 21 | touch_screen  | Has touch screen or not. <br>0: NO. &nbsp;&nbsp;&nbsp;&nbsp;&nbsp;&nbsp;  1: YES.| Nominal | 3.56\n",
    "| 22 | wifi          | Has wifi or not. <br>0: NO. &nbsp;&nbsp;&nbsp;&nbsp;&nbsp;&nbsp;  1: YES.| Nominal | 3.64\n",
    "| 23 | hgv           | <font color='yellow'>Feature with no information, no information can be collected for this feature.</font> | Numeric | 3.74\n",
    "| 24 | werf          | <font color='yellow'>Feature with no information, no information can be collected for this feature.</font> | Nominal | 0\n",
    "| 25 | price_range   | Price range is given by categories.<br> &nbsp;&nbsp;&nbsp; **0** -> Low  <br>&nbsp;&nbsp;&nbsp; **1** -> medium   <br>&nbsp;&nbsp;&nbsp; **2** -> High   <br>&nbsp;&nbsp;&nbsp; **3** -> Very High   <br> | Ordinal | 4.58\n",
    "\n",
    "</center>"
   ]
  },
  {
   "cell_type": "markdown",
   "metadata": {},
   "source": [
    "The initial working dataset has 25 columns (feature) and 74790 registered mobile phones."
   ]
  },
  {
   "cell_type": "code",
   "execution_count": 3,
   "metadata": {},
   "outputs": [
    {
     "name": "stdout",
     "output_type": "stream",
     "text": [
      "<class 'pandas.core.frame.DataFrame'>\n",
      "RangeIndex: 74790 entries, 0 to 74789\n",
      "Data columns (total 25 columns):\n",
      " #   Column         Non-Null Count  Dtype \n",
      "---  ------         --------------  ----- \n",
      " 0   Unnamed: 0     74790 non-null  int64 \n",
      " 1   index          74790 non-null  int64 \n",
      " 2   talk_time      71990 non-null  object\n",
      " 3   battery_power  71970 non-null  object\n",
      " 4   pc             72140 non-null  object\n",
      " 5   three_g        72070 non-null  object\n",
      " 6   mobile_wt      72050 non-null  object\n",
      " 7   px_width       71970 non-null  object\n",
      " 8   sc_h           71895 non-null  object\n",
      " 9   sc_w           72115 non-null  object\n",
      " 10  m_dep          71955 non-null  object\n",
      " 11  touch_screen   72130 non-null  object\n",
      " 12  fc             71800 non-null  object\n",
      " 13  four_g         71825 non-null  object\n",
      " 14  hgv            71990 non-null  object\n",
      " 15  price_range    71365 non-null  object\n",
      " 16  blue           71785 non-null  object\n",
      " 17  n_cores        72015 non-null  object\n",
      " 18  wifi           72070 non-null  object\n",
      " 19  dual_sim       72145 non-null  object\n",
      " 20  ram            71785 non-null  object\n",
      " 21  werf           74790 non-null  int64 \n",
      " 22  int_memory     71905 non-null  object\n",
      " 23  px_height      71905 non-null  object\n",
      " 24  clock_speed    72045 non-null  object\n",
      "dtypes: int64(3), object(22)\n",
      "memory usage: 14.3+ MB\n"
     ]
    }
   ],
   "source": [
    "ds.info()"
   ]
  },
  {
   "cell_type": "markdown",
   "metadata": {},
   "source": [
    "### Missing  and  Duplicate values"
   ]
  },
  {
   "cell_type": "markdown",
   "metadata": {},
   "source": [
    "#### A) Identify missing values"
   ]
  },
  {
   "cell_type": "code",
   "execution_count": 4,
   "metadata": {},
   "outputs": [
    {
     "data": {
      "text/html": [
       "<div>\n",
       "<style scoped>\n",
       "    .dataframe tbody tr th:only-of-type {\n",
       "        vertical-align: middle;\n",
       "    }\n",
       "\n",
       "    .dataframe tbody tr th {\n",
       "        vertical-align: top;\n",
       "    }\n",
       "\n",
       "    .dataframe thead th {\n",
       "        text-align: right;\n",
       "    }\n",
       "</style>\n",
       "<table border=\"1\" class=\"dataframe\">\n",
       "  <thead>\n",
       "    <tr style=\"text-align: right;\">\n",
       "      <th></th>\n",
       "      <th>20376</th>\n",
       "      <th>63331</th>\n",
       "      <th>26166</th>\n",
       "      <th>22050</th>\n",
       "      <th>39673</th>\n",
       "      <th>18913</th>\n",
       "      <th>38332</th>\n",
       "      <th>23960</th>\n",
       "      <th>12456</th>\n",
       "      <th>28821</th>\n",
       "    </tr>\n",
       "  </thead>\n",
       "  <tbody>\n",
       "    <tr>\n",
       "      <th>Unnamed: 0</th>\n",
       "      <td>20376</td>\n",
       "      <td>63331</td>\n",
       "      <td>26166</td>\n",
       "      <td>22050</td>\n",
       "      <td>39673</td>\n",
       "      <td>18913</td>\n",
       "      <td>38332</td>\n",
       "      <td>23960</td>\n",
       "      <td>12456</td>\n",
       "      <td>28821</td>\n",
       "    </tr>\n",
       "    <tr>\n",
       "      <th>index</th>\n",
       "      <td>948</td>\n",
       "      <td>465</td>\n",
       "      <td>2460</td>\n",
       "      <td>130</td>\n",
       "      <td>60</td>\n",
       "      <td>667</td>\n",
       "      <td>643</td>\n",
       "      <td>61</td>\n",
       "      <td>269</td>\n",
       "      <td>183</td>\n",
       "    </tr>\n",
       "    <tr>\n",
       "      <th>talk_time</th>\n",
       "      <td>5285988458456.0</td>\n",
       "      <td>9.0</td>\n",
       "      <td>17.0</td>\n",
       "      <td>7.0</td>\n",
       "      <td>20.0</td>\n",
       "      <td>8.0</td>\n",
       "      <td>2.0</td>\n",
       "      <td>6.0</td>\n",
       "      <td>6.0</td>\n",
       "      <td>6.0</td>\n",
       "    </tr>\n",
       "    <tr>\n",
       "      <th>battery_power</th>\n",
       "      <td>1631.0</td>\n",
       "      <td>1583.0</td>\n",
       "      <td>NaN</td>\n",
       "      <td>-948961565145.0</td>\n",
       "      <td>1484.0</td>\n",
       "      <td>nhbgvfrtd 56gyub</td>\n",
       "      <td>920.0</td>\n",
       "      <td>799.0</td>\n",
       "      <td>1281.0</td>\n",
       "      <td>959.0</td>\n",
       "    </tr>\n",
       "    <tr>\n",
       "      <th>pc</th>\n",
       "      <td>16.0</td>\n",
       "      <td>10.0</td>\n",
       "      <td>4.0</td>\n",
       "      <td>-948961565145.0</td>\n",
       "      <td>5.0</td>\n",
       "      <td>7.0</td>\n",
       "      <td>3.0</td>\n",
       "      <td>6.0</td>\n",
       "      <td>6.0</td>\n",
       "      <td>19.0</td>\n",
       "    </tr>\n",
       "    <tr>\n",
       "      <th>three_g</th>\n",
       "      <td>1.0</td>\n",
       "      <td>1.0</td>\n",
       "      <td>1.0</td>\n",
       "      <td>1.0</td>\n",
       "      <td>1.0</td>\n",
       "      <td>1.0</td>\n",
       "      <td>0.0</td>\n",
       "      <td>1.0</td>\n",
       "      <td>0.0</td>\n",
       "      <td>1.0</td>\n",
       "    </tr>\n",
       "    <tr>\n",
       "      <th>mobile_wt</th>\n",
       "      <td>166.0</td>\n",
       "      <td>118.0</td>\n",
       "      <td>NaN</td>\n",
       "      <td>-948961565145.0</td>\n",
       "      <td>nhbgvfrtd 56gyub</td>\n",
       "      <td>nhbgvfrtd 56gyub</td>\n",
       "      <td>149.0</td>\n",
       "      <td>144.0</td>\n",
       "      <td>148.0</td>\n",
       "      <td>84.0</td>\n",
       "    </tr>\n",
       "    <tr>\n",
       "      <th>px_width</th>\n",
       "      <td>1735.0</td>\n",
       "      <td>862.0</td>\n",
       "      <td>NaN</td>\n",
       "      <td>829.0</td>\n",
       "      <td>969.0</td>\n",
       "      <td>nhbgvfrtd 56gyub</td>\n",
       "      <td>1421.0</td>\n",
       "      <td>975.0</td>\n",
       "      <td>1617.0</td>\n",
       "      <td>1631.0</td>\n",
       "    </tr>\n",
       "    <tr>\n",
       "      <th>sc_h</th>\n",
       "      <td>12.0</td>\n",
       "      <td>14.0</td>\n",
       "      <td>12.0</td>\n",
       "      <td>17.0</td>\n",
       "      <td>nhbgvfrtd 56gyub</td>\n",
       "      <td>12.0</td>\n",
       "      <td>6.0</td>\n",
       "      <td>15.0</td>\n",
       "      <td>12.0</td>\n",
       "      <td>16.0</td>\n",
       "    </tr>\n",
       "    <tr>\n",
       "      <th>sc_w</th>\n",
       "      <td>3.0</td>\n",
       "      <td>10.0</td>\n",
       "      <td>9.0</td>\n",
       "      <td>7.0</td>\n",
       "      <td>4.0</td>\n",
       "      <td>7.0</td>\n",
       "      <td>0.0</td>\n",
       "      <td>NaN</td>\n",
       "      <td>1.0</td>\n",
       "      <td>1.0</td>\n",
       "    </tr>\n",
       "    <tr>\n",
       "      <th>m_dep</th>\n",
       "      <td>5285988458456.0</td>\n",
       "      <td>0.8</td>\n",
       "      <td>0.4</td>\n",
       "      <td>0.8</td>\n",
       "      <td>0.6</td>\n",
       "      <td>0.8</td>\n",
       "      <td>0.8</td>\n",
       "      <td>0.8</td>\n",
       "      <td>0.3</td>\n",
       "      <td>1.0</td>\n",
       "    </tr>\n",
       "    <tr>\n",
       "      <th>touch_screen</th>\n",
       "      <td>1.0</td>\n",
       "      <td>0.0</td>\n",
       "      <td>NaN</td>\n",
       "      <td>-948961565145.0</td>\n",
       "      <td>1.0</td>\n",
       "      <td>nhbgvfrtd 56gyub</td>\n",
       "      <td>0.0</td>\n",
       "      <td>NaN</td>\n",
       "      <td>1.0</td>\n",
       "      <td>0.0</td>\n",
       "    </tr>\n",
       "    <tr>\n",
       "      <th>fc</th>\n",
       "      <td>2.0</td>\n",
       "      <td>-948961565145.0</td>\n",
       "      <td>1.0</td>\n",
       "      <td>2.0</td>\n",
       "      <td>3.0</td>\n",
       "      <td>1.0</td>\n",
       "      <td>2.0</td>\n",
       "      <td>1.0</td>\n",
       "      <td>0.0</td>\n",
       "      <td>15.0</td>\n",
       "    </tr>\n",
       "    <tr>\n",
       "      <th>four_g</th>\n",
       "      <td>1.0</td>\n",
       "      <td>1.0</td>\n",
       "      <td>1.0</td>\n",
       "      <td>0.0</td>\n",
       "      <td>nhbgvfrtd 56gyub</td>\n",
       "      <td>0.0</td>\n",
       "      <td>0.0</td>\n",
       "      <td>1.0</td>\n",
       "      <td>0.0</td>\n",
       "      <td>0.0</td>\n",
       "    </tr>\n",
       "    <tr>\n",
       "      <th>hgv</th>\n",
       "      <td>5285988458456.0</td>\n",
       "      <td>9.0</td>\n",
       "      <td>17.0</td>\n",
       "      <td>7.0</td>\n",
       "      <td>20.0</td>\n",
       "      <td>8.0</td>\n",
       "      <td>2.0</td>\n",
       "      <td>6.0</td>\n",
       "      <td>6.0</td>\n",
       "      <td>6.0</td>\n",
       "    </tr>\n",
       "    <tr>\n",
       "      <th>price_range</th>\n",
       "      <td>2.0</td>\n",
       "      <td>3.0</td>\n",
       "      <td>3.0</td>\n",
       "      <td>3.0</td>\n",
       "      <td>1.0</td>\n",
       "      <td>2.0</td>\n",
       "      <td>2.0</td>\n",
       "      <td>NaN</td>\n",
       "      <td>1.0</td>\n",
       "      <td>3.0</td>\n",
       "    </tr>\n",
       "    <tr>\n",
       "      <th>blue</th>\n",
       "      <td>5285988458456.0</td>\n",
       "      <td>1.0</td>\n",
       "      <td>1.0</td>\n",
       "      <td>0.0</td>\n",
       "      <td>0.0</td>\n",
       "      <td>0.0</td>\n",
       "      <td>1.0</td>\n",
       "      <td>1.0</td>\n",
       "      <td>??????</td>\n",
       "      <td>1.0</td>\n",
       "    </tr>\n",
       "    <tr>\n",
       "      <th>n_cores</th>\n",
       "      <td>2.0</td>\n",
       "      <td>3.0</td>\n",
       "      <td>4.0</td>\n",
       "      <td>7.0</td>\n",
       "      <td>3.0</td>\n",
       "      <td>nhbgvfrtd 56gyub</td>\n",
       "      <td>3.0</td>\n",
       "      <td>8.0</td>\n",
       "      <td>1.0</td>\n",
       "      <td>4.0</td>\n",
       "    </tr>\n",
       "    <tr>\n",
       "      <th>wifi</th>\n",
       "      <td>0.0</td>\n",
       "      <td>0.0</td>\n",
       "      <td>1.0</td>\n",
       "      <td>1.0</td>\n",
       "      <td>0.0</td>\n",
       "      <td>0.0</td>\n",
       "      <td>1.0</td>\n",
       "      <td>NaN</td>\n",
       "      <td>0.0</td>\n",
       "      <td>0.0</td>\n",
       "    </tr>\n",
       "    <tr>\n",
       "      <th>dual_sim</th>\n",
       "      <td>0.0</td>\n",
       "      <td>-948961565145.0</td>\n",
       "      <td>NaN</td>\n",
       "      <td>1.0</td>\n",
       "      <td>0.0</td>\n",
       "      <td>nhbgvfrtd 56gyub</td>\n",
       "      <td>0.0</td>\n",
       "      <td>0.0</td>\n",
       "      <td>1.0</td>\n",
       "      <td>1.0</td>\n",
       "    </tr>\n",
       "    <tr>\n",
       "      <th>ram</th>\n",
       "      <td>2173.0</td>\n",
       "      <td>3652.0</td>\n",
       "      <td>NaN</td>\n",
       "      <td>3799.0</td>\n",
       "      <td>1457.0</td>\n",
       "      <td>3393.0</td>\n",
       "      <td>2608.0</td>\n",
       "      <td>431.0</td>\n",
       "      <td>1129.0</td>\n",
       "      <td>3965.0</td>\n",
       "    </tr>\n",
       "    <tr>\n",
       "      <th>werf</th>\n",
       "      <td>9156615</td>\n",
       "      <td>9156615</td>\n",
       "      <td>9156615</td>\n",
       "      <td>9156615</td>\n",
       "      <td>9156615</td>\n",
       "      <td>9156615</td>\n",
       "      <td>9156615</td>\n",
       "      <td>9156615</td>\n",
       "      <td>9156615</td>\n",
       "      <td>9156615</td>\n",
       "    </tr>\n",
       "    <tr>\n",
       "      <th>int_memory</th>\n",
       "      <td>13.0</td>\n",
       "      <td>42.0</td>\n",
       "      <td>19.0</td>\n",
       "      <td>54.0</td>\n",
       "      <td>12.0</td>\n",
       "      <td>48.0</td>\n",
       "      <td>46.0</td>\n",
       "      <td>NaN</td>\n",
       "      <td>28.0</td>\n",
       "      <td>20.0</td>\n",
       "    </tr>\n",
       "    <tr>\n",
       "      <th>px_height</th>\n",
       "      <td>960.0</td>\n",
       "      <td>275.0</td>\n",
       "      <td>919.0</td>\n",
       "      <td>262.0</td>\n",
       "      <td>916.0</td>\n",
       "      <td>501.0</td>\n",
       "      <td>1058.0</td>\n",
       "      <td>361.0</td>\n",
       "      <td>1285.0</td>\n",
       "      <td>561.0</td>\n",
       "    </tr>\n",
       "    <tr>\n",
       "      <th>clock_speed</th>\n",
       "      <td>0.5</td>\n",
       "      <td>1.6</td>\n",
       "      <td>1.7</td>\n",
       "      <td>2.0</td>\n",
       "      <td>3.0</td>\n",
       "      <td>0.5</td>\n",
       "      <td>0.5</td>\n",
       "      <td>2.3</td>\n",
       "      <td>??????</td>\n",
       "      <td>2.6</td>\n",
       "    </tr>\n",
       "  </tbody>\n",
       "</table>\n",
       "</div>"
      ],
      "text/plain": [
       "                         20376            63331    26166            22050  \\\n",
       "Unnamed: 0               20376            63331    26166            22050   \n",
       "index                      948              465     2460              130   \n",
       "talk_time      5285988458456.0              9.0     17.0              7.0   \n",
       "battery_power           1631.0           1583.0      NaN  -948961565145.0   \n",
       "pc                        16.0             10.0      4.0  -948961565145.0   \n",
       "three_g                    1.0              1.0      1.0              1.0   \n",
       "mobile_wt                166.0            118.0      NaN  -948961565145.0   \n",
       "px_width                1735.0            862.0      NaN            829.0   \n",
       "sc_h                      12.0             14.0     12.0             17.0   \n",
       "sc_w                       3.0             10.0      9.0              7.0   \n",
       "m_dep          5285988458456.0              0.8      0.4              0.8   \n",
       "touch_screen               1.0              0.0      NaN  -948961565145.0   \n",
       "fc                         2.0  -948961565145.0      1.0              2.0   \n",
       "four_g                     1.0              1.0      1.0              0.0   \n",
       "hgv            5285988458456.0              9.0     17.0              7.0   \n",
       "price_range                2.0              3.0      3.0              3.0   \n",
       "blue           5285988458456.0              1.0      1.0              0.0   \n",
       "n_cores                    2.0              3.0      4.0              7.0   \n",
       "wifi                       0.0              0.0      1.0              1.0   \n",
       "dual_sim                   0.0  -948961565145.0      NaN              1.0   \n",
       "ram                     2173.0           3652.0      NaN           3799.0   \n",
       "werf                   9156615          9156615  9156615          9156615   \n",
       "int_memory                13.0             42.0     19.0             54.0   \n",
       "px_height                960.0            275.0    919.0            262.0   \n",
       "clock_speed                0.5              1.6      1.7              2.0   \n",
       "\n",
       "                          39673             18913    38332    23960    12456  \\\n",
       "Unnamed: 0                39673             18913    38332    23960    12456   \n",
       "index                        60               667      643       61      269   \n",
       "talk_time                  20.0               8.0      2.0      6.0      6.0   \n",
       "battery_power            1484.0  nhbgvfrtd 56gyub    920.0    799.0   1281.0   \n",
       "pc                          5.0               7.0      3.0      6.0      6.0   \n",
       "three_g                     1.0               1.0      0.0      1.0      0.0   \n",
       "mobile_wt      nhbgvfrtd 56gyub  nhbgvfrtd 56gyub    149.0    144.0    148.0   \n",
       "px_width                  969.0  nhbgvfrtd 56gyub   1421.0    975.0   1617.0   \n",
       "sc_h           nhbgvfrtd 56gyub              12.0      6.0     15.0     12.0   \n",
       "sc_w                        4.0               7.0      0.0      NaN      1.0   \n",
       "m_dep                       0.6               0.8      0.8      0.8      0.3   \n",
       "touch_screen                1.0  nhbgvfrtd 56gyub      0.0      NaN      1.0   \n",
       "fc                          3.0               1.0      2.0      1.0      0.0   \n",
       "four_g         nhbgvfrtd 56gyub               0.0      0.0      1.0      0.0   \n",
       "hgv                        20.0               8.0      2.0      6.0      6.0   \n",
       "price_range                 1.0               2.0      2.0      NaN      1.0   \n",
       "blue                        0.0               0.0      1.0      1.0   ??????   \n",
       "n_cores                     3.0  nhbgvfrtd 56gyub      3.0      8.0      1.0   \n",
       "wifi                        0.0               0.0      1.0      NaN      0.0   \n",
       "dual_sim                    0.0  nhbgvfrtd 56gyub      0.0      0.0      1.0   \n",
       "ram                      1457.0            3393.0   2608.0    431.0   1129.0   \n",
       "werf                    9156615           9156615  9156615  9156615  9156615   \n",
       "int_memory                 12.0              48.0     46.0      NaN     28.0   \n",
       "px_height                 916.0             501.0   1058.0    361.0   1285.0   \n",
       "clock_speed                 3.0               0.5      0.5      2.3   ??????   \n",
       "\n",
       "                 28821  \n",
       "Unnamed: 0       28821  \n",
       "index              183  \n",
       "talk_time          6.0  \n",
       "battery_power    959.0  \n",
       "pc                19.0  \n",
       "three_g            1.0  \n",
       "mobile_wt         84.0  \n",
       "px_width        1631.0  \n",
       "sc_h              16.0  \n",
       "sc_w               1.0  \n",
       "m_dep              1.0  \n",
       "touch_screen       0.0  \n",
       "fc                15.0  \n",
       "four_g             0.0  \n",
       "hgv                6.0  \n",
       "price_range        3.0  \n",
       "blue               1.0  \n",
       "n_cores            4.0  \n",
       "wifi               0.0  \n",
       "dual_sim           1.0  \n",
       "ram             3965.0  \n",
       "werf           9156615  \n",
       "int_memory        20.0  \n",
       "px_height        561.0  \n",
       "clock_speed        2.6  "
      ]
     },
     "execution_count": 4,
     "metadata": {},
     "output_type": "execute_result"
    }
   ],
   "source": [
    "ds.sample(10).T"
   ]
  },
  {
   "cell_type": "markdown",
   "metadata": {},
   "source": [
    "The presence of values such as '??????', 'nhbgvfrtd 56gyub', or '-948961565145.0' is observed, as well as values for some features that are totally atypical considering the description of the feature, is important to find which values had every column.\n",
    "\n",
    "Get unique values per columns."
   ]
  },
  {
   "cell_type": "code",
   "execution_count": 5,
   "metadata": {},
   "outputs": [
    {
     "name": "stdout",
     "output_type": "stream",
     "text": [
      "-----------------------------------------------------------------------------------\n",
      "Unnamed: 0 = [    0     1     2 ... 74787 74788 74789]\n",
      "Number option 74790\n",
      "-----------------------------------------------------------------------------------\n",
      "index = [1517  911 1493 ... 1192 1495 1181]\n",
      "Number option 2493\n",
      "-----------------------------------------------------------------------------------\n",
      "talk_time = ['11.0' '9.0' '3.0' '-948961565145.0' '6.0' 'nhbgvfrtd 56gyub' '12.0'\n",
      " '8.0' '16.0' '20.0' '13.0' '5285988458456.0' '14.0' '7.0' nan '19.0'\n",
      " '10.0' '15.0' '4.0' '18.0' '??????' '17.0' '5.0' '2.0']\n",
      "Number option 24\n",
      "-----------------------------------------------------------------------------------\n",
      "battery_power = ['911.0' '1284.0' '1183.0' ... '527.0' '1542.0' '846.0']\n",
      "Number option 1099\n",
      "-----------------------------------------------------------------------------------\n",
      "pc = ['4.0' '14.0' 'nhbgvfrtd 56gyub' '9.0' '11.0' '20.0' '1.0' '??????' '0.0'\n",
      " '16.0' '7.0' '5.0' '5285988458456.0' '10.0' '8.0' '12.0' '6.0' '2.0'\n",
      " '13.0' '17.0' '19.0' '18.0' '15.0' '-948961565145.0' nan '3.0']\n",
      "Number option 26\n",
      "-----------------------------------------------------------------------------------\n",
      "three_g = ['0.0' '1.0' '??????' 'nhbgvfrtd 56gyub' nan '-948961565145.0'\n",
      " '5285988458456.0']\n",
      "Number option 7\n",
      "-----------------------------------------------------------------------------------\n",
      "mobile_wt = ['199.0' '155.0' '120.0' '102.0' '134.0' '88.0' '157.0' '??????' '83.0'\n",
      " '97.0' '198.0' '196.0' '5285988458456.0' '190.0' '181.0' '188.0' '81.0'\n",
      " '160.0' '195.0' nan '89.0' '172.0' '143.0' '130.0' '82.0' '129.0' '182.0'\n",
      " '176.0' '92.0' '164.0' '112.0' '138.0' '137.0' '135.0' '103.0' '85.0'\n",
      " '200.0' '166.0' '148.0' '147.0' '108.0' '144.0' '104.0' '86.0' '101.0'\n",
      " '117.0' '152.0' '197.0' '187.0' '189.0' '111.0' '116.0' '178.0' '122.0'\n",
      " 'nhbgvfrtd 56gyub' '150.0' '153.0' '96.0' '105.0' '149.0' '154.0' '194.0'\n",
      " '118.0' '115.0' '128.0' '161.0' '80.0' '170.0' '-948961565145.0' '173.0'\n",
      " '123.0' '100.0' '106.0' '124.0' '163.0' '126.0' '84.0' '184.0' '139.0'\n",
      " '114.0' '191.0' '159.0' '109.0' '168.0' '107.0' '180.0' '145.0' '121.0'\n",
      " '177.0' '127.0' '165.0' '151.0' '95.0' '146.0' '133.0' '186.0' '192.0'\n",
      " '193.0' '141.0' '93.0' '185.0' '183.0' '119.0' '167.0' '136.0' '175.0'\n",
      " '156.0' '125.0' '169.0' '132.0' '87.0' '142.0' '113.0' '179.0' '162.0'\n",
      " '140.0' '99.0' '94.0' '158.0' '174.0' '90.0' '110.0' '171.0' '91.0'\n",
      " '98.0' '131.0']\n",
      "Number option 126\n",
      "-----------------------------------------------------------------------------------\n",
      "px_width = ['1692.0' '-948961565145.0' 'nhbgvfrtd 56gyub' ... '529.0' '1375.0'\n",
      " '1788.0']\n",
      "Number option 1113\n",
      "-----------------------------------------------------------------------------------\n",
      "sc_h = ['16.0' 'nhbgvfrtd 56gyub' '7.0' '-948961565145.0' '17.0' '11.0' '5.0'\n",
      " '12.0' nan '19.0' '13.0' '5285988458456.0' '??????' '8.0' '18.0' '6.0'\n",
      " '14.0' '15.0' '10.0' '9.0']\n",
      "Number option 20\n",
      "-----------------------------------------------------------------------------------\n",
      "sc_w = ['3.0' '2.0' '0.0' '7.0' '8.0' nan '-948961565145.0' '10.0' '4.0' '??????'\n",
      " '6.0' '5.0' '9.0' '15.0' '13.0' '5285988458456.0' '1.0' '14.0' '11.0'\n",
      " 'nhbgvfrtd 56gyub' '16.0' '17.0' '12.0' '18.0']\n",
      "Number option 24\n",
      "-----------------------------------------------------------------------------------\n",
      "m_dep = ['0.7' '-948961565145.0' '0.1' '0.2' '0.3' 'nhbgvfrtd 56gyub' '??????'\n",
      " '0.8' '0.5' nan '0.6' '0.9' '5285988458456.0' '1.0' '0.4']\n",
      "Number option 15\n",
      "-----------------------------------------------------------------------------------\n",
      "touch_screen = ['1.0' '0.0' 'nhbgvfrtd 56gyub' nan '??????' '5285988458456.0'\n",
      " '-948961565145.0']\n",
      "Number option 7\n",
      "-----------------------------------------------------------------------------------\n",
      "fc = ['3.0' '0.0' nan '8.0' '1.0' 'nhbgvfrtd 56gyub' '7.0' '2.0' '5.0' '??????'\n",
      " '6.0' '-948961565145.0' '5285988458456.0' '4.0' '10.0' '9.0' '17.0'\n",
      " '14.0' '11.0' '15.0' '16.0' '18.0' '12.0' '13.0' '19.0']\n",
      "Number option 25\n",
      "-----------------------------------------------------------------------------------\n",
      "four_g = ['0.0' '1.0' '5285988458456.0' nan '-948961565145.0' '??????'\n",
      " 'nhbgvfrtd 56gyub']\n",
      "Number option 7\n",
      "-----------------------------------------------------------------------------------\n",
      "hgv = ['11.0' '9.0' '3.0' '-948961565145.0' '6.0' 'nhbgvfrtd 56gyub' '12.0'\n",
      " '8.0' '16.0' '20.0' '13.0' '5285988458456.0' '14.0' '7.0' nan '19.0'\n",
      " '10.0' '15.0' '4.0' '18.0' '??????' '17.0' '5.0' '2.0']\n",
      "Number option 24\n",
      "-----------------------------------------------------------------------------------\n",
      "price_range = ['3.0' '1.0' '0.0' 'nhbgvfrtd 56gyub' nan '??????' '2.0' '-948961565145.0'\n",
      " '5285988458456.0']\n",
      "Number option 9\n",
      "-----------------------------------------------------------------------------------\n",
      "blue = ['0.0' '1.0' nan '5285988458456.0' '-948961565145.0' 'nhbgvfrtd 56gyub'\n",
      " '??????']\n",
      "Number option 7\n",
      "-----------------------------------------------------------------------------------\n",
      "n_cores = ['4.0' '2.0' '8.0' '6.0' '7.0' '5.0' '-948961565145.0' nan '??????'\n",
      " '5285988458456.0' '1.0' '3.0' 'nhbgvfrtd 56gyub']\n",
      "Number option 13\n",
      "-----------------------------------------------------------------------------------\n",
      "wifi = ['0.0' '1.0' '-948961565145.0' nan '5285988458456.0' 'nhbgvfrtd 56gyub'\n",
      " '??????']\n",
      "Number option 7\n",
      "-----------------------------------------------------------------------------------\n",
      "dual_sim = ['1.0' 'nhbgvfrtd 56gyub' '0.0' '-948961565145.0' '5285988458456.0' nan\n",
      " '??????']\n",
      "Number option 7\n",
      "-----------------------------------------------------------------------------------\n",
      "ram = ['2933.0' '2197.0' 'nhbgvfrtd 56gyub' ... '1788.0' '2487.0' '2351.0']\n",
      "Number option 1565\n",
      "-----------------------------------------------------------------------------------\n",
      "werf = [9156615]\n",
      "Number option 1\n",
      "-----------------------------------------------------------------------------------\n",
      "int_memory = ['14.0' '10.0' 'nhbgvfrtd 56gyub' '63.0' '32.0' '29.0' '49.0' '15.0'\n",
      " '60.0' '6.0' '53.0' '5285988458456.0' nan '57.0' '??????' '18.0' '46.0'\n",
      " '61.0' '26.0' '43.0' '17.0' '45.0' '50.0' '5.0' '4.0' '40.0' '31.0'\n",
      " '21.0' '-948961565145.0' '2.0' '25.0' '28.0' '34.0' '42.0' '36.0' '27.0'\n",
      " '19.0' '16.0' '52.0' '38.0' '37.0' '9.0' '33.0' '8.0' '62.0' '20.0'\n",
      " '51.0' '56.0' '39.0' '30.0' '11.0' '58.0' '7.0' '35.0' '54.0' '12.0'\n",
      " '22.0' '24.0' '59.0' '41.0' '55.0' '3.0' '48.0' '13.0' '47.0' '44.0'\n",
      " '23.0' '64.0']\n",
      "Number option 68\n",
      "-----------------------------------------------------------------------------------\n",
      "px_height = ['1563.0' '160.0' '268.0' ... '1406.0' '616.0' '1260.0']\n",
      "Number option 1142\n",
      "-----------------------------------------------------------------------------------\n",
      "clock_speed = ['1.4' '2.8' '0.5' '1.6' '2.1' '2.4' '0.7' '1.5' '-948961565145.0' '2.3'\n",
      " '1.1' '2.5' nan '5285988458456.0' 'nhbgvfrtd 56gyub' '2.7' '0.6' '1.3'\n",
      " '2.2' '1.2' '1.0' '0.8' '??????' '2.6' '2.9' '1.9' '0.9' '1.7' '1.8'\n",
      " '3.0' '2.0']\n",
      "Number option 31\n",
      "-----------------------------------------------------------------------------------\n"
     ]
    }
   ],
   "source": [
    "print(\"-----------------------------------------------------------------------------------\")\n",
    "for col in ds:\n",
    "    print(f\"{col} = {ds[col].unique()}\")\n",
    "    print(\"Number option\",f\"{len(ds[col].unique())}\")\n",
    "    print(\"-----------------------------------------------------------------------------------\")"
   ]
  },
  {
   "cell_type": "markdown",
   "metadata": {},
   "source": [
    "From a previous analysis of the dataset it was observed that most of the characteristics data are numerical, so a search for missing values is performed by looking for non-numerical values."
   ]
  },
  {
   "cell_type": "code",
   "execution_count": 6,
   "metadata": {},
   "outputs": [
    {
     "name": "stdout",
     "output_type": "stream",
     "text": [
      "Meaningless values in dataset: '-948961565145.0' '??????' 'nan' 'nhbgvfrtd 56gyub\n"
     ]
    }
   ],
   "source": [
    "atipic_value=[]\n",
    "for col in ds:\n",
    "    for i in range(len(ds)):\n",
    "        if ds[col].dtype == object:\n",
    "            line = re.sub(r'[a-zA-z/?/-]', 'nan', str(ds[col][i]))\n",
    "            if re.search(\"nan\", line):\n",
    "                atipic_value.append(ds[col][i])\n",
    "missing_value = np.array(atipic_value)\n",
    "missing_value = np.unique(missing_value)\n",
    "print(f'Meaningless values in dataset: {str(missing_value)[1:-2]}')"
   ]
  },
  {
   "cell_type": "markdown",
   "metadata": {},
   "source": [
    "Analyzing the presence of these values in the different characteristics of the dataset."
   ]
  },
  {
   "cell_type": "code",
   "execution_count": 7,
   "metadata": {},
   "outputs": [
    {
     "name": "stdout",
     "output_type": "stream",
     "text": [
      "-------------------------------------------------------------\n",
      "Valores iguales a  -948961565145.0\n",
      "talk_time = 2495\n",
      "battery_power = 2495\n",
      "pc = 2495\n",
      "three_g = 2495\n",
      "mobile_wt = 2495\n",
      "px_width = 2495\n",
      "sc_h = 2495\n",
      "sc_w = 2495\n",
      "m_dep = 2495\n",
      "touch_screen = 2495\n",
      "fc = 2495\n",
      "four_g = 2495\n",
      "hgv = 2495\n",
      "price_range = 2495\n",
      "blue = 2495\n",
      "n_cores = 2495\n",
      "wifi = 2495\n",
      "dual_sim = 2495\n",
      "ram = 2495\n",
      "int_memory = 2495\n",
      "px_height = 2495\n",
      "clock_speed = 2495\n",
      "Valores iguales a  ??????\n",
      "talk_time = 2495\n",
      "battery_power = 2495\n",
      "pc = 2495\n",
      "three_g = 2495\n",
      "mobile_wt = 2495\n",
      "px_width = 2495\n",
      "sc_h = 2495\n",
      "sc_w = 2495\n",
      "m_dep = 2495\n",
      "touch_screen = 2495\n",
      "fc = 2495\n",
      "four_g = 2495\n",
      "hgv = 2495\n",
      "price_range = 2495\n",
      "blue = 2495\n",
      "n_cores = 2495\n",
      "wifi = 2495\n",
      "dual_sim = 2495\n",
      "ram = 2495\n",
      "int_memory = 2495\n",
      "px_height = 2495\n",
      "clock_speed = 2495\n",
      "Valores iguales a  nan\n",
      "Valores iguales a  nhbgvfrtd 56gyub\n",
      "talk_time = 2495\n",
      "battery_power = 2495\n",
      "pc = 2495\n",
      "three_g = 2495\n",
      "mobile_wt = 2495\n",
      "px_width = 2495\n",
      "sc_h = 2495\n",
      "sc_w = 2495\n",
      "m_dep = 2495\n",
      "touch_screen = 2495\n",
      "fc = 2495\n",
      "four_g = 2495\n",
      "hgv = 2495\n",
      "price_range = 2495\n",
      "blue = 2495\n",
      "n_cores = 2495\n",
      "wifi = 2495\n",
      "dual_sim = 2495\n",
      "ram = 2495\n",
      "int_memory = 2495\n",
      "px_height = 2495\n",
      "clock_speed = 2495\n",
      "-------------------------------------------------------------\n"
     ]
    }
   ],
   "source": [
    "print(\"-------------------------------------------------------------\")\n",
    "for i in range(len(missing_value)):\n",
    "    print(\"Valores iguales a \",missing_value[i])\n",
    "    frec=ds[ds == missing_value[i]].count()\n",
    "    for col in ds:\n",
    "        if frec[col] > 0:\n",
    "            print(f\"{col} = {frec[col]}\")\n",
    "print(\"-------------------------------------------------------------\")"
   ]
  },
  {
   "cell_type": "markdown",
   "metadata": {},
   "source": [
    "There is a low presence of these meaningless vouchers in the different characteristics, therefore it is decided to impute these values as NaN values."
   ]
  },
  {
   "cell_type": "code",
   "execution_count": 8,
   "metadata": {},
   "outputs": [
    {
     "data": {
      "text/plain": [
       "Unnamed: 0        0.000000\n",
       "index             0.000000\n",
       "talk_time        13.751838\n",
       "battery_power    13.778580\n",
       "pc               13.551277\n",
       "three_g          13.644872\n",
       "mobile_wt        13.671614\n",
       "px_width         13.778580\n",
       "sc_h             13.878861\n",
       "sc_w             13.584704\n",
       "m_dep            13.798636\n",
       "touch_screen     13.564648\n",
       "fc               14.005883\n",
       "four_g           13.972456\n",
       "hgv              13.751838\n",
       "price_range      14.587512\n",
       "blue             14.025939\n",
       "n_cores          13.718412\n",
       "wifi             13.644872\n",
       "dual_sim         13.544592\n",
       "ram              14.025939\n",
       "werf              0.000000\n",
       "int_memory       13.865490\n",
       "px_height        13.865490\n",
       "clock_speed      13.678299\n",
       "dtype: float64"
      ]
     },
     "execution_count": 8,
     "metadata": {},
     "output_type": "execute_result"
    }
   ],
   "source": [
    "for atipic in missing_value:\n",
    "    ds.replace(atipic, np.nan, inplace=True)\n",
    "    \n",
    "ds.isnull().sum()*100/len(ds)\n"
   ]
  },
  {
   "cell_type": "markdown",
   "metadata": {},
   "source": [
    "The percentage of null values in each characteristic increases by approximately 9 points, now there is an average percentage of missing values of 13%, which is a low value considering the size of the dataset, therefore it is decided to eliminate the records with a presence of null values."
   ]
  },
  {
   "cell_type": "code",
   "execution_count": 9,
   "metadata": {},
   "outputs": [
    {
     "data": {
      "application/vnd.plotly.v1+json": {
       "config": {
        "plotlyServerURL": "https://plot.ly"
       },
       "data": [
        {
         "alignmentgroup": "True",
         "hovertemplate": "color=Unnamed: 0<br>index=%{x}<br>value=%{y}<extra></extra>",
         "legendgroup": "Unnamed: 0",
         "marker": {
          "color": "#636efa",
          "pattern": {
           "shape": ""
          }
         },
         "name": "Unnamed: 0",
         "offsetgroup": "Unnamed: 0",
         "orientation": "v",
         "showlegend": true,
         "textposition": "auto",
         "type": "bar",
         "x": [
          "Unnamed: 0"
         ],
         "xaxis": "x",
         "y": [
          0
         ],
         "yaxis": "y"
        },
        {
         "alignmentgroup": "True",
         "hovertemplate": "color=index<br>index=%{x}<br>value=%{y}<extra></extra>",
         "legendgroup": "index",
         "marker": {
          "color": "#EF553B",
          "pattern": {
           "shape": ""
          }
         },
         "name": "index",
         "offsetgroup": "index",
         "orientation": "v",
         "showlegend": true,
         "textposition": "auto",
         "type": "bar",
         "x": [
          "index"
         ],
         "xaxis": "x",
         "y": [
          0
         ],
         "yaxis": "y"
        },
        {
         "alignmentgroup": "True",
         "hovertemplate": "color=talk_time<br>index=%{x}<br>value=%{y}<extra></extra>",
         "legendgroup": "talk_time",
         "marker": {
          "color": "#00cc96",
          "pattern": {
           "shape": ""
          }
         },
         "name": "talk_time",
         "offsetgroup": "talk_time",
         "orientation": "v",
         "showlegend": true,
         "textposition": "auto",
         "type": "bar",
         "x": [
          "talk_time"
         ],
         "xaxis": "x",
         "y": [
          10285
         ],
         "yaxis": "y"
        },
        {
         "alignmentgroup": "True",
         "hovertemplate": "color=battery_power<br>index=%{x}<br>value=%{y}<extra></extra>",
         "legendgroup": "battery_power",
         "marker": {
          "color": "#ab63fa",
          "pattern": {
           "shape": ""
          }
         },
         "name": "battery_power",
         "offsetgroup": "battery_power",
         "orientation": "v",
         "showlegend": true,
         "textposition": "auto",
         "type": "bar",
         "x": [
          "battery_power"
         ],
         "xaxis": "x",
         "y": [
          10305
         ],
         "yaxis": "y"
        },
        {
         "alignmentgroup": "True",
         "hovertemplate": "color=pc<br>index=%{x}<br>value=%{y}<extra></extra>",
         "legendgroup": "pc",
         "marker": {
          "color": "#FFA15A",
          "pattern": {
           "shape": ""
          }
         },
         "name": "pc",
         "offsetgroup": "pc",
         "orientation": "v",
         "showlegend": true,
         "textposition": "auto",
         "type": "bar",
         "x": [
          "pc"
         ],
         "xaxis": "x",
         "y": [
          10135
         ],
         "yaxis": "y"
        },
        {
         "alignmentgroup": "True",
         "hovertemplate": "color=three_g<br>index=%{x}<br>value=%{y}<extra></extra>",
         "legendgroup": "three_g",
         "marker": {
          "color": "#19d3f3",
          "pattern": {
           "shape": ""
          }
         },
         "name": "three_g",
         "offsetgroup": "three_g",
         "orientation": "v",
         "showlegend": true,
         "textposition": "auto",
         "type": "bar",
         "x": [
          "three_g"
         ],
         "xaxis": "x",
         "y": [
          10205
         ],
         "yaxis": "y"
        },
        {
         "alignmentgroup": "True",
         "hovertemplate": "color=mobile_wt<br>index=%{x}<br>value=%{y}<extra></extra>",
         "legendgroup": "mobile_wt",
         "marker": {
          "color": "#FF6692",
          "pattern": {
           "shape": ""
          }
         },
         "name": "mobile_wt",
         "offsetgroup": "mobile_wt",
         "orientation": "v",
         "showlegend": true,
         "textposition": "auto",
         "type": "bar",
         "x": [
          "mobile_wt"
         ],
         "xaxis": "x",
         "y": [
          10225
         ],
         "yaxis": "y"
        },
        {
         "alignmentgroup": "True",
         "hovertemplate": "color=px_width<br>index=%{x}<br>value=%{y}<extra></extra>",
         "legendgroup": "px_width",
         "marker": {
          "color": "#B6E880",
          "pattern": {
           "shape": ""
          }
         },
         "name": "px_width",
         "offsetgroup": "px_width",
         "orientation": "v",
         "showlegend": true,
         "textposition": "auto",
         "type": "bar",
         "x": [
          "px_width"
         ],
         "xaxis": "x",
         "y": [
          10305
         ],
         "yaxis": "y"
        },
        {
         "alignmentgroup": "True",
         "hovertemplate": "color=sc_h<br>index=%{x}<br>value=%{y}<extra></extra>",
         "legendgroup": "sc_h",
         "marker": {
          "color": "#FF97FF",
          "pattern": {
           "shape": ""
          }
         },
         "name": "sc_h",
         "offsetgroup": "sc_h",
         "orientation": "v",
         "showlegend": true,
         "textposition": "auto",
         "type": "bar",
         "x": [
          "sc_h"
         ],
         "xaxis": "x",
         "y": [
          10380
         ],
         "yaxis": "y"
        },
        {
         "alignmentgroup": "True",
         "hovertemplate": "color=sc_w<br>index=%{x}<br>value=%{y}<extra></extra>",
         "legendgroup": "sc_w",
         "marker": {
          "color": "#FECB52",
          "pattern": {
           "shape": ""
          }
         },
         "name": "sc_w",
         "offsetgroup": "sc_w",
         "orientation": "v",
         "showlegend": true,
         "textposition": "auto",
         "type": "bar",
         "x": [
          "sc_w"
         ],
         "xaxis": "x",
         "y": [
          10160
         ],
         "yaxis": "y"
        },
        {
         "alignmentgroup": "True",
         "hovertemplate": "color=m_dep<br>index=%{x}<br>value=%{y}<extra></extra>",
         "legendgroup": "m_dep",
         "marker": {
          "color": "#636efa",
          "pattern": {
           "shape": ""
          }
         },
         "name": "m_dep",
         "offsetgroup": "m_dep",
         "orientation": "v",
         "showlegend": true,
         "textposition": "auto",
         "type": "bar",
         "x": [
          "m_dep"
         ],
         "xaxis": "x",
         "y": [
          10320
         ],
         "yaxis": "y"
        },
        {
         "alignmentgroup": "True",
         "hovertemplate": "color=touch_screen<br>index=%{x}<br>value=%{y}<extra></extra>",
         "legendgroup": "touch_screen",
         "marker": {
          "color": "#EF553B",
          "pattern": {
           "shape": ""
          }
         },
         "name": "touch_screen",
         "offsetgroup": "touch_screen",
         "orientation": "v",
         "showlegend": true,
         "textposition": "auto",
         "type": "bar",
         "x": [
          "touch_screen"
         ],
         "xaxis": "x",
         "y": [
          10145
         ],
         "yaxis": "y"
        },
        {
         "alignmentgroup": "True",
         "hovertemplate": "color=fc<br>index=%{x}<br>value=%{y}<extra></extra>",
         "legendgroup": "fc",
         "marker": {
          "color": "#00cc96",
          "pattern": {
           "shape": ""
          }
         },
         "name": "fc",
         "offsetgroup": "fc",
         "orientation": "v",
         "showlegend": true,
         "textposition": "auto",
         "type": "bar",
         "x": [
          "fc"
         ],
         "xaxis": "x",
         "y": [
          10475
         ],
         "yaxis": "y"
        },
        {
         "alignmentgroup": "True",
         "hovertemplate": "color=four_g<br>index=%{x}<br>value=%{y}<extra></extra>",
         "legendgroup": "four_g",
         "marker": {
          "color": "#ab63fa",
          "pattern": {
           "shape": ""
          }
         },
         "name": "four_g",
         "offsetgroup": "four_g",
         "orientation": "v",
         "showlegend": true,
         "textposition": "auto",
         "type": "bar",
         "x": [
          "four_g"
         ],
         "xaxis": "x",
         "y": [
          10450
         ],
         "yaxis": "y"
        },
        {
         "alignmentgroup": "True",
         "hovertemplate": "color=hgv<br>index=%{x}<br>value=%{y}<extra></extra>",
         "legendgroup": "hgv",
         "marker": {
          "color": "#FFA15A",
          "pattern": {
           "shape": ""
          }
         },
         "name": "hgv",
         "offsetgroup": "hgv",
         "orientation": "v",
         "showlegend": true,
         "textposition": "auto",
         "type": "bar",
         "x": [
          "hgv"
         ],
         "xaxis": "x",
         "y": [
          10285
         ],
         "yaxis": "y"
        },
        {
         "alignmentgroup": "True",
         "hovertemplate": "color=price_range<br>index=%{x}<br>value=%{y}<extra></extra>",
         "legendgroup": "price_range",
         "marker": {
          "color": "#19d3f3",
          "pattern": {
           "shape": ""
          }
         },
         "name": "price_range",
         "offsetgroup": "price_range",
         "orientation": "v",
         "showlegend": true,
         "textposition": "auto",
         "type": "bar",
         "x": [
          "price_range"
         ],
         "xaxis": "x",
         "y": [
          10910
         ],
         "yaxis": "y"
        },
        {
         "alignmentgroup": "True",
         "hovertemplate": "color=blue<br>index=%{x}<br>value=%{y}<extra></extra>",
         "legendgroup": "blue",
         "marker": {
          "color": "#FF6692",
          "pattern": {
           "shape": ""
          }
         },
         "name": "blue",
         "offsetgroup": "blue",
         "orientation": "v",
         "showlegend": true,
         "textposition": "auto",
         "type": "bar",
         "x": [
          "blue"
         ],
         "xaxis": "x",
         "y": [
          10490
         ],
         "yaxis": "y"
        },
        {
         "alignmentgroup": "True",
         "hovertemplate": "color=n_cores<br>index=%{x}<br>value=%{y}<extra></extra>",
         "legendgroup": "n_cores",
         "marker": {
          "color": "#B6E880",
          "pattern": {
           "shape": ""
          }
         },
         "name": "n_cores",
         "offsetgroup": "n_cores",
         "orientation": "v",
         "showlegend": true,
         "textposition": "auto",
         "type": "bar",
         "x": [
          "n_cores"
         ],
         "xaxis": "x",
         "y": [
          10260
         ],
         "yaxis": "y"
        },
        {
         "alignmentgroup": "True",
         "hovertemplate": "color=wifi<br>index=%{x}<br>value=%{y}<extra></extra>",
         "legendgroup": "wifi",
         "marker": {
          "color": "#FF97FF",
          "pattern": {
           "shape": ""
          }
         },
         "name": "wifi",
         "offsetgroup": "wifi",
         "orientation": "v",
         "showlegend": true,
         "textposition": "auto",
         "type": "bar",
         "x": [
          "wifi"
         ],
         "xaxis": "x",
         "y": [
          10205
         ],
         "yaxis": "y"
        },
        {
         "alignmentgroup": "True",
         "hovertemplate": "color=dual_sim<br>index=%{x}<br>value=%{y}<extra></extra>",
         "legendgroup": "dual_sim",
         "marker": {
          "color": "#FECB52",
          "pattern": {
           "shape": ""
          }
         },
         "name": "dual_sim",
         "offsetgroup": "dual_sim",
         "orientation": "v",
         "showlegend": true,
         "textposition": "auto",
         "type": "bar",
         "x": [
          "dual_sim"
         ],
         "xaxis": "x",
         "y": [
          10130
         ],
         "yaxis": "y"
        },
        {
         "alignmentgroup": "True",
         "hovertemplate": "color=ram<br>index=%{x}<br>value=%{y}<extra></extra>",
         "legendgroup": "ram",
         "marker": {
          "color": "#636efa",
          "pattern": {
           "shape": ""
          }
         },
         "name": "ram",
         "offsetgroup": "ram",
         "orientation": "v",
         "showlegend": true,
         "textposition": "auto",
         "type": "bar",
         "x": [
          "ram"
         ],
         "xaxis": "x",
         "y": [
          10490
         ],
         "yaxis": "y"
        },
        {
         "alignmentgroup": "True",
         "hovertemplate": "color=werf<br>index=%{x}<br>value=%{y}<extra></extra>",
         "legendgroup": "werf",
         "marker": {
          "color": "#EF553B",
          "pattern": {
           "shape": ""
          }
         },
         "name": "werf",
         "offsetgroup": "werf",
         "orientation": "v",
         "showlegend": true,
         "textposition": "auto",
         "type": "bar",
         "x": [
          "werf"
         ],
         "xaxis": "x",
         "y": [
          0
         ],
         "yaxis": "y"
        },
        {
         "alignmentgroup": "True",
         "hovertemplate": "color=int_memory<br>index=%{x}<br>value=%{y}<extra></extra>",
         "legendgroup": "int_memory",
         "marker": {
          "color": "#00cc96",
          "pattern": {
           "shape": ""
          }
         },
         "name": "int_memory",
         "offsetgroup": "int_memory",
         "orientation": "v",
         "showlegend": true,
         "textposition": "auto",
         "type": "bar",
         "x": [
          "int_memory"
         ],
         "xaxis": "x",
         "y": [
          10370
         ],
         "yaxis": "y"
        },
        {
         "alignmentgroup": "True",
         "hovertemplate": "color=px_height<br>index=%{x}<br>value=%{y}<extra></extra>",
         "legendgroup": "px_height",
         "marker": {
          "color": "#ab63fa",
          "pattern": {
           "shape": ""
          }
         },
         "name": "px_height",
         "offsetgroup": "px_height",
         "orientation": "v",
         "showlegend": true,
         "textposition": "auto",
         "type": "bar",
         "x": [
          "px_height"
         ],
         "xaxis": "x",
         "y": [
          10370
         ],
         "yaxis": "y"
        },
        {
         "alignmentgroup": "True",
         "hovertemplate": "color=clock_speed<br>index=%{x}<br>value=%{y}<extra></extra>",
         "legendgroup": "clock_speed",
         "marker": {
          "color": "#FFA15A",
          "pattern": {
           "shape": ""
          }
         },
         "name": "clock_speed",
         "offsetgroup": "clock_speed",
         "orientation": "v",
         "showlegend": true,
         "textposition": "auto",
         "type": "bar",
         "x": [
          "clock_speed"
         ],
         "xaxis": "x",
         "y": [
          10230
         ],
         "yaxis": "y"
        }
       ],
       "layout": {
        "barmode": "relative",
        "legend": {
         "title": {
          "text": "color"
         },
         "tracegroupgap": 0
        },
        "template": {
         "data": {
          "bar": [
           {
            "error_x": {
             "color": "#2a3f5f"
            },
            "error_y": {
             "color": "#2a3f5f"
            },
            "marker": {
             "line": {
              "color": "#E5ECF6",
              "width": 0.5
             },
             "pattern": {
              "fillmode": "overlay",
              "size": 10,
              "solidity": 0.2
             }
            },
            "type": "bar"
           }
          ],
          "barpolar": [
           {
            "marker": {
             "line": {
              "color": "#E5ECF6",
              "width": 0.5
             },
             "pattern": {
              "fillmode": "overlay",
              "size": 10,
              "solidity": 0.2
             }
            },
            "type": "barpolar"
           }
          ],
          "carpet": [
           {
            "aaxis": {
             "endlinecolor": "#2a3f5f",
             "gridcolor": "white",
             "linecolor": "white",
             "minorgridcolor": "white",
             "startlinecolor": "#2a3f5f"
            },
            "baxis": {
             "endlinecolor": "#2a3f5f",
             "gridcolor": "white",
             "linecolor": "white",
             "minorgridcolor": "white",
             "startlinecolor": "#2a3f5f"
            },
            "type": "carpet"
           }
          ],
          "choropleth": [
           {
            "colorbar": {
             "outlinewidth": 0,
             "ticks": ""
            },
            "type": "choropleth"
           }
          ],
          "contour": [
           {
            "colorbar": {
             "outlinewidth": 0,
             "ticks": ""
            },
            "colorscale": [
             [
              0,
              "#0d0887"
             ],
             [
              0.1111111111111111,
              "#46039f"
             ],
             [
              0.2222222222222222,
              "#7201a8"
             ],
             [
              0.3333333333333333,
              "#9c179e"
             ],
             [
              0.4444444444444444,
              "#bd3786"
             ],
             [
              0.5555555555555556,
              "#d8576b"
             ],
             [
              0.6666666666666666,
              "#ed7953"
             ],
             [
              0.7777777777777778,
              "#fb9f3a"
             ],
             [
              0.8888888888888888,
              "#fdca26"
             ],
             [
              1,
              "#f0f921"
             ]
            ],
            "type": "contour"
           }
          ],
          "contourcarpet": [
           {
            "colorbar": {
             "outlinewidth": 0,
             "ticks": ""
            },
            "type": "contourcarpet"
           }
          ],
          "heatmap": [
           {
            "colorbar": {
             "outlinewidth": 0,
             "ticks": ""
            },
            "colorscale": [
             [
              0,
              "#0d0887"
             ],
             [
              0.1111111111111111,
              "#46039f"
             ],
             [
              0.2222222222222222,
              "#7201a8"
             ],
             [
              0.3333333333333333,
              "#9c179e"
             ],
             [
              0.4444444444444444,
              "#bd3786"
             ],
             [
              0.5555555555555556,
              "#d8576b"
             ],
             [
              0.6666666666666666,
              "#ed7953"
             ],
             [
              0.7777777777777778,
              "#fb9f3a"
             ],
             [
              0.8888888888888888,
              "#fdca26"
             ],
             [
              1,
              "#f0f921"
             ]
            ],
            "type": "heatmap"
           }
          ],
          "heatmapgl": [
           {
            "colorbar": {
             "outlinewidth": 0,
             "ticks": ""
            },
            "colorscale": [
             [
              0,
              "#0d0887"
             ],
             [
              0.1111111111111111,
              "#46039f"
             ],
             [
              0.2222222222222222,
              "#7201a8"
             ],
             [
              0.3333333333333333,
              "#9c179e"
             ],
             [
              0.4444444444444444,
              "#bd3786"
             ],
             [
              0.5555555555555556,
              "#d8576b"
             ],
             [
              0.6666666666666666,
              "#ed7953"
             ],
             [
              0.7777777777777778,
              "#fb9f3a"
             ],
             [
              0.8888888888888888,
              "#fdca26"
             ],
             [
              1,
              "#f0f921"
             ]
            ],
            "type": "heatmapgl"
           }
          ],
          "histogram": [
           {
            "marker": {
             "pattern": {
              "fillmode": "overlay",
              "size": 10,
              "solidity": 0.2
             }
            },
            "type": "histogram"
           }
          ],
          "histogram2d": [
           {
            "colorbar": {
             "outlinewidth": 0,
             "ticks": ""
            },
            "colorscale": [
             [
              0,
              "#0d0887"
             ],
             [
              0.1111111111111111,
              "#46039f"
             ],
             [
              0.2222222222222222,
              "#7201a8"
             ],
             [
              0.3333333333333333,
              "#9c179e"
             ],
             [
              0.4444444444444444,
              "#bd3786"
             ],
             [
              0.5555555555555556,
              "#d8576b"
             ],
             [
              0.6666666666666666,
              "#ed7953"
             ],
             [
              0.7777777777777778,
              "#fb9f3a"
             ],
             [
              0.8888888888888888,
              "#fdca26"
             ],
             [
              1,
              "#f0f921"
             ]
            ],
            "type": "histogram2d"
           }
          ],
          "histogram2dcontour": [
           {
            "colorbar": {
             "outlinewidth": 0,
             "ticks": ""
            },
            "colorscale": [
             [
              0,
              "#0d0887"
             ],
             [
              0.1111111111111111,
              "#46039f"
             ],
             [
              0.2222222222222222,
              "#7201a8"
             ],
             [
              0.3333333333333333,
              "#9c179e"
             ],
             [
              0.4444444444444444,
              "#bd3786"
             ],
             [
              0.5555555555555556,
              "#d8576b"
             ],
             [
              0.6666666666666666,
              "#ed7953"
             ],
             [
              0.7777777777777778,
              "#fb9f3a"
             ],
             [
              0.8888888888888888,
              "#fdca26"
             ],
             [
              1,
              "#f0f921"
             ]
            ],
            "type": "histogram2dcontour"
           }
          ],
          "mesh3d": [
           {
            "colorbar": {
             "outlinewidth": 0,
             "ticks": ""
            },
            "type": "mesh3d"
           }
          ],
          "parcoords": [
           {
            "line": {
             "colorbar": {
              "outlinewidth": 0,
              "ticks": ""
             }
            },
            "type": "parcoords"
           }
          ],
          "pie": [
           {
            "automargin": true,
            "type": "pie"
           }
          ],
          "scatter": [
           {
            "fillpattern": {
             "fillmode": "overlay",
             "size": 10,
             "solidity": 0.2
            },
            "type": "scatter"
           }
          ],
          "scatter3d": [
           {
            "line": {
             "colorbar": {
              "outlinewidth": 0,
              "ticks": ""
             }
            },
            "marker": {
             "colorbar": {
              "outlinewidth": 0,
              "ticks": ""
             }
            },
            "type": "scatter3d"
           }
          ],
          "scattercarpet": [
           {
            "marker": {
             "colorbar": {
              "outlinewidth": 0,
              "ticks": ""
             }
            },
            "type": "scattercarpet"
           }
          ],
          "scattergeo": [
           {
            "marker": {
             "colorbar": {
              "outlinewidth": 0,
              "ticks": ""
             }
            },
            "type": "scattergeo"
           }
          ],
          "scattergl": [
           {
            "marker": {
             "colorbar": {
              "outlinewidth": 0,
              "ticks": ""
             }
            },
            "type": "scattergl"
           }
          ],
          "scattermapbox": [
           {
            "marker": {
             "colorbar": {
              "outlinewidth": 0,
              "ticks": ""
             }
            },
            "type": "scattermapbox"
           }
          ],
          "scatterpolar": [
           {
            "marker": {
             "colorbar": {
              "outlinewidth": 0,
              "ticks": ""
             }
            },
            "type": "scatterpolar"
           }
          ],
          "scatterpolargl": [
           {
            "marker": {
             "colorbar": {
              "outlinewidth": 0,
              "ticks": ""
             }
            },
            "type": "scatterpolargl"
           }
          ],
          "scatterternary": [
           {
            "marker": {
             "colorbar": {
              "outlinewidth": 0,
              "ticks": ""
             }
            },
            "type": "scatterternary"
           }
          ],
          "surface": [
           {
            "colorbar": {
             "outlinewidth": 0,
             "ticks": ""
            },
            "colorscale": [
             [
              0,
              "#0d0887"
             ],
             [
              0.1111111111111111,
              "#46039f"
             ],
             [
              0.2222222222222222,
              "#7201a8"
             ],
             [
              0.3333333333333333,
              "#9c179e"
             ],
             [
              0.4444444444444444,
              "#bd3786"
             ],
             [
              0.5555555555555556,
              "#d8576b"
             ],
             [
              0.6666666666666666,
              "#ed7953"
             ],
             [
              0.7777777777777778,
              "#fb9f3a"
             ],
             [
              0.8888888888888888,
              "#fdca26"
             ],
             [
              1,
              "#f0f921"
             ]
            ],
            "type": "surface"
           }
          ],
          "table": [
           {
            "cells": {
             "fill": {
              "color": "#EBF0F8"
             },
             "line": {
              "color": "white"
             }
            },
            "header": {
             "fill": {
              "color": "#C8D4E3"
             },
             "line": {
              "color": "white"
             }
            },
            "type": "table"
           }
          ]
         },
         "layout": {
          "annotationdefaults": {
           "arrowcolor": "#2a3f5f",
           "arrowhead": 0,
           "arrowwidth": 1
          },
          "autotypenumbers": "strict",
          "coloraxis": {
           "colorbar": {
            "outlinewidth": 0,
            "ticks": ""
           }
          },
          "colorscale": {
           "diverging": [
            [
             0,
             "#8e0152"
            ],
            [
             0.1,
             "#c51b7d"
            ],
            [
             0.2,
             "#de77ae"
            ],
            [
             0.3,
             "#f1b6da"
            ],
            [
             0.4,
             "#fde0ef"
            ],
            [
             0.5,
             "#f7f7f7"
            ],
            [
             0.6,
             "#e6f5d0"
            ],
            [
             0.7,
             "#b8e186"
            ],
            [
             0.8,
             "#7fbc41"
            ],
            [
             0.9,
             "#4d9221"
            ],
            [
             1,
             "#276419"
            ]
           ],
           "sequential": [
            [
             0,
             "#0d0887"
            ],
            [
             0.1111111111111111,
             "#46039f"
            ],
            [
             0.2222222222222222,
             "#7201a8"
            ],
            [
             0.3333333333333333,
             "#9c179e"
            ],
            [
             0.4444444444444444,
             "#bd3786"
            ],
            [
             0.5555555555555556,
             "#d8576b"
            ],
            [
             0.6666666666666666,
             "#ed7953"
            ],
            [
             0.7777777777777778,
             "#fb9f3a"
            ],
            [
             0.8888888888888888,
             "#fdca26"
            ],
            [
             1,
             "#f0f921"
            ]
           ],
           "sequentialminus": [
            [
             0,
             "#0d0887"
            ],
            [
             0.1111111111111111,
             "#46039f"
            ],
            [
             0.2222222222222222,
             "#7201a8"
            ],
            [
             0.3333333333333333,
             "#9c179e"
            ],
            [
             0.4444444444444444,
             "#bd3786"
            ],
            [
             0.5555555555555556,
             "#d8576b"
            ],
            [
             0.6666666666666666,
             "#ed7953"
            ],
            [
             0.7777777777777778,
             "#fb9f3a"
            ],
            [
             0.8888888888888888,
             "#fdca26"
            ],
            [
             1,
             "#f0f921"
            ]
           ]
          },
          "colorway": [
           "#636efa",
           "#EF553B",
           "#00cc96",
           "#ab63fa",
           "#FFA15A",
           "#19d3f3",
           "#FF6692",
           "#B6E880",
           "#FF97FF",
           "#FECB52"
          ],
          "font": {
           "color": "#2a3f5f"
          },
          "geo": {
           "bgcolor": "white",
           "lakecolor": "white",
           "landcolor": "#E5ECF6",
           "showlakes": true,
           "showland": true,
           "subunitcolor": "white"
          },
          "hoverlabel": {
           "align": "left"
          },
          "hovermode": "closest",
          "mapbox": {
           "style": "light"
          },
          "paper_bgcolor": "white",
          "plot_bgcolor": "#E5ECF6",
          "polar": {
           "angularaxis": {
            "gridcolor": "white",
            "linecolor": "white",
            "ticks": ""
           },
           "bgcolor": "#E5ECF6",
           "radialaxis": {
            "gridcolor": "white",
            "linecolor": "white",
            "ticks": ""
           }
          },
          "scene": {
           "xaxis": {
            "backgroundcolor": "#E5ECF6",
            "gridcolor": "white",
            "gridwidth": 2,
            "linecolor": "white",
            "showbackground": true,
            "ticks": "",
            "zerolinecolor": "white"
           },
           "yaxis": {
            "backgroundcolor": "#E5ECF6",
            "gridcolor": "white",
            "gridwidth": 2,
            "linecolor": "white",
            "showbackground": true,
            "ticks": "",
            "zerolinecolor": "white"
           },
           "zaxis": {
            "backgroundcolor": "#E5ECF6",
            "gridcolor": "white",
            "gridwidth": 2,
            "linecolor": "white",
            "showbackground": true,
            "ticks": "",
            "zerolinecolor": "white"
           }
          },
          "shapedefaults": {
           "line": {
            "color": "#2a3f5f"
           }
          },
          "ternary": {
           "aaxis": {
            "gridcolor": "white",
            "linecolor": "white",
            "ticks": ""
           },
           "baxis": {
            "gridcolor": "white",
            "linecolor": "white",
            "ticks": ""
           },
           "bgcolor": "#E5ECF6",
           "caxis": {
            "gridcolor": "white",
            "linecolor": "white",
            "ticks": ""
           }
          },
          "title": {
           "x": 0.05
          },
          "xaxis": {
           "automargin": true,
           "gridcolor": "white",
           "linecolor": "white",
           "ticks": "",
           "title": {
            "standoff": 15
           },
           "zerolinecolor": "white",
           "zerolinewidth": 2
          },
          "yaxis": {
           "automargin": true,
           "gridcolor": "white",
           "linecolor": "white",
           "ticks": "",
           "title": {
            "standoff": 15
           },
           "zerolinecolor": "white",
           "zerolinewidth": 2
          }
         }
        },
        "title": {
         "text": "Percentage of Missing Values per column"
        },
        "xaxis": {
         "anchor": "y",
         "domain": [
          0,
          1
         ],
         "title": {
          "text": "index"
         }
        },
        "yaxis": {
         "anchor": "x",
         "domain": [
          0,
          1
         ],
         "title": {
          "text": "value"
         }
        }
       }
      }
     },
     "metadata": {},
     "output_type": "display_data"
    }
   ],
   "source": [
    "(ds.isnull().sum()).plot.bar(title = 'Percentage of Missing Values per column',color=ds.columns)"
   ]
  },
  {
   "cell_type": "markdown",
   "metadata": {},
   "source": [
    "#### B) Identify duplicated\n",
    "\n",
    "Knowing that '*_index_*' is a unique indicator of the mobile phone model, it is assumed that mobile phones with the same model number will have the same characteristics.\n",
    "\n",
    "With this in mind, we now check whether the model number of the cell phone is registered more than once."
   ]
  },
  {
   "cell_type": "code",
   "execution_count": 10,
   "metadata": {},
   "outputs": [
    {
     "name": "stdout",
     "output_type": "stream",
     "text": [
      "Duplicated Registers: 72297\n",
      "Unique Registers: 2493\n"
     ]
    }
   ],
   "source": [
    "print( 'Duplicated Registers: ' + str( ds[\"index\"].duplicated().sum() ))\n",
    "print( 'Unique Registers: ' + str( len ( ds[\"index\"].unique() ) ) )"
   ]
  },
  {
   "cell_type": "markdown",
   "metadata": {},
   "source": [
    "There are 2493 unique values in the '*_index_*', which indicates that the dataset has only 2493 mobile phone models and 72297 duplicate records. Therefore these 72297 duplicate records will be eliminated."
   ]
  },
  {
   "cell_type": "markdown",
   "metadata": {},
   "source": [
    "#### C) Dataset cleaning\n",
    "Taking into account the high number of duplicate records, it is decided to eliminate all the records with NaM values, verifying that the number of unique records (2493) is maintained once these records have been eliminated."
   ]
  },
  {
   "cell_type": "code",
   "execution_count": 11,
   "metadata": {},
   "outputs": [
    {
     "name": "stdout",
     "output_type": "stream",
     "text": [
      "<class 'pandas.core.frame.DataFrame'>\n",
      "Int64Index: 23790 entries, 0 to 74782\n",
      "Data columns (total 25 columns):\n",
      " #   Column         Non-Null Count  Dtype \n",
      "---  ------         --------------  ----- \n",
      " 0   Unnamed: 0     23790 non-null  int64 \n",
      " 1   index          23790 non-null  int64 \n",
      " 2   talk_time      23790 non-null  object\n",
      " 3   battery_power  23790 non-null  object\n",
      " 4   pc             23790 non-null  object\n",
      " 5   three_g        23790 non-null  object\n",
      " 6   mobile_wt      23790 non-null  object\n",
      " 7   px_width       23790 non-null  object\n",
      " 8   sc_h           23790 non-null  object\n",
      " 9   sc_w           23790 non-null  object\n",
      " 10  m_dep          23790 non-null  object\n",
      " 11  touch_screen   23790 non-null  object\n",
      " 12  fc             23790 non-null  object\n",
      " 13  four_g         23790 non-null  object\n",
      " 14  hgv            23790 non-null  object\n",
      " 15  price_range    23790 non-null  object\n",
      " 16  blue           23790 non-null  object\n",
      " 17  n_cores        23790 non-null  object\n",
      " 18  wifi           23790 non-null  object\n",
      " 19  dual_sim       23790 non-null  object\n",
      " 20  ram            23790 non-null  object\n",
      " 21  werf           23790 non-null  int64 \n",
      " 22  int_memory     23790 non-null  object\n",
      " 23  px_height      23790 non-null  object\n",
      " 24  clock_speed    23790 non-null  object\n",
      "dtypes: int64(3), object(22)\n",
      "memory usage: 4.7+ MB\n"
     ]
    }
   ],
   "source": [
    "ds_copy = ds.copy() #Save copy of original dataframe\n",
    "ds_copy.dropna(inplace=True,axis=0)\n",
    "ds_copy.info()"
   ]
  },
  {
   "cell_type": "markdown",
   "metadata": {},
   "source": [
    "By eliminating the records with NaN values we were able to reduce the size of the data set to 23790 records."
   ]
  },
  {
   "cell_type": "code",
   "execution_count": 12,
   "metadata": {},
   "outputs": [
    {
     "data": {
      "text/html": [
       "<div>\n",
       "<style scoped>\n",
       "    .dataframe tbody tr th:only-of-type {\n",
       "        vertical-align: middle;\n",
       "    }\n",
       "\n",
       "    .dataframe tbody tr th {\n",
       "        vertical-align: top;\n",
       "    }\n",
       "\n",
       "    .dataframe thead th {\n",
       "        text-align: right;\n",
       "    }\n",
       "</style>\n",
       "<table border=\"1\" class=\"dataframe\">\n",
       "  <thead>\n",
       "    <tr style=\"text-align: right;\">\n",
       "      <th></th>\n",
       "      <th>74525</th>\n",
       "      <th>12996</th>\n",
       "      <th>37475</th>\n",
       "      <th>30936</th>\n",
       "      <th>61269</th>\n",
       "      <th>17884</th>\n",
       "      <th>36189</th>\n",
       "      <th>40078</th>\n",
       "      <th>41985</th>\n",
       "      <th>6323</th>\n",
       "    </tr>\n",
       "  </thead>\n",
       "  <tbody>\n",
       "    <tr>\n",
       "      <th>Unnamed: 0</th>\n",
       "      <td>74525</td>\n",
       "      <td>12996</td>\n",
       "      <td>37475</td>\n",
       "      <td>30936</td>\n",
       "      <td>61269</td>\n",
       "      <td>17884</td>\n",
       "      <td>36189</td>\n",
       "      <td>40078</td>\n",
       "      <td>41985</td>\n",
       "      <td>6323</td>\n",
       "    </tr>\n",
       "    <tr>\n",
       "      <th>index</th>\n",
       "      <td>1658</td>\n",
       "      <td>487</td>\n",
       "      <td>553</td>\n",
       "      <td>556</td>\n",
       "      <td>795</td>\n",
       "      <td>1143</td>\n",
       "      <td>2195</td>\n",
       "      <td>2453</td>\n",
       "      <td>2237</td>\n",
       "      <td>2413</td>\n",
       "    </tr>\n",
       "    <tr>\n",
       "      <th>talk_time</th>\n",
       "      <td>11.0</td>\n",
       "      <td>18.0</td>\n",
       "      <td>18.0</td>\n",
       "      <td>12.0</td>\n",
       "      <td>7.0</td>\n",
       "      <td>19.0</td>\n",
       "      <td>5.0</td>\n",
       "      <td>15.0</td>\n",
       "      <td>15.0</td>\n",
       "      <td>9.0</td>\n",
       "    </tr>\n",
       "    <tr>\n",
       "      <th>battery_power</th>\n",
       "      <td>1812.0</td>\n",
       "      <td>1663.0</td>\n",
       "      <td>1544.0</td>\n",
       "      <td>1552.0</td>\n",
       "      <td>1442.0</td>\n",
       "      <td>904.0</td>\n",
       "      <td>928.0</td>\n",
       "      <td>683.0</td>\n",
       "      <td>821.0</td>\n",
       "      <td>1611.0</td>\n",
       "    </tr>\n",
       "    <tr>\n",
       "      <th>pc</th>\n",
       "      <td>15.0</td>\n",
       "      <td>14.0</td>\n",
       "      <td>20.0</td>\n",
       "      <td>18.0</td>\n",
       "      <td>3.0</td>\n",
       "      <td>11.0</td>\n",
       "      <td>13.0</td>\n",
       "      <td>8.0</td>\n",
       "      <td>9.0</td>\n",
       "      <td>14.0</td>\n",
       "    </tr>\n",
       "    <tr>\n",
       "      <th>three_g</th>\n",
       "      <td>1.0</td>\n",
       "      <td>5285988458456.0</td>\n",
       "      <td>1.0</td>\n",
       "      <td>1.0</td>\n",
       "      <td>1.0</td>\n",
       "      <td>1.0</td>\n",
       "      <td>5285988458456.0</td>\n",
       "      <td>0.0</td>\n",
       "      <td>1.0</td>\n",
       "      <td>1.0</td>\n",
       "    </tr>\n",
       "    <tr>\n",
       "      <th>mobile_wt</th>\n",
       "      <td>162.0</td>\n",
       "      <td>169.0</td>\n",
       "      <td>113.0</td>\n",
       "      <td>180.0</td>\n",
       "      <td>145.0</td>\n",
       "      <td>112.0</td>\n",
       "      <td>80.0</td>\n",
       "      <td>197.0</td>\n",
       "      <td>109.0</td>\n",
       "      <td>98.0</td>\n",
       "    </tr>\n",
       "    <tr>\n",
       "      <th>px_width</th>\n",
       "      <td>1550.0</td>\n",
       "      <td>1439.0</td>\n",
       "      <td>857.0</td>\n",
       "      <td>658.0</td>\n",
       "      <td>1668.0</td>\n",
       "      <td>1014.0</td>\n",
       "      <td>1243.0</td>\n",
       "      <td>1135.0</td>\n",
       "      <td>1786.0</td>\n",
       "      <td>714.0</td>\n",
       "    </tr>\n",
       "    <tr>\n",
       "      <th>sc_h</th>\n",
       "      <td>18.0</td>\n",
       "      <td>7.0</td>\n",
       "      <td>8.0</td>\n",
       "      <td>13.0</td>\n",
       "      <td>11.0</td>\n",
       "      <td>13.0</td>\n",
       "      <td>19.0</td>\n",
       "      <td>9.0</td>\n",
       "      <td>8.0</td>\n",
       "      <td>5285988458456.0</td>\n",
       "    </tr>\n",
       "    <tr>\n",
       "      <th>sc_w</th>\n",
       "      <td>5285988458456.0</td>\n",
       "      <td>1.0</td>\n",
       "      <td>7.0</td>\n",
       "      <td>6.0</td>\n",
       "      <td>8.0</td>\n",
       "      <td>3.0</td>\n",
       "      <td>10.0</td>\n",
       "      <td>0.0</td>\n",
       "      <td>4.0</td>\n",
       "      <td>4.0</td>\n",
       "    </tr>\n",
       "    <tr>\n",
       "      <th>m_dep</th>\n",
       "      <td>1.0</td>\n",
       "      <td>5285988458456.0</td>\n",
       "      <td>0.1</td>\n",
       "      <td>0.3</td>\n",
       "      <td>0.7</td>\n",
       "      <td>0.8</td>\n",
       "      <td>0.7</td>\n",
       "      <td>0.1</td>\n",
       "      <td>0.1</td>\n",
       "      <td>0.6</td>\n",
       "    </tr>\n",
       "    <tr>\n",
       "      <th>touch_screen</th>\n",
       "      <td>5285988458456.0</td>\n",
       "      <td>0.0</td>\n",
       "      <td>1.0</td>\n",
       "      <td>0.0</td>\n",
       "      <td>1.0</td>\n",
       "      <td>5285988458456.0</td>\n",
       "      <td>1.0</td>\n",
       "      <td>0.0</td>\n",
       "      <td>0.0</td>\n",
       "      <td>0.0</td>\n",
       "    </tr>\n",
       "    <tr>\n",
       "      <th>fc</th>\n",
       "      <td>4.0</td>\n",
       "      <td>13.0</td>\n",
       "      <td>12.0</td>\n",
       "      <td>10.0</td>\n",
       "      <td>0.0</td>\n",
       "      <td>5285988458456.0</td>\n",
       "      <td>11.0</td>\n",
       "      <td>7.0</td>\n",
       "      <td>5.0</td>\n",
       "      <td>11.0</td>\n",
       "    </tr>\n",
       "    <tr>\n",
       "      <th>four_g</th>\n",
       "      <td>1.0</td>\n",
       "      <td>1.0</td>\n",
       "      <td>1.0</td>\n",
       "      <td>1.0</td>\n",
       "      <td>1.0</td>\n",
       "      <td>1.0</td>\n",
       "      <td>0.0</td>\n",
       "      <td>0.0</td>\n",
       "      <td>0.0</td>\n",
       "      <td>0.0</td>\n",
       "    </tr>\n",
       "    <tr>\n",
       "      <th>hgv</th>\n",
       "      <td>11.0</td>\n",
       "      <td>18.0</td>\n",
       "      <td>18.0</td>\n",
       "      <td>12.0</td>\n",
       "      <td>7.0</td>\n",
       "      <td>19.0</td>\n",
       "      <td>5.0</td>\n",
       "      <td>15.0</td>\n",
       "      <td>15.0</td>\n",
       "      <td>9.0</td>\n",
       "    </tr>\n",
       "    <tr>\n",
       "      <th>price_range</th>\n",
       "      <td>3.0</td>\n",
       "      <td>2.0</td>\n",
       "      <td>1.0</td>\n",
       "      <td>2.0</td>\n",
       "      <td>2.0</td>\n",
       "      <td>2.0</td>\n",
       "      <td>0.0</td>\n",
       "      <td>1.0</td>\n",
       "      <td>2.0</td>\n",
       "      <td>5285988458456.0</td>\n",
       "    </tr>\n",
       "    <tr>\n",
       "      <th>blue</th>\n",
       "      <td>1.0</td>\n",
       "      <td>5285988458456.0</td>\n",
       "      <td>0.0</td>\n",
       "      <td>0.0</td>\n",
       "      <td>0.0</td>\n",
       "      <td>1.0</td>\n",
       "      <td>1.0</td>\n",
       "      <td>1.0</td>\n",
       "      <td>0.0</td>\n",
       "      <td>5285988458456.0</td>\n",
       "    </tr>\n",
       "    <tr>\n",
       "      <th>n_cores</th>\n",
       "      <td>7.0</td>\n",
       "      <td>4.0</td>\n",
       "      <td>8.0</td>\n",
       "      <td>8.0</td>\n",
       "      <td>5.0</td>\n",
       "      <td>5285988458456.0</td>\n",
       "      <td>5285988458456.0</td>\n",
       "      <td>7.0</td>\n",
       "      <td>3.0</td>\n",
       "      <td>3.0</td>\n",
       "    </tr>\n",
       "    <tr>\n",
       "      <th>wifi</th>\n",
       "      <td>1.0</td>\n",
       "      <td>5285988458456.0</td>\n",
       "      <td>0.0</td>\n",
       "      <td>0.0</td>\n",
       "      <td>0.0</td>\n",
       "      <td>0.0</td>\n",
       "      <td>0.0</td>\n",
       "      <td>0.0</td>\n",
       "      <td>0.0</td>\n",
       "      <td>1.0</td>\n",
       "    </tr>\n",
       "    <tr>\n",
       "      <th>dual_sim</th>\n",
       "      <td>1.0</td>\n",
       "      <td>1.0</td>\n",
       "      <td>0.0</td>\n",
       "      <td>0.0</td>\n",
       "      <td>0.0</td>\n",
       "      <td>1.0</td>\n",
       "      <td>1.0</td>\n",
       "      <td>0.0</td>\n",
       "      <td>1.0</td>\n",
       "      <td>1.0</td>\n",
       "    </tr>\n",
       "    <tr>\n",
       "      <th>ram</th>\n",
       "      <td>5285988458456.0</td>\n",
       "      <td>2084.0</td>\n",
       "      <td>1300.0</td>\n",
       "      <td>2606.0</td>\n",
       "      <td>1513.0</td>\n",
       "      <td>2814.0</td>\n",
       "      <td>666.0</td>\n",
       "      <td>2066.0</td>\n",
       "      <td>3185.0</td>\n",
       "      <td>1595.0</td>\n",
       "    </tr>\n",
       "    <tr>\n",
       "      <th>werf</th>\n",
       "      <td>9156615</td>\n",
       "      <td>9156615</td>\n",
       "      <td>9156615</td>\n",
       "      <td>9156615</td>\n",
       "      <td>9156615</td>\n",
       "      <td>9156615</td>\n",
       "      <td>9156615</td>\n",
       "      <td>9156615</td>\n",
       "      <td>9156615</td>\n",
       "      <td>9156615</td>\n",
       "    </tr>\n",
       "    <tr>\n",
       "      <th>int_memory</th>\n",
       "      <td>42.0</td>\n",
       "      <td>27.0</td>\n",
       "      <td>45.0</td>\n",
       "      <td>53.0</td>\n",
       "      <td>56.0</td>\n",
       "      <td>5285988458456.0</td>\n",
       "      <td>56.0</td>\n",
       "      <td>30.0</td>\n",
       "      <td>54.0</td>\n",
       "      <td>5285988458456.0</td>\n",
       "    </tr>\n",
       "    <tr>\n",
       "      <th>px_height</th>\n",
       "      <td>380.0</td>\n",
       "      <td>5285988458456.0</td>\n",
       "      <td>236.0</td>\n",
       "      <td>430.0</td>\n",
       "      <td>1626.0</td>\n",
       "      <td>657.0</td>\n",
       "      <td>221.0</td>\n",
       "      <td>927.0</td>\n",
       "      <td>253.0</td>\n",
       "      <td>5285988458456.0</td>\n",
       "    </tr>\n",
       "    <tr>\n",
       "      <th>clock_speed</th>\n",
       "      <td>5285988458456.0</td>\n",
       "      <td>2.5</td>\n",
       "      <td>2.3</td>\n",
       "      <td>1.2</td>\n",
       "      <td>2.2</td>\n",
       "      <td>1.2</td>\n",
       "      <td>0.5</td>\n",
       "      <td>2.1</td>\n",
       "      <td>1.8</td>\n",
       "      <td>0.5</td>\n",
       "    </tr>\n",
       "  </tbody>\n",
       "</table>\n",
       "</div>"
      ],
      "text/plain": [
       "                         74525            12996    37475    30936    61269  \\\n",
       "Unnamed: 0               74525            12996    37475    30936    61269   \n",
       "index                     1658              487      553      556      795   \n",
       "talk_time                 11.0             18.0     18.0     12.0      7.0   \n",
       "battery_power           1812.0           1663.0   1544.0   1552.0   1442.0   \n",
       "pc                        15.0             14.0     20.0     18.0      3.0   \n",
       "three_g                    1.0  5285988458456.0      1.0      1.0      1.0   \n",
       "mobile_wt                162.0            169.0    113.0    180.0    145.0   \n",
       "px_width                1550.0           1439.0    857.0    658.0   1668.0   \n",
       "sc_h                      18.0              7.0      8.0     13.0     11.0   \n",
       "sc_w           5285988458456.0              1.0      7.0      6.0      8.0   \n",
       "m_dep                      1.0  5285988458456.0      0.1      0.3      0.7   \n",
       "touch_screen   5285988458456.0              0.0      1.0      0.0      1.0   \n",
       "fc                         4.0             13.0     12.0     10.0      0.0   \n",
       "four_g                     1.0              1.0      1.0      1.0      1.0   \n",
       "hgv                       11.0             18.0     18.0     12.0      7.0   \n",
       "price_range                3.0              2.0      1.0      2.0      2.0   \n",
       "blue                       1.0  5285988458456.0      0.0      0.0      0.0   \n",
       "n_cores                    7.0              4.0      8.0      8.0      5.0   \n",
       "wifi                       1.0  5285988458456.0      0.0      0.0      0.0   \n",
       "dual_sim                   1.0              1.0      0.0      0.0      0.0   \n",
       "ram            5285988458456.0           2084.0   1300.0   2606.0   1513.0   \n",
       "werf                   9156615          9156615  9156615  9156615  9156615   \n",
       "int_memory                42.0             27.0     45.0     53.0     56.0   \n",
       "px_height                380.0  5285988458456.0    236.0    430.0   1626.0   \n",
       "clock_speed    5285988458456.0              2.5      2.3      1.2      2.2   \n",
       "\n",
       "                         17884            36189    40078    41985  \\\n",
       "Unnamed: 0               17884            36189    40078    41985   \n",
       "index                     1143             2195     2453     2237   \n",
       "talk_time                 19.0              5.0     15.0     15.0   \n",
       "battery_power            904.0            928.0    683.0    821.0   \n",
       "pc                        11.0             13.0      8.0      9.0   \n",
       "three_g                    1.0  5285988458456.0      0.0      1.0   \n",
       "mobile_wt                112.0             80.0    197.0    109.0   \n",
       "px_width                1014.0           1243.0   1135.0   1786.0   \n",
       "sc_h                      13.0             19.0      9.0      8.0   \n",
       "sc_w                       3.0             10.0      0.0      4.0   \n",
       "m_dep                      0.8              0.7      0.1      0.1   \n",
       "touch_screen   5285988458456.0              1.0      0.0      0.0   \n",
       "fc             5285988458456.0             11.0      7.0      5.0   \n",
       "four_g                     1.0              0.0      0.0      0.0   \n",
       "hgv                       19.0              5.0     15.0     15.0   \n",
       "price_range                2.0              0.0      1.0      2.0   \n",
       "blue                       1.0              1.0      1.0      0.0   \n",
       "n_cores        5285988458456.0  5285988458456.0      7.0      3.0   \n",
       "wifi                       0.0              0.0      0.0      0.0   \n",
       "dual_sim                   1.0              1.0      0.0      1.0   \n",
       "ram                     2814.0            666.0   2066.0   3185.0   \n",
       "werf                   9156615          9156615  9156615  9156615   \n",
       "int_memory     5285988458456.0             56.0     30.0     54.0   \n",
       "px_height                657.0            221.0    927.0    253.0   \n",
       "clock_speed                1.2              0.5      2.1      1.8   \n",
       "\n",
       "                         6323   \n",
       "Unnamed: 0                6323  \n",
       "index                     2413  \n",
       "talk_time                  9.0  \n",
       "battery_power           1611.0  \n",
       "pc                        14.0  \n",
       "three_g                    1.0  \n",
       "mobile_wt                 98.0  \n",
       "px_width                 714.0  \n",
       "sc_h           5285988458456.0  \n",
       "sc_w                       4.0  \n",
       "m_dep                      0.6  \n",
       "touch_screen               0.0  \n",
       "fc                        11.0  \n",
       "four_g                     0.0  \n",
       "hgv                        9.0  \n",
       "price_range    5285988458456.0  \n",
       "blue           5285988458456.0  \n",
       "n_cores                    3.0  \n",
       "wifi                       1.0  \n",
       "dual_sim                   1.0  \n",
       "ram                     1595.0  \n",
       "werf                   9156615  \n",
       "int_memory     5285988458456.0  \n",
       "px_height      5285988458456.0  \n",
       "clock_speed                0.5  "
      ]
     },
     "execution_count": 12,
     "metadata": {},
     "output_type": "execute_result"
    }
   ],
   "source": [
    "ds_copy.sample(10).T"
   ]
  },
  {
   "cell_type": "markdown",
   "metadata": {},
   "source": [
    "The presence of value *5285988458456.0* is observed in several fields of the dataset, which corresponds to a meaningless value in the dataset being worked, therefore it is decided to select records that contain this value in one of its characteristics."
   ]
  },
  {
   "cell_type": "code",
   "execution_count": 13,
   "metadata": {},
   "outputs": [
    {
     "name": "stdout",
     "output_type": "stream",
     "text": [
      "<class 'pandas.core.frame.DataFrame'>\n",
      "Int64Index: 12130 entries, 0 to 74782\n",
      "Data columns (total 25 columns):\n",
      " #   Column         Non-Null Count  Dtype \n",
      "---  ------         --------------  ----- \n",
      " 0   Unnamed: 0     12130 non-null  int64 \n",
      " 1   index          12130 non-null  int64 \n",
      " 2   talk_time      12130 non-null  object\n",
      " 3   battery_power  12130 non-null  object\n",
      " 4   pc             12130 non-null  object\n",
      " 5   three_g        12130 non-null  object\n",
      " 6   mobile_wt      12130 non-null  object\n",
      " 7   px_width       12130 non-null  object\n",
      " 8   sc_h           12130 non-null  object\n",
      " 9   sc_w           12130 non-null  object\n",
      " 10  m_dep          12130 non-null  object\n",
      " 11  touch_screen   12130 non-null  object\n",
      " 12  fc             12130 non-null  object\n",
      " 13  four_g         12130 non-null  object\n",
      " 14  hgv            12130 non-null  object\n",
      " 15  price_range    12130 non-null  object\n",
      " 16  blue           12130 non-null  object\n",
      " 17  n_cores        12130 non-null  object\n",
      " 18  wifi           12130 non-null  object\n",
      " 19  dual_sim       12130 non-null  object\n",
      " 20  ram            12130 non-null  object\n",
      " 21  werf           12130 non-null  int64 \n",
      " 22  int_memory     12130 non-null  object\n",
      " 23  px_height      12130 non-null  object\n",
      " 24  clock_speed    12130 non-null  object\n",
      "dtypes: int64(3), object(22)\n",
      "memory usage: 2.4+ MB\n"
     ]
    }
   ],
   "source": [
    "ds_copy.replace('5285988458456.0',np.nan,inplace=True)\n",
    "ds_copy.dropna(inplace=True,axis=0)\n",
    "ds_copy.info()"
   ]
  },
  {
   "cell_type": "markdown",
   "metadata": {},
   "source": [
    "By eliminating the records with **5285988458456.0** values we were able to reduce the size of the data set to 12130 records.\n",
    "\n",
    "\n",
    "Now, we proceed to delete duplicate records in the dataset"
   ]
  },
  {
   "cell_type": "code",
   "execution_count": 14,
   "metadata": {},
   "outputs": [
    {
     "name": "stdout",
     "output_type": "stream",
     "text": [
      "<class 'pandas.core.frame.DataFrame'>\n",
      "Int64Index: 2328 entries, 0 to 14950\n",
      "Data columns (total 25 columns):\n",
      " #   Column         Non-Null Count  Dtype \n",
      "---  ------         --------------  ----- \n",
      " 0   Unnamed: 0     2328 non-null   int64 \n",
      " 1   index          2328 non-null   int64 \n",
      " 2   talk_time      2328 non-null   object\n",
      " 3   battery_power  2328 non-null   object\n",
      " 4   pc             2328 non-null   object\n",
      " 5   three_g        2328 non-null   object\n",
      " 6   mobile_wt      2328 non-null   object\n",
      " 7   px_width       2328 non-null   object\n",
      " 8   sc_h           2328 non-null   object\n",
      " 9   sc_w           2328 non-null   object\n",
      " 10  m_dep          2328 non-null   object\n",
      " 11  touch_screen   2328 non-null   object\n",
      " 12  fc             2328 non-null   object\n",
      " 13  four_g         2328 non-null   object\n",
      " 14  hgv            2328 non-null   object\n",
      " 15  price_range    2328 non-null   object\n",
      " 16  blue           2328 non-null   object\n",
      " 17  n_cores        2328 non-null   object\n",
      " 18  wifi           2328 non-null   object\n",
      " 19  dual_sim       2328 non-null   object\n",
      " 20  ram            2328 non-null   object\n",
      " 21  werf           2328 non-null   int64 \n",
      " 22  int_memory     2328 non-null   object\n",
      " 23  px_height      2328 non-null   object\n",
      " 24  clock_speed    2328 non-null   object\n",
      "dtypes: int64(3), object(22)\n",
      "memory usage: 472.9+ KB\n"
     ]
    }
   ],
   "source": [
    "ds_copy.drop_duplicates(subset =\"index\", keep = 'first', inplace = True)\n",
    "ds_copy.info()"
   ]
  },
  {
   "cell_type": "code",
   "execution_count": 15,
   "metadata": {},
   "outputs": [
    {
     "name": "stdout",
     "output_type": "stream",
     "text": [
      "Duplicated Registers: 0\n",
      "Unique Registers: 2328\n",
      "Total missing values in the dataset: 0\n"
     ]
    }
   ],
   "source": [
    "print( 'Duplicated Registers: ' + str( ds_copy[\"index\"].duplicated().sum() ))\n",
    "print( 'Unique Registers: ' + str( len ( ds_copy[\"index\"].unique() ) ) )\n",
    "print(f\"Total missing values in the dataset: {ds_copy.isnull().sum().sum()}\")"
   ]
  },
  {
   "cell_type": "markdown",
   "metadata": {},
   "source": [
    "### Elimination of features that do not provide information\n",
    "\n",
    "The columns _Unnamed:0_ and _index_ are eliminated since they are only numerical identifiers for the cell phone models consulted by Pedro Perez.\n",
    "\n",
    "The _werf_ column is eliminated since it only has a single value in all the records of the dataset."
   ]
  },
  {
   "cell_type": "code",
   "execution_count": 16,
   "metadata": {},
   "outputs": [],
   "source": [
    "ds_copy.drop(['Unnamed: 0', 'index', 'werf'], axis=1, inplace=True)"
   ]
  },
  {
   "cell_type": "markdown",
   "metadata": {},
   "source": [
    "\n",
    "## 4. Save intermediated transformed data\n",
    "\n",
    "Data without:\n",
    "- Duplicates\n",
    "- Missings values\n",
    "- Non informative data for our taks"
   ]
  },
  {
   "cell_type": "code",
   "execution_count": 17,
   "metadata": {},
   "outputs": [],
   "source": [
    "ds_copy.to_parquet('../data/interim/CellPhoneDs_clean.parquet')"
   ]
  },
  {
   "cell_type": "markdown",
   "metadata": {},
   "source": [
    "\n",
    "## 5. Partial Results\n",
    "\n",
    "### Initial raw data:\n",
    "74790 rows, 25 Columns , memory usage: 10.9 MB\n",
    "\n",
    "### After cleaning process\n",
    "2328 rows , 22 Columns , memory usage: 110.0 KB"
   ]
  },
  {
   "cell_type": "markdown",
   "metadata": {},
   "source": [
    "***\n"
   ]
  }
 ],
 "metadata": {
  "kernelspec": {
   "display_name": "Python 3.10.4 64-bit",
   "language": "python",
   "name": "python3"
  },
  "language_info": {
   "codemirror_mode": {
    "name": "ipython",
    "version": 3
   },
   "file_extension": ".py",
   "mimetype": "text/x-python",
   "name": "python",
   "nbconvert_exporter": "python",
   "pygments_lexer": "ipython3",
   "version": "3.8.10"
  },
  "orig_nbformat": 4,
  "vscode": {
   "interpreter": {
    "hash": "916dbcbb3f70747c44a77c7bcd40155683ae19c65e1c03b4aa3499c5328201f1"
   }
  }
 },
 "nbformat": 4,
 "nbformat_minor": 2
}
