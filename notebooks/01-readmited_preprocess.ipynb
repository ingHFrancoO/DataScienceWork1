{
 "cells": [
  {
   "cell_type": "markdown",
   "metadata": {},
   "source": [
    "#  Work on Data preparation, visualization and Machine learning with Python\n",
    "## Data Science in Production\n",
    "\n",
    "<img src='https://www.uniquindio.edu.co/info/uniquindio/media/bloque2.png' width=\"90\" height=\"110\" >\n",
    "\n",
    "**Students:** <br>\n",
    "\n",
    "Humberto Franco Osorio - Juan Felipe Padilla\n",
    "\n",
    "\n",
    "**Email:** hfranoo@uqvirtual.edu.co - jfpadillag@uqvirtual.edu.co\n",
    "\n",
    "\n",
    "**Teacher:** [Jose R. Zapata](https://joserzapata.github.io) <br>\n",
    "<br>\n",
    "<a href='https://joserzapata.github.io'>\n",
    "    <img src='https://1000marcas.net/wp-content/uploads/2020/02/logo-GitHub.png' width=\"90\" height=\"50\" >\n",
    "</a>\n",
    "&nbsp;\n",
    "<a href='https://twitter.com/joserzapata'>\n",
    "    <img src='https://upload.wikimedia.org/wikipedia/commons/thumb/4/4f/Twitter-logo.svg/1200px-Twitter-logo.svg.png' width=\"50\" height=\"40\" >\n",
    "</a>\n",
    "&nbsp;&nbsp;&nbsp;&nbsp;\n",
    "<a href='https://www.linkedin.com/in/jose-ricardo-zapata-gonzalez/'>\n",
    "    <img src='https://cdn-icons-png.flaticon.com/512/174/174857.png' width=\"50\" height=\"50\" >\n",
    "</a>\n"
   ]
  },
  {
   "cell_type": "markdown",
   "metadata": {},
   "source": [
    "## Table of Contents\n",
    "1) Import Libreries\n",
    "2) Load Dataset\n",
    "3) Data description and cleaning\n",
    "\n",
    "    - Variable identification\n",
    "    - Missing  and  Duplicate values\n",
    "        - Identify missing values\n",
    "        - Identify duplicated\n",
    "        - Dataset cleaning\n",
    "    - Elimination of features that do not provide information\n",
    "4) Save intermediated transformed data\n",
    "5) Partial Results"
   ]
  },
  {
   "cell_type": "markdown",
   "metadata": {},
   "source": [
    "### Introduction\n",
    "Analyze the relationship between the characteristics of a cell phone and its selling price, with the aim of classifying the price range in which a cell phone is found.\n",
    "\n",
    "4 different outputs: <br>\n",
    "&nbsp;&nbsp;&nbsp; **0** -> Low  <br>\n",
    "&nbsp;&nbsp;&nbsp; **1** -> Medium   <br>\n",
    "&nbsp;&nbsp;&nbsp; **2** -> High   <br>\n",
    "&nbsp;&nbsp;&nbsp; **3** -> Very High   <br>"
   ]
  },
  {
   "cell_type": "markdown",
   "metadata": {},
   "source": [
    "### Main Objective\n",
    "> What is the price range of a mobile phone according to its features?"
   ]
  },
  {
   "cell_type": "markdown",
   "metadata": {},
   "source": [
    "## 1. Import Libreries"
   ]
  },
  {
   "cell_type": "code",
   "execution_count": 22,
   "metadata": {},
   "outputs": [],
   "source": [
    "import pandas as pd\n",
    "pd.options.plotting.backend = \"plotly\"\n",
    "import numpy as np\n",
    "import re"
   ]
  },
  {
   "cell_type": "markdown",
   "metadata": {},
   "source": [
    "## 2. Load Dataset"
   ]
  },
  {
   "cell_type": "code",
   "execution_count": 23,
   "metadata": {},
   "outputs": [],
   "source": [
    "ds = pd.read_csv(\"../data/raw/CellPhoneDS.csv\")"
   ]
  },
  {
   "cell_type": "markdown",
   "metadata": {},
   "source": [
    "## 3. Data description and cleaning"
   ]
  },
  {
   "cell_type": "markdown",
   "metadata": {},
   "source": [
    "### Variable identification"
   ]
  },
  {
   "cell_type": "markdown",
   "metadata": {},
   "source": [
    "_**Table 1.** List of features and their descriptions in the initial dataset._\n",
    "\n",
    "|     | Feature name  | Description and values |  Type| % missing |\n",
    "|:---:|     :---:     | :---: |:---: |:---: | \n",
    "| 1 | Unnamed: 0    | Unique identifier of registered mobile phone. | Numeric |  0\n",
    "| 2 | index         | Unique mobile phone model identifier. | Nominal | 0\n",
    "| 3 | battery_power | Total energy a battery can store in one time measured in mAh.     | Numeric | 3.77\n",
    "| 4 | blue          | Has bluetooth or not. <br>0: NO. &nbsp;&nbsp;&nbsp;&nbsp;&nbsp;&nbsp;  1: YES.| Nominal| 4.02\n",
    "| 5 | clock_speed   | Speed at which microprocessor executes instructions.<br> 31 distinct values. | Numeric| 3.67\n",
    "| 6 | dual_sim      | Has dual sim support or not.<br>0: NO. &nbsp;&nbsp;&nbsp;&nbsp;&nbsp;&nbsp;  1: YES. | Nominal | 3.54\n",
    "| 7 | fc            | Front Camera mega pixels. | Numeric| 4.00\n",
    "| 8 | four_g        | Has 4G or not. <br>0: NO. &nbsp;&nbsp;&nbsp;&nbsp;&nbsp;&nbsp;  1: YES.| Nominal | 3.96\n",
    "| 9 | int_memory    | Internal Memory in Gigabytes. | Numeric | 3.86\n",
    "| 10 | m_dep         | Mobile Depth in cm. | Numeric  | 3.79\n",
    "| 11 | mobile_wt     | Weigh of mobile phone. | Numeric | 3.67\n",
    "| 12 | n_cores       | Number of cores of processor. | Numeric| 3.71\n",
    "| 13 | pc            | Primary Camera mega pixels. | Numeric| 3.54\n",
    "| 14 | px_height     | Pixel Resolution Height. | Numeric | 3.86\n",
    "| 15 | px_width      | Pixel Resolution Width | Numeric | 3.77\n",
    "| 16 | ram           | Random Access Memory in Megabytes.| Numeric  | 4.02\n",
    "| 17 | sc_h          | Screen Height of mobile in cm.| Numeric  | 3.87\n",
    "| 18 | sc_w          | Screen Width of mobile in cm. | Numeric  | 3.58\n",
    "| 19 | talk_time     | Longest time that a single battery charge will last when you are charget.  | Numeric | 4.01\n",
    "| 20 | three_g       | Has 3G or not. <br>0: NO. &nbsp;&nbsp;&nbsp;&nbsp;&nbsp;&nbsp;  1: YES.| Nominal | 3.64\n",
    "| 21 | touch_screen  | Has touch screen or not. <br>0: NO. &nbsp;&nbsp;&nbsp;&nbsp;&nbsp;&nbsp;  1: YES.| Nominal | 3.56\n",
    "| 22 | wifi          | Has wifi or not. <br>0: NO. &nbsp;&nbsp;&nbsp;&nbsp;&nbsp;&nbsp;  1: YES.| Nominal | 3.64\n",
    "| 23 | hgv           | <font color='yellow'>Feature with no information, no information can be collected for this feature.</font> | Numeric | 3.74\n",
    "| 24 | werf          | <font color='yellow'>Feature with no information, no information can be collected for this feature.</font> | Nominal | 0\n",
    "| 25 | price_range   | Price range is given by categories.<br> &nbsp;&nbsp;&nbsp; **0** -> Low  <br>&nbsp;&nbsp;&nbsp; **1** -> medium   <br>&nbsp;&nbsp;&nbsp; **2** -> High   <br>&nbsp;&nbsp;&nbsp; **3** -> Very High   <br> | Ordinal | 4.58"
   ]
  },
  {
   "cell_type": "markdown",
   "metadata": {},
   "source": [
    "The initial working dataset has 25 columns (feature) and 74790 registered mobile phones."
   ]
  },
  {
   "cell_type": "code",
   "execution_count": 24,
   "metadata": {},
   "outputs": [
    {
     "name": "stdout",
     "output_type": "stream",
     "text": [
      "<class 'pandas.core.frame.DataFrame'>\n",
      "RangeIndex: 74790 entries, 0 to 74789\n",
      "Data columns (total 25 columns):\n",
      " #   Column         Non-Null Count  Dtype \n",
      "---  ------         --------------  ----- \n",
      " 0   Unnamed: 0     74790 non-null  int64 \n",
      " 1   index          74790 non-null  int64 \n",
      " 2   talk_time      71990 non-null  object\n",
      " 3   battery_power  71970 non-null  object\n",
      " 4   pc             72140 non-null  object\n",
      " 5   three_g        72070 non-null  object\n",
      " 6   mobile_wt      72050 non-null  object\n",
      " 7   px_width       71970 non-null  object\n",
      " 8   sc_h           71895 non-null  object\n",
      " 9   sc_w           72115 non-null  object\n",
      " 10  m_dep          71955 non-null  object\n",
      " 11  touch_screen   72130 non-null  object\n",
      " 12  fc             71800 non-null  object\n",
      " 13  four_g         71825 non-null  object\n",
      " 14  hgv            71990 non-null  object\n",
      " 15  price_range    71365 non-null  object\n",
      " 16  blue           71785 non-null  object\n",
      " 17  n_cores        72015 non-null  object\n",
      " 18  wifi           72070 non-null  object\n",
      " 19  dual_sim       72145 non-null  object\n",
      " 20  ram            71785 non-null  object\n",
      " 21  werf           74790 non-null  int64 \n",
      " 22  int_memory     71905 non-null  object\n",
      " 23  px_height      71905 non-null  object\n",
      " 24  clock_speed    72045 non-null  object\n",
      "dtypes: int64(3), object(22)\n",
      "memory usage: 14.3+ MB\n"
     ]
    }
   ],
   "source": [
    "ds.info()"
   ]
  },
  {
   "cell_type": "markdown",
   "metadata": {},
   "source": [
    "### Missing  and  Duplicate values"
   ]
  },
  {
   "cell_type": "markdown",
   "metadata": {},
   "source": [
    "#### A) Identify missing values"
   ]
  },
  {
   "cell_type": "code",
   "execution_count": 25,
   "metadata": {},
   "outputs": [
    {
     "data": {
      "text/html": [
       "<div>\n",
       "<style scoped>\n",
       "    .dataframe tbody tr th:only-of-type {\n",
       "        vertical-align: middle;\n",
       "    }\n",
       "\n",
       "    .dataframe tbody tr th {\n",
       "        vertical-align: top;\n",
       "    }\n",
       "\n",
       "    .dataframe thead th {\n",
       "        text-align: right;\n",
       "    }\n",
       "</style>\n",
       "<table border=\"1\" class=\"dataframe\">\n",
       "  <thead>\n",
       "    <tr style=\"text-align: right;\">\n",
       "      <th></th>\n",
       "      <th>68724</th>\n",
       "      <th>20242</th>\n",
       "      <th>47583</th>\n",
       "      <th>22573</th>\n",
       "      <th>23452</th>\n",
       "      <th>56700</th>\n",
       "      <th>3546</th>\n",
       "      <th>51781</th>\n",
       "      <th>74567</th>\n",
       "      <th>55246</th>\n",
       "    </tr>\n",
       "  </thead>\n",
       "  <tbody>\n",
       "    <tr>\n",
       "      <th>Unnamed: 0</th>\n",
       "      <td>68724</td>\n",
       "      <td>20242</td>\n",
       "      <td>47583</td>\n",
       "      <td>22573</td>\n",
       "      <td>23452</td>\n",
       "      <td>56700</td>\n",
       "      <td>3546</td>\n",
       "      <td>51781</td>\n",
       "      <td>74567</td>\n",
       "      <td>55246</td>\n",
       "    </tr>\n",
       "    <tr>\n",
       "      <th>index</th>\n",
       "      <td>777</td>\n",
       "      <td>1801</td>\n",
       "      <td>2455</td>\n",
       "      <td>212</td>\n",
       "      <td>1086</td>\n",
       "      <td>2034</td>\n",
       "      <td>750</td>\n",
       "      <td>1634</td>\n",
       "      <td>854</td>\n",
       "      <td>2492</td>\n",
       "    </tr>\n",
       "    <tr>\n",
       "      <th>talk_time</th>\n",
       "      <td>7.0</td>\n",
       "      <td>NaN</td>\n",
       "      <td>12.0</td>\n",
       "      <td>13.0</td>\n",
       "      <td>19.0</td>\n",
       "      <td>15.0</td>\n",
       "      <td>8.0</td>\n",
       "      <td>18.0</td>\n",
       "      <td>12.0</td>\n",
       "      <td>15.0</td>\n",
       "    </tr>\n",
       "    <tr>\n",
       "      <th>battery_power</th>\n",
       "      <td>1786.0</td>\n",
       "      <td>1035.0</td>\n",
       "      <td>537.0</td>\n",
       "      <td>1049.0</td>\n",
       "      <td>nhbgvfrtd 56gyub</td>\n",
       "      <td>543.0</td>\n",
       "      <td>1276.0</td>\n",
       "      <td>986.0</td>\n",
       "      <td>767.0</td>\n",
       "      <td>1792.0</td>\n",
       "    </tr>\n",
       "    <tr>\n",
       "      <th>pc</th>\n",
       "      <td>10.0</td>\n",
       "      <td>10.0</td>\n",
       "      <td>2.0</td>\n",
       "      <td>17.0</td>\n",
       "      <td>13.0</td>\n",
       "      <td>4.0</td>\n",
       "      <td>3.0</td>\n",
       "      <td>20.0</td>\n",
       "      <td>12.0</td>\n",
       "      <td>8.0</td>\n",
       "    </tr>\n",
       "    <tr>\n",
       "      <th>three_g</th>\n",
       "      <td>1.0</td>\n",
       "      <td>1.0</td>\n",
       "      <td>-948961565145.0</td>\n",
       "      <td>NaN</td>\n",
       "      <td>nhbgvfrtd 56gyub</td>\n",
       "      <td>1.0</td>\n",
       "      <td>1.0</td>\n",
       "      <td>1.0</td>\n",
       "      <td>1.0</td>\n",
       "      <td>-948961565145.0</td>\n",
       "    </tr>\n",
       "    <tr>\n",
       "      <th>mobile_wt</th>\n",
       "      <td>161.0</td>\n",
       "      <td>173.0</td>\n",
       "      <td>103.0</td>\n",
       "      <td>135.0</td>\n",
       "      <td>152.0</td>\n",
       "      <td>192.0</td>\n",
       "      <td>130.0</td>\n",
       "      <td>182.0</td>\n",
       "      <td>107.0</td>\n",
       "      <td>170.0</td>\n",
       "    </tr>\n",
       "    <tr>\n",
       "      <th>px_width</th>\n",
       "      <td>1671.0</td>\n",
       "      <td>1709.0</td>\n",
       "      <td>1430.0</td>\n",
       "      <td>1077.0</td>\n",
       "      <td>nhbgvfrtd 56gyub</td>\n",
       "      <td>NaN</td>\n",
       "      <td>nhbgvfrtd 56gyub</td>\n",
       "      <td>679.0</td>\n",
       "      <td>1995.0</td>\n",
       "      <td>1913.0</td>\n",
       "    </tr>\n",
       "    <tr>\n",
       "      <th>sc_h</th>\n",
       "      <td>9.0</td>\n",
       "      <td>NaN</td>\n",
       "      <td>10.0</td>\n",
       "      <td>11.0</td>\n",
       "      <td>15.0</td>\n",
       "      <td>NaN</td>\n",
       "      <td>19.0</td>\n",
       "      <td>8.0</td>\n",
       "      <td>6.0</td>\n",
       "      <td>18.0</td>\n",
       "    </tr>\n",
       "    <tr>\n",
       "      <th>sc_w</th>\n",
       "      <td>3.0</td>\n",
       "      <td>8.0</td>\n",
       "      <td>5.0</td>\n",
       "      <td>3.0</td>\n",
       "      <td>3.0</td>\n",
       "      <td>14.0</td>\n",
       "      <td>10.0</td>\n",
       "      <td>7.0</td>\n",
       "      <td>0.0</td>\n",
       "      <td>-948961565145.0</td>\n",
       "    </tr>\n",
       "    <tr>\n",
       "      <th>m_dep</th>\n",
       "      <td>0.7</td>\n",
       "      <td>1.0</td>\n",
       "      <td>0.3</td>\n",
       "      <td>NaN</td>\n",
       "      <td>0.4</td>\n",
       "      <td>0.7</td>\n",
       "      <td>nhbgvfrtd 56gyub</td>\n",
       "      <td>0.8</td>\n",
       "      <td>-948961565145.0</td>\n",
       "      <td>0.3</td>\n",
       "    </tr>\n",
       "    <tr>\n",
       "      <th>touch_screen</th>\n",
       "      <td>1.0</td>\n",
       "      <td>1.0</td>\n",
       "      <td>1.0</td>\n",
       "      <td>0.0</td>\n",
       "      <td>nhbgvfrtd 56gyub</td>\n",
       "      <td>0.0</td>\n",
       "      <td>1.0</td>\n",
       "      <td>1.0</td>\n",
       "      <td>1.0</td>\n",
       "      <td>0.0</td>\n",
       "    </tr>\n",
       "    <tr>\n",
       "      <th>fc</th>\n",
       "      <td>9.0</td>\n",
       "      <td>NaN</td>\n",
       "      <td>1.0</td>\n",
       "      <td>9.0</td>\n",
       "      <td>0.0</td>\n",
       "      <td>0.0</td>\n",
       "      <td>2.0</td>\n",
       "      <td>13.0</td>\n",
       "      <td>7.0</td>\n",
       "      <td>3.0</td>\n",
       "    </tr>\n",
       "    <tr>\n",
       "      <th>four_g</th>\n",
       "      <td>-948961565145.0</td>\n",
       "      <td>0.0</td>\n",
       "      <td>1.0</td>\n",
       "      <td>0.0</td>\n",
       "      <td>1.0</td>\n",
       "      <td>0.0</td>\n",
       "      <td>0.0</td>\n",
       "      <td>1.0</td>\n",
       "      <td>1.0</td>\n",
       "      <td>1.0</td>\n",
       "    </tr>\n",
       "    <tr>\n",
       "      <th>hgv</th>\n",
       "      <td>7.0</td>\n",
       "      <td>NaN</td>\n",
       "      <td>12.0</td>\n",
       "      <td>13.0</td>\n",
       "      <td>19.0</td>\n",
       "      <td>15.0</td>\n",
       "      <td>8.0</td>\n",
       "      <td>18.0</td>\n",
       "      <td>12.0</td>\n",
       "      <td>15.0</td>\n",
       "    </tr>\n",
       "    <tr>\n",
       "      <th>price_range</th>\n",
       "      <td>3.0</td>\n",
       "      <td>NaN</td>\n",
       "      <td>-948961565145.0</td>\n",
       "      <td>0.0</td>\n",
       "      <td>1.0</td>\n",
       "      <td>1.0</td>\n",
       "      <td>3.0</td>\n",
       "      <td>0.0</td>\n",
       "      <td>2.0</td>\n",
       "      <td>3.0</td>\n",
       "    </tr>\n",
       "    <tr>\n",
       "      <th>blue</th>\n",
       "      <td>0.0</td>\n",
       "      <td>1.0</td>\n",
       "      <td>1.0</td>\n",
       "      <td>NaN</td>\n",
       "      <td>0.0</td>\n",
       "      <td>NaN</td>\n",
       "      <td>nhbgvfrtd 56gyub</td>\n",
       "      <td>1.0</td>\n",
       "      <td>0.0</td>\n",
       "      <td>1.0</td>\n",
       "    </tr>\n",
       "    <tr>\n",
       "      <th>n_cores</th>\n",
       "      <td>7.0</td>\n",
       "      <td>NaN</td>\n",
       "      <td>7.0</td>\n",
       "      <td>5.0</td>\n",
       "      <td>1.0</td>\n",
       "      <td>5.0</td>\n",
       "      <td>2.0</td>\n",
       "      <td>4.0</td>\n",
       "      <td>4.0</td>\n",
       "      <td>7.0</td>\n",
       "    </tr>\n",
       "    <tr>\n",
       "      <th>wifi</th>\n",
       "      <td>1.0</td>\n",
       "      <td>NaN</td>\n",
       "      <td>1.0</td>\n",
       "      <td>0.0</td>\n",
       "      <td>0.0</td>\n",
       "      <td>0.0</td>\n",
       "      <td>1.0</td>\n",
       "      <td>0.0</td>\n",
       "      <td>1.0</td>\n",
       "      <td>1.0</td>\n",
       "    </tr>\n",
       "    <tr>\n",
       "      <th>dual_sim</th>\n",
       "      <td>0.0</td>\n",
       "      <td>NaN</td>\n",
       "      <td>0.0</td>\n",
       "      <td>0.0</td>\n",
       "      <td>nhbgvfrtd 56gyub</td>\n",
       "      <td>0.0</td>\n",
       "      <td>1.0</td>\n",
       "      <td>0.0</td>\n",
       "      <td>0.0</td>\n",
       "      <td>0.0</td>\n",
       "    </tr>\n",
       "    <tr>\n",
       "      <th>ram</th>\n",
       "      <td>2764.0</td>\n",
       "      <td>2002.0</td>\n",
       "      <td>-948961565145.0</td>\n",
       "      <td>1022.0</td>\n",
       "      <td>1375.0</td>\n",
       "      <td>NaN</td>\n",
       "      <td>3798.0</td>\n",
       "      <td>1149.0</td>\n",
       "      <td>2317.0</td>\n",
       "      <td>2563.0</td>\n",
       "    </tr>\n",
       "    <tr>\n",
       "      <th>werf</th>\n",
       "      <td>9156615</td>\n",
       "      <td>9156615</td>\n",
       "      <td>9156615</td>\n",
       "      <td>9156615</td>\n",
       "      <td>9156615</td>\n",
       "      <td>9156615</td>\n",
       "      <td>9156615</td>\n",
       "      <td>9156615</td>\n",
       "      <td>9156615</td>\n",
       "      <td>9156615</td>\n",
       "    </tr>\n",
       "    <tr>\n",
       "      <th>int_memory</th>\n",
       "      <td>58.0</td>\n",
       "      <td>NaN</td>\n",
       "      <td>55.0</td>\n",
       "      <td>63.0</td>\n",
       "      <td>30.0</td>\n",
       "      <td>57.0</td>\n",
       "      <td>53.0</td>\n",
       "      <td>28.0</td>\n",
       "      <td>-948961565145.0</td>\n",
       "      <td>-948961565145.0</td>\n",
       "    </tr>\n",
       "    <tr>\n",
       "      <th>px_height</th>\n",
       "      <td>231.0</td>\n",
       "      <td>831.0</td>\n",
       "      <td>-948961565145.0</td>\n",
       "      <td>199.0</td>\n",
       "      <td>163.0</td>\n",
       "      <td>391.0</td>\n",
       "      <td>nhbgvfrtd 56gyub</td>\n",
       "      <td>199.0</td>\n",
       "      <td>517.0</td>\n",
       "      <td>1626.0</td>\n",
       "    </tr>\n",
       "    <tr>\n",
       "      <th>clock_speed</th>\n",
       "      <td>0.5</td>\n",
       "      <td>NaN</td>\n",
       "      <td>2.0</td>\n",
       "      <td>2.2</td>\n",
       "      <td>2.6</td>\n",
       "      <td>0.5</td>\n",
       "      <td>2.9</td>\n",
       "      <td>5285988458456.0</td>\n",
       "      <td>0.8</td>\n",
       "      <td>1.0</td>\n",
       "    </tr>\n",
       "  </tbody>\n",
       "</table>\n",
       "</div>"
      ],
      "text/plain": [
       "                         68724    20242            47583    22573  \\\n",
       "Unnamed: 0               68724    20242            47583    22573   \n",
       "index                      777     1801             2455      212   \n",
       "talk_time                  7.0      NaN             12.0     13.0   \n",
       "battery_power           1786.0   1035.0            537.0   1049.0   \n",
       "pc                        10.0     10.0              2.0     17.0   \n",
       "three_g                    1.0      1.0  -948961565145.0      NaN   \n",
       "mobile_wt                161.0    173.0            103.0    135.0   \n",
       "px_width                1671.0   1709.0           1430.0   1077.0   \n",
       "sc_h                       9.0      NaN             10.0     11.0   \n",
       "sc_w                       3.0      8.0              5.0      3.0   \n",
       "m_dep                      0.7      1.0              0.3      NaN   \n",
       "touch_screen               1.0      1.0              1.0      0.0   \n",
       "fc                         9.0      NaN              1.0      9.0   \n",
       "four_g         -948961565145.0      0.0              1.0      0.0   \n",
       "hgv                        7.0      NaN             12.0     13.0   \n",
       "price_range                3.0      NaN  -948961565145.0      0.0   \n",
       "blue                       0.0      1.0              1.0      NaN   \n",
       "n_cores                    7.0      NaN              7.0      5.0   \n",
       "wifi                       1.0      NaN              1.0      0.0   \n",
       "dual_sim                   0.0      NaN              0.0      0.0   \n",
       "ram                     2764.0   2002.0  -948961565145.0   1022.0   \n",
       "werf                   9156615  9156615          9156615  9156615   \n",
       "int_memory                58.0      NaN             55.0     63.0   \n",
       "px_height                231.0    831.0  -948961565145.0    199.0   \n",
       "clock_speed                0.5      NaN              2.0      2.2   \n",
       "\n",
       "                          23452    56700             3546             51781  \\\n",
       "Unnamed: 0                23452    56700              3546            51781   \n",
       "index                      1086     2034               750             1634   \n",
       "talk_time                  19.0     15.0               8.0             18.0   \n",
       "battery_power  nhbgvfrtd 56gyub    543.0            1276.0            986.0   \n",
       "pc                         13.0      4.0               3.0             20.0   \n",
       "three_g        nhbgvfrtd 56gyub      1.0               1.0              1.0   \n",
       "mobile_wt                 152.0    192.0             130.0            182.0   \n",
       "px_width       nhbgvfrtd 56gyub      NaN  nhbgvfrtd 56gyub            679.0   \n",
       "sc_h                       15.0      NaN              19.0              8.0   \n",
       "sc_w                        3.0     14.0              10.0              7.0   \n",
       "m_dep                       0.4      0.7  nhbgvfrtd 56gyub              0.8   \n",
       "touch_screen   nhbgvfrtd 56gyub      0.0               1.0              1.0   \n",
       "fc                          0.0      0.0               2.0             13.0   \n",
       "four_g                      1.0      0.0               0.0              1.0   \n",
       "hgv                        19.0     15.0               8.0             18.0   \n",
       "price_range                 1.0      1.0               3.0              0.0   \n",
       "blue                        0.0      NaN  nhbgvfrtd 56gyub              1.0   \n",
       "n_cores                     1.0      5.0               2.0              4.0   \n",
       "wifi                        0.0      0.0               1.0              0.0   \n",
       "dual_sim       nhbgvfrtd 56gyub      0.0               1.0              0.0   \n",
       "ram                      1375.0      NaN            3798.0           1149.0   \n",
       "werf                    9156615  9156615           9156615          9156615   \n",
       "int_memory                 30.0     57.0              53.0             28.0   \n",
       "px_height                 163.0    391.0  nhbgvfrtd 56gyub            199.0   \n",
       "clock_speed                 2.6      0.5               2.9  5285988458456.0   \n",
       "\n",
       "                         74567            55246  \n",
       "Unnamed: 0               74567            55246  \n",
       "index                      854             2492  \n",
       "talk_time                 12.0             15.0  \n",
       "battery_power            767.0           1792.0  \n",
       "pc                        12.0              8.0  \n",
       "three_g                    1.0  -948961565145.0  \n",
       "mobile_wt                107.0            170.0  \n",
       "px_width                1995.0           1913.0  \n",
       "sc_h                       6.0             18.0  \n",
       "sc_w                       0.0  -948961565145.0  \n",
       "m_dep          -948961565145.0              0.3  \n",
       "touch_screen               1.0              0.0  \n",
       "fc                         7.0              3.0  \n",
       "four_g                     1.0              1.0  \n",
       "hgv                       12.0             15.0  \n",
       "price_range                2.0              3.0  \n",
       "blue                       0.0              1.0  \n",
       "n_cores                    4.0              7.0  \n",
       "wifi                       1.0              1.0  \n",
       "dual_sim                   0.0              0.0  \n",
       "ram                     2317.0           2563.0  \n",
       "werf                   9156615          9156615  \n",
       "int_memory     -948961565145.0  -948961565145.0  \n",
       "px_height                517.0           1626.0  \n",
       "clock_speed                0.8              1.0  "
      ]
     },
     "execution_count": 25,
     "metadata": {},
     "output_type": "execute_result"
    }
   ],
   "source": [
    "ds.sample(10).T"
   ]
  },
  {
   "cell_type": "markdown",
   "metadata": {},
   "source": [
    "The presence of values such as '??????', 'nhbgvfrtd 56gyub', or '-948961565145.0' is observed, as well as values for some features that are totally atypical considering the description of the feature, is important to find which values had every column.\n",
    "\n",
    "Get unique values per columns."
   ]
  },
  {
   "cell_type": "code",
   "execution_count": 26,
   "metadata": {},
   "outputs": [
    {
     "name": "stdout",
     "output_type": "stream",
     "text": [
      "-----------------------------------------------------------------------------------\n",
      "Unnamed: 0 = [    0     1     2 ... 74787 74788 74789]\n",
      "Number option 74790\n",
      "-----------------------------------------------------------------------------------\n",
      "index = [1517  911 1493 ... 1192 1495 1181]\n",
      "Number option 2493\n",
      "-----------------------------------------------------------------------------------\n",
      "talk_time = ['11.0' '9.0' '3.0' '-948961565145.0' '6.0' 'nhbgvfrtd 56gyub' '12.0'\n",
      " '8.0' '16.0' '20.0' '13.0' '5285988458456.0' '14.0' '7.0' nan '19.0'\n",
      " '10.0' '15.0' '4.0' '18.0' '??????' '17.0' '5.0' '2.0']\n",
      "Number option 24\n",
      "-----------------------------------------------------------------------------------\n",
      "battery_power = ['911.0' '1284.0' '1183.0' ... '527.0' '1542.0' '846.0']\n",
      "Number option 1099\n",
      "-----------------------------------------------------------------------------------\n",
      "pc = ['4.0' '14.0' 'nhbgvfrtd 56gyub' '9.0' '11.0' '20.0' '1.0' '??????' '0.0'\n",
      " '16.0' '7.0' '5.0' '5285988458456.0' '10.0' '8.0' '12.0' '6.0' '2.0'\n",
      " '13.0' '17.0' '19.0' '18.0' '15.0' '-948961565145.0' nan '3.0']\n",
      "Number option 26\n",
      "-----------------------------------------------------------------------------------\n",
      "three_g = ['0.0' '1.0' '??????' 'nhbgvfrtd 56gyub' nan '-948961565145.0'\n",
      " '5285988458456.0']\n",
      "Number option 7\n",
      "-----------------------------------------------------------------------------------\n",
      "mobile_wt = ['199.0' '155.0' '120.0' '102.0' '134.0' '88.0' '157.0' '??????' '83.0'\n",
      " '97.0' '198.0' '196.0' '5285988458456.0' '190.0' '181.0' '188.0' '81.0'\n",
      " '160.0' '195.0' nan '89.0' '172.0' '143.0' '130.0' '82.0' '129.0' '182.0'\n",
      " '176.0' '92.0' '164.0' '112.0' '138.0' '137.0' '135.0' '103.0' '85.0'\n",
      " '200.0' '166.0' '148.0' '147.0' '108.0' '144.0' '104.0' '86.0' '101.0'\n",
      " '117.0' '152.0' '197.0' '187.0' '189.0' '111.0' '116.0' '178.0' '122.0'\n",
      " 'nhbgvfrtd 56gyub' '150.0' '153.0' '96.0' '105.0' '149.0' '154.0' '194.0'\n",
      " '118.0' '115.0' '128.0' '161.0' '80.0' '170.0' '-948961565145.0' '173.0'\n",
      " '123.0' '100.0' '106.0' '124.0' '163.0' '126.0' '84.0' '184.0' '139.0'\n",
      " '114.0' '191.0' '159.0' '109.0' '168.0' '107.0' '180.0' '145.0' '121.0'\n",
      " '177.0' '127.0' '165.0' '151.0' '95.0' '146.0' '133.0' '186.0' '192.0'\n",
      " '193.0' '141.0' '93.0' '185.0' '183.0' '119.0' '167.0' '136.0' '175.0'\n",
      " '156.0' '125.0' '169.0' '132.0' '87.0' '142.0' '113.0' '179.0' '162.0'\n",
      " '140.0' '99.0' '94.0' '158.0' '174.0' '90.0' '110.0' '171.0' '91.0'\n",
      " '98.0' '131.0']\n",
      "Number option 126\n",
      "-----------------------------------------------------------------------------------\n",
      "px_width = ['1692.0' '-948961565145.0' 'nhbgvfrtd 56gyub' ... '529.0' '1375.0'\n",
      " '1788.0']\n",
      "Number option 1113\n",
      "-----------------------------------------------------------------------------------\n",
      "sc_h = ['16.0' 'nhbgvfrtd 56gyub' '7.0' '-948961565145.0' '17.0' '11.0' '5.0'\n",
      " '12.0' nan '19.0' '13.0' '5285988458456.0' '??????' '8.0' '18.0' '6.0'\n",
      " '14.0' '15.0' '10.0' '9.0']\n",
      "Number option 20\n",
      "-----------------------------------------------------------------------------------\n",
      "sc_w = ['3.0' '2.0' '0.0' '7.0' '8.0' nan '-948961565145.0' '10.0' '4.0' '??????'\n",
      " '6.0' '5.0' '9.0' '15.0' '13.0' '5285988458456.0' '1.0' '14.0' '11.0'\n",
      " 'nhbgvfrtd 56gyub' '16.0' '17.0' '12.0' '18.0']\n",
      "Number option 24\n",
      "-----------------------------------------------------------------------------------\n",
      "m_dep = ['0.7' '-948961565145.0' '0.1' '0.2' '0.3' 'nhbgvfrtd 56gyub' '??????'\n",
      " '0.8' '0.5' nan '0.6' '0.9' '5285988458456.0' '1.0' '0.4']\n",
      "Number option 15\n",
      "-----------------------------------------------------------------------------------\n",
      "touch_screen = ['1.0' '0.0' 'nhbgvfrtd 56gyub' nan '??????' '5285988458456.0'\n",
      " '-948961565145.0']\n",
      "Number option 7\n",
      "-----------------------------------------------------------------------------------\n",
      "fc = ['3.0' '0.0' nan '8.0' '1.0' 'nhbgvfrtd 56gyub' '7.0' '2.0' '5.0' '??????'\n",
      " '6.0' '-948961565145.0' '5285988458456.0' '4.0' '10.0' '9.0' '17.0'\n",
      " '14.0' '11.0' '15.0' '16.0' '18.0' '12.0' '13.0' '19.0']\n",
      "Number option 25\n",
      "-----------------------------------------------------------------------------------\n",
      "four_g = ['0.0' '1.0' '5285988458456.0' nan '-948961565145.0' '??????'\n",
      " 'nhbgvfrtd 56gyub']\n",
      "Number option 7\n",
      "-----------------------------------------------------------------------------------\n",
      "hgv = ['11.0' '9.0' '3.0' '-948961565145.0' '6.0' 'nhbgvfrtd 56gyub' '12.0'\n",
      " '8.0' '16.0' '20.0' '13.0' '5285988458456.0' '14.0' '7.0' nan '19.0'\n",
      " '10.0' '15.0' '4.0' '18.0' '??????' '17.0' '5.0' '2.0']\n",
      "Number option 24\n",
      "-----------------------------------------------------------------------------------\n",
      "price_range = ['3.0' '1.0' '0.0' 'nhbgvfrtd 56gyub' nan '??????' '2.0' '-948961565145.0'\n",
      " '5285988458456.0']\n",
      "Number option 9\n",
      "-----------------------------------------------------------------------------------\n",
      "blue = ['0.0' '1.0' nan '5285988458456.0' '-948961565145.0' 'nhbgvfrtd 56gyub'\n",
      " '??????']\n",
      "Number option 7\n",
      "-----------------------------------------------------------------------------------\n",
      "n_cores = ['4.0' '2.0' '8.0' '6.0' '7.0' '5.0' '-948961565145.0' nan '??????'\n",
      " '5285988458456.0' '1.0' '3.0' 'nhbgvfrtd 56gyub']\n",
      "Number option 13\n",
      "-----------------------------------------------------------------------------------\n",
      "wifi = ['0.0' '1.0' '-948961565145.0' nan '5285988458456.0' 'nhbgvfrtd 56gyub'\n",
      " '??????']\n",
      "Number option 7\n",
      "-----------------------------------------------------------------------------------\n",
      "dual_sim = ['1.0' 'nhbgvfrtd 56gyub' '0.0' '-948961565145.0' '5285988458456.0' nan\n",
      " '??????']\n",
      "Number option 7\n",
      "-----------------------------------------------------------------------------------\n",
      "ram = ['2933.0' '2197.0' 'nhbgvfrtd 56gyub' ... '1788.0' '2487.0' '2351.0']\n",
      "Number option 1565\n",
      "-----------------------------------------------------------------------------------\n",
      "werf = [9156615]\n",
      "Number option 1\n",
      "-----------------------------------------------------------------------------------\n",
      "int_memory = ['14.0' '10.0' 'nhbgvfrtd 56gyub' '63.0' '32.0' '29.0' '49.0' '15.0'\n",
      " '60.0' '6.0' '53.0' '5285988458456.0' nan '57.0' '??????' '18.0' '46.0'\n",
      " '61.0' '26.0' '43.0' '17.0' '45.0' '50.0' '5.0' '4.0' '40.0' '31.0'\n",
      " '21.0' '-948961565145.0' '2.0' '25.0' '28.0' '34.0' '42.0' '36.0' '27.0'\n",
      " '19.0' '16.0' '52.0' '38.0' '37.0' '9.0' '33.0' '8.0' '62.0' '20.0'\n",
      " '51.0' '56.0' '39.0' '30.0' '11.0' '58.0' '7.0' '35.0' '54.0' '12.0'\n",
      " '22.0' '24.0' '59.0' '41.0' '55.0' '3.0' '48.0' '13.0' '47.0' '44.0'\n",
      " '23.0' '64.0']\n",
      "Number option 68\n",
      "-----------------------------------------------------------------------------------\n",
      "px_height = ['1563.0' '160.0' '268.0' ... '1406.0' '616.0' '1260.0']\n",
      "Number option 1142\n",
      "-----------------------------------------------------------------------------------\n",
      "clock_speed = ['1.4' '2.8' '0.5' '1.6' '2.1' '2.4' '0.7' '1.5' '-948961565145.0' '2.3'\n",
      " '1.1' '2.5' nan '5285988458456.0' 'nhbgvfrtd 56gyub' '2.7' '0.6' '1.3'\n",
      " '2.2' '1.2' '1.0' '0.8' '??????' '2.6' '2.9' '1.9' '0.9' '1.7' '1.8'\n",
      " '3.0' '2.0']\n",
      "Number option 31\n",
      "-----------------------------------------------------------------------------------\n"
     ]
    }
   ],
   "source": [
    "print(\"-----------------------------------------------------------------------------------\")\n",
    "for col in ds:\n",
    "    print(f\"{col} = {ds[col].unique()}\")\n",
    "    print(\"Number option\",f\"{len(ds[col].unique())}\")\n",
    "    print(\"-----------------------------------------------------------------------------------\")"
   ]
  },
  {
   "cell_type": "markdown",
   "metadata": {},
   "source": [
    "**Analysis**\n",
    "\n",
    "- Most of the features have invalid values such as 'nhbgvfrtd 56gyub', '??????' and 'nan'.\n",
    "- Most of the characteristics have invalid values considering the description of these values, such as: '-948961565145.0' y '5285988458456.0'\n",
    "- The column 'werf' has the same value in all rows (9156615). So do not provide any information for the classifier.\n"
   ]
  },
  {
   "cell_type": "code",
   "execution_count": 27,
   "metadata": {},
   "outputs": [],
   "source": [
    "ds.drop('werf', axis=1, inplace=True)"
   ]
  },
  {
   "cell_type": "markdown",
   "metadata": {},
   "source": [
    "From a previous analysis of the data set, we observed the presence of outliers registered as:\n",
    "- 'nhbgvfrtd 56gyub'\n",
    "- '??????'\n",
    "- 'nan'\n",
    "- '-948961565145.0'\n",
    "- '5285988458456.0'"
   ]
  },
  {
   "cell_type": "code",
   "execution_count": 28,
   "metadata": {},
   "outputs": [],
   "source": [
    "missing_value = ['nhbgvfrtd 56gyub', '??????', 'nan', '-948961565145.0', '5285988458456.0']"
   ]
  },
  {
   "cell_type": "markdown",
   "metadata": {},
   "source": [
    "Analyzing the presence of these values in the different characteristics of the dataset."
   ]
  },
  {
   "cell_type": "code",
   "execution_count": 29,
   "metadata": {},
   "outputs": [
    {
     "name": "stdout",
     "output_type": "stream",
     "text": [
      "-------------------------------------------------------------\n",
      "Valores iguales a  nhbgvfrtd 56gyub\n",
      "talk_time = 2495\n",
      "battery_power = 2495\n",
      "pc = 2495\n",
      "three_g = 2495\n",
      "mobile_wt = 2495\n",
      "px_width = 2495\n",
      "sc_h = 2495\n",
      "sc_w = 2495\n",
      "m_dep = 2495\n",
      "touch_screen = 2495\n",
      "fc = 2495\n",
      "four_g = 2495\n",
      "hgv = 2495\n",
      "price_range = 2495\n",
      "blue = 2495\n",
      "n_cores = 2495\n",
      "wifi = 2495\n",
      "dual_sim = 2495\n",
      "ram = 2495\n",
      "int_memory = 2495\n",
      "px_height = 2495\n",
      "clock_speed = 2495\n",
      "-------------------------------------------------------------\n",
      "Valores iguales a  ??????\n",
      "talk_time = 2495\n",
      "battery_power = 2495\n",
      "pc = 2495\n",
      "three_g = 2495\n",
      "mobile_wt = 2495\n",
      "px_width = 2495\n",
      "sc_h = 2495\n",
      "sc_w = 2495\n",
      "m_dep = 2495\n",
      "touch_screen = 2495\n",
      "fc = 2495\n",
      "four_g = 2495\n",
      "hgv = 2495\n",
      "price_range = 2495\n",
      "blue = 2495\n",
      "n_cores = 2495\n",
      "wifi = 2495\n",
      "dual_sim = 2495\n",
      "ram = 2495\n",
      "int_memory = 2495\n",
      "px_height = 2495\n",
      "clock_speed = 2495\n",
      "-------------------------------------------------------------\n",
      "Valores iguales a  nan\n",
      "-------------------------------------------------------------\n",
      "Valores iguales a  -948961565145.0\n",
      "talk_time = 2495\n",
      "battery_power = 2495\n",
      "pc = 2495\n",
      "three_g = 2495\n",
      "mobile_wt = 2495\n",
      "px_width = 2495\n",
      "sc_h = 2495\n",
      "sc_w = 2495\n",
      "m_dep = 2495\n",
      "touch_screen = 2495\n",
      "fc = 2495\n",
      "four_g = 2495\n",
      "hgv = 2495\n",
      "price_range = 2495\n",
      "blue = 2495\n",
      "n_cores = 2495\n",
      "wifi = 2495\n",
      "dual_sim = 2495\n",
      "ram = 2495\n",
      "int_memory = 2495\n",
      "px_height = 2495\n",
      "clock_speed = 2495\n",
      "-------------------------------------------------------------\n",
      "Valores iguales a  5285988458456.0\n",
      "talk_time = 2495\n",
      "battery_power = 2495\n",
      "pc = 2495\n",
      "three_g = 2495\n",
      "mobile_wt = 2495\n",
      "px_width = 2495\n",
      "sc_h = 2495\n",
      "sc_w = 2495\n",
      "m_dep = 2495\n",
      "touch_screen = 2495\n",
      "fc = 2495\n",
      "four_g = 2495\n",
      "hgv = 2495\n",
      "price_range = 2495\n",
      "blue = 2495\n",
      "n_cores = 2495\n",
      "wifi = 2495\n",
      "dual_sim = 2495\n",
      "ram = 2495\n",
      "int_memory = 2495\n",
      "px_height = 2495\n",
      "clock_speed = 2495\n",
      "-------------------------------------------------------------\n"
     ]
    }
   ],
   "source": [
    "print(\"-------------------------------------------------------------\")\n",
    "for i in range(len(missing_value)):\n",
    "    print(\"Valores iguales a \",missing_value[i])\n",
    "    frec=ds[ds == missing_value[i]].count()\n",
    "    for col in ds:\n",
    "        if frec[col] > 0:\n",
    "            print(f\"{col} = {frec[col]}\")\n",
    "    print(\"-------------------------------------------------------------\")"
   ]
  },
  {
   "cell_type": "markdown",
   "metadata": {},
   "source": [
    "There is a low presence of these meaningless vouchers in the different characteristics, therefore it is decided to impute these values as NaN values."
   ]
  },
  {
   "cell_type": "code",
   "execution_count": 30,
   "metadata": {},
   "outputs": [],
   "source": [
    "for missing in missing_value:\n",
    "    ds.replace(missing, np.nan, inplace=True)"
   ]
  },
  {
   "cell_type": "markdown",
   "metadata": {},
   "source": [
    "The percentage of null values in each characteristic increases by approximately 9 points, now there is an average percentage of missing values of 13%, which is a low value considering the size of the dataset, therefore it is decided to eliminate the records with a presence of null values."
   ]
  },
  {
   "cell_type": "code",
   "execution_count": 31,
   "metadata": {},
   "outputs": [
    {
     "data": {
      "application/vnd.plotly.v1+json": {
       "config": {
        "plotlyServerURL": "https://plot.ly"
       },
       "data": [
        {
         "alignmentgroup": "True",
         "hovertemplate": "color=Unnamed: 0<br>index=%{x}<br>value=%{y}<extra></extra>",
         "legendgroup": "Unnamed: 0",
         "marker": {
          "color": "#636efa",
          "pattern": {
           "shape": ""
          }
         },
         "name": "Unnamed: 0",
         "offsetgroup": "Unnamed: 0",
         "orientation": "v",
         "showlegend": true,
         "textposition": "auto",
         "type": "bar",
         "x": [
          "Unnamed: 0"
         ],
         "xaxis": "x",
         "y": [
          0
         ],
         "yaxis": "y"
        },
        {
         "alignmentgroup": "True",
         "hovertemplate": "color=index<br>index=%{x}<br>value=%{y}<extra></extra>",
         "legendgroup": "index",
         "marker": {
          "color": "#EF553B",
          "pattern": {
           "shape": ""
          }
         },
         "name": "index",
         "offsetgroup": "index",
         "orientation": "v",
         "showlegend": true,
         "textposition": "auto",
         "type": "bar",
         "x": [
          "index"
         ],
         "xaxis": "x",
         "y": [
          0
         ],
         "yaxis": "y"
        },
        {
         "alignmentgroup": "True",
         "hovertemplate": "color=talk_time<br>index=%{x}<br>value=%{y}<extra></extra>",
         "legendgroup": "talk_time",
         "marker": {
          "color": "#00cc96",
          "pattern": {
           "shape": ""
          }
         },
         "name": "talk_time",
         "offsetgroup": "talk_time",
         "orientation": "v",
         "showlegend": true,
         "textposition": "auto",
         "type": "bar",
         "x": [
          "talk_time"
         ],
         "xaxis": "x",
         "y": [
          12780
         ],
         "yaxis": "y"
        },
        {
         "alignmentgroup": "True",
         "hovertemplate": "color=battery_power<br>index=%{x}<br>value=%{y}<extra></extra>",
         "legendgroup": "battery_power",
         "marker": {
          "color": "#ab63fa",
          "pattern": {
           "shape": ""
          }
         },
         "name": "battery_power",
         "offsetgroup": "battery_power",
         "orientation": "v",
         "showlegend": true,
         "textposition": "auto",
         "type": "bar",
         "x": [
          "battery_power"
         ],
         "xaxis": "x",
         "y": [
          12800
         ],
         "yaxis": "y"
        },
        {
         "alignmentgroup": "True",
         "hovertemplate": "color=pc<br>index=%{x}<br>value=%{y}<extra></extra>",
         "legendgroup": "pc",
         "marker": {
          "color": "#FFA15A",
          "pattern": {
           "shape": ""
          }
         },
         "name": "pc",
         "offsetgroup": "pc",
         "orientation": "v",
         "showlegend": true,
         "textposition": "auto",
         "type": "bar",
         "x": [
          "pc"
         ],
         "xaxis": "x",
         "y": [
          12630
         ],
         "yaxis": "y"
        },
        {
         "alignmentgroup": "True",
         "hovertemplate": "color=three_g<br>index=%{x}<br>value=%{y}<extra></extra>",
         "legendgroup": "three_g",
         "marker": {
          "color": "#19d3f3",
          "pattern": {
           "shape": ""
          }
         },
         "name": "three_g",
         "offsetgroup": "three_g",
         "orientation": "v",
         "showlegend": true,
         "textposition": "auto",
         "type": "bar",
         "x": [
          "three_g"
         ],
         "xaxis": "x",
         "y": [
          12700
         ],
         "yaxis": "y"
        },
        {
         "alignmentgroup": "True",
         "hovertemplate": "color=mobile_wt<br>index=%{x}<br>value=%{y}<extra></extra>",
         "legendgroup": "mobile_wt",
         "marker": {
          "color": "#FF6692",
          "pattern": {
           "shape": ""
          }
         },
         "name": "mobile_wt",
         "offsetgroup": "mobile_wt",
         "orientation": "v",
         "showlegend": true,
         "textposition": "auto",
         "type": "bar",
         "x": [
          "mobile_wt"
         ],
         "xaxis": "x",
         "y": [
          12720
         ],
         "yaxis": "y"
        },
        {
         "alignmentgroup": "True",
         "hovertemplate": "color=px_width<br>index=%{x}<br>value=%{y}<extra></extra>",
         "legendgroup": "px_width",
         "marker": {
          "color": "#B6E880",
          "pattern": {
           "shape": ""
          }
         },
         "name": "px_width",
         "offsetgroup": "px_width",
         "orientation": "v",
         "showlegend": true,
         "textposition": "auto",
         "type": "bar",
         "x": [
          "px_width"
         ],
         "xaxis": "x",
         "y": [
          12800
         ],
         "yaxis": "y"
        },
        {
         "alignmentgroup": "True",
         "hovertemplate": "color=sc_h<br>index=%{x}<br>value=%{y}<extra></extra>",
         "legendgroup": "sc_h",
         "marker": {
          "color": "#FF97FF",
          "pattern": {
           "shape": ""
          }
         },
         "name": "sc_h",
         "offsetgroup": "sc_h",
         "orientation": "v",
         "showlegend": true,
         "textposition": "auto",
         "type": "bar",
         "x": [
          "sc_h"
         ],
         "xaxis": "x",
         "y": [
          12875
         ],
         "yaxis": "y"
        },
        {
         "alignmentgroup": "True",
         "hovertemplate": "color=sc_w<br>index=%{x}<br>value=%{y}<extra></extra>",
         "legendgroup": "sc_w",
         "marker": {
          "color": "#FECB52",
          "pattern": {
           "shape": ""
          }
         },
         "name": "sc_w",
         "offsetgroup": "sc_w",
         "orientation": "v",
         "showlegend": true,
         "textposition": "auto",
         "type": "bar",
         "x": [
          "sc_w"
         ],
         "xaxis": "x",
         "y": [
          12655
         ],
         "yaxis": "y"
        },
        {
         "alignmentgroup": "True",
         "hovertemplate": "color=m_dep<br>index=%{x}<br>value=%{y}<extra></extra>",
         "legendgroup": "m_dep",
         "marker": {
          "color": "#636efa",
          "pattern": {
           "shape": ""
          }
         },
         "name": "m_dep",
         "offsetgroup": "m_dep",
         "orientation": "v",
         "showlegend": true,
         "textposition": "auto",
         "type": "bar",
         "x": [
          "m_dep"
         ],
         "xaxis": "x",
         "y": [
          12815
         ],
         "yaxis": "y"
        },
        {
         "alignmentgroup": "True",
         "hovertemplate": "color=touch_screen<br>index=%{x}<br>value=%{y}<extra></extra>",
         "legendgroup": "touch_screen",
         "marker": {
          "color": "#EF553B",
          "pattern": {
           "shape": ""
          }
         },
         "name": "touch_screen",
         "offsetgroup": "touch_screen",
         "orientation": "v",
         "showlegend": true,
         "textposition": "auto",
         "type": "bar",
         "x": [
          "touch_screen"
         ],
         "xaxis": "x",
         "y": [
          12640
         ],
         "yaxis": "y"
        },
        {
         "alignmentgroup": "True",
         "hovertemplate": "color=fc<br>index=%{x}<br>value=%{y}<extra></extra>",
         "legendgroup": "fc",
         "marker": {
          "color": "#00cc96",
          "pattern": {
           "shape": ""
          }
         },
         "name": "fc",
         "offsetgroup": "fc",
         "orientation": "v",
         "showlegend": true,
         "textposition": "auto",
         "type": "bar",
         "x": [
          "fc"
         ],
         "xaxis": "x",
         "y": [
          12970
         ],
         "yaxis": "y"
        },
        {
         "alignmentgroup": "True",
         "hovertemplate": "color=four_g<br>index=%{x}<br>value=%{y}<extra></extra>",
         "legendgroup": "four_g",
         "marker": {
          "color": "#ab63fa",
          "pattern": {
           "shape": ""
          }
         },
         "name": "four_g",
         "offsetgroup": "four_g",
         "orientation": "v",
         "showlegend": true,
         "textposition": "auto",
         "type": "bar",
         "x": [
          "four_g"
         ],
         "xaxis": "x",
         "y": [
          12945
         ],
         "yaxis": "y"
        },
        {
         "alignmentgroup": "True",
         "hovertemplate": "color=hgv<br>index=%{x}<br>value=%{y}<extra></extra>",
         "legendgroup": "hgv",
         "marker": {
          "color": "#FFA15A",
          "pattern": {
           "shape": ""
          }
         },
         "name": "hgv",
         "offsetgroup": "hgv",
         "orientation": "v",
         "showlegend": true,
         "textposition": "auto",
         "type": "bar",
         "x": [
          "hgv"
         ],
         "xaxis": "x",
         "y": [
          12780
         ],
         "yaxis": "y"
        },
        {
         "alignmentgroup": "True",
         "hovertemplate": "color=price_range<br>index=%{x}<br>value=%{y}<extra></extra>",
         "legendgroup": "price_range",
         "marker": {
          "color": "#19d3f3",
          "pattern": {
           "shape": ""
          }
         },
         "name": "price_range",
         "offsetgroup": "price_range",
         "orientation": "v",
         "showlegend": true,
         "textposition": "auto",
         "type": "bar",
         "x": [
          "price_range"
         ],
         "xaxis": "x",
         "y": [
          13405
         ],
         "yaxis": "y"
        },
        {
         "alignmentgroup": "True",
         "hovertemplate": "color=blue<br>index=%{x}<br>value=%{y}<extra></extra>",
         "legendgroup": "blue",
         "marker": {
          "color": "#FF6692",
          "pattern": {
           "shape": ""
          }
         },
         "name": "blue",
         "offsetgroup": "blue",
         "orientation": "v",
         "showlegend": true,
         "textposition": "auto",
         "type": "bar",
         "x": [
          "blue"
         ],
         "xaxis": "x",
         "y": [
          12985
         ],
         "yaxis": "y"
        },
        {
         "alignmentgroup": "True",
         "hovertemplate": "color=n_cores<br>index=%{x}<br>value=%{y}<extra></extra>",
         "legendgroup": "n_cores",
         "marker": {
          "color": "#B6E880",
          "pattern": {
           "shape": ""
          }
         },
         "name": "n_cores",
         "offsetgroup": "n_cores",
         "orientation": "v",
         "showlegend": true,
         "textposition": "auto",
         "type": "bar",
         "x": [
          "n_cores"
         ],
         "xaxis": "x",
         "y": [
          12755
         ],
         "yaxis": "y"
        },
        {
         "alignmentgroup": "True",
         "hovertemplate": "color=wifi<br>index=%{x}<br>value=%{y}<extra></extra>",
         "legendgroup": "wifi",
         "marker": {
          "color": "#FF97FF",
          "pattern": {
           "shape": ""
          }
         },
         "name": "wifi",
         "offsetgroup": "wifi",
         "orientation": "v",
         "showlegend": true,
         "textposition": "auto",
         "type": "bar",
         "x": [
          "wifi"
         ],
         "xaxis": "x",
         "y": [
          12700
         ],
         "yaxis": "y"
        },
        {
         "alignmentgroup": "True",
         "hovertemplate": "color=dual_sim<br>index=%{x}<br>value=%{y}<extra></extra>",
         "legendgroup": "dual_sim",
         "marker": {
          "color": "#FECB52",
          "pattern": {
           "shape": ""
          }
         },
         "name": "dual_sim",
         "offsetgroup": "dual_sim",
         "orientation": "v",
         "showlegend": true,
         "textposition": "auto",
         "type": "bar",
         "x": [
          "dual_sim"
         ],
         "xaxis": "x",
         "y": [
          12625
         ],
         "yaxis": "y"
        },
        {
         "alignmentgroup": "True",
         "hovertemplate": "color=ram<br>index=%{x}<br>value=%{y}<extra></extra>",
         "legendgroup": "ram",
         "marker": {
          "color": "#636efa",
          "pattern": {
           "shape": ""
          }
         },
         "name": "ram",
         "offsetgroup": "ram",
         "orientation": "v",
         "showlegend": true,
         "textposition": "auto",
         "type": "bar",
         "x": [
          "ram"
         ],
         "xaxis": "x",
         "y": [
          12985
         ],
         "yaxis": "y"
        },
        {
         "alignmentgroup": "True",
         "hovertemplate": "color=int_memory<br>index=%{x}<br>value=%{y}<extra></extra>",
         "legendgroup": "int_memory",
         "marker": {
          "color": "#EF553B",
          "pattern": {
           "shape": ""
          }
         },
         "name": "int_memory",
         "offsetgroup": "int_memory",
         "orientation": "v",
         "showlegend": true,
         "textposition": "auto",
         "type": "bar",
         "x": [
          "int_memory"
         ],
         "xaxis": "x",
         "y": [
          12865
         ],
         "yaxis": "y"
        },
        {
         "alignmentgroup": "True",
         "hovertemplate": "color=px_height<br>index=%{x}<br>value=%{y}<extra></extra>",
         "legendgroup": "px_height",
         "marker": {
          "color": "#00cc96",
          "pattern": {
           "shape": ""
          }
         },
         "name": "px_height",
         "offsetgroup": "px_height",
         "orientation": "v",
         "showlegend": true,
         "textposition": "auto",
         "type": "bar",
         "x": [
          "px_height"
         ],
         "xaxis": "x",
         "y": [
          12865
         ],
         "yaxis": "y"
        },
        {
         "alignmentgroup": "True",
         "hovertemplate": "color=clock_speed<br>index=%{x}<br>value=%{y}<extra></extra>",
         "legendgroup": "clock_speed",
         "marker": {
          "color": "#ab63fa",
          "pattern": {
           "shape": ""
          }
         },
         "name": "clock_speed",
         "offsetgroup": "clock_speed",
         "orientation": "v",
         "showlegend": true,
         "textposition": "auto",
         "type": "bar",
         "x": [
          "clock_speed"
         ],
         "xaxis": "x",
         "y": [
          12725
         ],
         "yaxis": "y"
        }
       ],
       "layout": {
        "barmode": "relative",
        "legend": {
         "title": {
          "text": "color"
         },
         "tracegroupgap": 0
        },
        "template": {
         "data": {
          "bar": [
           {
            "error_x": {
             "color": "#2a3f5f"
            },
            "error_y": {
             "color": "#2a3f5f"
            },
            "marker": {
             "line": {
              "color": "#E5ECF6",
              "width": 0.5
             },
             "pattern": {
              "fillmode": "overlay",
              "size": 10,
              "solidity": 0.2
             }
            },
            "type": "bar"
           }
          ],
          "barpolar": [
           {
            "marker": {
             "line": {
              "color": "#E5ECF6",
              "width": 0.5
             },
             "pattern": {
              "fillmode": "overlay",
              "size": 10,
              "solidity": 0.2
             }
            },
            "type": "barpolar"
           }
          ],
          "carpet": [
           {
            "aaxis": {
             "endlinecolor": "#2a3f5f",
             "gridcolor": "white",
             "linecolor": "white",
             "minorgridcolor": "white",
             "startlinecolor": "#2a3f5f"
            },
            "baxis": {
             "endlinecolor": "#2a3f5f",
             "gridcolor": "white",
             "linecolor": "white",
             "minorgridcolor": "white",
             "startlinecolor": "#2a3f5f"
            },
            "type": "carpet"
           }
          ],
          "choropleth": [
           {
            "colorbar": {
             "outlinewidth": 0,
             "ticks": ""
            },
            "type": "choropleth"
           }
          ],
          "contour": [
           {
            "colorbar": {
             "outlinewidth": 0,
             "ticks": ""
            },
            "colorscale": [
             [
              0,
              "#0d0887"
             ],
             [
              0.1111111111111111,
              "#46039f"
             ],
             [
              0.2222222222222222,
              "#7201a8"
             ],
             [
              0.3333333333333333,
              "#9c179e"
             ],
             [
              0.4444444444444444,
              "#bd3786"
             ],
             [
              0.5555555555555556,
              "#d8576b"
             ],
             [
              0.6666666666666666,
              "#ed7953"
             ],
             [
              0.7777777777777778,
              "#fb9f3a"
             ],
             [
              0.8888888888888888,
              "#fdca26"
             ],
             [
              1,
              "#f0f921"
             ]
            ],
            "type": "contour"
           }
          ],
          "contourcarpet": [
           {
            "colorbar": {
             "outlinewidth": 0,
             "ticks": ""
            },
            "type": "contourcarpet"
           }
          ],
          "heatmap": [
           {
            "colorbar": {
             "outlinewidth": 0,
             "ticks": ""
            },
            "colorscale": [
             [
              0,
              "#0d0887"
             ],
             [
              0.1111111111111111,
              "#46039f"
             ],
             [
              0.2222222222222222,
              "#7201a8"
             ],
             [
              0.3333333333333333,
              "#9c179e"
             ],
             [
              0.4444444444444444,
              "#bd3786"
             ],
             [
              0.5555555555555556,
              "#d8576b"
             ],
             [
              0.6666666666666666,
              "#ed7953"
             ],
             [
              0.7777777777777778,
              "#fb9f3a"
             ],
             [
              0.8888888888888888,
              "#fdca26"
             ],
             [
              1,
              "#f0f921"
             ]
            ],
            "type": "heatmap"
           }
          ],
          "heatmapgl": [
           {
            "colorbar": {
             "outlinewidth": 0,
             "ticks": ""
            },
            "colorscale": [
             [
              0,
              "#0d0887"
             ],
             [
              0.1111111111111111,
              "#46039f"
             ],
             [
              0.2222222222222222,
              "#7201a8"
             ],
             [
              0.3333333333333333,
              "#9c179e"
             ],
             [
              0.4444444444444444,
              "#bd3786"
             ],
             [
              0.5555555555555556,
              "#d8576b"
             ],
             [
              0.6666666666666666,
              "#ed7953"
             ],
             [
              0.7777777777777778,
              "#fb9f3a"
             ],
             [
              0.8888888888888888,
              "#fdca26"
             ],
             [
              1,
              "#f0f921"
             ]
            ],
            "type": "heatmapgl"
           }
          ],
          "histogram": [
           {
            "marker": {
             "pattern": {
              "fillmode": "overlay",
              "size": 10,
              "solidity": 0.2
             }
            },
            "type": "histogram"
           }
          ],
          "histogram2d": [
           {
            "colorbar": {
             "outlinewidth": 0,
             "ticks": ""
            },
            "colorscale": [
             [
              0,
              "#0d0887"
             ],
             [
              0.1111111111111111,
              "#46039f"
             ],
             [
              0.2222222222222222,
              "#7201a8"
             ],
             [
              0.3333333333333333,
              "#9c179e"
             ],
             [
              0.4444444444444444,
              "#bd3786"
             ],
             [
              0.5555555555555556,
              "#d8576b"
             ],
             [
              0.6666666666666666,
              "#ed7953"
             ],
             [
              0.7777777777777778,
              "#fb9f3a"
             ],
             [
              0.8888888888888888,
              "#fdca26"
             ],
             [
              1,
              "#f0f921"
             ]
            ],
            "type": "histogram2d"
           }
          ],
          "histogram2dcontour": [
           {
            "colorbar": {
             "outlinewidth": 0,
             "ticks": ""
            },
            "colorscale": [
             [
              0,
              "#0d0887"
             ],
             [
              0.1111111111111111,
              "#46039f"
             ],
             [
              0.2222222222222222,
              "#7201a8"
             ],
             [
              0.3333333333333333,
              "#9c179e"
             ],
             [
              0.4444444444444444,
              "#bd3786"
             ],
             [
              0.5555555555555556,
              "#d8576b"
             ],
             [
              0.6666666666666666,
              "#ed7953"
             ],
             [
              0.7777777777777778,
              "#fb9f3a"
             ],
             [
              0.8888888888888888,
              "#fdca26"
             ],
             [
              1,
              "#f0f921"
             ]
            ],
            "type": "histogram2dcontour"
           }
          ],
          "mesh3d": [
           {
            "colorbar": {
             "outlinewidth": 0,
             "ticks": ""
            },
            "type": "mesh3d"
           }
          ],
          "parcoords": [
           {
            "line": {
             "colorbar": {
              "outlinewidth": 0,
              "ticks": ""
             }
            },
            "type": "parcoords"
           }
          ],
          "pie": [
           {
            "automargin": true,
            "type": "pie"
           }
          ],
          "scatter": [
           {
            "fillpattern": {
             "fillmode": "overlay",
             "size": 10,
             "solidity": 0.2
            },
            "type": "scatter"
           }
          ],
          "scatter3d": [
           {
            "line": {
             "colorbar": {
              "outlinewidth": 0,
              "ticks": ""
             }
            },
            "marker": {
             "colorbar": {
              "outlinewidth": 0,
              "ticks": ""
             }
            },
            "type": "scatter3d"
           }
          ],
          "scattercarpet": [
           {
            "marker": {
             "colorbar": {
              "outlinewidth": 0,
              "ticks": ""
             }
            },
            "type": "scattercarpet"
           }
          ],
          "scattergeo": [
           {
            "marker": {
             "colorbar": {
              "outlinewidth": 0,
              "ticks": ""
             }
            },
            "type": "scattergeo"
           }
          ],
          "scattergl": [
           {
            "marker": {
             "colorbar": {
              "outlinewidth": 0,
              "ticks": ""
             }
            },
            "type": "scattergl"
           }
          ],
          "scattermapbox": [
           {
            "marker": {
             "colorbar": {
              "outlinewidth": 0,
              "ticks": ""
             }
            },
            "type": "scattermapbox"
           }
          ],
          "scatterpolar": [
           {
            "marker": {
             "colorbar": {
              "outlinewidth": 0,
              "ticks": ""
             }
            },
            "type": "scatterpolar"
           }
          ],
          "scatterpolargl": [
           {
            "marker": {
             "colorbar": {
              "outlinewidth": 0,
              "ticks": ""
             }
            },
            "type": "scatterpolargl"
           }
          ],
          "scatterternary": [
           {
            "marker": {
             "colorbar": {
              "outlinewidth": 0,
              "ticks": ""
             }
            },
            "type": "scatterternary"
           }
          ],
          "surface": [
           {
            "colorbar": {
             "outlinewidth": 0,
             "ticks": ""
            },
            "colorscale": [
             [
              0,
              "#0d0887"
             ],
             [
              0.1111111111111111,
              "#46039f"
             ],
             [
              0.2222222222222222,
              "#7201a8"
             ],
             [
              0.3333333333333333,
              "#9c179e"
             ],
             [
              0.4444444444444444,
              "#bd3786"
             ],
             [
              0.5555555555555556,
              "#d8576b"
             ],
             [
              0.6666666666666666,
              "#ed7953"
             ],
             [
              0.7777777777777778,
              "#fb9f3a"
             ],
             [
              0.8888888888888888,
              "#fdca26"
             ],
             [
              1,
              "#f0f921"
             ]
            ],
            "type": "surface"
           }
          ],
          "table": [
           {
            "cells": {
             "fill": {
              "color": "#EBF0F8"
             },
             "line": {
              "color": "white"
             }
            },
            "header": {
             "fill": {
              "color": "#C8D4E3"
             },
             "line": {
              "color": "white"
             }
            },
            "type": "table"
           }
          ]
         },
         "layout": {
          "annotationdefaults": {
           "arrowcolor": "#2a3f5f",
           "arrowhead": 0,
           "arrowwidth": 1
          },
          "autotypenumbers": "strict",
          "coloraxis": {
           "colorbar": {
            "outlinewidth": 0,
            "ticks": ""
           }
          },
          "colorscale": {
           "diverging": [
            [
             0,
             "#8e0152"
            ],
            [
             0.1,
             "#c51b7d"
            ],
            [
             0.2,
             "#de77ae"
            ],
            [
             0.3,
             "#f1b6da"
            ],
            [
             0.4,
             "#fde0ef"
            ],
            [
             0.5,
             "#f7f7f7"
            ],
            [
             0.6,
             "#e6f5d0"
            ],
            [
             0.7,
             "#b8e186"
            ],
            [
             0.8,
             "#7fbc41"
            ],
            [
             0.9,
             "#4d9221"
            ],
            [
             1,
             "#276419"
            ]
           ],
           "sequential": [
            [
             0,
             "#0d0887"
            ],
            [
             0.1111111111111111,
             "#46039f"
            ],
            [
             0.2222222222222222,
             "#7201a8"
            ],
            [
             0.3333333333333333,
             "#9c179e"
            ],
            [
             0.4444444444444444,
             "#bd3786"
            ],
            [
             0.5555555555555556,
             "#d8576b"
            ],
            [
             0.6666666666666666,
             "#ed7953"
            ],
            [
             0.7777777777777778,
             "#fb9f3a"
            ],
            [
             0.8888888888888888,
             "#fdca26"
            ],
            [
             1,
             "#f0f921"
            ]
           ],
           "sequentialminus": [
            [
             0,
             "#0d0887"
            ],
            [
             0.1111111111111111,
             "#46039f"
            ],
            [
             0.2222222222222222,
             "#7201a8"
            ],
            [
             0.3333333333333333,
             "#9c179e"
            ],
            [
             0.4444444444444444,
             "#bd3786"
            ],
            [
             0.5555555555555556,
             "#d8576b"
            ],
            [
             0.6666666666666666,
             "#ed7953"
            ],
            [
             0.7777777777777778,
             "#fb9f3a"
            ],
            [
             0.8888888888888888,
             "#fdca26"
            ],
            [
             1,
             "#f0f921"
            ]
           ]
          },
          "colorway": [
           "#636efa",
           "#EF553B",
           "#00cc96",
           "#ab63fa",
           "#FFA15A",
           "#19d3f3",
           "#FF6692",
           "#B6E880",
           "#FF97FF",
           "#FECB52"
          ],
          "font": {
           "color": "#2a3f5f"
          },
          "geo": {
           "bgcolor": "white",
           "lakecolor": "white",
           "landcolor": "#E5ECF6",
           "showlakes": true,
           "showland": true,
           "subunitcolor": "white"
          },
          "hoverlabel": {
           "align": "left"
          },
          "hovermode": "closest",
          "mapbox": {
           "style": "light"
          },
          "paper_bgcolor": "white",
          "plot_bgcolor": "#E5ECF6",
          "polar": {
           "angularaxis": {
            "gridcolor": "white",
            "linecolor": "white",
            "ticks": ""
           },
           "bgcolor": "#E5ECF6",
           "radialaxis": {
            "gridcolor": "white",
            "linecolor": "white",
            "ticks": ""
           }
          },
          "scene": {
           "xaxis": {
            "backgroundcolor": "#E5ECF6",
            "gridcolor": "white",
            "gridwidth": 2,
            "linecolor": "white",
            "showbackground": true,
            "ticks": "",
            "zerolinecolor": "white"
           },
           "yaxis": {
            "backgroundcolor": "#E5ECF6",
            "gridcolor": "white",
            "gridwidth": 2,
            "linecolor": "white",
            "showbackground": true,
            "ticks": "",
            "zerolinecolor": "white"
           },
           "zaxis": {
            "backgroundcolor": "#E5ECF6",
            "gridcolor": "white",
            "gridwidth": 2,
            "linecolor": "white",
            "showbackground": true,
            "ticks": "",
            "zerolinecolor": "white"
           }
          },
          "shapedefaults": {
           "line": {
            "color": "#2a3f5f"
           }
          },
          "ternary": {
           "aaxis": {
            "gridcolor": "white",
            "linecolor": "white",
            "ticks": ""
           },
           "baxis": {
            "gridcolor": "white",
            "linecolor": "white",
            "ticks": ""
           },
           "bgcolor": "#E5ECF6",
           "caxis": {
            "gridcolor": "white",
            "linecolor": "white",
            "ticks": ""
           }
          },
          "title": {
           "x": 0.05
          },
          "xaxis": {
           "automargin": true,
           "gridcolor": "white",
           "linecolor": "white",
           "ticks": "",
           "title": {
            "standoff": 15
           },
           "zerolinecolor": "white",
           "zerolinewidth": 2
          },
          "yaxis": {
           "automargin": true,
           "gridcolor": "white",
           "linecolor": "white",
           "ticks": "",
           "title": {
            "standoff": 15
           },
           "zerolinecolor": "white",
           "zerolinewidth": 2
          }
         }
        },
        "title": {
         "text": "Percentage of Missing Values per column"
        },
        "xaxis": {
         "anchor": "y",
         "domain": [
          0,
          1
         ],
         "title": {
          "text": "index"
         }
        },
        "yaxis": {
         "anchor": "x",
         "domain": [
          0,
          1
         ],
         "title": {
          "text": "value"
         }
        }
       }
      }
     },
     "metadata": {},
     "output_type": "display_data"
    }
   ],
   "source": [
    "(ds.isnull().sum()).plot.bar(title = 'Percentage of Missing Values per column',color=ds.columns)"
   ]
  },
  {
   "cell_type": "code",
   "execution_count": 32,
   "metadata": {},
   "outputs": [
    {
     "data": {
      "text/plain": [
       "talk_time        17.087846\n",
       "battery_power    17.114588\n",
       "pc               16.887284\n",
       "three_g          16.980880\n",
       "mobile_wt        17.007621\n",
       "px_width         17.114588\n",
       "sc_h             17.214868\n",
       "sc_w             16.920711\n",
       "m_dep            17.134644\n",
       "touch_screen     16.900655\n",
       "fc               17.341891\n",
       "four_g           17.308464\n",
       "hgv              17.087846\n",
       "price_range      17.923519\n",
       "blue             17.361947\n",
       "n_cores          17.054419\n",
       "wifi             16.980880\n",
       "dual_sim         16.880599\n",
       "ram              17.361947\n",
       "int_memory       17.201498\n",
       "px_height        17.201498\n",
       "clock_speed      17.014307\n",
       "dtype: float64"
      ]
     },
     "execution_count": 32,
     "metadata": {},
     "output_type": "execute_result"
    }
   ],
   "source": [
    "missing = ds.isnull().sum()\n",
    "missing[missing>0]*100/len(ds)"
   ]
  },
  {
   "cell_type": "markdown",
   "metadata": {},
   "source": [
    "The columns present a percentage of missing values of 17%, therefore none is a candidate for elimination."
   ]
  },
  {
   "cell_type": "markdown",
   "metadata": {},
   "source": [
    "#### B) Identify duplicated\n",
    "\n",
    "Knowing that '*_index_*' is a unique indicator of the mobile phone model, it is assumed that mobile phones with the same model number will have the same characteristics.\n",
    "\n",
    "With this in mind, we now check whether the model number of the cell phone is registered more than once."
   ]
  },
  {
   "cell_type": "code",
   "execution_count": 33,
   "metadata": {},
   "outputs": [
    {
     "name": "stdout",
     "output_type": "stream",
     "text": [
      "Duplicated Registers: 72297\n",
      "Unique Registers: 2493\n"
     ]
    }
   ],
   "source": [
    "print( 'Duplicated Registers: ' + str( ds[\"index\"].duplicated().sum() ))\n",
    "print( 'Unique Registers: ' + str( len ( ds[\"index\"].unique() ) ) )"
   ]
  },
  {
   "cell_type": "markdown",
   "metadata": {},
   "source": [
    "There are 2493 unique values in the '*_index_*', which indicates that the dataset has only 2493 mobile phone models and 72297 duplicate records. Therefore these 72297 duplicate records will be eliminated."
   ]
  },
  {
   "cell_type": "markdown",
   "metadata": {},
   "source": [
    "#### C) Dataset cleaning\n",
    "Taking into account the high number of duplicate records, it is decided to eliminate all the records with NaM values, verifying that the number of unique records (2493) is maintained once these records have been eliminated."
   ]
  },
  {
   "cell_type": "code",
   "execution_count": 34,
   "metadata": {},
   "outputs": [
    {
     "name": "stdout",
     "output_type": "stream",
     "text": [
      "<class 'pandas.core.frame.DataFrame'>\n",
      "Int64Index: 12130 entries, 0 to 74782\n",
      "Data columns (total 24 columns):\n",
      " #   Column         Non-Null Count  Dtype \n",
      "---  ------         --------------  ----- \n",
      " 0   Unnamed: 0     12130 non-null  int64 \n",
      " 1   index          12130 non-null  int64 \n",
      " 2   talk_time      12130 non-null  object\n",
      " 3   battery_power  12130 non-null  object\n",
      " 4   pc             12130 non-null  object\n",
      " 5   three_g        12130 non-null  object\n",
      " 6   mobile_wt      12130 non-null  object\n",
      " 7   px_width       12130 non-null  object\n",
      " 8   sc_h           12130 non-null  object\n",
      " 9   sc_w           12130 non-null  object\n",
      " 10  m_dep          12130 non-null  object\n",
      " 11  touch_screen   12130 non-null  object\n",
      " 12  fc             12130 non-null  object\n",
      " 13  four_g         12130 non-null  object\n",
      " 14  hgv            12130 non-null  object\n",
      " 15  price_range    12130 non-null  object\n",
      " 16  blue           12130 non-null  object\n",
      " 17  n_cores        12130 non-null  object\n",
      " 18  wifi           12130 non-null  object\n",
      " 19  dual_sim       12130 non-null  object\n",
      " 20  ram            12130 non-null  object\n",
      " 21  int_memory     12130 non-null  object\n",
      " 22  px_height      12130 non-null  object\n",
      " 23  clock_speed    12130 non-null  object\n",
      "dtypes: int64(2), object(22)\n",
      "memory usage: 2.3+ MB\n"
     ]
    }
   ],
   "source": [
    "ds.dropna(inplace=True,axis=0)\n",
    "ds.info()"
   ]
  },
  {
   "cell_type": "markdown",
   "metadata": {},
   "source": [
    "By eliminating the records with NaN values we were able to reduce the size of the data set to 12130 records."
   ]
  },
  {
   "cell_type": "code",
   "execution_count": 35,
   "metadata": {},
   "outputs": [
    {
     "data": {
      "text/html": [
       "<div>\n",
       "<style scoped>\n",
       "    .dataframe tbody tr th:only-of-type {\n",
       "        vertical-align: middle;\n",
       "    }\n",
       "\n",
       "    .dataframe tbody tr th {\n",
       "        vertical-align: top;\n",
       "    }\n",
       "\n",
       "    .dataframe thead th {\n",
       "        text-align: right;\n",
       "    }\n",
       "</style>\n",
       "<table border=\"1\" class=\"dataframe\">\n",
       "  <thead>\n",
       "    <tr style=\"text-align: right;\">\n",
       "      <th></th>\n",
       "      <th>10762</th>\n",
       "      <th>62633</th>\n",
       "      <th>59993</th>\n",
       "      <th>7813</th>\n",
       "      <th>42021</th>\n",
       "      <th>55081</th>\n",
       "      <th>49100</th>\n",
       "      <th>32064</th>\n",
       "      <th>53252</th>\n",
       "      <th>60175</th>\n",
       "    </tr>\n",
       "  </thead>\n",
       "  <tbody>\n",
       "    <tr>\n",
       "      <th>Unnamed: 0</th>\n",
       "      <td>10762</td>\n",
       "      <td>62633</td>\n",
       "      <td>59993</td>\n",
       "      <td>7813</td>\n",
       "      <td>42021</td>\n",
       "      <td>55081</td>\n",
       "      <td>49100</td>\n",
       "      <td>32064</td>\n",
       "      <td>53252</td>\n",
       "      <td>60175</td>\n",
       "    </tr>\n",
       "    <tr>\n",
       "      <th>index</th>\n",
       "      <td>1566</td>\n",
       "      <td>729</td>\n",
       "      <td>1537</td>\n",
       "      <td>962</td>\n",
       "      <td>1270</td>\n",
       "      <td>2069</td>\n",
       "      <td>437</td>\n",
       "      <td>1970</td>\n",
       "      <td>1131</td>\n",
       "      <td>1933</td>\n",
       "    </tr>\n",
       "    <tr>\n",
       "      <th>talk_time</th>\n",
       "      <td>11.0</td>\n",
       "      <td>6.0</td>\n",
       "      <td>19.0</td>\n",
       "      <td>7.0</td>\n",
       "      <td>14.0</td>\n",
       "      <td>7.0</td>\n",
       "      <td>7.0</td>\n",
       "      <td>8.0</td>\n",
       "      <td>18.0</td>\n",
       "      <td>7.0</td>\n",
       "    </tr>\n",
       "    <tr>\n",
       "      <th>battery_power</th>\n",
       "      <td>1317.0</td>\n",
       "      <td>1135.0</td>\n",
       "      <td>733.0</td>\n",
       "      <td>1660.0</td>\n",
       "      <td>1053.0</td>\n",
       "      <td>625.0</td>\n",
       "      <td>1472.0</td>\n",
       "      <td>1913.0</td>\n",
       "      <td>831.0</td>\n",
       "      <td>897.0</td>\n",
       "    </tr>\n",
       "    <tr>\n",
       "      <th>pc</th>\n",
       "      <td>9.0</td>\n",
       "      <td>11.0</td>\n",
       "      <td>12.0</td>\n",
       "      <td>6.0</td>\n",
       "      <td>17.0</td>\n",
       "      <td>8.0</td>\n",
       "      <td>10.0</td>\n",
       "      <td>4.0</td>\n",
       "      <td>9.0</td>\n",
       "      <td>10.0</td>\n",
       "    </tr>\n",
       "    <tr>\n",
       "      <th>three_g</th>\n",
       "      <td>1.0</td>\n",
       "      <td>1.0</td>\n",
       "      <td>1.0</td>\n",
       "      <td>0.0</td>\n",
       "      <td>0.0</td>\n",
       "      <td>1.0</td>\n",
       "      <td>1.0</td>\n",
       "      <td>1.0</td>\n",
       "      <td>1.0</td>\n",
       "      <td>1.0</td>\n",
       "    </tr>\n",
       "    <tr>\n",
       "      <th>mobile_wt</th>\n",
       "      <td>154.0</td>\n",
       "      <td>158.0</td>\n",
       "      <td>138.0</td>\n",
       "      <td>184.0</td>\n",
       "      <td>126.0</td>\n",
       "      <td>183.0</td>\n",
       "      <td>130.0</td>\n",
       "      <td>111.0</td>\n",
       "      <td>134.0</td>\n",
       "      <td>154.0</td>\n",
       "    </tr>\n",
       "    <tr>\n",
       "      <th>px_width</th>\n",
       "      <td>542.0</td>\n",
       "      <td>1589.0</td>\n",
       "      <td>1787.0</td>\n",
       "      <td>1165.0</td>\n",
       "      <td>1261.0</td>\n",
       "      <td>842.0</td>\n",
       "      <td>1744.0</td>\n",
       "      <td>742.0</td>\n",
       "      <td>1490.0</td>\n",
       "      <td>994.0</td>\n",
       "    </tr>\n",
       "    <tr>\n",
       "      <th>sc_h</th>\n",
       "      <td>7.0</td>\n",
       "      <td>18.0</td>\n",
       "      <td>12.0</td>\n",
       "      <td>12.0</td>\n",
       "      <td>17.0</td>\n",
       "      <td>9.0</td>\n",
       "      <td>12.0</td>\n",
       "      <td>17.0</td>\n",
       "      <td>16.0</td>\n",
       "      <td>7.0</td>\n",
       "    </tr>\n",
       "    <tr>\n",
       "      <th>sc_w</th>\n",
       "      <td>0.0</td>\n",
       "      <td>13.0</td>\n",
       "      <td>0.0</td>\n",
       "      <td>0.0</td>\n",
       "      <td>0.0</td>\n",
       "      <td>1.0</td>\n",
       "      <td>11.0</td>\n",
       "      <td>13.0</td>\n",
       "      <td>12.0</td>\n",
       "      <td>5.0</td>\n",
       "    </tr>\n",
       "    <tr>\n",
       "      <th>m_dep</th>\n",
       "      <td>0.1</td>\n",
       "      <td>0.4</td>\n",
       "      <td>0.4</td>\n",
       "      <td>0.8</td>\n",
       "      <td>0.9</td>\n",
       "      <td>0.2</td>\n",
       "      <td>0.5</td>\n",
       "      <td>0.6</td>\n",
       "      <td>0.7</td>\n",
       "      <td>0.6</td>\n",
       "    </tr>\n",
       "    <tr>\n",
       "      <th>touch_screen</th>\n",
       "      <td>1.0</td>\n",
       "      <td>0.0</td>\n",
       "      <td>1.0</td>\n",
       "      <td>0.0</td>\n",
       "      <td>0.0</td>\n",
       "      <td>1.0</td>\n",
       "      <td>1.0</td>\n",
       "      <td>1.0</td>\n",
       "      <td>0.0</td>\n",
       "      <td>1.0</td>\n",
       "    </tr>\n",
       "    <tr>\n",
       "      <th>fc</th>\n",
       "      <td>6.0</td>\n",
       "      <td>9.0</td>\n",
       "      <td>7.0</td>\n",
       "      <td>4.0</td>\n",
       "      <td>7.0</td>\n",
       "      <td>5.0</td>\n",
       "      <td>1.0</td>\n",
       "      <td>0.0</td>\n",
       "      <td>2.0</td>\n",
       "      <td>3.0</td>\n",
       "    </tr>\n",
       "    <tr>\n",
       "      <th>four_g</th>\n",
       "      <td>0.0</td>\n",
       "      <td>0.0</td>\n",
       "      <td>0.0</td>\n",
       "      <td>0.0</td>\n",
       "      <td>0.0</td>\n",
       "      <td>1.0</td>\n",
       "      <td>0.0</td>\n",
       "      <td>0.0</td>\n",
       "      <td>1.0</td>\n",
       "      <td>1.0</td>\n",
       "    </tr>\n",
       "    <tr>\n",
       "      <th>hgv</th>\n",
       "      <td>11.0</td>\n",
       "      <td>6.0</td>\n",
       "      <td>19.0</td>\n",
       "      <td>7.0</td>\n",
       "      <td>14.0</td>\n",
       "      <td>7.0</td>\n",
       "      <td>7.0</td>\n",
       "      <td>8.0</td>\n",
       "      <td>18.0</td>\n",
       "      <td>7.0</td>\n",
       "    </tr>\n",
       "    <tr>\n",
       "      <th>price_range</th>\n",
       "      <td>0.0</td>\n",
       "      <td>3.0</td>\n",
       "      <td>2.0</td>\n",
       "      <td>1.0</td>\n",
       "      <td>0.0</td>\n",
       "      <td>2.0</td>\n",
       "      <td>1.0</td>\n",
       "      <td>2.0</td>\n",
       "      <td>2.0</td>\n",
       "      <td>1.0</td>\n",
       "    </tr>\n",
       "    <tr>\n",
       "      <th>blue</th>\n",
       "      <td>0.0</td>\n",
       "      <td>1.0</td>\n",
       "      <td>0.0</td>\n",
       "      <td>0.0</td>\n",
       "      <td>0.0</td>\n",
       "      <td>1.0</td>\n",
       "      <td>0.0</td>\n",
       "      <td>1.0</td>\n",
       "      <td>1.0</td>\n",
       "      <td>1.0</td>\n",
       "    </tr>\n",
       "    <tr>\n",
       "      <th>n_cores</th>\n",
       "      <td>2.0</td>\n",
       "      <td>1.0</td>\n",
       "      <td>4.0</td>\n",
       "      <td>1.0</td>\n",
       "      <td>6.0</td>\n",
       "      <td>4.0</td>\n",
       "      <td>6.0</td>\n",
       "      <td>5.0</td>\n",
       "      <td>8.0</td>\n",
       "      <td>8.0</td>\n",
       "    </tr>\n",
       "    <tr>\n",
       "      <th>wifi</th>\n",
       "      <td>1.0</td>\n",
       "      <td>0.0</td>\n",
       "      <td>0.0</td>\n",
       "      <td>0.0</td>\n",
       "      <td>1.0</td>\n",
       "      <td>1.0</td>\n",
       "      <td>0.0</td>\n",
       "      <td>0.0</td>\n",
       "      <td>1.0</td>\n",
       "      <td>0.0</td>\n",
       "    </tr>\n",
       "    <tr>\n",
       "      <th>dual_sim</th>\n",
       "      <td>0.0</td>\n",
       "      <td>1.0</td>\n",
       "      <td>0.0</td>\n",
       "      <td>1.0</td>\n",
       "      <td>0.0</td>\n",
       "      <td>1.0</td>\n",
       "      <td>1.0</td>\n",
       "      <td>0.0</td>\n",
       "      <td>0.0</td>\n",
       "      <td>0.0</td>\n",
       "    </tr>\n",
       "    <tr>\n",
       "      <th>ram</th>\n",
       "      <td>425.0</td>\n",
       "      <td>3204.0</td>\n",
       "      <td>2648.0</td>\n",
       "      <td>1531.0</td>\n",
       "      <td>1339.0</td>\n",
       "      <td>3323.0</td>\n",
       "      <td>985.0</td>\n",
       "      <td>2023.0</td>\n",
       "      <td>2573.0</td>\n",
       "      <td>1958.0</td>\n",
       "    </tr>\n",
       "    <tr>\n",
       "      <th>int_memory</th>\n",
       "      <td>12.0</td>\n",
       "      <td>43.0</td>\n",
       "      <td>16.0</td>\n",
       "      <td>7.0</td>\n",
       "      <td>42.0</td>\n",
       "      <td>10.0</td>\n",
       "      <td>36.0</td>\n",
       "      <td>29.0</td>\n",
       "      <td>62.0</td>\n",
       "      <td>2.0</td>\n",
       "    </tr>\n",
       "    <tr>\n",
       "      <th>px_height</th>\n",
       "      <td>431.0</td>\n",
       "      <td>690.0</td>\n",
       "      <td>202.0</td>\n",
       "      <td>76.0</td>\n",
       "      <td>419.0</td>\n",
       "      <td>635.0</td>\n",
       "      <td>1452.0</td>\n",
       "      <td>675.0</td>\n",
       "      <td>1482.0</td>\n",
       "      <td>0.0</td>\n",
       "    </tr>\n",
       "    <tr>\n",
       "      <th>clock_speed</th>\n",
       "      <td>1.5</td>\n",
       "      <td>2.8</td>\n",
       "      <td>0.8</td>\n",
       "      <td>2.8</td>\n",
       "      <td>2.9</td>\n",
       "      <td>1.2</td>\n",
       "      <td>2.8</td>\n",
       "      <td>1.8</td>\n",
       "      <td>0.7</td>\n",
       "      <td>2.0</td>\n",
       "    </tr>\n",
       "  </tbody>\n",
       "</table>\n",
       "</div>"
      ],
      "text/plain": [
       "                10762   62633   59993   7813    42021   55081   49100   32064  \\\n",
       "Unnamed: 0      10762   62633   59993    7813   42021   55081   49100   32064   \n",
       "index            1566     729    1537     962    1270    2069     437    1970   \n",
       "talk_time        11.0     6.0    19.0     7.0    14.0     7.0     7.0     8.0   \n",
       "battery_power  1317.0  1135.0   733.0  1660.0  1053.0   625.0  1472.0  1913.0   \n",
       "pc                9.0    11.0    12.0     6.0    17.0     8.0    10.0     4.0   \n",
       "three_g           1.0     1.0     1.0     0.0     0.0     1.0     1.0     1.0   \n",
       "mobile_wt       154.0   158.0   138.0   184.0   126.0   183.0   130.0   111.0   \n",
       "px_width        542.0  1589.0  1787.0  1165.0  1261.0   842.0  1744.0   742.0   \n",
       "sc_h              7.0    18.0    12.0    12.0    17.0     9.0    12.0    17.0   \n",
       "sc_w              0.0    13.0     0.0     0.0     0.0     1.0    11.0    13.0   \n",
       "m_dep             0.1     0.4     0.4     0.8     0.9     0.2     0.5     0.6   \n",
       "touch_screen      1.0     0.0     1.0     0.0     0.0     1.0     1.0     1.0   \n",
       "fc                6.0     9.0     7.0     4.0     7.0     5.0     1.0     0.0   \n",
       "four_g            0.0     0.0     0.0     0.0     0.0     1.0     0.0     0.0   \n",
       "hgv              11.0     6.0    19.0     7.0    14.0     7.0     7.0     8.0   \n",
       "price_range       0.0     3.0     2.0     1.0     0.0     2.0     1.0     2.0   \n",
       "blue              0.0     1.0     0.0     0.0     0.0     1.0     0.0     1.0   \n",
       "n_cores           2.0     1.0     4.0     1.0     6.0     4.0     6.0     5.0   \n",
       "wifi              1.0     0.0     0.0     0.0     1.0     1.0     0.0     0.0   \n",
       "dual_sim          0.0     1.0     0.0     1.0     0.0     1.0     1.0     0.0   \n",
       "ram             425.0  3204.0  2648.0  1531.0  1339.0  3323.0   985.0  2023.0   \n",
       "int_memory       12.0    43.0    16.0     7.0    42.0    10.0    36.0    29.0   \n",
       "px_height       431.0   690.0   202.0    76.0   419.0   635.0  1452.0   675.0   \n",
       "clock_speed       1.5     2.8     0.8     2.8     2.9     1.2     2.8     1.8   \n",
       "\n",
       "                53252   60175  \n",
       "Unnamed: 0      53252   60175  \n",
       "index            1131    1933  \n",
       "talk_time        18.0     7.0  \n",
       "battery_power   831.0   897.0  \n",
       "pc                9.0    10.0  \n",
       "three_g           1.0     1.0  \n",
       "mobile_wt       134.0   154.0  \n",
       "px_width       1490.0   994.0  \n",
       "sc_h             16.0     7.0  \n",
       "sc_w             12.0     5.0  \n",
       "m_dep             0.7     0.6  \n",
       "touch_screen      0.0     1.0  \n",
       "fc                2.0     3.0  \n",
       "four_g            1.0     1.0  \n",
       "hgv              18.0     7.0  \n",
       "price_range       2.0     1.0  \n",
       "blue              1.0     1.0  \n",
       "n_cores           8.0     8.0  \n",
       "wifi              1.0     0.0  \n",
       "dual_sim          0.0     0.0  \n",
       "ram            2573.0  1958.0  \n",
       "int_memory       62.0     2.0  \n",
       "px_height      1482.0     0.0  \n",
       "clock_speed       0.7     2.0  "
      ]
     },
     "execution_count": 35,
     "metadata": {},
     "output_type": "execute_result"
    }
   ],
   "source": [
    "ds.sample(10).T"
   ]
  },
  {
   "cell_type": "markdown",
   "metadata": {},
   "source": [
    "Now, we proceed to delete duplicate records in the dataset"
   ]
  },
  {
   "cell_type": "code",
   "execution_count": 36,
   "metadata": {},
   "outputs": [
    {
     "name": "stdout",
     "output_type": "stream",
     "text": [
      "<class 'pandas.core.frame.DataFrame'>\n",
      "Int64Index: 2328 entries, 0 to 14950\n",
      "Data columns (total 24 columns):\n",
      " #   Column         Non-Null Count  Dtype \n",
      "---  ------         --------------  ----- \n",
      " 0   Unnamed: 0     2328 non-null   int64 \n",
      " 1   index          2328 non-null   int64 \n",
      " 2   talk_time      2328 non-null   object\n",
      " 3   battery_power  2328 non-null   object\n",
      " 4   pc             2328 non-null   object\n",
      " 5   three_g        2328 non-null   object\n",
      " 6   mobile_wt      2328 non-null   object\n",
      " 7   px_width       2328 non-null   object\n",
      " 8   sc_h           2328 non-null   object\n",
      " 9   sc_w           2328 non-null   object\n",
      " 10  m_dep          2328 non-null   object\n",
      " 11  touch_screen   2328 non-null   object\n",
      " 12  fc             2328 non-null   object\n",
      " 13  four_g         2328 non-null   object\n",
      " 14  hgv            2328 non-null   object\n",
      " 15  price_range    2328 non-null   object\n",
      " 16  blue           2328 non-null   object\n",
      " 17  n_cores        2328 non-null   object\n",
      " 18  wifi           2328 non-null   object\n",
      " 19  dual_sim       2328 non-null   object\n",
      " 20  ram            2328 non-null   object\n",
      " 21  int_memory     2328 non-null   object\n",
      " 22  px_height      2328 non-null   object\n",
      " 23  clock_speed    2328 non-null   object\n",
      "dtypes: int64(2), object(22)\n",
      "memory usage: 454.7+ KB\n"
     ]
    }
   ],
   "source": [
    "ds.drop_duplicates(subset =\"index\", keep = 'first', inplace = True)\n",
    "ds.info()"
   ]
  },
  {
   "cell_type": "code",
   "execution_count": 37,
   "metadata": {},
   "outputs": [
    {
     "name": "stdout",
     "output_type": "stream",
     "text": [
      "Duplicated Registers: 0\n",
      "Unique Registers: 2328\n",
      "Total missing values in the dataset: 0\n"
     ]
    }
   ],
   "source": [
    "print( 'Duplicated Registers: ' + str( ds[\"index\"].duplicated().sum() ))\n",
    "print( 'Unique Registers: ' + str( len ( ds[\"index\"].unique() ) ) )\n",
    "print(f\"Total missing values in the dataset: {ds.isnull().sum().sum()}\")"
   ]
  },
  {
   "cell_type": "markdown",
   "metadata": {},
   "source": [
    "### Elimination of features that do not provide information\n",
    "\n",
    "The columns _Unnamed:0_ and _index_ are eliminated since they are only numerical identifiers for the cell phone models consulted by Pedro Perez.\n",
    "\n",
    "The _werf_ column is eliminated since it only has a single value in all the records of the dataset."
   ]
  },
  {
   "cell_type": "code",
   "execution_count": 38,
   "metadata": {},
   "outputs": [],
   "source": [
    "ds.drop(['Unnamed: 0', 'index'], axis=1, inplace=True)"
   ]
  },
  {
   "cell_type": "markdown",
   "metadata": {},
   "source": [
    "\n",
    "## 4. Save intermediated transformed data\n",
    "\n",
    "Data without:\n",
    "- Duplicates\n",
    "- Missings values\n",
    "- Non informative data for our taks"
   ]
  },
  {
   "cell_type": "code",
   "execution_count": 43,
   "metadata": {},
   "outputs": [],
   "source": [
    "ds.to_csv('../data/interim/CellPhoneDs_clean.csv', index = False)"
   ]
  },
  {
   "cell_type": "markdown",
   "metadata": {},
   "source": [
    "\n",
    "## 5. Partial Results\n",
    "\n",
    "### Initial raw data:\n",
    "74790 rows, 25 Columns , memory usage: 10.9 MB\n",
    "\n",
    "### After cleaning process\n",
    "2328 rows , 22 Columns , memory usage: 253.8 kB"
   ]
  },
  {
   "cell_type": "markdown",
   "metadata": {},
   "source": [
    "***\n"
   ]
  }
 ],
 "metadata": {
  "kernelspec": {
   "display_name": "Python 3.10.4 64-bit",
   "language": "python",
   "name": "python3"
  },
  "language_info": {
   "codemirror_mode": {
    "name": "ipython",
    "version": 3
   },
   "file_extension": ".py",
   "mimetype": "text/x-python",
   "name": "python",
   "nbconvert_exporter": "python",
   "pygments_lexer": "ipython3",
   "version": "3.8.10"
  },
  "orig_nbformat": 4,
  "vscode": {
   "interpreter": {
    "hash": "916dbcbb3f70747c44a77c7bcd40155683ae19c65e1c03b4aa3499c5328201f1"
   }
  }
 },
 "nbformat": 4,
 "nbformat_minor": 2
}
