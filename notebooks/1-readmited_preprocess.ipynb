{
 "cells": [
  {
   "cell_type": "markdown",
   "metadata": {},
   "source": [
    "Humberto Franco\n",
    "Juan Felipe Padilla\n",
    ". https://github.com/ingHFrancoO\n",
    ". https://github.com/1juanfpg"
   ]
  },
  {
   "cell_type": "markdown",
   "metadata": {},
   "source": [
    "inicio del analisis de los datos."
   ]
  },
  {
   "cell_type": "code",
   "execution_count": 2,
   "metadata": {},
   "outputs": [],
   "source": [
    "#importamos librerias\n",
    "import pandas as pd\n",
    "pd.options.plotting.backend = \"plotly\"\n",
    "import numpy as np"
   ]
  },
  {
   "cell_type": "code",
   "execution_count": 3,
   "metadata": {},
   "outputs": [],
   "source": [
    "# Se importa el data set\n",
    "ds = pd.read_csv(\"../data/raw/CellPhoneDS.csv\")"
   ]
  },
  {
   "cell_type": "code",
   "execution_count": 4,
   "metadata": {},
   "outputs": [
    {
     "name": "stdout",
     "output_type": "stream",
     "text": [
      "<class 'pandas.core.frame.DataFrame'>\n",
      "RangeIndex: 74790 entries, 0 to 74789\n",
      "Data columns (total 25 columns):\n",
      " #   Column         Non-Null Count  Dtype \n",
      "---  ------         --------------  ----- \n",
      " 0   Unnamed: 0     74790 non-null  int64 \n",
      " 1   index          74790 non-null  int64 \n",
      " 2   talk_time      71990 non-null  object\n",
      " 3   battery_power  71970 non-null  object\n",
      " 4   pc             72140 non-null  object\n",
      " 5   three_g        72070 non-null  object\n",
      " 6   mobile_wt      72050 non-null  object\n",
      " 7   px_width       71970 non-null  object\n",
      " 8   sc_h           71895 non-null  object\n",
      " 9   sc_w           72115 non-null  object\n",
      " 10  m_dep          71955 non-null  object\n",
      " 11  touch_screen   72130 non-null  object\n",
      " 12  fc             71800 non-null  object\n",
      " 13  four_g         71825 non-null  object\n",
      " 14  hgv            71990 non-null  object\n",
      " 15  price_range    71365 non-null  object\n",
      " 16  blue           71785 non-null  object\n",
      " 17  n_cores        72015 non-null  object\n",
      " 18  wifi           72070 non-null  object\n",
      " 19  dual_sim       72145 non-null  object\n",
      " 20  ram            71785 non-null  object\n",
      " 21  werf           74790 non-null  int64 \n",
      " 22  int_memory     71905 non-null  object\n",
      " 23  px_height      71905 non-null  object\n",
      " 24  clock_speed    72045 non-null  object\n",
      "dtypes: int64(3), object(22)\n",
      "memory usage: 14.3+ MB\n"
     ]
    }
   ],
   "source": [
    "# Primera verificación de los datos\n",
    "ds.info()"
   ]
  },
  {
   "cell_type": "code",
   "execution_count": 5,
   "metadata": {},
   "outputs": [
    {
     "data": {
      "text/html": [
       "<div>\n",
       "<style scoped>\n",
       "    .dataframe tbody tr th:only-of-type {\n",
       "        vertical-align: middle;\n",
       "    }\n",
       "\n",
       "    .dataframe tbody tr th {\n",
       "        vertical-align: top;\n",
       "    }\n",
       "\n",
       "    .dataframe thead th {\n",
       "        text-align: right;\n",
       "    }\n",
       "</style>\n",
       "<table border=\"1\" class=\"dataframe\">\n",
       "  <thead>\n",
       "    <tr style=\"text-align: right;\">\n",
       "      <th></th>\n",
       "      <th>64099</th>\n",
       "      <th>47846</th>\n",
       "      <th>17332</th>\n",
       "      <th>2437</th>\n",
       "      <th>24036</th>\n",
       "      <th>27317</th>\n",
       "      <th>3750</th>\n",
       "      <th>12097</th>\n",
       "      <th>7532</th>\n",
       "      <th>73445</th>\n",
       "    </tr>\n",
       "  </thead>\n",
       "  <tbody>\n",
       "    <tr>\n",
       "      <th>Unnamed: 0</th>\n",
       "      <td>64099</td>\n",
       "      <td>47846</td>\n",
       "      <td>17332</td>\n",
       "      <td>2437</td>\n",
       "      <td>24036</td>\n",
       "      <td>27317</td>\n",
       "      <td>3750</td>\n",
       "      <td>12097</td>\n",
       "      <td>7532</td>\n",
       "      <td>73445</td>\n",
       "    </tr>\n",
       "    <tr>\n",
       "      <th>index</th>\n",
       "      <td>1870</td>\n",
       "      <td>1153</td>\n",
       "      <td>2281</td>\n",
       "      <td>2422</td>\n",
       "      <td>2120</td>\n",
       "      <td>459</td>\n",
       "      <td>1961</td>\n",
       "      <td>2217</td>\n",
       "      <td>28</td>\n",
       "      <td>252</td>\n",
       "    </tr>\n",
       "    <tr>\n",
       "      <th>talk_time</th>\n",
       "      <td>19.0</td>\n",
       "      <td>8.0</td>\n",
       "      <td>11.0</td>\n",
       "      <td>NaN</td>\n",
       "      <td>5285988458456.0</td>\n",
       "      <td>9.0</td>\n",
       "      <td>20.0</td>\n",
       "      <td>5.0</td>\n",
       "      <td>10.0</td>\n",
       "      <td>7.0</td>\n",
       "    </tr>\n",
       "    <tr>\n",
       "      <th>battery_power</th>\n",
       "      <td>NaN</td>\n",
       "      <td>1526.0</td>\n",
       "      <td>nhbgvfrtd 56gyub</td>\n",
       "      <td>NaN</td>\n",
       "      <td>1452.0</td>\n",
       "      <td>513.0</td>\n",
       "      <td>672.0</td>\n",
       "      <td>728.0</td>\n",
       "      <td>1453.0</td>\n",
       "      <td>708.0</td>\n",
       "    </tr>\n",
       "    <tr>\n",
       "      <th>pc</th>\n",
       "      <td>15.0</td>\n",
       "      <td>6.0</td>\n",
       "      <td>10.0</td>\n",
       "      <td>11.0</td>\n",
       "      <td>5285988458456.0</td>\n",
       "      <td>12.0</td>\n",
       "      <td>20.0</td>\n",
       "      <td>20.0</td>\n",
       "      <td>18.0</td>\n",
       "      <td>7.0</td>\n",
       "    </tr>\n",
       "    <tr>\n",
       "      <th>three_g</th>\n",
       "      <td>0.0</td>\n",
       "      <td>1.0</td>\n",
       "      <td>0.0</td>\n",
       "      <td>1.0</td>\n",
       "      <td>1.0</td>\n",
       "      <td>1.0</td>\n",
       "      <td>1.0</td>\n",
       "      <td>1.0</td>\n",
       "      <td>??????</td>\n",
       "      <td>1.0</td>\n",
       "    </tr>\n",
       "    <tr>\n",
       "      <th>mobile_wt</th>\n",
       "      <td>NaN</td>\n",
       "      <td>116.0</td>\n",
       "      <td>172.0</td>\n",
       "      <td>200.0</td>\n",
       "      <td>123.0</td>\n",
       "      <td>186.0</td>\n",
       "      <td>-948961565145.0</td>\n",
       "      <td>101.0</td>\n",
       "      <td>??????</td>\n",
       "      <td>195.0</td>\n",
       "    </tr>\n",
       "    <tr>\n",
       "      <th>px_width</th>\n",
       "      <td>NaN</td>\n",
       "      <td>1418.0</td>\n",
       "      <td>1634.0</td>\n",
       "      <td>1493.0</td>\n",
       "      <td>1040.0</td>\n",
       "      <td>867.0</td>\n",
       "      <td>1127.0</td>\n",
       "      <td>775.0</td>\n",
       "      <td>1311.0</td>\n",
       "      <td>654.0</td>\n",
       "    </tr>\n",
       "    <tr>\n",
       "      <th>sc_h</th>\n",
       "      <td>NaN</td>\n",
       "      <td>7.0</td>\n",
       "      <td>12.0</td>\n",
       "      <td>NaN</td>\n",
       "      <td>12.0</td>\n",
       "      <td>5.0</td>\n",
       "      <td>14.0</td>\n",
       "      <td>16.0</td>\n",
       "      <td>10.0</td>\n",
       "      <td>6.0</td>\n",
       "    </tr>\n",
       "    <tr>\n",
       "      <th>sc_w</th>\n",
       "      <td>9.0</td>\n",
       "      <td>1.0</td>\n",
       "      <td>6.0</td>\n",
       "      <td>10.0</td>\n",
       "      <td>10.0</td>\n",
       "      <td>1.0</td>\n",
       "      <td>10.0</td>\n",
       "      <td>0.0</td>\n",
       "      <td>1.0</td>\n",
       "      <td>5.0</td>\n",
       "    </tr>\n",
       "    <tr>\n",
       "      <th>m_dep</th>\n",
       "      <td>0.9</td>\n",
       "      <td>0.3</td>\n",
       "      <td>1.0</td>\n",
       "      <td>0.5</td>\n",
       "      <td>0.9</td>\n",
       "      <td>0.1</td>\n",
       "      <td>0.1</td>\n",
       "      <td>0.6</td>\n",
       "      <td>??????</td>\n",
       "      <td>1.0</td>\n",
       "    </tr>\n",
       "    <tr>\n",
       "      <th>touch_screen</th>\n",
       "      <td>0.0</td>\n",
       "      <td>1.0</td>\n",
       "      <td>1.0</td>\n",
       "      <td>0.0</td>\n",
       "      <td>5285988458456.0</td>\n",
       "      <td>1.0</td>\n",
       "      <td>0.0</td>\n",
       "      <td>1.0</td>\n",
       "      <td>1.0</td>\n",
       "      <td>1.0</td>\n",
       "    </tr>\n",
       "    <tr>\n",
       "      <th>fc</th>\n",
       "      <td>8.0</td>\n",
       "      <td>2.0</td>\n",
       "      <td>nhbgvfrtd 56gyub</td>\n",
       "      <td>9.0</td>\n",
       "      <td>5285988458456.0</td>\n",
       "      <td>6.0</td>\n",
       "      <td>13.0</td>\n",
       "      <td>0.0</td>\n",
       "      <td>12.0</td>\n",
       "      <td>0.0</td>\n",
       "    </tr>\n",
       "    <tr>\n",
       "      <th>four_g</th>\n",
       "      <td>NaN</td>\n",
       "      <td>1.0</td>\n",
       "      <td>nhbgvfrtd 56gyub</td>\n",
       "      <td>1.0</td>\n",
       "      <td>5285988458456.0</td>\n",
       "      <td>1.0</td>\n",
       "      <td>0.0</td>\n",
       "      <td>1.0</td>\n",
       "      <td>1.0</td>\n",
       "      <td>??????</td>\n",
       "    </tr>\n",
       "    <tr>\n",
       "      <th>hgv</th>\n",
       "      <td>19.0</td>\n",
       "      <td>8.0</td>\n",
       "      <td>11.0</td>\n",
       "      <td>NaN</td>\n",
       "      <td>5285988458456.0</td>\n",
       "      <td>9.0</td>\n",
       "      <td>20.0</td>\n",
       "      <td>5.0</td>\n",
       "      <td>10.0</td>\n",
       "      <td>7.0</td>\n",
       "    </tr>\n",
       "    <tr>\n",
       "      <th>price_range</th>\n",
       "      <td>NaN</td>\n",
       "      <td>3.0</td>\n",
       "      <td>3.0</td>\n",
       "      <td>1.0</td>\n",
       "      <td>2.0</td>\n",
       "      <td>0.0</td>\n",
       "      <td>-948961565145.0</td>\n",
       "      <td>0.0</td>\n",
       "      <td>2.0</td>\n",
       "      <td>1.0</td>\n",
       "    </tr>\n",
       "    <tr>\n",
       "      <th>blue</th>\n",
       "      <td>0.0</td>\n",
       "      <td>0.0</td>\n",
       "      <td>0.0</td>\n",
       "      <td>NaN</td>\n",
       "      <td>1.0</td>\n",
       "      <td>1.0</td>\n",
       "      <td>1.0</td>\n",
       "      <td>0.0</td>\n",
       "      <td>0.0</td>\n",
       "      <td>1.0</td>\n",
       "    </tr>\n",
       "    <tr>\n",
       "      <th>n_cores</th>\n",
       "      <td>6.0</td>\n",
       "      <td>5.0</td>\n",
       "      <td>5.0</td>\n",
       "      <td>NaN</td>\n",
       "      <td>6.0</td>\n",
       "      <td>4.0</td>\n",
       "      <td>5.0</td>\n",
       "      <td>2.0</td>\n",
       "      <td>2.0</td>\n",
       "      <td>8.0</td>\n",
       "    </tr>\n",
       "    <tr>\n",
       "      <th>wifi</th>\n",
       "      <td>1.0</td>\n",
       "      <td>1.0</td>\n",
       "      <td>1.0</td>\n",
       "      <td>1.0</td>\n",
       "      <td>0.0</td>\n",
       "      <td>0.0</td>\n",
       "      <td>1.0</td>\n",
       "      <td>0.0</td>\n",
       "      <td>1.0</td>\n",
       "      <td>??????</td>\n",
       "    </tr>\n",
       "    <tr>\n",
       "      <th>dual_sim</th>\n",
       "      <td>1.0</td>\n",
       "      <td>1.0</td>\n",
       "      <td>1.0</td>\n",
       "      <td>0.0</td>\n",
       "      <td>1.0</td>\n",
       "      <td>0.0</td>\n",
       "      <td>1.0</td>\n",
       "      <td>1.0</td>\n",
       "      <td>1.0</td>\n",
       "      <td>1.0</td>\n",
       "    </tr>\n",
       "    <tr>\n",
       "      <th>ram</th>\n",
       "      <td>3351.0</td>\n",
       "      <td>3317.0</td>\n",
       "      <td>2676.0</td>\n",
       "      <td>927.0</td>\n",
       "      <td>5285988458456.0</td>\n",
       "      <td>1343.0</td>\n",
       "      <td>1457.0</td>\n",
       "      <td>834.0</td>\n",
       "      <td>2373.0</td>\n",
       "      <td>??????</td>\n",
       "    </tr>\n",
       "    <tr>\n",
       "      <th>werf</th>\n",
       "      <td>9156615</td>\n",
       "      <td>9156615</td>\n",
       "      <td>9156615</td>\n",
       "      <td>9156615</td>\n",
       "      <td>9156615</td>\n",
       "      <td>9156615</td>\n",
       "      <td>9156615</td>\n",
       "      <td>9156615</td>\n",
       "      <td>9156615</td>\n",
       "      <td>9156615</td>\n",
       "    </tr>\n",
       "    <tr>\n",
       "      <th>int_memory</th>\n",
       "      <td>NaN</td>\n",
       "      <td>38.0</td>\n",
       "      <td>23.0</td>\n",
       "      <td>54.0</td>\n",
       "      <td>25.0</td>\n",
       "      <td>44.0</td>\n",
       "      <td>61.0</td>\n",
       "      <td>5.0</td>\n",
       "      <td>??????</td>\n",
       "      <td>63.0</td>\n",
       "    </tr>\n",
       "    <tr>\n",
       "      <th>px_height</th>\n",
       "      <td>209.0</td>\n",
       "      <td>798.0</td>\n",
       "      <td>846.0</td>\n",
       "      <td>475.0</td>\n",
       "      <td>42.0</td>\n",
       "      <td>619.0</td>\n",
       "      <td>724.0</td>\n",
       "      <td>584.0</td>\n",
       "      <td>??????</td>\n",
       "      <td>78.0</td>\n",
       "    </tr>\n",
       "    <tr>\n",
       "      <th>clock_speed</th>\n",
       "      <td>1.7</td>\n",
       "      <td>1.1</td>\n",
       "      <td>1.9</td>\n",
       "      <td>1.2</td>\n",
       "      <td>0.5</td>\n",
       "      <td>0.5</td>\n",
       "      <td>0.6</td>\n",
       "      <td>1.7</td>\n",
       "      <td>1.6</td>\n",
       "      <td>2.7</td>\n",
       "    </tr>\n",
       "  </tbody>\n",
       "</table>\n",
       "</div>"
      ],
      "text/plain": [
       "                 64099    47846             17332    2437             24036  \\\n",
       "Unnamed: 0       64099    47846             17332     2437            24036   \n",
       "index             1870     1153              2281     2422             2120   \n",
       "talk_time         19.0      8.0              11.0      NaN  5285988458456.0   \n",
       "battery_power      NaN   1526.0  nhbgvfrtd 56gyub      NaN           1452.0   \n",
       "pc                15.0      6.0              10.0     11.0  5285988458456.0   \n",
       "three_g            0.0      1.0               0.0      1.0              1.0   \n",
       "mobile_wt          NaN    116.0             172.0    200.0            123.0   \n",
       "px_width           NaN   1418.0            1634.0   1493.0           1040.0   \n",
       "sc_h               NaN      7.0              12.0      NaN             12.0   \n",
       "sc_w               9.0      1.0               6.0     10.0             10.0   \n",
       "m_dep              0.9      0.3               1.0      0.5              0.9   \n",
       "touch_screen       0.0      1.0               1.0      0.0  5285988458456.0   \n",
       "fc                 8.0      2.0  nhbgvfrtd 56gyub      9.0  5285988458456.0   \n",
       "four_g             NaN      1.0  nhbgvfrtd 56gyub      1.0  5285988458456.0   \n",
       "hgv               19.0      8.0              11.0      NaN  5285988458456.0   \n",
       "price_range        NaN      3.0               3.0      1.0              2.0   \n",
       "blue               0.0      0.0               0.0      NaN              1.0   \n",
       "n_cores            6.0      5.0               5.0      NaN              6.0   \n",
       "wifi               1.0      1.0               1.0      1.0              0.0   \n",
       "dual_sim           1.0      1.0               1.0      0.0              1.0   \n",
       "ram             3351.0   3317.0            2676.0    927.0  5285988458456.0   \n",
       "werf           9156615  9156615           9156615  9156615          9156615   \n",
       "int_memory         NaN     38.0              23.0     54.0             25.0   \n",
       "px_height        209.0    798.0             846.0    475.0             42.0   \n",
       "clock_speed        1.7      1.1               1.9      1.2              0.5   \n",
       "\n",
       "                 27317            3750     12097    7532     73445  \n",
       "Unnamed: 0       27317             3750    12097     7532    73445  \n",
       "index              459             1961     2217       28      252  \n",
       "talk_time          9.0             20.0      5.0     10.0      7.0  \n",
       "battery_power    513.0            672.0    728.0   1453.0    708.0  \n",
       "pc                12.0             20.0     20.0     18.0      7.0  \n",
       "three_g            1.0              1.0      1.0   ??????      1.0  \n",
       "mobile_wt        186.0  -948961565145.0    101.0   ??????    195.0  \n",
       "px_width         867.0           1127.0    775.0   1311.0    654.0  \n",
       "sc_h               5.0             14.0     16.0     10.0      6.0  \n",
       "sc_w               1.0             10.0      0.0      1.0      5.0  \n",
       "m_dep              0.1              0.1      0.6   ??????      1.0  \n",
       "touch_screen       1.0              0.0      1.0      1.0      1.0  \n",
       "fc                 6.0             13.0      0.0     12.0      0.0  \n",
       "four_g             1.0              0.0      1.0      1.0   ??????  \n",
       "hgv                9.0             20.0      5.0     10.0      7.0  \n",
       "price_range        0.0  -948961565145.0      0.0      2.0      1.0  \n",
       "blue               1.0              1.0      0.0      0.0      1.0  \n",
       "n_cores            4.0              5.0      2.0      2.0      8.0  \n",
       "wifi               0.0              1.0      0.0      1.0   ??????  \n",
       "dual_sim           0.0              1.0      1.0      1.0      1.0  \n",
       "ram             1343.0           1457.0    834.0   2373.0   ??????  \n",
       "werf           9156615          9156615  9156615  9156615  9156615  \n",
       "int_memory        44.0             61.0      5.0   ??????     63.0  \n",
       "px_height        619.0            724.0    584.0   ??????     78.0  \n",
       "clock_speed        0.5              0.6      1.7      1.6      2.7  "
      ]
     },
     "execution_count": 5,
     "metadata": {},
     "output_type": "execute_result"
    }
   ],
   "source": [
    "# Se mira 10 valores aleatorios para dar un primer vistado al ds\n",
    "ds.sample(10).T"
   ]
  },
  {
   "cell_type": "code",
   "execution_count": 13,
   "metadata": {},
   "outputs": [
    {
     "name": "stdout",
     "output_type": "stream",
     "text": [
      "-------------------------------------------------------------\n",
      "Unnamed: 0 = [    0     1     2 ... 74787 74788 74789]\n",
      "Number option 74790\n",
      "-------------------------------------------------------------\n",
      "index = [1517  911 1493 ... 1192 1495 1181]\n",
      "Number option 2493\n",
      "-------------------------------------------------------------\n",
      "talk_time = ['11.0' '9.0' '3.0' '-948961565145.0' '6.0' 'nhbgvfrtd 56gyub' '12.0'\n",
      " '8.0' '16.0' '20.0' '13.0' '5285988458456.0' '14.0' '7.0' nan '19.0'\n",
      " '10.0' '15.0' '4.0' '18.0' '??????' '17.0' '5.0' '2.0']\n",
      "Number option 24\n",
      "-------------------------------------------------------------\n",
      "battery_power = ['911.0' '1284.0' '1183.0' ... '527.0' '1542.0' '846.0']\n",
      "Number option 1099\n",
      "-------------------------------------------------------------\n",
      "pc = ['4.0' '14.0' 'nhbgvfrtd 56gyub' '9.0' '11.0' '20.0' '1.0' '??????' '0.0'\n",
      " '16.0' '7.0' '5.0' '5285988458456.0' '10.0' '8.0' '12.0' '6.0' '2.0'\n",
      " '13.0' '17.0' '19.0' '18.0' '15.0' '-948961565145.0' nan '3.0']\n",
      "Number option 26\n",
      "-------------------------------------------------------------\n",
      "three_g = ['0.0' '1.0' '??????' 'nhbgvfrtd 56gyub' nan '-948961565145.0'\n",
      " '5285988458456.0']\n",
      "Number option 7\n",
      "-------------------------------------------------------------\n",
      "mobile_wt = ['199.0' '155.0' '120.0' '102.0' '134.0' '88.0' '157.0' '??????' '83.0'\n",
      " '97.0' '198.0' '196.0' '5285988458456.0' '190.0' '181.0' '188.0' '81.0'\n",
      " '160.0' '195.0' nan '89.0' '172.0' '143.0' '130.0' '82.0' '129.0' '182.0'\n",
      " '176.0' '92.0' '164.0' '112.0' '138.0' '137.0' '135.0' '103.0' '85.0'\n",
      " '200.0' '166.0' '148.0' '147.0' '108.0' '144.0' '104.0' '86.0' '101.0'\n",
      " '117.0' '152.0' '197.0' '187.0' '189.0' '111.0' '116.0' '178.0' '122.0'\n",
      " 'nhbgvfrtd 56gyub' '150.0' '153.0' '96.0' '105.0' '149.0' '154.0' '194.0'\n",
      " '118.0' '115.0' '128.0' '161.0' '80.0' '170.0' '-948961565145.0' '173.0'\n",
      " '123.0' '100.0' '106.0' '124.0' '163.0' '126.0' '84.0' '184.0' '139.0'\n",
      " '114.0' '191.0' '159.0' '109.0' '168.0' '107.0' '180.0' '145.0' '121.0'\n",
      " '177.0' '127.0' '165.0' '151.0' '95.0' '146.0' '133.0' '186.0' '192.0'\n",
      " '193.0' '141.0' '93.0' '185.0' '183.0' '119.0' '167.0' '136.0' '175.0'\n",
      " '156.0' '125.0' '169.0' '132.0' '87.0' '142.0' '113.0' '179.0' '162.0'\n",
      " '140.0' '99.0' '94.0' '158.0' '174.0' '90.0' '110.0' '171.0' '91.0'\n",
      " '98.0' '131.0']\n",
      "Number option 126\n",
      "-------------------------------------------------------------\n",
      "px_width = ['1692.0' '-948961565145.0' 'nhbgvfrtd 56gyub' ... '529.0' '1375.0'\n",
      " '1788.0']\n",
      "Number option 1113\n",
      "-------------------------------------------------------------\n",
      "sc_h = ['16.0' 'nhbgvfrtd 56gyub' '7.0' '-948961565145.0' '17.0' '11.0' '5.0'\n",
      " '12.0' nan '19.0' '13.0' '5285988458456.0' '??????' '8.0' '18.0' '6.0'\n",
      " '14.0' '15.0' '10.0' '9.0']\n",
      "Number option 20\n",
      "-------------------------------------------------------------\n",
      "sc_w = ['3.0' '2.0' '0.0' '7.0' '8.0' nan '-948961565145.0' '10.0' '4.0' '??????'\n",
      " '6.0' '5.0' '9.0' '15.0' '13.0' '5285988458456.0' '1.0' '14.0' '11.0'\n",
      " 'nhbgvfrtd 56gyub' '16.0' '17.0' '12.0' '18.0']\n",
      "Number option 24\n",
      "-------------------------------------------------------------\n",
      "m_dep = ['0.7' '-948961565145.0' '0.1' '0.2' '0.3' 'nhbgvfrtd 56gyub' '??????'\n",
      " '0.8' '0.5' nan '0.6' '0.9' '5285988458456.0' '1.0' '0.4']\n",
      "Number option 15\n",
      "-------------------------------------------------------------\n",
      "touch_screen = ['1.0' '0.0' 'nhbgvfrtd 56gyub' nan '??????' '5285988458456.0'\n",
      " '-948961565145.0']\n",
      "Number option 7\n",
      "-------------------------------------------------------------\n",
      "fc = ['3.0' '0.0' nan '8.0' '1.0' 'nhbgvfrtd 56gyub' '7.0' '2.0' '5.0' '??????'\n",
      " '6.0' '-948961565145.0' '5285988458456.0' '4.0' '10.0' '9.0' '17.0'\n",
      " '14.0' '11.0' '15.0' '16.0' '18.0' '12.0' '13.0' '19.0']\n",
      "Number option 25\n",
      "-------------------------------------------------------------\n",
      "four_g = ['0.0' '1.0' '5285988458456.0' nan '-948961565145.0' '??????'\n",
      " 'nhbgvfrtd 56gyub']\n",
      "Number option 7\n",
      "-------------------------------------------------------------\n",
      "hgv = ['11.0' '9.0' '3.0' '-948961565145.0' '6.0' 'nhbgvfrtd 56gyub' '12.0'\n",
      " '8.0' '16.0' '20.0' '13.0' '5285988458456.0' '14.0' '7.0' nan '19.0'\n",
      " '10.0' '15.0' '4.0' '18.0' '??????' '17.0' '5.0' '2.0']\n",
      "Number option 24\n",
      "-------------------------------------------------------------\n",
      "price_range = ['3.0' '1.0' '0.0' 'nhbgvfrtd 56gyub' nan '??????' '2.0' '-948961565145.0'\n",
      " '5285988458456.0']\n",
      "Number option 9\n",
      "-------------------------------------------------------------\n",
      "blue = ['0.0' '1.0' nan '5285988458456.0' '-948961565145.0' 'nhbgvfrtd 56gyub'\n",
      " '??????']\n",
      "Number option 7\n",
      "-------------------------------------------------------------\n",
      "n_cores = ['4.0' '2.0' '8.0' '6.0' '7.0' '5.0' '-948961565145.0' nan '??????'\n",
      " '5285988458456.0' '1.0' '3.0' 'nhbgvfrtd 56gyub']\n",
      "Number option 13\n",
      "-------------------------------------------------------------\n",
      "wifi = ['0.0' '1.0' '-948961565145.0' nan '5285988458456.0' 'nhbgvfrtd 56gyub'\n",
      " '??????']\n",
      "Number option 7\n",
      "-------------------------------------------------------------\n",
      "dual_sim = ['1.0' 'nhbgvfrtd 56gyub' '0.0' '-948961565145.0' '5285988458456.0' nan\n",
      " '??????']\n",
      "Number option 7\n",
      "-------------------------------------------------------------\n",
      "ram = ['2933.0' '2197.0' 'nhbgvfrtd 56gyub' ... '1788.0' '2487.0' '2351.0']\n",
      "Number option 1565\n",
      "-------------------------------------------------------------\n",
      "werf = [9156615]\n",
      "Number option 1\n",
      "-------------------------------------------------------------\n",
      "int_memory = ['14.0' '10.0' 'nhbgvfrtd 56gyub' '63.0' '32.0' '29.0' '49.0' '15.0'\n",
      " '60.0' '6.0' '53.0' '5285988458456.0' nan '57.0' '??????' '18.0' '46.0'\n",
      " '61.0' '26.0' '43.0' '17.0' '45.0' '50.0' '5.0' '4.0' '40.0' '31.0'\n",
      " '21.0' '-948961565145.0' '2.0' '25.0' '28.0' '34.0' '42.0' '36.0' '27.0'\n",
      " '19.0' '16.0' '52.0' '38.0' '37.0' '9.0' '33.0' '8.0' '62.0' '20.0'\n",
      " '51.0' '56.0' '39.0' '30.0' '11.0' '58.0' '7.0' '35.0' '54.0' '12.0'\n",
      " '22.0' '24.0' '59.0' '41.0' '55.0' '3.0' '48.0' '13.0' '47.0' '44.0'\n",
      " '23.0' '64.0']\n",
      "Number option 68\n",
      "-------------------------------------------------------------\n",
      "px_height = ['1563.0' '160.0' '268.0' ... '1406.0' '616.0' '1260.0']\n",
      "Number option 1142\n",
      "-------------------------------------------------------------\n",
      "clock_speed = ['1.4' '2.8' '0.5' '1.6' '2.1' '2.4' '0.7' '1.5' '-948961565145.0' '2.3'\n",
      " '1.1' '2.5' nan '5285988458456.0' 'nhbgvfrtd 56gyub' '2.7' '0.6' '1.3'\n",
      " '2.2' '1.2' '1.0' '0.8' '??????' '2.6' '2.9' '1.9' '0.9' '1.7' '1.8'\n",
      " '3.0' '2.0']\n",
      "Number option 31\n",
      "-------------------------------------------------------------\n"
     ]
    }
   ],
   "source": [
    "# se observan los valores de cada columna\n",
    "\n",
    "print(\"-------------------------------------------------------------\")\n",
    "for col in ds:\n",
    "    print(f\"{col} = {ds[col].unique()}\")\n",
    "    print(\"Number option\",f\"{len(ds[col].unique())}\")\n",
    "    print(\"-------------------------------------------------------------\")"
   ]
  },
  {
   "cell_type": "code",
   "execution_count": 24,
   "metadata": {},
   "outputs": [
    {
     "name": "stdout",
     "output_type": "stream",
     "text": [
      "Defaulting to user installation because normal site-packages is not writeable\n",
      "Requirement already satisfied: nbformat in /home/juan/.local/lib/python3.10/site-packages (5.5.0)\n",
      "Requirement already satisfied: fastjsonschema in /home/juan/.local/lib/python3.10/site-packages (from nbformat) (2.16.1)\n",
      "Requirement already satisfied: jsonschema>=2.6 in /home/juan/.local/lib/python3.10/site-packages (from nbformat) (4.16.0)\n",
      "Requirement already satisfied: traitlets>=5.1 in /home/juan/.local/lib/python3.10/site-packages (from nbformat) (5.4.0)\n",
      "Requirement already satisfied: jupyter_core in /home/juan/.local/lib/python3.10/site-packages (from nbformat) (4.11.1)\n",
      "Requirement already satisfied: attrs>=17.4.0 in /home/juan/.local/lib/python3.10/site-packages (from jsonschema>=2.6->nbformat) (22.1.0)\n",
      "Requirement already satisfied: pyrsistent!=0.17.0,!=0.17.1,!=0.17.2,>=0.14.0 in /home/juan/.local/lib/python3.10/site-packages (from jsonschema>=2.6->nbformat) (0.18.1)\n"
     ]
    },
    {
     "ename": "ValueError",
     "evalue": "Mime type rendering requires nbformat>=4.2.0 but it is not installed",
     "output_type": "error",
     "traceback": [
      "\u001b[0;31m---------------------------------------------------------------------------\u001b[0m",
      "\u001b[0;31mValueError\u001b[0m                                Traceback (most recent call last)",
      "File \u001b[0;32m~/.local/lib/python3.10/site-packages/IPython/core/formatters.py:921\u001b[0m, in \u001b[0;36mIPythonDisplayFormatter.__call__\u001b[0;34m(self, obj)\u001b[0m\n\u001b[1;32m    919\u001b[0m method \u001b[39m=\u001b[39m get_real_method(obj, \u001b[39mself\u001b[39m\u001b[39m.\u001b[39mprint_method)\n\u001b[1;32m    920\u001b[0m \u001b[39mif\u001b[39;00m method \u001b[39mis\u001b[39;00m \u001b[39mnot\u001b[39;00m \u001b[39mNone\u001b[39;00m:\n\u001b[0;32m--> 921\u001b[0m     method()\n\u001b[1;32m    922\u001b[0m     \u001b[39mreturn\u001b[39;00m \u001b[39mTrue\u001b[39;00m\n",
      "File \u001b[0;32m~/.local/lib/python3.10/site-packages/plotly/basedatatypes.py:842\u001b[0m, in \u001b[0;36mBaseFigure._ipython_display_\u001b[0;34m(self)\u001b[0m\n\u001b[1;32m    839\u001b[0m \u001b[39mimport\u001b[39;00m \u001b[39mplotly\u001b[39;00m\u001b[39m.\u001b[39;00m\u001b[39mio\u001b[39;00m \u001b[39mas\u001b[39;00m \u001b[39mpio\u001b[39;00m\n\u001b[1;32m    841\u001b[0m \u001b[39mif\u001b[39;00m pio\u001b[39m.\u001b[39mrenderers\u001b[39m.\u001b[39mrender_on_display \u001b[39mand\u001b[39;00m pio\u001b[39m.\u001b[39mrenderers\u001b[39m.\u001b[39mdefault:\n\u001b[0;32m--> 842\u001b[0m     pio\u001b[39m.\u001b[39;49mshow(\u001b[39mself\u001b[39;49m)\n\u001b[1;32m    843\u001b[0m \u001b[39melse\u001b[39;00m:\n\u001b[1;32m    844\u001b[0m     \u001b[39mprint\u001b[39m(\u001b[39mrepr\u001b[39m(\u001b[39mself\u001b[39m))\n",
      "File \u001b[0;32m~/.local/lib/python3.10/site-packages/plotly/io/_renderers.py:396\u001b[0m, in \u001b[0;36mshow\u001b[0;34m(fig, renderer, validate, **kwargs)\u001b[0m\n\u001b[1;32m    391\u001b[0m         \u001b[39mraise\u001b[39;00m \u001b[39mValueError\u001b[39;00m(\n\u001b[1;32m    392\u001b[0m             \u001b[39m\"\u001b[39m\u001b[39mMime type rendering requires ipython but it is not installed\u001b[39m\u001b[39m\"\u001b[39m\n\u001b[1;32m    393\u001b[0m         )\n\u001b[1;32m    395\u001b[0m     \u001b[39mif\u001b[39;00m \u001b[39mnot\u001b[39;00m nbformat \u001b[39mor\u001b[39;00m LooseVersion(nbformat\u001b[39m.\u001b[39m__version__) \u001b[39m<\u001b[39m LooseVersion(\u001b[39m\"\u001b[39m\u001b[39m4.2.0\u001b[39m\u001b[39m\"\u001b[39m):\n\u001b[0;32m--> 396\u001b[0m         \u001b[39mraise\u001b[39;00m \u001b[39mValueError\u001b[39;00m(\n\u001b[1;32m    397\u001b[0m             \u001b[39m\"\u001b[39m\u001b[39mMime type rendering requires nbformat>=4.2.0 but it is not installed\u001b[39m\u001b[39m\"\u001b[39m\n\u001b[1;32m    398\u001b[0m         )\n\u001b[1;32m    400\u001b[0m     ipython_display\u001b[39m.\u001b[39mdisplay(bundle, raw\u001b[39m=\u001b[39m\u001b[39mTrue\u001b[39;00m)\n\u001b[1;32m    402\u001b[0m \u001b[39m# external renderers\u001b[39;00m\n",
      "\u001b[0;31mValueError\u001b[0m: Mime type rendering requires nbformat>=4.2.0 but it is not installed"
     ]
    },
    {
     "data": {
      "application/vnd.plotly.v1+json": {
       "config": {
        "plotlyServerURL": "https://plot.ly"
       },
       "data": [
        {
         "alignmentgroup": "True",
         "hovertemplate": "color=Unnamed: 0<br>index=%{x}<br>value=%{y}<extra></extra>",
         "legendgroup": "Unnamed: 0",
         "marker": {
          "color": "#636efa",
          "pattern": {
           "shape": ""
          }
         },
         "name": "Unnamed: 0",
         "offsetgroup": "Unnamed: 0",
         "orientation": "v",
         "showlegend": true,
         "textposition": "auto",
         "type": "bar",
         "x": [
          "Unnamed: 0"
         ],
         "xaxis": "x",
         "y": [
          0
         ],
         "yaxis": "y"
        },
        {
         "alignmentgroup": "True",
         "hovertemplate": "color=index<br>index=%{x}<br>value=%{y}<extra></extra>",
         "legendgroup": "index",
         "marker": {
          "color": "#EF553B",
          "pattern": {
           "shape": ""
          }
         },
         "name": "index",
         "offsetgroup": "index",
         "orientation": "v",
         "showlegend": true,
         "textposition": "auto",
         "type": "bar",
         "x": [
          "index"
         ],
         "xaxis": "x",
         "y": [
          0
         ],
         "yaxis": "y"
        },
        {
         "alignmentgroup": "True",
         "hovertemplate": "color=talk_time<br>index=%{x}<br>value=%{y}<extra></extra>",
         "legendgroup": "talk_time",
         "marker": {
          "color": "#00cc96",
          "pattern": {
           "shape": ""
          }
         },
         "name": "talk_time",
         "offsetgroup": "talk_time",
         "orientation": "v",
         "showlegend": true,
         "textposition": "auto",
         "type": "bar",
         "x": [
          "talk_time"
         ],
         "xaxis": "x",
         "y": [
          3.743816018184249
         ],
         "yaxis": "y"
        },
        {
         "alignmentgroup": "True",
         "hovertemplate": "color=battery_power<br>index=%{x}<br>value=%{y}<extra></extra>",
         "legendgroup": "battery_power",
         "marker": {
          "color": "#ab63fa",
          "pattern": {
           "shape": ""
          }
         },
         "name": "battery_power",
         "offsetgroup": "battery_power",
         "orientation": "v",
         "showlegend": true,
         "textposition": "auto",
         "type": "bar",
         "x": [
          "battery_power"
         ],
         "xaxis": "x",
         "y": [
          3.7705575611712794
         ],
         "yaxis": "y"
        },
        {
         "alignmentgroup": "True",
         "hovertemplate": "color=pc<br>index=%{x}<br>value=%{y}<extra></extra>",
         "legendgroup": "pc",
         "marker": {
          "color": "#FFA15A",
          "pattern": {
           "shape": ""
          }
         },
         "name": "pc",
         "offsetgroup": "pc",
         "orientation": "v",
         "showlegend": true,
         "textposition": "auto",
         "type": "bar",
         "x": [
          "pc"
         ],
         "xaxis": "x",
         "y": [
          3.5432544457815216
         ],
         "yaxis": "y"
        },
        {
         "alignmentgroup": "True",
         "hovertemplate": "color=three_g<br>index=%{x}<br>value=%{y}<extra></extra>",
         "legendgroup": "three_g",
         "marker": {
          "color": "#19d3f3",
          "pattern": {
           "shape": ""
          }
         },
         "name": "three_g",
         "offsetgroup": "three_g",
         "orientation": "v",
         "showlegend": true,
         "textposition": "auto",
         "type": "bar",
         "x": [
          "three_g"
         ],
         "xaxis": "x",
         "y": [
          3.6368498462361276
         ],
         "yaxis": "y"
        },
        {
         "alignmentgroup": "True",
         "hovertemplate": "color=mobile_wt<br>index=%{x}<br>value=%{y}<extra></extra>",
         "legendgroup": "mobile_wt",
         "marker": {
          "color": "#FF6692",
          "pattern": {
           "shape": ""
          }
         },
         "name": "mobile_wt",
         "offsetgroup": "mobile_wt",
         "orientation": "v",
         "showlegend": true,
         "textposition": "auto",
         "type": "bar",
         "x": [
          "mobile_wt"
         ],
         "xaxis": "x",
         "y": [
          3.663591389223158
         ],
         "yaxis": "y"
        },
        {
         "alignmentgroup": "True",
         "hovertemplate": "color=px_width<br>index=%{x}<br>value=%{y}<extra></extra>",
         "legendgroup": "px_width",
         "marker": {
          "color": "#B6E880",
          "pattern": {
           "shape": ""
          }
         },
         "name": "px_width",
         "offsetgroup": "px_width",
         "orientation": "v",
         "showlegend": true,
         "textposition": "auto",
         "type": "bar",
         "x": [
          "px_width"
         ],
         "xaxis": "x",
         "y": [
          3.7705575611712794
         ],
         "yaxis": "y"
        },
        {
         "alignmentgroup": "True",
         "hovertemplate": "color=sc_h<br>index=%{x}<br>value=%{y}<extra></extra>",
         "legendgroup": "sc_h",
         "marker": {
          "color": "#FF97FF",
          "pattern": {
           "shape": ""
          }
         },
         "name": "sc_h",
         "offsetgroup": "sc_h",
         "orientation": "v",
         "showlegend": true,
         "textposition": "auto",
         "type": "bar",
         "x": [
          "sc_h"
         ],
         "xaxis": "x",
         "y": [
          3.8708383473726435
         ],
         "yaxis": "y"
        },
        {
         "alignmentgroup": "True",
         "hovertemplate": "color=sc_w<br>index=%{x}<br>value=%{y}<extra></extra>",
         "legendgroup": "sc_w",
         "marker": {
          "color": "#FECB52",
          "pattern": {
           "shape": ""
          }
         },
         "name": "sc_w",
         "offsetgroup": "sc_w",
         "orientation": "v",
         "showlegend": true,
         "textposition": "auto",
         "type": "bar",
         "x": [
          "sc_w"
         ],
         "xaxis": "x",
         "y": [
          3.5766813745153097
         ],
         "yaxis": "y"
        },
        {
         "alignmentgroup": "True",
         "hovertemplate": "color=m_dep<br>index=%{x}<br>value=%{y}<extra></extra>",
         "legendgroup": "m_dep",
         "marker": {
          "color": "#636efa",
          "pattern": {
           "shape": ""
          }
         },
         "name": "m_dep",
         "offsetgroup": "m_dep",
         "orientation": "v",
         "showlegend": true,
         "textposition": "auto",
         "type": "bar",
         "x": [
          "m_dep"
         ],
         "xaxis": "x",
         "y": [
          3.7906137184115525
         ],
         "yaxis": "y"
        },
        {
         "alignmentgroup": "True",
         "hovertemplate": "color=touch_screen<br>index=%{x}<br>value=%{y}<extra></extra>",
         "legendgroup": "touch_screen",
         "marker": {
          "color": "#EF553B",
          "pattern": {
           "shape": ""
          }
         },
         "name": "touch_screen",
         "offsetgroup": "touch_screen",
         "orientation": "v",
         "showlegend": true,
         "textposition": "auto",
         "type": "bar",
         "x": [
          "touch_screen"
         ],
         "xaxis": "x",
         "y": [
          3.5566252172750366
         ],
         "yaxis": "y"
        },
        {
         "alignmentgroup": "True",
         "hovertemplate": "color=fc<br>index=%{x}<br>value=%{y}<extra></extra>",
         "legendgroup": "fc",
         "marker": {
          "color": "#00cc96",
          "pattern": {
           "shape": ""
          }
         },
         "name": "fc",
         "offsetgroup": "fc",
         "orientation": "v",
         "showlegend": true,
         "textposition": "auto",
         "type": "bar",
         "x": [
          "fc"
         ],
         "xaxis": "x",
         "y": [
          3.9978606765610376
         ],
         "yaxis": "y"
        },
        {
         "alignmentgroup": "True",
         "hovertemplate": "color=four_g<br>index=%{x}<br>value=%{y}<extra></extra>",
         "legendgroup": "four_g",
         "marker": {
          "color": "#ab63fa",
          "pattern": {
           "shape": ""
          }
         },
         "name": "four_g",
         "offsetgroup": "four_g",
         "orientation": "v",
         "showlegend": true,
         "textposition": "auto",
         "type": "bar",
         "x": [
          "four_g"
         ],
         "xaxis": "x",
         "y": [
          3.9644337478272496
         ],
         "yaxis": "y"
        },
        {
         "alignmentgroup": "True",
         "hovertemplate": "color=hgv<br>index=%{x}<br>value=%{y}<extra></extra>",
         "legendgroup": "hgv",
         "marker": {
          "color": "#FFA15A",
          "pattern": {
           "shape": ""
          }
         },
         "name": "hgv",
         "offsetgroup": "hgv",
         "orientation": "v",
         "showlegend": true,
         "textposition": "auto",
         "type": "bar",
         "x": [
          "hgv"
         ],
         "xaxis": "x",
         "y": [
          3.743816018184249
         ],
         "yaxis": "y"
        },
        {
         "alignmentgroup": "True",
         "hovertemplate": "color=price_range<br>index=%{x}<br>value=%{y}<extra></extra>",
         "legendgroup": "price_range",
         "marker": {
          "color": "#19d3f3",
          "pattern": {
           "shape": ""
          }
         },
         "name": "price_range",
         "offsetgroup": "price_range",
         "orientation": "v",
         "showlegend": true,
         "textposition": "auto",
         "type": "bar",
         "x": [
          "price_range"
         ],
         "xaxis": "x",
         "y": [
          4.579489236528948
         ],
         "yaxis": "y"
        },
        {
         "alignmentgroup": "True",
         "hovertemplate": "color=blue<br>index=%{x}<br>value=%{y}<extra></extra>",
         "legendgroup": "blue",
         "marker": {
          "color": "#FF6692",
          "pattern": {
           "shape": ""
          }
         },
         "name": "blue",
         "offsetgroup": "blue",
         "orientation": "v",
         "showlegend": true,
         "textposition": "auto",
         "type": "bar",
         "x": [
          "blue"
         ],
         "xaxis": "x",
         "y": [
          4.01791683380131
         ],
         "yaxis": "y"
        },
        {
         "alignmentgroup": "True",
         "hovertemplate": "color=n_cores<br>index=%{x}<br>value=%{y}<extra></extra>",
         "legendgroup": "n_cores",
         "marker": {
          "color": "#B6E880",
          "pattern": {
           "shape": ""
          }
         },
         "name": "n_cores",
         "offsetgroup": "n_cores",
         "orientation": "v",
         "showlegend": true,
         "textposition": "auto",
         "type": "bar",
         "x": [
          "n_cores"
         ],
         "xaxis": "x",
         "y": [
          3.7103890894504614
         ],
         "yaxis": "y"
        },
        {
         "alignmentgroup": "True",
         "hovertemplate": "color=wifi<br>index=%{x}<br>value=%{y}<extra></extra>",
         "legendgroup": "wifi",
         "marker": {
          "color": "#FF97FF",
          "pattern": {
           "shape": ""
          }
         },
         "name": "wifi",
         "offsetgroup": "wifi",
         "orientation": "v",
         "showlegend": true,
         "textposition": "auto",
         "type": "bar",
         "x": [
          "wifi"
         ],
         "xaxis": "x",
         "y": [
          3.6368498462361276
         ],
         "yaxis": "y"
        },
        {
         "alignmentgroup": "True",
         "hovertemplate": "color=dual_sim<br>index=%{x}<br>value=%{y}<extra></extra>",
         "legendgroup": "dual_sim",
         "marker": {
          "color": "#FECB52",
          "pattern": {
           "shape": ""
          }
         },
         "name": "dual_sim",
         "offsetgroup": "dual_sim",
         "orientation": "v",
         "showlegend": true,
         "textposition": "auto",
         "type": "bar",
         "x": [
          "dual_sim"
         ],
         "xaxis": "x",
         "y": [
          3.536569060034764
         ],
         "yaxis": "y"
        },
        {
         "alignmentgroup": "True",
         "hovertemplate": "color=ram<br>index=%{x}<br>value=%{y}<extra></extra>",
         "legendgroup": "ram",
         "marker": {
          "color": "#636efa",
          "pattern": {
           "shape": ""
          }
         },
         "name": "ram",
         "offsetgroup": "ram",
         "orientation": "v",
         "showlegend": true,
         "textposition": "auto",
         "type": "bar",
         "x": [
          "ram"
         ],
         "xaxis": "x",
         "y": [
          4.01791683380131
         ],
         "yaxis": "y"
        },
        {
         "alignmentgroup": "True",
         "hovertemplate": "color=werf<br>index=%{x}<br>value=%{y}<extra></extra>",
         "legendgroup": "werf",
         "marker": {
          "color": "#EF553B",
          "pattern": {
           "shape": ""
          }
         },
         "name": "werf",
         "offsetgroup": "werf",
         "orientation": "v",
         "showlegend": true,
         "textposition": "auto",
         "type": "bar",
         "x": [
          "werf"
         ],
         "xaxis": "x",
         "y": [
          0
         ],
         "yaxis": "y"
        },
        {
         "alignmentgroup": "True",
         "hovertemplate": "color=int_memory<br>index=%{x}<br>value=%{y}<extra></extra>",
         "legendgroup": "int_memory",
         "marker": {
          "color": "#00cc96",
          "pattern": {
           "shape": ""
          }
         },
         "name": "int_memory",
         "offsetgroup": "int_memory",
         "orientation": "v",
         "showlegend": true,
         "textposition": "auto",
         "type": "bar",
         "x": [
          "int_memory"
         ],
         "xaxis": "x",
         "y": [
          3.857467575879128
         ],
         "yaxis": "y"
        },
        {
         "alignmentgroup": "True",
         "hovertemplate": "color=px_height<br>index=%{x}<br>value=%{y}<extra></extra>",
         "legendgroup": "px_height",
         "marker": {
          "color": "#ab63fa",
          "pattern": {
           "shape": ""
          }
         },
         "name": "px_height",
         "offsetgroup": "px_height",
         "orientation": "v",
         "showlegend": true,
         "textposition": "auto",
         "type": "bar",
         "x": [
          "px_height"
         ],
         "xaxis": "x",
         "y": [
          3.857467575879128
         ],
         "yaxis": "y"
        },
        {
         "alignmentgroup": "True",
         "hovertemplate": "color=clock_speed<br>index=%{x}<br>value=%{y}<extra></extra>",
         "legendgroup": "clock_speed",
         "marker": {
          "color": "#FFA15A",
          "pattern": {
           "shape": ""
          }
         },
         "name": "clock_speed",
         "offsetgroup": "clock_speed",
         "orientation": "v",
         "showlegend": true,
         "textposition": "auto",
         "type": "bar",
         "x": [
          "clock_speed"
         ],
         "xaxis": "x",
         "y": [
          3.6702767749699157
         ],
         "yaxis": "y"
        }
       ],
       "layout": {
        "barmode": "relative",
        "legend": {
         "title": {
          "text": "color"
         },
         "tracegroupgap": 0
        },
        "template": {
         "data": {
          "bar": [
           {
            "error_x": {
             "color": "#2a3f5f"
            },
            "error_y": {
             "color": "#2a3f5f"
            },
            "marker": {
             "line": {
              "color": "#E5ECF6",
              "width": 0.5
             },
             "pattern": {
              "fillmode": "overlay",
              "size": 10,
              "solidity": 0.2
             }
            },
            "type": "bar"
           }
          ],
          "barpolar": [
           {
            "marker": {
             "line": {
              "color": "#E5ECF6",
              "width": 0.5
             },
             "pattern": {
              "fillmode": "overlay",
              "size": 10,
              "solidity": 0.2
             }
            },
            "type": "barpolar"
           }
          ],
          "carpet": [
           {
            "aaxis": {
             "endlinecolor": "#2a3f5f",
             "gridcolor": "white",
             "linecolor": "white",
             "minorgridcolor": "white",
             "startlinecolor": "#2a3f5f"
            },
            "baxis": {
             "endlinecolor": "#2a3f5f",
             "gridcolor": "white",
             "linecolor": "white",
             "minorgridcolor": "white",
             "startlinecolor": "#2a3f5f"
            },
            "type": "carpet"
           }
          ],
          "choropleth": [
           {
            "colorbar": {
             "outlinewidth": 0,
             "ticks": ""
            },
            "type": "choropleth"
           }
          ],
          "contour": [
           {
            "colorbar": {
             "outlinewidth": 0,
             "ticks": ""
            },
            "colorscale": [
             [
              0,
              "#0d0887"
             ],
             [
              0.1111111111111111,
              "#46039f"
             ],
             [
              0.2222222222222222,
              "#7201a8"
             ],
             [
              0.3333333333333333,
              "#9c179e"
             ],
             [
              0.4444444444444444,
              "#bd3786"
             ],
             [
              0.5555555555555556,
              "#d8576b"
             ],
             [
              0.6666666666666666,
              "#ed7953"
             ],
             [
              0.7777777777777778,
              "#fb9f3a"
             ],
             [
              0.8888888888888888,
              "#fdca26"
             ],
             [
              1,
              "#f0f921"
             ]
            ],
            "type": "contour"
           }
          ],
          "contourcarpet": [
           {
            "colorbar": {
             "outlinewidth": 0,
             "ticks": ""
            },
            "type": "contourcarpet"
           }
          ],
          "heatmap": [
           {
            "colorbar": {
             "outlinewidth": 0,
             "ticks": ""
            },
            "colorscale": [
             [
              0,
              "#0d0887"
             ],
             [
              0.1111111111111111,
              "#46039f"
             ],
             [
              0.2222222222222222,
              "#7201a8"
             ],
             [
              0.3333333333333333,
              "#9c179e"
             ],
             [
              0.4444444444444444,
              "#bd3786"
             ],
             [
              0.5555555555555556,
              "#d8576b"
             ],
             [
              0.6666666666666666,
              "#ed7953"
             ],
             [
              0.7777777777777778,
              "#fb9f3a"
             ],
             [
              0.8888888888888888,
              "#fdca26"
             ],
             [
              1,
              "#f0f921"
             ]
            ],
            "type": "heatmap"
           }
          ],
          "heatmapgl": [
           {
            "colorbar": {
             "outlinewidth": 0,
             "ticks": ""
            },
            "colorscale": [
             [
              0,
              "#0d0887"
             ],
             [
              0.1111111111111111,
              "#46039f"
             ],
             [
              0.2222222222222222,
              "#7201a8"
             ],
             [
              0.3333333333333333,
              "#9c179e"
             ],
             [
              0.4444444444444444,
              "#bd3786"
             ],
             [
              0.5555555555555556,
              "#d8576b"
             ],
             [
              0.6666666666666666,
              "#ed7953"
             ],
             [
              0.7777777777777778,
              "#fb9f3a"
             ],
             [
              0.8888888888888888,
              "#fdca26"
             ],
             [
              1,
              "#f0f921"
             ]
            ],
            "type": "heatmapgl"
           }
          ],
          "histogram": [
           {
            "marker": {
             "pattern": {
              "fillmode": "overlay",
              "size": 10,
              "solidity": 0.2
             }
            },
            "type": "histogram"
           }
          ],
          "histogram2d": [
           {
            "colorbar": {
             "outlinewidth": 0,
             "ticks": ""
            },
            "colorscale": [
             [
              0,
              "#0d0887"
             ],
             [
              0.1111111111111111,
              "#46039f"
             ],
             [
              0.2222222222222222,
              "#7201a8"
             ],
             [
              0.3333333333333333,
              "#9c179e"
             ],
             [
              0.4444444444444444,
              "#bd3786"
             ],
             [
              0.5555555555555556,
              "#d8576b"
             ],
             [
              0.6666666666666666,
              "#ed7953"
             ],
             [
              0.7777777777777778,
              "#fb9f3a"
             ],
             [
              0.8888888888888888,
              "#fdca26"
             ],
             [
              1,
              "#f0f921"
             ]
            ],
            "type": "histogram2d"
           }
          ],
          "histogram2dcontour": [
           {
            "colorbar": {
             "outlinewidth": 0,
             "ticks": ""
            },
            "colorscale": [
             [
              0,
              "#0d0887"
             ],
             [
              0.1111111111111111,
              "#46039f"
             ],
             [
              0.2222222222222222,
              "#7201a8"
             ],
             [
              0.3333333333333333,
              "#9c179e"
             ],
             [
              0.4444444444444444,
              "#bd3786"
             ],
             [
              0.5555555555555556,
              "#d8576b"
             ],
             [
              0.6666666666666666,
              "#ed7953"
             ],
             [
              0.7777777777777778,
              "#fb9f3a"
             ],
             [
              0.8888888888888888,
              "#fdca26"
             ],
             [
              1,
              "#f0f921"
             ]
            ],
            "type": "histogram2dcontour"
           }
          ],
          "mesh3d": [
           {
            "colorbar": {
             "outlinewidth": 0,
             "ticks": ""
            },
            "type": "mesh3d"
           }
          ],
          "parcoords": [
           {
            "line": {
             "colorbar": {
              "outlinewidth": 0,
              "ticks": ""
             }
            },
            "type": "parcoords"
           }
          ],
          "pie": [
           {
            "automargin": true,
            "type": "pie"
           }
          ],
          "scatter": [
           {
            "fillpattern": {
             "fillmode": "overlay",
             "size": 10,
             "solidity": 0.2
            },
            "type": "scatter"
           }
          ],
          "scatter3d": [
           {
            "line": {
             "colorbar": {
              "outlinewidth": 0,
              "ticks": ""
             }
            },
            "marker": {
             "colorbar": {
              "outlinewidth": 0,
              "ticks": ""
             }
            },
            "type": "scatter3d"
           }
          ],
          "scattercarpet": [
           {
            "marker": {
             "colorbar": {
              "outlinewidth": 0,
              "ticks": ""
             }
            },
            "type": "scattercarpet"
           }
          ],
          "scattergeo": [
           {
            "marker": {
             "colorbar": {
              "outlinewidth": 0,
              "ticks": ""
             }
            },
            "type": "scattergeo"
           }
          ],
          "scattergl": [
           {
            "marker": {
             "colorbar": {
              "outlinewidth": 0,
              "ticks": ""
             }
            },
            "type": "scattergl"
           }
          ],
          "scattermapbox": [
           {
            "marker": {
             "colorbar": {
              "outlinewidth": 0,
              "ticks": ""
             }
            },
            "type": "scattermapbox"
           }
          ],
          "scatterpolar": [
           {
            "marker": {
             "colorbar": {
              "outlinewidth": 0,
              "ticks": ""
             }
            },
            "type": "scatterpolar"
           }
          ],
          "scatterpolargl": [
           {
            "marker": {
             "colorbar": {
              "outlinewidth": 0,
              "ticks": ""
             }
            },
            "type": "scatterpolargl"
           }
          ],
          "scatterternary": [
           {
            "marker": {
             "colorbar": {
              "outlinewidth": 0,
              "ticks": ""
             }
            },
            "type": "scatterternary"
           }
          ],
          "surface": [
           {
            "colorbar": {
             "outlinewidth": 0,
             "ticks": ""
            },
            "colorscale": [
             [
              0,
              "#0d0887"
             ],
             [
              0.1111111111111111,
              "#46039f"
             ],
             [
              0.2222222222222222,
              "#7201a8"
             ],
             [
              0.3333333333333333,
              "#9c179e"
             ],
             [
              0.4444444444444444,
              "#bd3786"
             ],
             [
              0.5555555555555556,
              "#d8576b"
             ],
             [
              0.6666666666666666,
              "#ed7953"
             ],
             [
              0.7777777777777778,
              "#fb9f3a"
             ],
             [
              0.8888888888888888,
              "#fdca26"
             ],
             [
              1,
              "#f0f921"
             ]
            ],
            "type": "surface"
           }
          ],
          "table": [
           {
            "cells": {
             "fill": {
              "color": "#EBF0F8"
             },
             "line": {
              "color": "white"
             }
            },
            "header": {
             "fill": {
              "color": "#C8D4E3"
             },
             "line": {
              "color": "white"
             }
            },
            "type": "table"
           }
          ]
         },
         "layout": {
          "annotationdefaults": {
           "arrowcolor": "#2a3f5f",
           "arrowhead": 0,
           "arrowwidth": 1
          },
          "autotypenumbers": "strict",
          "coloraxis": {
           "colorbar": {
            "outlinewidth": 0,
            "ticks": ""
           }
          },
          "colorscale": {
           "diverging": [
            [
             0,
             "#8e0152"
            ],
            [
             0.1,
             "#c51b7d"
            ],
            [
             0.2,
             "#de77ae"
            ],
            [
             0.3,
             "#f1b6da"
            ],
            [
             0.4,
             "#fde0ef"
            ],
            [
             0.5,
             "#f7f7f7"
            ],
            [
             0.6,
             "#e6f5d0"
            ],
            [
             0.7,
             "#b8e186"
            ],
            [
             0.8,
             "#7fbc41"
            ],
            [
             0.9,
             "#4d9221"
            ],
            [
             1,
             "#276419"
            ]
           ],
           "sequential": [
            [
             0,
             "#0d0887"
            ],
            [
             0.1111111111111111,
             "#46039f"
            ],
            [
             0.2222222222222222,
             "#7201a8"
            ],
            [
             0.3333333333333333,
             "#9c179e"
            ],
            [
             0.4444444444444444,
             "#bd3786"
            ],
            [
             0.5555555555555556,
             "#d8576b"
            ],
            [
             0.6666666666666666,
             "#ed7953"
            ],
            [
             0.7777777777777778,
             "#fb9f3a"
            ],
            [
             0.8888888888888888,
             "#fdca26"
            ],
            [
             1,
             "#f0f921"
            ]
           ],
           "sequentialminus": [
            [
             0,
             "#0d0887"
            ],
            [
             0.1111111111111111,
             "#46039f"
            ],
            [
             0.2222222222222222,
             "#7201a8"
            ],
            [
             0.3333333333333333,
             "#9c179e"
            ],
            [
             0.4444444444444444,
             "#bd3786"
            ],
            [
             0.5555555555555556,
             "#d8576b"
            ],
            [
             0.6666666666666666,
             "#ed7953"
            ],
            [
             0.7777777777777778,
             "#fb9f3a"
            ],
            [
             0.8888888888888888,
             "#fdca26"
            ],
            [
             1,
             "#f0f921"
            ]
           ]
          },
          "colorway": [
           "#636efa",
           "#EF553B",
           "#00cc96",
           "#ab63fa",
           "#FFA15A",
           "#19d3f3",
           "#FF6692",
           "#B6E880",
           "#FF97FF",
           "#FECB52"
          ],
          "font": {
           "color": "#2a3f5f"
          },
          "geo": {
           "bgcolor": "white",
           "lakecolor": "white",
           "landcolor": "#E5ECF6",
           "showlakes": true,
           "showland": true,
           "subunitcolor": "white"
          },
          "hoverlabel": {
           "align": "left"
          },
          "hovermode": "closest",
          "mapbox": {
           "style": "light"
          },
          "paper_bgcolor": "white",
          "plot_bgcolor": "#E5ECF6",
          "polar": {
           "angularaxis": {
            "gridcolor": "white",
            "linecolor": "white",
            "ticks": ""
           },
           "bgcolor": "#E5ECF6",
           "radialaxis": {
            "gridcolor": "white",
            "linecolor": "white",
            "ticks": ""
           }
          },
          "scene": {
           "xaxis": {
            "backgroundcolor": "#E5ECF6",
            "gridcolor": "white",
            "gridwidth": 2,
            "linecolor": "white",
            "showbackground": true,
            "ticks": "",
            "zerolinecolor": "white"
           },
           "yaxis": {
            "backgroundcolor": "#E5ECF6",
            "gridcolor": "white",
            "gridwidth": 2,
            "linecolor": "white",
            "showbackground": true,
            "ticks": "",
            "zerolinecolor": "white"
           },
           "zaxis": {
            "backgroundcolor": "#E5ECF6",
            "gridcolor": "white",
            "gridwidth": 2,
            "linecolor": "white",
            "showbackground": true,
            "ticks": "",
            "zerolinecolor": "white"
           }
          },
          "shapedefaults": {
           "line": {
            "color": "#2a3f5f"
           }
          },
          "ternary": {
           "aaxis": {
            "gridcolor": "white",
            "linecolor": "white",
            "ticks": ""
           },
           "baxis": {
            "gridcolor": "white",
            "linecolor": "white",
            "ticks": ""
           },
           "bgcolor": "#E5ECF6",
           "caxis": {
            "gridcolor": "white",
            "linecolor": "white",
            "ticks": ""
           }
          },
          "title": {
           "x": 0.05
          },
          "xaxis": {
           "automargin": true,
           "gridcolor": "white",
           "linecolor": "white",
           "ticks": "",
           "title": {
            "standoff": 15
           },
           "zerolinecolor": "white",
           "zerolinewidth": 2
          },
          "yaxis": {
           "automargin": true,
           "gridcolor": "white",
           "linecolor": "white",
           "ticks": "",
           "title": {
            "standoff": 15
           },
           "zerolinecolor": "white",
           "zerolinewidth": 2
          }
         }
        },
        "title": {
         "text": "Percentage of Missing Values per column"
        },
        "xaxis": {
         "anchor": "y",
         "domain": [
          0,
          1
         ],
         "title": {
          "text": "index"
         }
        },
        "yaxis": {
         "anchor": "x",
         "domain": [
          0,
          1
         ],
         "title": {
          "text": "value"
         }
        }
       }
      },
      "text/html": [
       "<div>                        <script type=\"text/javascript\">window.PlotlyConfig = {MathJaxConfig: 'local'};</script>\n",
       "        <script src=\"https://cdn.plot.ly/plotly-2.14.0.min.js\"></script>                <div id=\"11f33ca2-3d90-43ad-a4ea-1d72cbea9394\" class=\"plotly-graph-div\" style=\"height:100%; width:100%;\"></div>            <script type=\"text/javascript\">                                    window.PLOTLYENV=window.PLOTLYENV || {};                                    if (document.getElementById(\"11f33ca2-3d90-43ad-a4ea-1d72cbea9394\")) {                    Plotly.newPlot(                        \"11f33ca2-3d90-43ad-a4ea-1d72cbea9394\",                        [{\"alignmentgroup\":\"True\",\"hovertemplate\":\"color=Unnamed: 0<br>index=%{x}<br>value=%{y}<extra></extra>\",\"legendgroup\":\"Unnamed: 0\",\"marker\":{\"color\":\"#636efa\",\"pattern\":{\"shape\":\"\"}},\"name\":\"Unnamed: 0\",\"offsetgroup\":\"Unnamed: 0\",\"orientation\":\"v\",\"showlegend\":true,\"textposition\":\"auto\",\"x\":[\"Unnamed: 0\"],\"xaxis\":\"x\",\"y\":[0.0],\"yaxis\":\"y\",\"type\":\"bar\"},{\"alignmentgroup\":\"True\",\"hovertemplate\":\"color=index<br>index=%{x}<br>value=%{y}<extra></extra>\",\"legendgroup\":\"index\",\"marker\":{\"color\":\"#EF553B\",\"pattern\":{\"shape\":\"\"}},\"name\":\"index\",\"offsetgroup\":\"index\",\"orientation\":\"v\",\"showlegend\":true,\"textposition\":\"auto\",\"x\":[\"index\"],\"xaxis\":\"x\",\"y\":[0.0],\"yaxis\":\"y\",\"type\":\"bar\"},{\"alignmentgroup\":\"True\",\"hovertemplate\":\"color=talk_time<br>index=%{x}<br>value=%{y}<extra></extra>\",\"legendgroup\":\"talk_time\",\"marker\":{\"color\":\"#00cc96\",\"pattern\":{\"shape\":\"\"}},\"name\":\"talk_time\",\"offsetgroup\":\"talk_time\",\"orientation\":\"v\",\"showlegend\":true,\"textposition\":\"auto\",\"x\":[\"talk_time\"],\"xaxis\":\"x\",\"y\":[3.743816018184249],\"yaxis\":\"y\",\"type\":\"bar\"},{\"alignmentgroup\":\"True\",\"hovertemplate\":\"color=battery_power<br>index=%{x}<br>value=%{y}<extra></extra>\",\"legendgroup\":\"battery_power\",\"marker\":{\"color\":\"#ab63fa\",\"pattern\":{\"shape\":\"\"}},\"name\":\"battery_power\",\"offsetgroup\":\"battery_power\",\"orientation\":\"v\",\"showlegend\":true,\"textposition\":\"auto\",\"x\":[\"battery_power\"],\"xaxis\":\"x\",\"y\":[3.7705575611712794],\"yaxis\":\"y\",\"type\":\"bar\"},{\"alignmentgroup\":\"True\",\"hovertemplate\":\"color=pc<br>index=%{x}<br>value=%{y}<extra></extra>\",\"legendgroup\":\"pc\",\"marker\":{\"color\":\"#FFA15A\",\"pattern\":{\"shape\":\"\"}},\"name\":\"pc\",\"offsetgroup\":\"pc\",\"orientation\":\"v\",\"showlegend\":true,\"textposition\":\"auto\",\"x\":[\"pc\"],\"xaxis\":\"x\",\"y\":[3.5432544457815216],\"yaxis\":\"y\",\"type\":\"bar\"},{\"alignmentgroup\":\"True\",\"hovertemplate\":\"color=three_g<br>index=%{x}<br>value=%{y}<extra></extra>\",\"legendgroup\":\"three_g\",\"marker\":{\"color\":\"#19d3f3\",\"pattern\":{\"shape\":\"\"}},\"name\":\"three_g\",\"offsetgroup\":\"three_g\",\"orientation\":\"v\",\"showlegend\":true,\"textposition\":\"auto\",\"x\":[\"three_g\"],\"xaxis\":\"x\",\"y\":[3.6368498462361276],\"yaxis\":\"y\",\"type\":\"bar\"},{\"alignmentgroup\":\"True\",\"hovertemplate\":\"color=mobile_wt<br>index=%{x}<br>value=%{y}<extra></extra>\",\"legendgroup\":\"mobile_wt\",\"marker\":{\"color\":\"#FF6692\",\"pattern\":{\"shape\":\"\"}},\"name\":\"mobile_wt\",\"offsetgroup\":\"mobile_wt\",\"orientation\":\"v\",\"showlegend\":true,\"textposition\":\"auto\",\"x\":[\"mobile_wt\"],\"xaxis\":\"x\",\"y\":[3.663591389223158],\"yaxis\":\"y\",\"type\":\"bar\"},{\"alignmentgroup\":\"True\",\"hovertemplate\":\"color=px_width<br>index=%{x}<br>value=%{y}<extra></extra>\",\"legendgroup\":\"px_width\",\"marker\":{\"color\":\"#B6E880\",\"pattern\":{\"shape\":\"\"}},\"name\":\"px_width\",\"offsetgroup\":\"px_width\",\"orientation\":\"v\",\"showlegend\":true,\"textposition\":\"auto\",\"x\":[\"px_width\"],\"xaxis\":\"x\",\"y\":[3.7705575611712794],\"yaxis\":\"y\",\"type\":\"bar\"},{\"alignmentgroup\":\"True\",\"hovertemplate\":\"color=sc_h<br>index=%{x}<br>value=%{y}<extra></extra>\",\"legendgroup\":\"sc_h\",\"marker\":{\"color\":\"#FF97FF\",\"pattern\":{\"shape\":\"\"}},\"name\":\"sc_h\",\"offsetgroup\":\"sc_h\",\"orientation\":\"v\",\"showlegend\":true,\"textposition\":\"auto\",\"x\":[\"sc_h\"],\"xaxis\":\"x\",\"y\":[3.8708383473726435],\"yaxis\":\"y\",\"type\":\"bar\"},{\"alignmentgroup\":\"True\",\"hovertemplate\":\"color=sc_w<br>index=%{x}<br>value=%{y}<extra></extra>\",\"legendgroup\":\"sc_w\",\"marker\":{\"color\":\"#FECB52\",\"pattern\":{\"shape\":\"\"}},\"name\":\"sc_w\",\"offsetgroup\":\"sc_w\",\"orientation\":\"v\",\"showlegend\":true,\"textposition\":\"auto\",\"x\":[\"sc_w\"],\"xaxis\":\"x\",\"y\":[3.5766813745153097],\"yaxis\":\"y\",\"type\":\"bar\"},{\"alignmentgroup\":\"True\",\"hovertemplate\":\"color=m_dep<br>index=%{x}<br>value=%{y}<extra></extra>\",\"legendgroup\":\"m_dep\",\"marker\":{\"color\":\"#636efa\",\"pattern\":{\"shape\":\"\"}},\"name\":\"m_dep\",\"offsetgroup\":\"m_dep\",\"orientation\":\"v\",\"showlegend\":true,\"textposition\":\"auto\",\"x\":[\"m_dep\"],\"xaxis\":\"x\",\"y\":[3.7906137184115525],\"yaxis\":\"y\",\"type\":\"bar\"},{\"alignmentgroup\":\"True\",\"hovertemplate\":\"color=touch_screen<br>index=%{x}<br>value=%{y}<extra></extra>\",\"legendgroup\":\"touch_screen\",\"marker\":{\"color\":\"#EF553B\",\"pattern\":{\"shape\":\"\"}},\"name\":\"touch_screen\",\"offsetgroup\":\"touch_screen\",\"orientation\":\"v\",\"showlegend\":true,\"textposition\":\"auto\",\"x\":[\"touch_screen\"],\"xaxis\":\"x\",\"y\":[3.5566252172750366],\"yaxis\":\"y\",\"type\":\"bar\"},{\"alignmentgroup\":\"True\",\"hovertemplate\":\"color=fc<br>index=%{x}<br>value=%{y}<extra></extra>\",\"legendgroup\":\"fc\",\"marker\":{\"color\":\"#00cc96\",\"pattern\":{\"shape\":\"\"}},\"name\":\"fc\",\"offsetgroup\":\"fc\",\"orientation\":\"v\",\"showlegend\":true,\"textposition\":\"auto\",\"x\":[\"fc\"],\"xaxis\":\"x\",\"y\":[3.9978606765610376],\"yaxis\":\"y\",\"type\":\"bar\"},{\"alignmentgroup\":\"True\",\"hovertemplate\":\"color=four_g<br>index=%{x}<br>value=%{y}<extra></extra>\",\"legendgroup\":\"four_g\",\"marker\":{\"color\":\"#ab63fa\",\"pattern\":{\"shape\":\"\"}},\"name\":\"four_g\",\"offsetgroup\":\"four_g\",\"orientation\":\"v\",\"showlegend\":true,\"textposition\":\"auto\",\"x\":[\"four_g\"],\"xaxis\":\"x\",\"y\":[3.9644337478272496],\"yaxis\":\"y\",\"type\":\"bar\"},{\"alignmentgroup\":\"True\",\"hovertemplate\":\"color=hgv<br>index=%{x}<br>value=%{y}<extra></extra>\",\"legendgroup\":\"hgv\",\"marker\":{\"color\":\"#FFA15A\",\"pattern\":{\"shape\":\"\"}},\"name\":\"hgv\",\"offsetgroup\":\"hgv\",\"orientation\":\"v\",\"showlegend\":true,\"textposition\":\"auto\",\"x\":[\"hgv\"],\"xaxis\":\"x\",\"y\":[3.743816018184249],\"yaxis\":\"y\",\"type\":\"bar\"},{\"alignmentgroup\":\"True\",\"hovertemplate\":\"color=price_range<br>index=%{x}<br>value=%{y}<extra></extra>\",\"legendgroup\":\"price_range\",\"marker\":{\"color\":\"#19d3f3\",\"pattern\":{\"shape\":\"\"}},\"name\":\"price_range\",\"offsetgroup\":\"price_range\",\"orientation\":\"v\",\"showlegend\":true,\"textposition\":\"auto\",\"x\":[\"price_range\"],\"xaxis\":\"x\",\"y\":[4.579489236528948],\"yaxis\":\"y\",\"type\":\"bar\"},{\"alignmentgroup\":\"True\",\"hovertemplate\":\"color=blue<br>index=%{x}<br>value=%{y}<extra></extra>\",\"legendgroup\":\"blue\",\"marker\":{\"color\":\"#FF6692\",\"pattern\":{\"shape\":\"\"}},\"name\":\"blue\",\"offsetgroup\":\"blue\",\"orientation\":\"v\",\"showlegend\":true,\"textposition\":\"auto\",\"x\":[\"blue\"],\"xaxis\":\"x\",\"y\":[4.01791683380131],\"yaxis\":\"y\",\"type\":\"bar\"},{\"alignmentgroup\":\"True\",\"hovertemplate\":\"color=n_cores<br>index=%{x}<br>value=%{y}<extra></extra>\",\"legendgroup\":\"n_cores\",\"marker\":{\"color\":\"#B6E880\",\"pattern\":{\"shape\":\"\"}},\"name\":\"n_cores\",\"offsetgroup\":\"n_cores\",\"orientation\":\"v\",\"showlegend\":true,\"textposition\":\"auto\",\"x\":[\"n_cores\"],\"xaxis\":\"x\",\"y\":[3.7103890894504614],\"yaxis\":\"y\",\"type\":\"bar\"},{\"alignmentgroup\":\"True\",\"hovertemplate\":\"color=wifi<br>index=%{x}<br>value=%{y}<extra></extra>\",\"legendgroup\":\"wifi\",\"marker\":{\"color\":\"#FF97FF\",\"pattern\":{\"shape\":\"\"}},\"name\":\"wifi\",\"offsetgroup\":\"wifi\",\"orientation\":\"v\",\"showlegend\":true,\"textposition\":\"auto\",\"x\":[\"wifi\"],\"xaxis\":\"x\",\"y\":[3.6368498462361276],\"yaxis\":\"y\",\"type\":\"bar\"},{\"alignmentgroup\":\"True\",\"hovertemplate\":\"color=dual_sim<br>index=%{x}<br>value=%{y}<extra></extra>\",\"legendgroup\":\"dual_sim\",\"marker\":{\"color\":\"#FECB52\",\"pattern\":{\"shape\":\"\"}},\"name\":\"dual_sim\",\"offsetgroup\":\"dual_sim\",\"orientation\":\"v\",\"showlegend\":true,\"textposition\":\"auto\",\"x\":[\"dual_sim\"],\"xaxis\":\"x\",\"y\":[3.536569060034764],\"yaxis\":\"y\",\"type\":\"bar\"},{\"alignmentgroup\":\"True\",\"hovertemplate\":\"color=ram<br>index=%{x}<br>value=%{y}<extra></extra>\",\"legendgroup\":\"ram\",\"marker\":{\"color\":\"#636efa\",\"pattern\":{\"shape\":\"\"}},\"name\":\"ram\",\"offsetgroup\":\"ram\",\"orientation\":\"v\",\"showlegend\":true,\"textposition\":\"auto\",\"x\":[\"ram\"],\"xaxis\":\"x\",\"y\":[4.01791683380131],\"yaxis\":\"y\",\"type\":\"bar\"},{\"alignmentgroup\":\"True\",\"hovertemplate\":\"color=werf<br>index=%{x}<br>value=%{y}<extra></extra>\",\"legendgroup\":\"werf\",\"marker\":{\"color\":\"#EF553B\",\"pattern\":{\"shape\":\"\"}},\"name\":\"werf\",\"offsetgroup\":\"werf\",\"orientation\":\"v\",\"showlegend\":true,\"textposition\":\"auto\",\"x\":[\"werf\"],\"xaxis\":\"x\",\"y\":[0.0],\"yaxis\":\"y\",\"type\":\"bar\"},{\"alignmentgroup\":\"True\",\"hovertemplate\":\"color=int_memory<br>index=%{x}<br>value=%{y}<extra></extra>\",\"legendgroup\":\"int_memory\",\"marker\":{\"color\":\"#00cc96\",\"pattern\":{\"shape\":\"\"}},\"name\":\"int_memory\",\"offsetgroup\":\"int_memory\",\"orientation\":\"v\",\"showlegend\":true,\"textposition\":\"auto\",\"x\":[\"int_memory\"],\"xaxis\":\"x\",\"y\":[3.857467575879128],\"yaxis\":\"y\",\"type\":\"bar\"},{\"alignmentgroup\":\"True\",\"hovertemplate\":\"color=px_height<br>index=%{x}<br>value=%{y}<extra></extra>\",\"legendgroup\":\"px_height\",\"marker\":{\"color\":\"#ab63fa\",\"pattern\":{\"shape\":\"\"}},\"name\":\"px_height\",\"offsetgroup\":\"px_height\",\"orientation\":\"v\",\"showlegend\":true,\"textposition\":\"auto\",\"x\":[\"px_height\"],\"xaxis\":\"x\",\"y\":[3.857467575879128],\"yaxis\":\"y\",\"type\":\"bar\"},{\"alignmentgroup\":\"True\",\"hovertemplate\":\"color=clock_speed<br>index=%{x}<br>value=%{y}<extra></extra>\",\"legendgroup\":\"clock_speed\",\"marker\":{\"color\":\"#FFA15A\",\"pattern\":{\"shape\":\"\"}},\"name\":\"clock_speed\",\"offsetgroup\":\"clock_speed\",\"orientation\":\"v\",\"showlegend\":true,\"textposition\":\"auto\",\"x\":[\"clock_speed\"],\"xaxis\":\"x\",\"y\":[3.6702767749699157],\"yaxis\":\"y\",\"type\":\"bar\"}],                        {\"template\":{\"data\":{\"histogram2dcontour\":[{\"type\":\"histogram2dcontour\",\"colorbar\":{\"outlinewidth\":0,\"ticks\":\"\"},\"colorscale\":[[0.0,\"#0d0887\"],[0.1111111111111111,\"#46039f\"],[0.2222222222222222,\"#7201a8\"],[0.3333333333333333,\"#9c179e\"],[0.4444444444444444,\"#bd3786\"],[0.5555555555555556,\"#d8576b\"],[0.6666666666666666,\"#ed7953\"],[0.7777777777777778,\"#fb9f3a\"],[0.8888888888888888,\"#fdca26\"],[1.0,\"#f0f921\"]]}],\"choropleth\":[{\"type\":\"choropleth\",\"colorbar\":{\"outlinewidth\":0,\"ticks\":\"\"}}],\"histogram2d\":[{\"type\":\"histogram2d\",\"colorbar\":{\"outlinewidth\":0,\"ticks\":\"\"},\"colorscale\":[[0.0,\"#0d0887\"],[0.1111111111111111,\"#46039f\"],[0.2222222222222222,\"#7201a8\"],[0.3333333333333333,\"#9c179e\"],[0.4444444444444444,\"#bd3786\"],[0.5555555555555556,\"#d8576b\"],[0.6666666666666666,\"#ed7953\"],[0.7777777777777778,\"#fb9f3a\"],[0.8888888888888888,\"#fdca26\"],[1.0,\"#f0f921\"]]}],\"heatmap\":[{\"type\":\"heatmap\",\"colorbar\":{\"outlinewidth\":0,\"ticks\":\"\"},\"colorscale\":[[0.0,\"#0d0887\"],[0.1111111111111111,\"#46039f\"],[0.2222222222222222,\"#7201a8\"],[0.3333333333333333,\"#9c179e\"],[0.4444444444444444,\"#bd3786\"],[0.5555555555555556,\"#d8576b\"],[0.6666666666666666,\"#ed7953\"],[0.7777777777777778,\"#fb9f3a\"],[0.8888888888888888,\"#fdca26\"],[1.0,\"#f0f921\"]]}],\"heatmapgl\":[{\"type\":\"heatmapgl\",\"colorbar\":{\"outlinewidth\":0,\"ticks\":\"\"},\"colorscale\":[[0.0,\"#0d0887\"],[0.1111111111111111,\"#46039f\"],[0.2222222222222222,\"#7201a8\"],[0.3333333333333333,\"#9c179e\"],[0.4444444444444444,\"#bd3786\"],[0.5555555555555556,\"#d8576b\"],[0.6666666666666666,\"#ed7953\"],[0.7777777777777778,\"#fb9f3a\"],[0.8888888888888888,\"#fdca26\"],[1.0,\"#f0f921\"]]}],\"contourcarpet\":[{\"type\":\"contourcarpet\",\"colorbar\":{\"outlinewidth\":0,\"ticks\":\"\"}}],\"contour\":[{\"type\":\"contour\",\"colorbar\":{\"outlinewidth\":0,\"ticks\":\"\"},\"colorscale\":[[0.0,\"#0d0887\"],[0.1111111111111111,\"#46039f\"],[0.2222222222222222,\"#7201a8\"],[0.3333333333333333,\"#9c179e\"],[0.4444444444444444,\"#bd3786\"],[0.5555555555555556,\"#d8576b\"],[0.6666666666666666,\"#ed7953\"],[0.7777777777777778,\"#fb9f3a\"],[0.8888888888888888,\"#fdca26\"],[1.0,\"#f0f921\"]]}],\"surface\":[{\"type\":\"surface\",\"colorbar\":{\"outlinewidth\":0,\"ticks\":\"\"},\"colorscale\":[[0.0,\"#0d0887\"],[0.1111111111111111,\"#46039f\"],[0.2222222222222222,\"#7201a8\"],[0.3333333333333333,\"#9c179e\"],[0.4444444444444444,\"#bd3786\"],[0.5555555555555556,\"#d8576b\"],[0.6666666666666666,\"#ed7953\"],[0.7777777777777778,\"#fb9f3a\"],[0.8888888888888888,\"#fdca26\"],[1.0,\"#f0f921\"]]}],\"mesh3d\":[{\"type\":\"mesh3d\",\"colorbar\":{\"outlinewidth\":0,\"ticks\":\"\"}}],\"scatter\":[{\"fillpattern\":{\"fillmode\":\"overlay\",\"size\":10,\"solidity\":0.2},\"type\":\"scatter\"}],\"parcoords\":[{\"type\":\"parcoords\",\"line\":{\"colorbar\":{\"outlinewidth\":0,\"ticks\":\"\"}}}],\"scatterpolargl\":[{\"type\":\"scatterpolargl\",\"marker\":{\"colorbar\":{\"outlinewidth\":0,\"ticks\":\"\"}}}],\"bar\":[{\"error_x\":{\"color\":\"#2a3f5f\"},\"error_y\":{\"color\":\"#2a3f5f\"},\"marker\":{\"line\":{\"color\":\"#E5ECF6\",\"width\":0.5},\"pattern\":{\"fillmode\":\"overlay\",\"size\":10,\"solidity\":0.2}},\"type\":\"bar\"}],\"scattergeo\":[{\"type\":\"scattergeo\",\"marker\":{\"colorbar\":{\"outlinewidth\":0,\"ticks\":\"\"}}}],\"scatterpolar\":[{\"type\":\"scatterpolar\",\"marker\":{\"colorbar\":{\"outlinewidth\":0,\"ticks\":\"\"}}}],\"histogram\":[{\"marker\":{\"pattern\":{\"fillmode\":\"overlay\",\"size\":10,\"solidity\":0.2}},\"type\":\"histogram\"}],\"scattergl\":[{\"type\":\"scattergl\",\"marker\":{\"colorbar\":{\"outlinewidth\":0,\"ticks\":\"\"}}}],\"scatter3d\":[{\"type\":\"scatter3d\",\"line\":{\"colorbar\":{\"outlinewidth\":0,\"ticks\":\"\"}},\"marker\":{\"colorbar\":{\"outlinewidth\":0,\"ticks\":\"\"}}}],\"scattermapbox\":[{\"type\":\"scattermapbox\",\"marker\":{\"colorbar\":{\"outlinewidth\":0,\"ticks\":\"\"}}}],\"scatterternary\":[{\"type\":\"scatterternary\",\"marker\":{\"colorbar\":{\"outlinewidth\":0,\"ticks\":\"\"}}}],\"scattercarpet\":[{\"type\":\"scattercarpet\",\"marker\":{\"colorbar\":{\"outlinewidth\":0,\"ticks\":\"\"}}}],\"carpet\":[{\"aaxis\":{\"endlinecolor\":\"#2a3f5f\",\"gridcolor\":\"white\",\"linecolor\":\"white\",\"minorgridcolor\":\"white\",\"startlinecolor\":\"#2a3f5f\"},\"baxis\":{\"endlinecolor\":\"#2a3f5f\",\"gridcolor\":\"white\",\"linecolor\":\"white\",\"minorgridcolor\":\"white\",\"startlinecolor\":\"#2a3f5f\"},\"type\":\"carpet\"}],\"table\":[{\"cells\":{\"fill\":{\"color\":\"#EBF0F8\"},\"line\":{\"color\":\"white\"}},\"header\":{\"fill\":{\"color\":\"#C8D4E3\"},\"line\":{\"color\":\"white\"}},\"type\":\"table\"}],\"barpolar\":[{\"marker\":{\"line\":{\"color\":\"#E5ECF6\",\"width\":0.5},\"pattern\":{\"fillmode\":\"overlay\",\"size\":10,\"solidity\":0.2}},\"type\":\"barpolar\"}],\"pie\":[{\"automargin\":true,\"type\":\"pie\"}]},\"layout\":{\"autotypenumbers\":\"strict\",\"colorway\":[\"#636efa\",\"#EF553B\",\"#00cc96\",\"#ab63fa\",\"#FFA15A\",\"#19d3f3\",\"#FF6692\",\"#B6E880\",\"#FF97FF\",\"#FECB52\"],\"font\":{\"color\":\"#2a3f5f\"},\"hovermode\":\"closest\",\"hoverlabel\":{\"align\":\"left\"},\"paper_bgcolor\":\"white\",\"plot_bgcolor\":\"#E5ECF6\",\"polar\":{\"bgcolor\":\"#E5ECF6\",\"angularaxis\":{\"gridcolor\":\"white\",\"linecolor\":\"white\",\"ticks\":\"\"},\"radialaxis\":{\"gridcolor\":\"white\",\"linecolor\":\"white\",\"ticks\":\"\"}},\"ternary\":{\"bgcolor\":\"#E5ECF6\",\"aaxis\":{\"gridcolor\":\"white\",\"linecolor\":\"white\",\"ticks\":\"\"},\"baxis\":{\"gridcolor\":\"white\",\"linecolor\":\"white\",\"ticks\":\"\"},\"caxis\":{\"gridcolor\":\"white\",\"linecolor\":\"white\",\"ticks\":\"\"}},\"coloraxis\":{\"colorbar\":{\"outlinewidth\":0,\"ticks\":\"\"}},\"colorscale\":{\"sequential\":[[0.0,\"#0d0887\"],[0.1111111111111111,\"#46039f\"],[0.2222222222222222,\"#7201a8\"],[0.3333333333333333,\"#9c179e\"],[0.4444444444444444,\"#bd3786\"],[0.5555555555555556,\"#d8576b\"],[0.6666666666666666,\"#ed7953\"],[0.7777777777777778,\"#fb9f3a\"],[0.8888888888888888,\"#fdca26\"],[1.0,\"#f0f921\"]],\"sequentialminus\":[[0.0,\"#0d0887\"],[0.1111111111111111,\"#46039f\"],[0.2222222222222222,\"#7201a8\"],[0.3333333333333333,\"#9c179e\"],[0.4444444444444444,\"#bd3786\"],[0.5555555555555556,\"#d8576b\"],[0.6666666666666666,\"#ed7953\"],[0.7777777777777778,\"#fb9f3a\"],[0.8888888888888888,\"#fdca26\"],[1.0,\"#f0f921\"]],\"diverging\":[[0,\"#8e0152\"],[0.1,\"#c51b7d\"],[0.2,\"#de77ae\"],[0.3,\"#f1b6da\"],[0.4,\"#fde0ef\"],[0.5,\"#f7f7f7\"],[0.6,\"#e6f5d0\"],[0.7,\"#b8e186\"],[0.8,\"#7fbc41\"],[0.9,\"#4d9221\"],[1,\"#276419\"]]},\"xaxis\":{\"gridcolor\":\"white\",\"linecolor\":\"white\",\"ticks\":\"\",\"title\":{\"standoff\":15},\"zerolinecolor\":\"white\",\"automargin\":true,\"zerolinewidth\":2},\"yaxis\":{\"gridcolor\":\"white\",\"linecolor\":\"white\",\"ticks\":\"\",\"title\":{\"standoff\":15},\"zerolinecolor\":\"white\",\"automargin\":true,\"zerolinewidth\":2},\"scene\":{\"xaxis\":{\"backgroundcolor\":\"#E5ECF6\",\"gridcolor\":\"white\",\"linecolor\":\"white\",\"showbackground\":true,\"ticks\":\"\",\"zerolinecolor\":\"white\",\"gridwidth\":2},\"yaxis\":{\"backgroundcolor\":\"#E5ECF6\",\"gridcolor\":\"white\",\"linecolor\":\"white\",\"showbackground\":true,\"ticks\":\"\",\"zerolinecolor\":\"white\",\"gridwidth\":2},\"zaxis\":{\"backgroundcolor\":\"#E5ECF6\",\"gridcolor\":\"white\",\"linecolor\":\"white\",\"showbackground\":true,\"ticks\":\"\",\"zerolinecolor\":\"white\",\"gridwidth\":2}},\"shapedefaults\":{\"line\":{\"color\":\"#2a3f5f\"}},\"annotationdefaults\":{\"arrowcolor\":\"#2a3f5f\",\"arrowhead\":0,\"arrowwidth\":1},\"geo\":{\"bgcolor\":\"white\",\"landcolor\":\"#E5ECF6\",\"subunitcolor\":\"white\",\"showland\":true,\"showlakes\":true,\"lakecolor\":\"white\"},\"title\":{\"x\":0.05},\"mapbox\":{\"style\":\"light\"}}},\"xaxis\":{\"anchor\":\"y\",\"domain\":[0.0,1.0],\"title\":{\"text\":\"index\"}},\"yaxis\":{\"anchor\":\"x\",\"domain\":[0.0,1.0],\"title\":{\"text\":\"value\"}},\"legend\":{\"title\":{\"text\":\"color\"},\"tracegroupgap\":0},\"title\":{\"text\":\"Percentage of Missing Values per column\"},\"barmode\":\"relative\"},                        {\"responsive\": true}                    )                };                            </script>        </div>"
      ],
      "text/plain": [
       "Figure({\n",
       "    'data': [{'alignmentgroup': 'True',\n",
       "              'hovertemplate': 'color=Unnamed: 0<br>index=%{x}<br>value=%{y}<extra></extra>',\n",
       "              'legendgroup': 'Unnamed: 0',\n",
       "              'marker': {'color': '#636efa', 'pattern': {'shape': ''}},\n",
       "              'name': 'Unnamed: 0',\n",
       "              'offsetgroup': 'Unnamed: 0',\n",
       "              'orientation': 'v',\n",
       "              'showlegend': True,\n",
       "              'textposition': 'auto',\n",
       "              'type': 'bar',\n",
       "              'x': array(['Unnamed: 0'], dtype=object),\n",
       "              'xaxis': 'x',\n",
       "              'y': array([0.]),\n",
       "              'yaxis': 'y'},\n",
       "             {'alignmentgroup': 'True',\n",
       "              'hovertemplate': 'color=index<br>index=%{x}<br>value=%{y}<extra></extra>',\n",
       "              'legendgroup': 'index',\n",
       "              'marker': {'color': '#EF553B', 'pattern': {'shape': ''}},\n",
       "              'name': 'index',\n",
       "              'offsetgroup': 'index',\n",
       "              'orientation': 'v',\n",
       "              'showlegend': True,\n",
       "              'textposition': 'auto',\n",
       "              'type': 'bar',\n",
       "              'x': array(['index'], dtype=object),\n",
       "              'xaxis': 'x',\n",
       "              'y': array([0.]),\n",
       "              'yaxis': 'y'},\n",
       "             {'alignmentgroup': 'True',\n",
       "              'hovertemplate': 'color=talk_time<br>index=%{x}<br>value=%{y}<extra></extra>',\n",
       "              'legendgroup': 'talk_time',\n",
       "              'marker': {'color': '#00cc96', 'pattern': {'shape': ''}},\n",
       "              'name': 'talk_time',\n",
       "              'offsetgroup': 'talk_time',\n",
       "              'orientation': 'v',\n",
       "              'showlegend': True,\n",
       "              'textposition': 'auto',\n",
       "              'type': 'bar',\n",
       "              'x': array(['talk_time'], dtype=object),\n",
       "              'xaxis': 'x',\n",
       "              'y': array([3.74381602]),\n",
       "              'yaxis': 'y'},\n",
       "             {'alignmentgroup': 'True',\n",
       "              'hovertemplate': 'color=battery_power<br>index=%{x}<br>value=%{y}<extra></extra>',\n",
       "              'legendgroup': 'battery_power',\n",
       "              'marker': {'color': '#ab63fa', 'pattern': {'shape': ''}},\n",
       "              'name': 'battery_power',\n",
       "              'offsetgroup': 'battery_power',\n",
       "              'orientation': 'v',\n",
       "              'showlegend': True,\n",
       "              'textposition': 'auto',\n",
       "              'type': 'bar',\n",
       "              'x': array(['battery_power'], dtype=object),\n",
       "              'xaxis': 'x',\n",
       "              'y': array([3.77055756]),\n",
       "              'yaxis': 'y'},\n",
       "             {'alignmentgroup': 'True',\n",
       "              'hovertemplate': 'color=pc<br>index=%{x}<br>value=%{y}<extra></extra>',\n",
       "              'legendgroup': 'pc',\n",
       "              'marker': {'color': '#FFA15A', 'pattern': {'shape': ''}},\n",
       "              'name': 'pc',\n",
       "              'offsetgroup': 'pc',\n",
       "              'orientation': 'v',\n",
       "              'showlegend': True,\n",
       "              'textposition': 'auto',\n",
       "              'type': 'bar',\n",
       "              'x': array(['pc'], dtype=object),\n",
       "              'xaxis': 'x',\n",
       "              'y': array([3.54325445]),\n",
       "              'yaxis': 'y'},\n",
       "             {'alignmentgroup': 'True',\n",
       "              'hovertemplate': 'color=three_g<br>index=%{x}<br>value=%{y}<extra></extra>',\n",
       "              'legendgroup': 'three_g',\n",
       "              'marker': {'color': '#19d3f3', 'pattern': {'shape': ''}},\n",
       "              'name': 'three_g',\n",
       "              'offsetgroup': 'three_g',\n",
       "              'orientation': 'v',\n",
       "              'showlegend': True,\n",
       "              'textposition': 'auto',\n",
       "              'type': 'bar',\n",
       "              'x': array(['three_g'], dtype=object),\n",
       "              'xaxis': 'x',\n",
       "              'y': array([3.63684985]),\n",
       "              'yaxis': 'y'},\n",
       "             {'alignmentgroup': 'True',\n",
       "              'hovertemplate': 'color=mobile_wt<br>index=%{x}<br>value=%{y}<extra></extra>',\n",
       "              'legendgroup': 'mobile_wt',\n",
       "              'marker': {'color': '#FF6692', 'pattern': {'shape': ''}},\n",
       "              'name': 'mobile_wt',\n",
       "              'offsetgroup': 'mobile_wt',\n",
       "              'orientation': 'v',\n",
       "              'showlegend': True,\n",
       "              'textposition': 'auto',\n",
       "              'type': 'bar',\n",
       "              'x': array(['mobile_wt'], dtype=object),\n",
       "              'xaxis': 'x',\n",
       "              'y': array([3.66359139]),\n",
       "              'yaxis': 'y'},\n",
       "             {'alignmentgroup': 'True',\n",
       "              'hovertemplate': 'color=px_width<br>index=%{x}<br>value=%{y}<extra></extra>',\n",
       "              'legendgroup': 'px_width',\n",
       "              'marker': {'color': '#B6E880', 'pattern': {'shape': ''}},\n",
       "              'name': 'px_width',\n",
       "              'offsetgroup': 'px_width',\n",
       "              'orientation': 'v',\n",
       "              'showlegend': True,\n",
       "              'textposition': 'auto',\n",
       "              'type': 'bar',\n",
       "              'x': array(['px_width'], dtype=object),\n",
       "              'xaxis': 'x',\n",
       "              'y': array([3.77055756]),\n",
       "              'yaxis': 'y'},\n",
       "             {'alignmentgroup': 'True',\n",
       "              'hovertemplate': 'color=sc_h<br>index=%{x}<br>value=%{y}<extra></extra>',\n",
       "              'legendgroup': 'sc_h',\n",
       "              'marker': {'color': '#FF97FF', 'pattern': {'shape': ''}},\n",
       "              'name': 'sc_h',\n",
       "              'offsetgroup': 'sc_h',\n",
       "              'orientation': 'v',\n",
       "              'showlegend': True,\n",
       "              'textposition': 'auto',\n",
       "              'type': 'bar',\n",
       "              'x': array(['sc_h'], dtype=object),\n",
       "              'xaxis': 'x',\n",
       "              'y': array([3.87083835]),\n",
       "              'yaxis': 'y'},\n",
       "             {'alignmentgroup': 'True',\n",
       "              'hovertemplate': 'color=sc_w<br>index=%{x}<br>value=%{y}<extra></extra>',\n",
       "              'legendgroup': 'sc_w',\n",
       "              'marker': {'color': '#FECB52', 'pattern': {'shape': ''}},\n",
       "              'name': 'sc_w',\n",
       "              'offsetgroup': 'sc_w',\n",
       "              'orientation': 'v',\n",
       "              'showlegend': True,\n",
       "              'textposition': 'auto',\n",
       "              'type': 'bar',\n",
       "              'x': array(['sc_w'], dtype=object),\n",
       "              'xaxis': 'x',\n",
       "              'y': array([3.57668137]),\n",
       "              'yaxis': 'y'},\n",
       "             {'alignmentgroup': 'True',\n",
       "              'hovertemplate': 'color=m_dep<br>index=%{x}<br>value=%{y}<extra></extra>',\n",
       "              'legendgroup': 'm_dep',\n",
       "              'marker': {'color': '#636efa', 'pattern': {'shape': ''}},\n",
       "              'name': 'm_dep',\n",
       "              'offsetgroup': 'm_dep',\n",
       "              'orientation': 'v',\n",
       "              'showlegend': True,\n",
       "              'textposition': 'auto',\n",
       "              'type': 'bar',\n",
       "              'x': array(['m_dep'], dtype=object),\n",
       "              'xaxis': 'x',\n",
       "              'y': array([3.79061372]),\n",
       "              'yaxis': 'y'},\n",
       "             {'alignmentgroup': 'True',\n",
       "              'hovertemplate': 'color=touch_screen<br>index=%{x}<br>value=%{y}<extra></extra>',\n",
       "              'legendgroup': 'touch_screen',\n",
       "              'marker': {'color': '#EF553B', 'pattern': {'shape': ''}},\n",
       "              'name': 'touch_screen',\n",
       "              'offsetgroup': 'touch_screen',\n",
       "              'orientation': 'v',\n",
       "              'showlegend': True,\n",
       "              'textposition': 'auto',\n",
       "              'type': 'bar',\n",
       "              'x': array(['touch_screen'], dtype=object),\n",
       "              'xaxis': 'x',\n",
       "              'y': array([3.55662522]),\n",
       "              'yaxis': 'y'},\n",
       "             {'alignmentgroup': 'True',\n",
       "              'hovertemplate': 'color=fc<br>index=%{x}<br>value=%{y}<extra></extra>',\n",
       "              'legendgroup': 'fc',\n",
       "              'marker': {'color': '#00cc96', 'pattern': {'shape': ''}},\n",
       "              'name': 'fc',\n",
       "              'offsetgroup': 'fc',\n",
       "              'orientation': 'v',\n",
       "              'showlegend': True,\n",
       "              'textposition': 'auto',\n",
       "              'type': 'bar',\n",
       "              'x': array(['fc'], dtype=object),\n",
       "              'xaxis': 'x',\n",
       "              'y': array([3.99786068]),\n",
       "              'yaxis': 'y'},\n",
       "             {'alignmentgroup': 'True',\n",
       "              'hovertemplate': 'color=four_g<br>index=%{x}<br>value=%{y}<extra></extra>',\n",
       "              'legendgroup': 'four_g',\n",
       "              'marker': {'color': '#ab63fa', 'pattern': {'shape': ''}},\n",
       "              'name': 'four_g',\n",
       "              'offsetgroup': 'four_g',\n",
       "              'orientation': 'v',\n",
       "              'showlegend': True,\n",
       "              'textposition': 'auto',\n",
       "              'type': 'bar',\n",
       "              'x': array(['four_g'], dtype=object),\n",
       "              'xaxis': 'x',\n",
       "              'y': array([3.96443375]),\n",
       "              'yaxis': 'y'},\n",
       "             {'alignmentgroup': 'True',\n",
       "              'hovertemplate': 'color=hgv<br>index=%{x}<br>value=%{y}<extra></extra>',\n",
       "              'legendgroup': 'hgv',\n",
       "              'marker': {'color': '#FFA15A', 'pattern': {'shape': ''}},\n",
       "              'name': 'hgv',\n",
       "              'offsetgroup': 'hgv',\n",
       "              'orientation': 'v',\n",
       "              'showlegend': True,\n",
       "              'textposition': 'auto',\n",
       "              'type': 'bar',\n",
       "              'x': array(['hgv'], dtype=object),\n",
       "              'xaxis': 'x',\n",
       "              'y': array([3.74381602]),\n",
       "              'yaxis': 'y'},\n",
       "             {'alignmentgroup': 'True',\n",
       "              'hovertemplate': 'color=price_range<br>index=%{x}<br>value=%{y}<extra></extra>',\n",
       "              'legendgroup': 'price_range',\n",
       "              'marker': {'color': '#19d3f3', 'pattern': {'shape': ''}},\n",
       "              'name': 'price_range',\n",
       "              'offsetgroup': 'price_range',\n",
       "              'orientation': 'v',\n",
       "              'showlegend': True,\n",
       "              'textposition': 'auto',\n",
       "              'type': 'bar',\n",
       "              'x': array(['price_range'], dtype=object),\n",
       "              'xaxis': 'x',\n",
       "              'y': array([4.57948924]),\n",
       "              'yaxis': 'y'},\n",
       "             {'alignmentgroup': 'True',\n",
       "              'hovertemplate': 'color=blue<br>index=%{x}<br>value=%{y}<extra></extra>',\n",
       "              'legendgroup': 'blue',\n",
       "              'marker': {'color': '#FF6692', 'pattern': {'shape': ''}},\n",
       "              'name': 'blue',\n",
       "              'offsetgroup': 'blue',\n",
       "              'orientation': 'v',\n",
       "              'showlegend': True,\n",
       "              'textposition': 'auto',\n",
       "              'type': 'bar',\n",
       "              'x': array(['blue'], dtype=object),\n",
       "              'xaxis': 'x',\n",
       "              'y': array([4.01791683]),\n",
       "              'yaxis': 'y'},\n",
       "             {'alignmentgroup': 'True',\n",
       "              'hovertemplate': 'color=n_cores<br>index=%{x}<br>value=%{y}<extra></extra>',\n",
       "              'legendgroup': 'n_cores',\n",
       "              'marker': {'color': '#B6E880', 'pattern': {'shape': ''}},\n",
       "              'name': 'n_cores',\n",
       "              'offsetgroup': 'n_cores',\n",
       "              'orientation': 'v',\n",
       "              'showlegend': True,\n",
       "              'textposition': 'auto',\n",
       "              'type': 'bar',\n",
       "              'x': array(['n_cores'], dtype=object),\n",
       "              'xaxis': 'x',\n",
       "              'y': array([3.71038909]),\n",
       "              'yaxis': 'y'},\n",
       "             {'alignmentgroup': 'True',\n",
       "              'hovertemplate': 'color=wifi<br>index=%{x}<br>value=%{y}<extra></extra>',\n",
       "              'legendgroup': 'wifi',\n",
       "              'marker': {'color': '#FF97FF', 'pattern': {'shape': ''}},\n",
       "              'name': 'wifi',\n",
       "              'offsetgroup': 'wifi',\n",
       "              'orientation': 'v',\n",
       "              'showlegend': True,\n",
       "              'textposition': 'auto',\n",
       "              'type': 'bar',\n",
       "              'x': array(['wifi'], dtype=object),\n",
       "              'xaxis': 'x',\n",
       "              'y': array([3.63684985]),\n",
       "              'yaxis': 'y'},\n",
       "             {'alignmentgroup': 'True',\n",
       "              'hovertemplate': 'color=dual_sim<br>index=%{x}<br>value=%{y}<extra></extra>',\n",
       "              'legendgroup': 'dual_sim',\n",
       "              'marker': {'color': '#FECB52', 'pattern': {'shape': ''}},\n",
       "              'name': 'dual_sim',\n",
       "              'offsetgroup': 'dual_sim',\n",
       "              'orientation': 'v',\n",
       "              'showlegend': True,\n",
       "              'textposition': 'auto',\n",
       "              'type': 'bar',\n",
       "              'x': array(['dual_sim'], dtype=object),\n",
       "              'xaxis': 'x',\n",
       "              'y': array([3.53656906]),\n",
       "              'yaxis': 'y'},\n",
       "             {'alignmentgroup': 'True',\n",
       "              'hovertemplate': 'color=ram<br>index=%{x}<br>value=%{y}<extra></extra>',\n",
       "              'legendgroup': 'ram',\n",
       "              'marker': {'color': '#636efa', 'pattern': {'shape': ''}},\n",
       "              'name': 'ram',\n",
       "              'offsetgroup': 'ram',\n",
       "              'orientation': 'v',\n",
       "              'showlegend': True,\n",
       "              'textposition': 'auto',\n",
       "              'type': 'bar',\n",
       "              'x': array(['ram'], dtype=object),\n",
       "              'xaxis': 'x',\n",
       "              'y': array([4.01791683]),\n",
       "              'yaxis': 'y'},\n",
       "             {'alignmentgroup': 'True',\n",
       "              'hovertemplate': 'color=werf<br>index=%{x}<br>value=%{y}<extra></extra>',\n",
       "              'legendgroup': 'werf',\n",
       "              'marker': {'color': '#EF553B', 'pattern': {'shape': ''}},\n",
       "              'name': 'werf',\n",
       "              'offsetgroup': 'werf',\n",
       "              'orientation': 'v',\n",
       "              'showlegend': True,\n",
       "              'textposition': 'auto',\n",
       "              'type': 'bar',\n",
       "              'x': array(['werf'], dtype=object),\n",
       "              'xaxis': 'x',\n",
       "              'y': array([0.]),\n",
       "              'yaxis': 'y'},\n",
       "             {'alignmentgroup': 'True',\n",
       "              'hovertemplate': 'color=int_memory<br>index=%{x}<br>value=%{y}<extra></extra>',\n",
       "              'legendgroup': 'int_memory',\n",
       "              'marker': {'color': '#00cc96', 'pattern': {'shape': ''}},\n",
       "              'name': 'int_memory',\n",
       "              'offsetgroup': 'int_memory',\n",
       "              'orientation': 'v',\n",
       "              'showlegend': True,\n",
       "              'textposition': 'auto',\n",
       "              'type': 'bar',\n",
       "              'x': array(['int_memory'], dtype=object),\n",
       "              'xaxis': 'x',\n",
       "              'y': array([3.85746758]),\n",
       "              'yaxis': 'y'},\n",
       "             {'alignmentgroup': 'True',\n",
       "              'hovertemplate': 'color=px_height<br>index=%{x}<br>value=%{y}<extra></extra>',\n",
       "              'legendgroup': 'px_height',\n",
       "              'marker': {'color': '#ab63fa', 'pattern': {'shape': ''}},\n",
       "              'name': 'px_height',\n",
       "              'offsetgroup': 'px_height',\n",
       "              'orientation': 'v',\n",
       "              'showlegend': True,\n",
       "              'textposition': 'auto',\n",
       "              'type': 'bar',\n",
       "              'x': array(['px_height'], dtype=object),\n",
       "              'xaxis': 'x',\n",
       "              'y': array([3.85746758]),\n",
       "              'yaxis': 'y'},\n",
       "             {'alignmentgroup': 'True',\n",
       "              'hovertemplate': 'color=clock_speed<br>index=%{x}<br>value=%{y}<extra></extra>',\n",
       "              'legendgroup': 'clock_speed',\n",
       "              'marker': {'color': '#FFA15A', 'pattern': {'shape': ''}},\n",
       "              'name': 'clock_speed',\n",
       "              'offsetgroup': 'clock_speed',\n",
       "              'orientation': 'v',\n",
       "              'showlegend': True,\n",
       "              'textposition': 'auto',\n",
       "              'type': 'bar',\n",
       "              'x': array(['clock_speed'], dtype=object),\n",
       "              'xaxis': 'x',\n",
       "              'y': array([3.67027677]),\n",
       "              'yaxis': 'y'}],\n",
       "    'layout': {'barmode': 'relative',\n",
       "               'legend': {'title': {'text': 'color'}, 'tracegroupgap': 0},\n",
       "               'template': '...',\n",
       "               'title': {'text': 'Percentage of Missing Values per column'},\n",
       "               'xaxis': {'anchor': 'y', 'domain': [0.0, 1.0], 'title': {'text': 'index'}},\n",
       "               'yaxis': {'anchor': 'x', 'domain': [0.0, 1.0], 'title': {'text': 'value'}}}\n",
       "})"
      ]
     },
     "execution_count": 24,
     "metadata": {},
     "output_type": "execute_result"
    }
   ],
   "source": [
    "# Cantidad de nulos \n",
    "# pip install nbformat \n",
    "(ds.isnull().sum()*100/len(ds)).plot.bar(title = 'Percentage of Missing Values per column',color=ds.columns)"
   ]
  },
  {
   "cell_type": "code",
   "execution_count": 20,
   "metadata": {},
   "outputs": [
    {
     "data": {
      "text/plain": [
       "Unnamed: 0       0.000000\n",
       "index            0.000000\n",
       "talk_time        3.743816\n",
       "battery_power    3.770558\n",
       "pc               3.543254\n",
       "three_g          3.636850\n",
       "mobile_wt        3.663591\n",
       "px_width         3.770558\n",
       "sc_h             3.870838\n",
       "sc_w             3.576681\n",
       "m_dep            3.790614\n",
       "touch_screen     3.556625\n",
       "fc               3.997861\n",
       "four_g           3.964434\n",
       "hgv              3.743816\n",
       "price_range      4.579489\n",
       "blue             4.017917\n",
       "n_cores          3.710389\n",
       "wifi             3.636850\n",
       "dual_sim         3.536569\n",
       "ram              4.017917\n",
       "werf             0.000000\n",
       "int_memory       3.857468\n",
       "px_height        3.857468\n",
       "clock_speed      3.670277\n",
       "dtype: float64"
      ]
     },
     "execution_count": 20,
     "metadata": {},
     "output_type": "execute_result"
    }
   ],
   "source": [
    "# ver el porcentaje de nulos de forma numerica\n",
    "ds.isnull().sum()*100/len(ds)\n",
    "# otra opción\n",
    "missing = ds.isnull().sum()\n",
    "missing[missing>0]*100/len(ds)"
   ]
  },
  {
   "cell_type": "code",
   "execution_count": 29,
   "metadata": {},
   "outputs": [
    {
     "name": "stdout",
     "output_type": "stream",
     "text": [
      "-------------------------------------------------------------\n",
      "Unnamed: 0 = Unnamed: 0\n",
      "0        0.652384\n",
      "1        0.194251\n",
      "2        0.583836\n",
      "3        0.803084\n",
      "4       -0.699460\n",
      "           ...   \n",
      "74785    0.735782\n",
      "74786   -0.096070\n",
      "74787    2.504135\n",
      "74788    1.044660\n",
      "74789    0.711454\n",
      "Length: 74790, dtype: float64\n",
      "-------------------------------------------------------------\n",
      "index = index\n",
      "1517   -0.943407\n",
      "911     0.131008\n",
      "1493   -0.915910\n",
      "970     0.343263\n",
      "2187    0.958455\n",
      "          ...   \n",
      "2096    0.010541\n",
      "553    -0.058526\n",
      "1282   -1.050967\n",
      "946    -1.435175\n",
      "454    -1.250337\n",
      "Length: 74790, dtype: float64\n",
      "-------------------------------------------------------------\n",
      "talk_time = talk_time\n",
      "11.0              -0.354809\n",
      "9.0               -1.034379\n",
      "3.0               -0.222868\n",
      "3.0                0.713277\n",
      "-948961565145.0    0.755014\n",
      "                     ...   \n",
      "16.0              -0.989933\n",
      "18.0               0.820368\n",
      "18.0              -0.549099\n",
      "NaN               -2.202112\n",
      "9.0                2.555676\n",
      "Length: 74790, dtype: float64\n",
      "-------------------------------------------------------------\n",
      "battery_power = battery_power\n",
      "911.0             -1.440168\n",
      "1284.0            -0.305133\n",
      "1183.0            -0.095090\n",
      "904.0              1.040614\n",
      "1893.0             0.228663\n",
      "                     ...   \n",
      "1905.0             0.608359\n",
      "1544.0            -2.945778\n",
      "-948961565145.0    0.400492\n",
      "1625.0            -1.459713\n",
      "932.0             -0.086732\n",
      "Length: 74790, dtype: float64\n",
      "-------------------------------------------------------------\n",
      "pc = pc\n",
      "4.0                -0.724209\n",
      "14.0               -0.279634\n",
      "nhbgvfrtd 56gyub   -0.498249\n",
      "9.0                 0.563600\n",
      "11.0                0.298745\n",
      "                      ...   \n",
      "20.0                0.765639\n",
      "20.0               -1.157029\n",
      "6.0                -0.202939\n",
      "17.0                0.203847\n",
      "2.0                -0.557162\n",
      "Length: 74790, dtype: float64\n",
      "-------------------------------------------------------------\n",
      "three_g = three_g\n",
      "0.0    0.313915\n",
      "0.0    0.080248\n",
      "1.0    1.508826\n",
      "1.0    0.023812\n",
      "0.0   -0.264050\n",
      "         ...   \n",
      "1.0    1.561404\n",
      "1.0    0.751253\n",
      "1.0    0.451727\n",
      "1.0   -0.615301\n",
      "1.0    0.000804\n",
      "Length: 74790, dtype: float64\n",
      "-------------------------------------------------------------\n",
      "mobile_wt = mobile_wt\n",
      "199.0              -0.243546\n",
      "155.0               0.641878\n",
      "120.0              -0.446164\n",
      "102.0               0.704315\n",
      "134.0               0.476030\n",
      "                      ...   \n",
      "119.0              -2.086099\n",
      "nhbgvfrtd 56gyub   -1.090934\n",
      "81.0               -0.534831\n",
      "107.0               0.707329\n",
      "nhbgvfrtd 56gyub   -0.999388\n",
      "Length: 74790, dtype: float64\n",
      "-------------------------------------------------------------\n",
      "px_width = px_width\n",
      "1692.0             -0.627189\n",
      "-948961565145.0    -0.535484\n",
      "nhbgvfrtd 56gyub    0.289192\n",
      "NaN                -0.509613\n",
      "-948961565145.0     0.534845\n",
      "                      ...   \n",
      "1542.0              1.088871\n",
      "857.0              -0.668257\n",
      "1524.0             -0.155081\n",
      "1219.0              1.631648\n",
      "1224.0             -1.204083\n",
      "Length: 74790, dtype: float64\n",
      "-------------------------------------------------------------\n",
      "sc_h = sc_h\n",
      "16.0               -0.318213\n",
      "16.0                1.232300\n",
      "nhbgvfrtd 56gyub   -0.434800\n",
      "7.0                 0.506671\n",
      "-948961565145.0    -0.539846\n",
      "                      ...   \n",
      "13.0                0.451645\n",
      "8.0                 0.639642\n",
      "16.0               -0.229131\n",
      "16.0                0.531455\n",
      "8.0                 0.202214\n",
      "Length: 74790, dtype: float64\n",
      "-------------------------------------------------------------\n",
      "sc_w = sc_w\n",
      "3.0                -0.160839\n",
      "2.0                 0.287890\n",
      "3.0                 0.452670\n",
      "0.0                -0.214723\n",
      "3.0                 0.901403\n",
      "                      ...   \n",
      "4.0                -0.441405\n",
      "7.0                 0.226811\n",
      "3.0                -0.153446\n",
      "3.0                 0.736342\n",
      "nhbgvfrtd 56gyub   -0.476766\n",
      "Length: 74790, dtype: float64\n",
      "-------------------------------------------------------------\n",
      "m_dep = m_dep\n",
      "0.7                -1.489043\n",
      "-948961565145.0     0.223645\n",
      "0.1                 0.641935\n",
      "0.2                -0.832456\n",
      "0.2                 0.782644\n",
      "                      ...   \n",
      "0.4                 2.217062\n",
      "nhbgvfrtd 56gyub    1.146099\n",
      "0.1                 0.833963\n",
      "0.1                -0.249182\n",
      "0.7                -0.006040\n",
      "Length: 74790, dtype: float64\n",
      "-------------------------------------------------------------\n",
      "touch_screen = touch_screen\n",
      "1.0   -0.004441\n",
      "1.0    0.408102\n",
      "0.0   -0.529146\n",
      "0.0    0.702455\n",
      "1.0    0.178873\n",
      "         ...   \n",
      "NaN   -0.499388\n",
      "1.0   -0.965777\n",
      "1.0    1.000068\n",
      "0.0   -0.330809\n",
      "1.0   -0.111313\n",
      "Length: 74790, dtype: float64\n",
      "-------------------------------------------------------------\n",
      "fc = fc\n",
      "3.0     0.754074\n",
      "0.0    -0.918026\n",
      "3.0     0.738501\n",
      "NaN    -0.654602\n",
      "8.0     2.538216\n",
      "          ...   \n",
      "9.0     1.954183\n",
      "12.0    1.757625\n",
      "4.0     1.077631\n",
      "2.0     0.856806\n",
      "1.0     0.301904\n",
      "Length: 74790, dtype: float64\n",
      "-------------------------------------------------------------\n",
      "four_g = four_g\n",
      "0.0                -0.639472\n",
      "0.0                -0.271000\n",
      "1.0                -0.645938\n",
      "1.0                 0.285095\n",
      "0.0                 1.778973\n",
      "                      ...   \n",
      "1.0                 0.811876\n",
      "nhbgvfrtd 56gyub   -0.660721\n",
      "1.0                 0.539672\n",
      "1.0                -1.163503\n",
      "0.0                 0.146659\n",
      "Length: 74790, dtype: float64\n",
      "-------------------------------------------------------------\n",
      "hgv = hgv\n",
      "11.0               0.119914\n",
      "9.0                0.613685\n",
      "3.0               -1.157385\n",
      "3.0               -1.302175\n",
      "-948961565145.0   -1.295718\n",
      "                     ...   \n",
      "16.0               0.043580\n",
      "18.0              -1.056912\n",
      "18.0              -0.255433\n",
      "NaN                0.755963\n",
      "9.0               -0.106431\n",
      "Length: 74790, dtype: float64\n",
      "-------------------------------------------------------------\n",
      "price_range = price_range\n",
      "3.0   -1.348448\n",
      "1.0   -1.920758\n",
      "0.0   -1.946066\n",
      "1.0    0.398634\n",
      "3.0    0.763861\n",
      "         ...   \n",
      "1.0   -0.153684\n",
      "1.0    0.662654\n",
      "1.0   -0.328551\n",
      "NaN   -0.127744\n",
      "3.0   -0.998114\n",
      "Length: 74790, dtype: float64\n",
      "-------------------------------------------------------------\n",
      "blue = blue\n",
      "0.0                -0.071339\n",
      "1.0                -1.136845\n",
      "1.0                 0.911993\n",
      "NaN                -1.785823\n",
      "1.0                -0.888364\n",
      "                      ...   \n",
      "0.0                -0.573898\n",
      "nhbgvfrtd 56gyub    0.095404\n",
      "1.0                -1.131609\n",
      "1.0                -1.339688\n",
      "0.0                 1.714925\n",
      "Length: 74790, dtype: float64\n",
      "-------------------------------------------------------------\n",
      "n_cores = n_cores\n",
      "4.0                -0.206816\n",
      "2.0                -0.728790\n",
      "8.0                 0.881260\n",
      "8.0                 0.670787\n",
      "2.0                -0.889386\n",
      "                      ...   \n",
      "NaN                 0.173461\n",
      "8.0                -0.760785\n",
      "6.0                -1.276091\n",
      "8.0                 0.252992\n",
      "nhbgvfrtd 56gyub    0.036094\n",
      "Length: 74790, dtype: float64\n",
      "-------------------------------------------------------------\n",
      "wifi = wifi\n",
      "0.0    1.613516\n",
      "1.0    0.130574\n",
      "0.0    1.806487\n",
      "1.0   -0.281127\n",
      "1.0   -0.743008\n",
      "         ...   \n",
      "NaN   -2.656272\n",
      "0.0    0.585848\n",
      "1.0   -0.524615\n",
      "0.0    0.316868\n",
      "1.0    1.291233\n",
      "Length: 74790, dtype: float64\n",
      "-------------------------------------------------------------\n",
      "dual_sim = dual_sim\n",
      "1.0   -2.759469\n",
      "1.0    0.130843\n",
      "1.0    1.630127\n",
      "1.0   -2.493640\n",
      "1.0   -0.724129\n",
      "         ...   \n",
      "1.0   -0.372988\n",
      "0.0   -0.809189\n",
      "0.0   -0.801517\n",
      "1.0    1.360266\n",
      "0.0   -0.488174\n",
      "Length: 74790, dtype: float64\n",
      "-------------------------------------------------------------\n",
      "ram = ram\n",
      "2933.0             -0.454226\n",
      "2197.0              2.233148\n",
      "nhbgvfrtd 56gyub    1.101519\n",
      "1846.0              0.041597\n",
      "3822.0             -0.892985\n",
      "                      ...   \n",
      "1287.0              0.181584\n",
      "1300.0             -0.297266\n",
      "1905.0             -0.073243\n",
      "670.0               1.154813\n",
      "3817.0             -1.308807\n",
      "Length: 74790, dtype: float64\n",
      "-------------------------------------------------------------\n",
      "werf = werf\n",
      "9156615    0.539301\n",
      "9156615   -2.596740\n",
      "9156615   -0.917139\n",
      "9156615    0.628102\n",
      "9156615   -0.771700\n",
      "             ...   \n",
      "9156615    1.923066\n",
      "9156615    0.179025\n",
      "9156615    0.017058\n",
      "9156615   -0.195672\n",
      "9156615    1.634005\n",
      "Length: 74790, dtype: float64\n",
      "-------------------------------------------------------------\n",
      "int_memory = int_memory\n",
      "14.0               -0.490313\n",
      "10.0                1.268023\n",
      "nhbgvfrtd 56gyub   -2.016303\n",
      "14.0               -0.520401\n",
      "63.0               -0.571249\n",
      "                      ...   \n",
      "36.0               -0.944037\n",
      "45.0                0.542045\n",
      "10.0                0.937936\n",
      "50.0               -1.735669\n",
      "64.0                0.154600\n",
      "Length: 74790, dtype: float64\n",
      "-------------------------------------------------------------\n",
      "px_height = px_height\n",
      "1563.0            -0.434931\n",
      "160.0             -0.526686\n",
      "268.0              0.484656\n",
      "56.0               0.971107\n",
      "-948961565145.0    0.125117\n",
      "                     ...   \n",
      "825.0             -1.094982\n",
      "236.0              0.016911\n",
      "113.0              0.667552\n",
      "8.0                1.657257\n",
      "1176.0            -0.004373\n",
      "Length: 74790, dtype: float64\n",
      "-------------------------------------------------------------\n",
      "clock_speed = clock_speed\n",
      "1.4    0.574999\n",
      "2.8   -0.811289\n",
      "0.5    0.673168\n",
      "1.6    0.264984\n",
      "2.1    1.878562\n",
      "         ...   \n",
      "0.6   -0.139089\n",
      "2.3   -0.888210\n",
      "0.5    0.400915\n",
      "0.5   -0.345522\n",
      "1.3    0.741610\n",
      "Length: 74790, dtype: float64\n",
      "-------------------------------------------------------------\n"
     ]
    }
   ],
   "source": [
    "\n",
    "print(\"-------------------------------------------------------------\")\n",
    "for col in ds:\n",
    "    s = pd.Series(np.random.randn(74790),ds[col])\n",
    "    # s.count(level=1)\n",
    "    print(f\"{col} = {s}\")\n",
    "    print(\"-------------------------------------------------------------\")"
   ]
  }
 ],
 "metadata": {
  "kernelspec": {
   "display_name": "Python 3.10.4 64-bit",
   "language": "python",
   "name": "python3"
  },
  "language_info": {
   "codemirror_mode": {
    "name": "ipython",
    "version": 3
   },
   "file_extension": ".py",
   "mimetype": "text/x-python",
   "name": "python",
   "nbconvert_exporter": "python",
   "pygments_lexer": "ipython3",
   "version": "3.10.4"
  },
  "orig_nbformat": 4,
  "vscode": {
   "interpreter": {
    "hash": "916dbcbb3f70747c44a77c7bcd40155683ae19c65e1c03b4aa3499c5328201f1"
   }
  }
 },
 "nbformat": 4,
 "nbformat_minor": 2
}
