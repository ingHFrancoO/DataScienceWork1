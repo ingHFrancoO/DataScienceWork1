{
 "cells": [
  {
   "cell_type": "markdown",
   "metadata": {},
   "source": [
    "Humberto Franco\n",
    "Juan Felipe Padilla\n",
    ". https://github.com/ingHFrancoO\n",
    ". https://github.com/1juanfpg"
   ]
  },
  {
   "cell_type": "markdown",
   "metadata": {},
   "source": [
    "inicio del analisis de los datos."
   ]
  },
  {
   "cell_type": "code",
   "execution_count": 3,
   "metadata": {},
   "outputs": [],
   "source": [
    "#importamos librerias\n",
    "import pandas as pd\n",
    "pd.options.plotting.backend = \"plotly\"\n",
    "import numpy as np"
   ]
  },
  {
   "cell_type": "code",
   "execution_count": 4,
   "metadata": {},
   "outputs": [],
   "source": [
    "# Se importa el data set\n",
    "ds = pd.read_csv(\"../data/raw/CellPhoneDS.csv\")"
   ]
  },
  {
   "cell_type": "code",
   "execution_count": 6,
   "metadata": {},
   "outputs": [
    {
     "name": "stdout",
     "output_type": "stream",
     "text": [
      "<class 'pandas.core.frame.DataFrame'>\n",
      "RangeIndex: 74790 entries, 0 to 74789\n",
      "Data columns (total 25 columns):\n",
      " #   Column         Non-Null Count  Dtype \n",
      "---  ------         --------------  ----- \n",
      " 0   Unnamed: 0     74790 non-null  int64 \n",
      " 1   index          74790 non-null  int64 \n",
      " 2   talk_time      71990 non-null  object\n",
      " 3   battery_power  71970 non-null  object\n",
      " 4   pc             72140 non-null  object\n",
      " 5   three_g        72070 non-null  object\n",
      " 6   mobile_wt      72050 non-null  object\n",
      " 7   px_width       71970 non-null  object\n",
      " 8   sc_h           71895 non-null  object\n",
      " 9   sc_w           72115 non-null  object\n",
      " 10  m_dep          71955 non-null  object\n",
      " 11  touch_screen   72130 non-null  object\n",
      " 12  fc             71800 non-null  object\n",
      " 13  four_g         71825 non-null  object\n",
      " 14  hgv            71990 non-null  object\n",
      " 15  price_range    71365 non-null  object\n",
      " 16  blue           71785 non-null  object\n",
      " 17  n_cores        72015 non-null  object\n",
      " 18  wifi           72070 non-null  object\n",
      " 19  dual_sim       72145 non-null  object\n",
      " 20  ram            71785 non-null  object\n",
      " 21  werf           74790 non-null  int64 \n",
      " 22  int_memory     71905 non-null  object\n",
      " 23  px_height      71905 non-null  object\n",
      " 24  clock_speed    72045 non-null  object\n",
      "dtypes: int64(3), object(22)\n",
      "memory usage: 14.3+ MB\n"
     ]
    }
   ],
   "source": [
    "# Primera verificación de los datos\n",
    "ds.info()"
   ]
  },
  {
   "cell_type": "code",
   "execution_count": 17,
   "metadata": {},
   "outputs": [
    {
     "data": {
      "text/html": [
       "<div>\n",
       "<style scoped>\n",
       "    .dataframe tbody tr th:only-of-type {\n",
       "        vertical-align: middle;\n",
       "    }\n",
       "\n",
       "    .dataframe tbody tr th {\n",
       "        vertical-align: top;\n",
       "    }\n",
       "\n",
       "    .dataframe thead th {\n",
       "        text-align: right;\n",
       "    }\n",
       "</style>\n",
       "<table border=\"1\" class=\"dataframe\">\n",
       "  <thead>\n",
       "    <tr style=\"text-align: right;\">\n",
       "      <th></th>\n",
       "      <th>Unnamed: 0</th>\n",
       "      <th>index</th>\n",
       "      <th>talk_time</th>\n",
       "      <th>battery_power</th>\n",
       "      <th>pc</th>\n",
       "      <th>three_g</th>\n",
       "      <th>mobile_wt</th>\n",
       "      <th>px_width</th>\n",
       "      <th>sc_h</th>\n",
       "      <th>sc_w</th>\n",
       "      <th>...</th>\n",
       "      <th>price_range</th>\n",
       "      <th>blue</th>\n",
       "      <th>n_cores</th>\n",
       "      <th>wifi</th>\n",
       "      <th>dual_sim</th>\n",
       "      <th>ram</th>\n",
       "      <th>werf</th>\n",
       "      <th>int_memory</th>\n",
       "      <th>px_height</th>\n",
       "      <th>clock_speed</th>\n",
       "    </tr>\n",
       "  </thead>\n",
       "  <tbody>\n",
       "    <tr>\n",
       "      <th>0</th>\n",
       "      <td>0</td>\n",
       "      <td>1517</td>\n",
       "      <td>11.0</td>\n",
       "      <td>911.0</td>\n",
       "      <td>4.0</td>\n",
       "      <td>0.0</td>\n",
       "      <td>199.0</td>\n",
       "      <td>1692.0</td>\n",
       "      <td>16.0</td>\n",
       "      <td>3.0</td>\n",
       "      <td>...</td>\n",
       "      <td>3.0</td>\n",
       "      <td>0.0</td>\n",
       "      <td>4.0</td>\n",
       "      <td>0.0</td>\n",
       "      <td>1.0</td>\n",
       "      <td>2933.0</td>\n",
       "      <td>9156615</td>\n",
       "      <td>14.0</td>\n",
       "      <td>1563.0</td>\n",
       "      <td>1.4</td>\n",
       "    </tr>\n",
       "    <tr>\n",
       "      <th>1</th>\n",
       "      <td>1</td>\n",
       "      <td>911</td>\n",
       "      <td>9.0</td>\n",
       "      <td>1284.0</td>\n",
       "      <td>14.0</td>\n",
       "      <td>0.0</td>\n",
       "      <td>155.0</td>\n",
       "      <td>-948961565145.0</td>\n",
       "      <td>16.0</td>\n",
       "      <td>2.0</td>\n",
       "      <td>...</td>\n",
       "      <td>1.0</td>\n",
       "      <td>1.0</td>\n",
       "      <td>2.0</td>\n",
       "      <td>1.0</td>\n",
       "      <td>1.0</td>\n",
       "      <td>2197.0</td>\n",
       "      <td>9156615</td>\n",
       "      <td>10.0</td>\n",
       "      <td>160.0</td>\n",
       "      <td>2.8</td>\n",
       "    </tr>\n",
       "    <tr>\n",
       "      <th>2</th>\n",
       "      <td>2</td>\n",
       "      <td>1493</td>\n",
       "      <td>3.0</td>\n",
       "      <td>1183.0</td>\n",
       "      <td>nhbgvfrtd 56gyub</td>\n",
       "      <td>1.0</td>\n",
       "      <td>120.0</td>\n",
       "      <td>nhbgvfrtd 56gyub</td>\n",
       "      <td>nhbgvfrtd 56gyub</td>\n",
       "      <td>3.0</td>\n",
       "      <td>...</td>\n",
       "      <td>0.0</td>\n",
       "      <td>1.0</td>\n",
       "      <td>8.0</td>\n",
       "      <td>0.0</td>\n",
       "      <td>1.0</td>\n",
       "      <td>nhbgvfrtd 56gyub</td>\n",
       "      <td>9156615</td>\n",
       "      <td>nhbgvfrtd 56gyub</td>\n",
       "      <td>268.0</td>\n",
       "      <td>0.5</td>\n",
       "    </tr>\n",
       "    <tr>\n",
       "      <th>3</th>\n",
       "      <td>3</td>\n",
       "      <td>970</td>\n",
       "      <td>3.0</td>\n",
       "      <td>904.0</td>\n",
       "      <td>9.0</td>\n",
       "      <td>1.0</td>\n",
       "      <td>102.0</td>\n",
       "      <td>NaN</td>\n",
       "      <td>7.0</td>\n",
       "      <td>0.0</td>\n",
       "      <td>...</td>\n",
       "      <td>1.0</td>\n",
       "      <td>NaN</td>\n",
       "      <td>8.0</td>\n",
       "      <td>1.0</td>\n",
       "      <td>1.0</td>\n",
       "      <td>1846.0</td>\n",
       "      <td>9156615</td>\n",
       "      <td>14.0</td>\n",
       "      <td>56.0</td>\n",
       "      <td>1.6</td>\n",
       "    </tr>\n",
       "    <tr>\n",
       "      <th>4</th>\n",
       "      <td>4</td>\n",
       "      <td>2187</td>\n",
       "      <td>-948961565145.0</td>\n",
       "      <td>1893.0</td>\n",
       "      <td>11.0</td>\n",
       "      <td>0.0</td>\n",
       "      <td>134.0</td>\n",
       "      <td>-948961565145.0</td>\n",
       "      <td>-948961565145.0</td>\n",
       "      <td>3.0</td>\n",
       "      <td>...</td>\n",
       "      <td>3.0</td>\n",
       "      <td>1.0</td>\n",
       "      <td>2.0</td>\n",
       "      <td>1.0</td>\n",
       "      <td>1.0</td>\n",
       "      <td>3822.0</td>\n",
       "      <td>9156615</td>\n",
       "      <td>63.0</td>\n",
       "      <td>-948961565145.0</td>\n",
       "      <td>2.1</td>\n",
       "    </tr>\n",
       "    <tr>\n",
       "      <th>5</th>\n",
       "      <td>5</td>\n",
       "      <td>1200</td>\n",
       "      <td>6.0</td>\n",
       "      <td>530.0</td>\n",
       "      <td>20.0</td>\n",
       "      <td>0.0</td>\n",
       "      <td>88.0</td>\n",
       "      <td>nhbgvfrtd 56gyub</td>\n",
       "      <td>17.0</td>\n",
       "      <td>7.0</td>\n",
       "      <td>...</td>\n",
       "      <td>nhbgvfrtd 56gyub</td>\n",
       "      <td>0.0</td>\n",
       "      <td>6.0</td>\n",
       "      <td>0.0</td>\n",
       "      <td>nhbgvfrtd 56gyub</td>\n",
       "      <td>959.0</td>\n",
       "      <td>9156615</td>\n",
       "      <td>32.0</td>\n",
       "      <td>48.0</td>\n",
       "      <td>2.4</td>\n",
       "    </tr>\n",
       "    <tr>\n",
       "      <th>6</th>\n",
       "      <td>6</td>\n",
       "      <td>1398</td>\n",
       "      <td>nhbgvfrtd 56gyub</td>\n",
       "      <td>1540.0</td>\n",
       "      <td>1.0</td>\n",
       "      <td>1.0</td>\n",
       "      <td>157.0</td>\n",
       "      <td>831.0</td>\n",
       "      <td>11.0</td>\n",
       "      <td>8.0</td>\n",
       "      <td>...</td>\n",
       "      <td>0.0</td>\n",
       "      <td>0.0</td>\n",
       "      <td>7.0</td>\n",
       "      <td>0.0</td>\n",
       "      <td>1.0</td>\n",
       "      <td>1161.0</td>\n",
       "      <td>9156615</td>\n",
       "      <td>29.0</td>\n",
       "      <td>318.0</td>\n",
       "      <td>0.7</td>\n",
       "    </tr>\n",
       "    <tr>\n",
       "      <th>7</th>\n",
       "      <td>7</td>\n",
       "      <td>2104</td>\n",
       "      <td>12.0</td>\n",
       "      <td>1265.0</td>\n",
       "      <td>??????</td>\n",
       "      <td>0.0</td>\n",
       "      <td>??????</td>\n",
       "      <td>??????</td>\n",
       "      <td>5.0</td>\n",
       "      <td>0.0</td>\n",
       "      <td>...</td>\n",
       "      <td>1.0</td>\n",
       "      <td>0.0</td>\n",
       "      <td>5.0</td>\n",
       "      <td>1.0</td>\n",
       "      <td>0.0</td>\n",
       "      <td>1362.0</td>\n",
       "      <td>9156615</td>\n",
       "      <td>49.0</td>\n",
       "      <td>??????</td>\n",
       "      <td>1.5</td>\n",
       "    </tr>\n",
       "    <tr>\n",
       "      <th>8</th>\n",
       "      <td>8</td>\n",
       "      <td>1989</td>\n",
       "      <td>-948961565145.0</td>\n",
       "      <td>586.0</td>\n",
       "      <td>11.0</td>\n",
       "      <td>0.0</td>\n",
       "      <td>83.0</td>\n",
       "      <td>854.0</td>\n",
       "      <td>12.0</td>\n",
       "      <td>8.0</td>\n",
       "      <td>...</td>\n",
       "      <td>1.0</td>\n",
       "      <td>0.0</td>\n",
       "      <td>-948961565145.0</td>\n",
       "      <td>0.0</td>\n",
       "      <td>-948961565145.0</td>\n",
       "      <td>2592.0</td>\n",
       "      <td>9156615</td>\n",
       "      <td>15.0</td>\n",
       "      <td>-948961565145.0</td>\n",
       "      <td>-948961565145.0</td>\n",
       "    </tr>\n",
       "    <tr>\n",
       "      <th>9</th>\n",
       "      <td>9</td>\n",
       "      <td>2053</td>\n",
       "      <td>8.0</td>\n",
       "      <td>637.0</td>\n",
       "      <td>4.0</td>\n",
       "      <td>1.0</td>\n",
       "      <td>97.0</td>\n",
       "      <td>NaN</td>\n",
       "      <td>NaN</td>\n",
       "      <td>NaN</td>\n",
       "      <td>...</td>\n",
       "      <td>NaN</td>\n",
       "      <td>0.0</td>\n",
       "      <td>NaN</td>\n",
       "      <td>1.0</td>\n",
       "      <td>0.0</td>\n",
       "      <td>374.0</td>\n",
       "      <td>9156615</td>\n",
       "      <td>60.0</td>\n",
       "      <td>1125.0</td>\n",
       "      <td>2.3</td>\n",
       "    </tr>\n",
       "    <tr>\n",
       "      <th>10</th>\n",
       "      <td>10</td>\n",
       "      <td>1312</td>\n",
       "      <td>6.0</td>\n",
       "      <td>1142.0</td>\n",
       "      <td>0.0</td>\n",
       "      <td>1.0</td>\n",
       "      <td>198.0</td>\n",
       "      <td>1766.0</td>\n",
       "      <td>19.0</td>\n",
       "      <td>-948961565145.0</td>\n",
       "      <td>...</td>\n",
       "      <td>1.0</td>\n",
       "      <td>1.0</td>\n",
       "      <td>4.0</td>\n",
       "      <td>-948961565145.0</td>\n",
       "      <td>0.0</td>\n",
       "      <td>1273.0</td>\n",
       "      <td>9156615</td>\n",
       "      <td>6.0</td>\n",
       "      <td>739.0</td>\n",
       "      <td>1.1</td>\n",
       "    </tr>\n",
       "    <tr>\n",
       "      <th>11</th>\n",
       "      <td>11</td>\n",
       "      <td>1442</td>\n",
       "      <td>16.0</td>\n",
       "      <td>973.0</td>\n",
       "      <td>??????</td>\n",
       "      <td>0.0</td>\n",
       "      <td>196.0</td>\n",
       "      <td>588.0</td>\n",
       "      <td>13.0</td>\n",
       "      <td>10.0</td>\n",
       "      <td>...</td>\n",
       "      <td>??????</td>\n",
       "      <td>0.0</td>\n",
       "      <td>??????</td>\n",
       "      <td>0.0</td>\n",
       "      <td>1.0</td>\n",
       "      <td>1861.0</td>\n",
       "      <td>9156615</td>\n",
       "      <td>53.0</td>\n",
       "      <td>??????</td>\n",
       "      <td>0.5</td>\n",
       "    </tr>\n",
       "    <tr>\n",
       "      <th>12</th>\n",
       "      <td>12</td>\n",
       "      <td>979</td>\n",
       "      <td>20.0</td>\n",
       "      <td>1866.0</td>\n",
       "      <td>9.0</td>\n",
       "      <td>1.0</td>\n",
       "      <td>5285988458456.0</td>\n",
       "      <td>1782.0</td>\n",
       "      <td>5285988458456.0</td>\n",
       "      <td>4.0</td>\n",
       "      <td>...</td>\n",
       "      <td>1.0</td>\n",
       "      <td>1.0</td>\n",
       "      <td>5285988458456.0</td>\n",
       "      <td>0.0</td>\n",
       "      <td>5285988458456.0</td>\n",
       "      <td>1444.0</td>\n",
       "      <td>9156615</td>\n",
       "      <td>5285988458456.0</td>\n",
       "      <td>5285988458456.0</td>\n",
       "      <td>2.5</td>\n",
       "    </tr>\n",
       "    <tr>\n",
       "      <th>13</th>\n",
       "      <td>13</td>\n",
       "      <td>1786</td>\n",
       "      <td>6.0</td>\n",
       "      <td>NaN</td>\n",
       "      <td>16.0</td>\n",
       "      <td>1.0</td>\n",
       "      <td>190.0</td>\n",
       "      <td>1726.0</td>\n",
       "      <td>7.0</td>\n",
       "      <td>2.0</td>\n",
       "      <td>...</td>\n",
       "      <td>2.0</td>\n",
       "      <td>NaN</td>\n",
       "      <td>4.0</td>\n",
       "      <td>1.0</td>\n",
       "      <td>1.0</td>\n",
       "      <td>NaN</td>\n",
       "      <td>9156615</td>\n",
       "      <td>NaN</td>\n",
       "      <td>1050.0</td>\n",
       "      <td>NaN</td>\n",
       "    </tr>\n",
       "    <tr>\n",
       "      <th>14</th>\n",
       "      <td>14</td>\n",
       "      <td>2441</td>\n",
       "      <td>8.0</td>\n",
       "      <td>977.0</td>\n",
       "      <td>7.0</td>\n",
       "      <td>0.0</td>\n",
       "      <td>181.0</td>\n",
       "      <td>566.0</td>\n",
       "      <td>??????</td>\n",
       "      <td>??????</td>\n",
       "      <td>...</td>\n",
       "      <td>0.0</td>\n",
       "      <td>1.0</td>\n",
       "      <td>??????</td>\n",
       "      <td>1.0</td>\n",
       "      <td>1.0</td>\n",
       "      <td>1206.0</td>\n",
       "      <td>9156615</td>\n",
       "      <td>57.0</td>\n",
       "      <td>63.0</td>\n",
       "      <td>1.1</td>\n",
       "    </tr>\n",
       "    <tr>\n",
       "      <th>15</th>\n",
       "      <td>15</td>\n",
       "      <td>2086</td>\n",
       "      <td>13.0</td>\n",
       "      <td>1831.0</td>\n",
       "      <td>5.0</td>\n",
       "      <td>??????</td>\n",
       "      <td>??????</td>\n",
       "      <td>1381.0</td>\n",
       "      <td>17.0</td>\n",
       "      <td>??????</td>\n",
       "      <td>...</td>\n",
       "      <td>3.0</td>\n",
       "      <td>0.0</td>\n",
       "      <td>5.0</td>\n",
       "      <td>1.0</td>\n",
       "      <td>1.0</td>\n",
       "      <td>3834.0</td>\n",
       "      <td>9156615</td>\n",
       "      <td>??????</td>\n",
       "      <td>611.0</td>\n",
       "      <td>1.4</td>\n",
       "    </tr>\n",
       "    <tr>\n",
       "      <th>16</th>\n",
       "      <td>16</td>\n",
       "      <td>996</td>\n",
       "      <td>5285988458456.0</td>\n",
       "      <td>774.0</td>\n",
       "      <td>5285988458456.0</td>\n",
       "      <td>1.0</td>\n",
       "      <td>188.0</td>\n",
       "      <td>5285988458456.0</td>\n",
       "      <td>8.0</td>\n",
       "      <td>6.0</td>\n",
       "      <td>...</td>\n",
       "      <td>2.0</td>\n",
       "      <td>0.0</td>\n",
       "      <td>2.0</td>\n",
       "      <td>1.0</td>\n",
       "      <td>1.0</td>\n",
       "      <td>2944.0</td>\n",
       "      <td>9156615</td>\n",
       "      <td>5285988458456.0</td>\n",
       "      <td>1480.0</td>\n",
       "      <td>5285988458456.0</td>\n",
       "    </tr>\n",
       "    <tr>\n",
       "      <th>17</th>\n",
       "      <td>17</td>\n",
       "      <td>1513</td>\n",
       "      <td>11.0</td>\n",
       "      <td>1343.0</td>\n",
       "      <td>10.0</td>\n",
       "      <td>nhbgvfrtd 56gyub</td>\n",
       "      <td>81.0</td>\n",
       "      <td>1205.0</td>\n",
       "      <td>18.0</td>\n",
       "      <td>7.0</td>\n",
       "      <td>...</td>\n",
       "      <td>0.0</td>\n",
       "      <td>0.0</td>\n",
       "      <td>8.0</td>\n",
       "      <td>1.0</td>\n",
       "      <td>1.0</td>\n",
       "      <td>462.0</td>\n",
       "      <td>9156615</td>\n",
       "      <td>14.0</td>\n",
       "      <td>1063.0</td>\n",
       "      <td>nhbgvfrtd 56gyub</td>\n",
       "    </tr>\n",
       "    <tr>\n",
       "      <th>18</th>\n",
       "      <td>18</td>\n",
       "      <td>2221</td>\n",
       "      <td>14.0</td>\n",
       "      <td>1698.0</td>\n",
       "      <td>20.0</td>\n",
       "      <td>1.0</td>\n",
       "      <td>160.0</td>\n",
       "      <td>994.0</td>\n",
       "      <td>13.0</td>\n",
       "      <td>3.0</td>\n",
       "      <td>...</td>\n",
       "      <td>0.0</td>\n",
       "      <td>0.0</td>\n",
       "      <td>6.0</td>\n",
       "      <td>1.0</td>\n",
       "      <td>0.0</td>\n",
       "      <td>796.0</td>\n",
       "      <td>9156615</td>\n",
       "      <td>18.0</td>\n",
       "      <td>363.0</td>\n",
       "      <td>2.1</td>\n",
       "    </tr>\n",
       "    <tr>\n",
       "      <th>19</th>\n",
       "      <td>19</td>\n",
       "      <td>252</td>\n",
       "      <td>7.0</td>\n",
       "      <td>708.0</td>\n",
       "      <td>7.0</td>\n",
       "      <td>1.0</td>\n",
       "      <td>195.0</td>\n",
       "      <td>654.0</td>\n",
       "      <td>6.0</td>\n",
       "      <td>5.0</td>\n",
       "      <td>...</td>\n",
       "      <td>1.0</td>\n",
       "      <td>1.0</td>\n",
       "      <td>8.0</td>\n",
       "      <td>1.0</td>\n",
       "      <td>1.0</td>\n",
       "      <td>2169.0</td>\n",
       "      <td>9156615</td>\n",
       "      <td>63.0</td>\n",
       "      <td>78.0</td>\n",
       "      <td>2.7</td>\n",
       "    </tr>\n",
       "  </tbody>\n",
       "</table>\n",
       "<p>20 rows × 25 columns</p>\n",
       "</div>"
      ],
      "text/plain": [
       "    Unnamed: 0  index         talk_time battery_power                pc  \\\n",
       "0            0   1517              11.0         911.0               4.0   \n",
       "1            1    911               9.0        1284.0              14.0   \n",
       "2            2   1493               3.0        1183.0  nhbgvfrtd 56gyub   \n",
       "3            3    970               3.0         904.0               9.0   \n",
       "4            4   2187   -948961565145.0        1893.0              11.0   \n",
       "5            5   1200               6.0         530.0              20.0   \n",
       "6            6   1398  nhbgvfrtd 56gyub        1540.0               1.0   \n",
       "7            7   2104              12.0        1265.0            ??????   \n",
       "8            8   1989   -948961565145.0         586.0              11.0   \n",
       "9            9   2053               8.0         637.0               4.0   \n",
       "10          10   1312               6.0        1142.0               0.0   \n",
       "11          11   1442              16.0         973.0            ??????   \n",
       "12          12    979              20.0        1866.0               9.0   \n",
       "13          13   1786               6.0           NaN              16.0   \n",
       "14          14   2441               8.0         977.0               7.0   \n",
       "15          15   2086              13.0        1831.0               5.0   \n",
       "16          16    996   5285988458456.0         774.0   5285988458456.0   \n",
       "17          17   1513              11.0        1343.0              10.0   \n",
       "18          18   2221              14.0        1698.0              20.0   \n",
       "19          19    252               7.0         708.0               7.0   \n",
       "\n",
       "             three_g        mobile_wt          px_width              sc_h  \\\n",
       "0                0.0            199.0            1692.0              16.0   \n",
       "1                0.0            155.0   -948961565145.0              16.0   \n",
       "2                1.0            120.0  nhbgvfrtd 56gyub  nhbgvfrtd 56gyub   \n",
       "3                1.0            102.0               NaN               7.0   \n",
       "4                0.0            134.0   -948961565145.0   -948961565145.0   \n",
       "5                0.0             88.0  nhbgvfrtd 56gyub              17.0   \n",
       "6                1.0            157.0             831.0              11.0   \n",
       "7                0.0           ??????            ??????               5.0   \n",
       "8                0.0             83.0             854.0              12.0   \n",
       "9                1.0             97.0               NaN               NaN   \n",
       "10               1.0            198.0            1766.0              19.0   \n",
       "11               0.0            196.0             588.0              13.0   \n",
       "12               1.0  5285988458456.0            1782.0   5285988458456.0   \n",
       "13               1.0            190.0            1726.0               7.0   \n",
       "14               0.0            181.0             566.0            ??????   \n",
       "15            ??????           ??????            1381.0              17.0   \n",
       "16               1.0            188.0   5285988458456.0               8.0   \n",
       "17  nhbgvfrtd 56gyub             81.0            1205.0              18.0   \n",
       "18               1.0            160.0             994.0              13.0   \n",
       "19               1.0            195.0             654.0               6.0   \n",
       "\n",
       "               sc_w  ...       price_range blue          n_cores  \\\n",
       "0               3.0  ...               3.0  0.0              4.0   \n",
       "1               2.0  ...               1.0  1.0              2.0   \n",
       "2               3.0  ...               0.0  1.0              8.0   \n",
       "3               0.0  ...               1.0  NaN              8.0   \n",
       "4               3.0  ...               3.0  1.0              2.0   \n",
       "5               7.0  ...  nhbgvfrtd 56gyub  0.0              6.0   \n",
       "6               8.0  ...               0.0  0.0              7.0   \n",
       "7               0.0  ...               1.0  0.0              5.0   \n",
       "8               8.0  ...               1.0  0.0  -948961565145.0   \n",
       "9               NaN  ...               NaN  0.0              NaN   \n",
       "10  -948961565145.0  ...               1.0  1.0              4.0   \n",
       "11             10.0  ...            ??????  0.0           ??????   \n",
       "12              4.0  ...               1.0  1.0  5285988458456.0   \n",
       "13              2.0  ...               2.0  NaN              4.0   \n",
       "14           ??????  ...               0.0  1.0           ??????   \n",
       "15           ??????  ...               3.0  0.0              5.0   \n",
       "16              6.0  ...               2.0  0.0              2.0   \n",
       "17              7.0  ...               0.0  0.0              8.0   \n",
       "18              3.0  ...               0.0  0.0              6.0   \n",
       "19              5.0  ...               1.0  1.0              8.0   \n",
       "\n",
       "               wifi          dual_sim               ram     werf  \\\n",
       "0               0.0               1.0            2933.0  9156615   \n",
       "1               1.0               1.0            2197.0  9156615   \n",
       "2               0.0               1.0  nhbgvfrtd 56gyub  9156615   \n",
       "3               1.0               1.0            1846.0  9156615   \n",
       "4               1.0               1.0            3822.0  9156615   \n",
       "5               0.0  nhbgvfrtd 56gyub             959.0  9156615   \n",
       "6               0.0               1.0            1161.0  9156615   \n",
       "7               1.0               0.0            1362.0  9156615   \n",
       "8               0.0   -948961565145.0            2592.0  9156615   \n",
       "9               1.0               0.0             374.0  9156615   \n",
       "10  -948961565145.0               0.0            1273.0  9156615   \n",
       "11              0.0               1.0            1861.0  9156615   \n",
       "12              0.0   5285988458456.0            1444.0  9156615   \n",
       "13              1.0               1.0               NaN  9156615   \n",
       "14              1.0               1.0            1206.0  9156615   \n",
       "15              1.0               1.0            3834.0  9156615   \n",
       "16              1.0               1.0            2944.0  9156615   \n",
       "17              1.0               1.0             462.0  9156615   \n",
       "18              1.0               0.0             796.0  9156615   \n",
       "19              1.0               1.0            2169.0  9156615   \n",
       "\n",
       "          int_memory        px_height       clock_speed  \n",
       "0               14.0           1563.0               1.4  \n",
       "1               10.0            160.0               2.8  \n",
       "2   nhbgvfrtd 56gyub            268.0               0.5  \n",
       "3               14.0             56.0               1.6  \n",
       "4               63.0  -948961565145.0               2.1  \n",
       "5               32.0             48.0               2.4  \n",
       "6               29.0            318.0               0.7  \n",
       "7               49.0           ??????               1.5  \n",
       "8               15.0  -948961565145.0   -948961565145.0  \n",
       "9               60.0           1125.0               2.3  \n",
       "10               6.0            739.0               1.1  \n",
       "11              53.0           ??????               0.5  \n",
       "12   5285988458456.0  5285988458456.0               2.5  \n",
       "13               NaN           1050.0               NaN  \n",
       "14              57.0             63.0               1.1  \n",
       "15            ??????            611.0               1.4  \n",
       "16   5285988458456.0           1480.0   5285988458456.0  \n",
       "17              14.0           1063.0  nhbgvfrtd 56gyub  \n",
       "18              18.0            363.0               2.1  \n",
       "19              63.0             78.0               2.7  \n",
       "\n",
       "[20 rows x 25 columns]"
      ]
     },
     "execution_count": 17,
     "metadata": {},
     "output_type": "execute_result"
    }
   ],
   "source": [
    "ds.head(20)"
   ]
  },
  {
   "cell_type": "code",
   "execution_count": 7,
   "metadata": {},
   "outputs": [
    {
     "data": {
      "text/html": [
       "<div>\n",
       "<style scoped>\n",
       "    .dataframe tbody tr th:only-of-type {\n",
       "        vertical-align: middle;\n",
       "    }\n",
       "\n",
       "    .dataframe tbody tr th {\n",
       "        vertical-align: top;\n",
       "    }\n",
       "\n",
       "    .dataframe thead th {\n",
       "        text-align: right;\n",
       "    }\n",
       "</style>\n",
       "<table border=\"1\" class=\"dataframe\">\n",
       "  <thead>\n",
       "    <tr style=\"text-align: right;\">\n",
       "      <th></th>\n",
       "      <th>47874</th>\n",
       "      <th>65322</th>\n",
       "      <th>5573</th>\n",
       "      <th>42804</th>\n",
       "      <th>61104</th>\n",
       "      <th>9952</th>\n",
       "      <th>50452</th>\n",
       "      <th>23444</th>\n",
       "      <th>57588</th>\n",
       "      <th>24850</th>\n",
       "    </tr>\n",
       "  </thead>\n",
       "  <tbody>\n",
       "    <tr>\n",
       "      <th>Unnamed: 0</th>\n",
       "      <td>47874</td>\n",
       "      <td>65322</td>\n",
       "      <td>5573</td>\n",
       "      <td>42804</td>\n",
       "      <td>61104</td>\n",
       "      <td>9952</td>\n",
       "      <td>50452</td>\n",
       "      <td>23444</td>\n",
       "      <td>57588</td>\n",
       "      <td>24850</td>\n",
       "    </tr>\n",
       "    <tr>\n",
       "      <th>index</th>\n",
       "      <td>1820</td>\n",
       "      <td>1650</td>\n",
       "      <td>461</td>\n",
       "      <td>1753</td>\n",
       "      <td>23</td>\n",
       "      <td>864</td>\n",
       "      <td>926</td>\n",
       "      <td>2075</td>\n",
       "      <td>559</td>\n",
       "      <td>907</td>\n",
       "    </tr>\n",
       "    <tr>\n",
       "      <th>talk_time</th>\n",
       "      <td>15.0</td>\n",
       "      <td>10.0</td>\n",
       "      <td>7.0</td>\n",
       "      <td>5.0</td>\n",
       "      <td>20.0</td>\n",
       "      <td>10.0</td>\n",
       "      <td>6.0</td>\n",
       "      <td>5285988458456.0</td>\n",
       "      <td>8.0</td>\n",
       "      <td>18.0</td>\n",
       "    </tr>\n",
       "    <tr>\n",
       "      <th>battery_power</th>\n",
       "      <td>5285988458456.0</td>\n",
       "      <td>1948.0</td>\n",
       "      <td>1512.0</td>\n",
       "      <td>995.0</td>\n",
       "      <td>1602.0</td>\n",
       "      <td>1296.0</td>\n",
       "      <td>1496.0</td>\n",
       "      <td>947.0</td>\n",
       "      <td>-948961565145.0</td>\n",
       "      <td>5285988458456.0</td>\n",
       "    </tr>\n",
       "    <tr>\n",
       "      <th>pc</th>\n",
       "      <td>5285988458456.0</td>\n",
       "      <td>13.0</td>\n",
       "      <td>17.0</td>\n",
       "      <td>5285988458456.0</td>\n",
       "      <td>-948961565145.0</td>\n",
       "      <td>4.0</td>\n",
       "      <td>14.0</td>\n",
       "      <td>13.0</td>\n",
       "      <td>7.0</td>\n",
       "      <td>12.0</td>\n",
       "    </tr>\n",
       "    <tr>\n",
       "      <th>three_g</th>\n",
       "      <td>1.0</td>\n",
       "      <td>0.0</td>\n",
       "      <td>1.0</td>\n",
       "      <td>1.0</td>\n",
       "      <td>-948961565145.0</td>\n",
       "      <td>1.0</td>\n",
       "      <td>0.0</td>\n",
       "      <td>1.0</td>\n",
       "      <td>1.0</td>\n",
       "      <td>5285988458456.0</td>\n",
       "    </tr>\n",
       "    <tr>\n",
       "      <th>mobile_wt</th>\n",
       "      <td>185.0</td>\n",
       "      <td>136.0</td>\n",
       "      <td>162.0</td>\n",
       "      <td>5285988458456.0</td>\n",
       "      <td>114.0</td>\n",
       "      <td>129.0</td>\n",
       "      <td>126.0</td>\n",
       "      <td>197.0</td>\n",
       "      <td>169.0</td>\n",
       "      <td>87.0</td>\n",
       "    </tr>\n",
       "    <tr>\n",
       "      <th>px_width</th>\n",
       "      <td>1804.0</td>\n",
       "      <td>700.0</td>\n",
       "      <td>884.0</td>\n",
       "      <td>1889.0</td>\n",
       "      <td>788.0</td>\n",
       "      <td>nhbgvfrtd 56gyub</td>\n",
       "      <td>506.0</td>\n",
       "      <td>1220.0</td>\n",
       "      <td>-948961565145.0</td>\n",
       "      <td>1108.0</td>\n",
       "    </tr>\n",
       "    <tr>\n",
       "      <th>sc_h</th>\n",
       "      <td>5.0</td>\n",
       "      <td>6.0</td>\n",
       "      <td>15.0</td>\n",
       "      <td>11.0</td>\n",
       "      <td>8.0</td>\n",
       "      <td>19.0</td>\n",
       "      <td>17.0</td>\n",
       "      <td>16.0</td>\n",
       "      <td>14.0</td>\n",
       "      <td>14.0</td>\n",
       "    </tr>\n",
       "    <tr>\n",
       "      <th>sc_w</th>\n",
       "      <td>5285988458456.0</td>\n",
       "      <td>1.0</td>\n",
       "      <td>7.0</td>\n",
       "      <td>3.0</td>\n",
       "      <td>7.0</td>\n",
       "      <td>8.0</td>\n",
       "      <td>4.0</td>\n",
       "      <td>12.0</td>\n",
       "      <td>-948961565145.0</td>\n",
       "      <td>10.0</td>\n",
       "    </tr>\n",
       "    <tr>\n",
       "      <th>m_dep</th>\n",
       "      <td>0.1</td>\n",
       "      <td>0.2</td>\n",
       "      <td>nhbgvfrtd 56gyub</td>\n",
       "      <td>0.1</td>\n",
       "      <td>-948961565145.0</td>\n",
       "      <td>0.2</td>\n",
       "      <td>0.1</td>\n",
       "      <td>0.1</td>\n",
       "      <td>0.9</td>\n",
       "      <td>0.3</td>\n",
       "    </tr>\n",
       "    <tr>\n",
       "      <th>touch_screen</th>\n",
       "      <td>5285988458456.0</td>\n",
       "      <td>1.0</td>\n",
       "      <td>nhbgvfrtd 56gyub</td>\n",
       "      <td>0.0</td>\n",
       "      <td>0.0</td>\n",
       "      <td>1.0</td>\n",
       "      <td>0.0</td>\n",
       "      <td>0.0</td>\n",
       "      <td>-948961565145.0</td>\n",
       "      <td>0.0</td>\n",
       "    </tr>\n",
       "    <tr>\n",
       "      <th>fc</th>\n",
       "      <td>0.0</td>\n",
       "      <td>4.0</td>\n",
       "      <td>12.0</td>\n",
       "      <td>5285988458456.0</td>\n",
       "      <td>-948961565145.0</td>\n",
       "      <td>nhbgvfrtd 56gyub</td>\n",
       "      <td>??????</td>\n",
       "      <td>0.0</td>\n",
       "      <td>-948961565145.0</td>\n",
       "      <td>5.0</td>\n",
       "    </tr>\n",
       "    <tr>\n",
       "      <th>four_g</th>\n",
       "      <td>1.0</td>\n",
       "      <td>0.0</td>\n",
       "      <td>0.0</td>\n",
       "      <td>0.0</td>\n",
       "      <td>1.0</td>\n",
       "      <td>0.0</td>\n",
       "      <td>0.0</td>\n",
       "      <td>1.0</td>\n",
       "      <td>-948961565145.0</td>\n",
       "      <td>0.0</td>\n",
       "    </tr>\n",
       "    <tr>\n",
       "      <th>hgv</th>\n",
       "      <td>15.0</td>\n",
       "      <td>10.0</td>\n",
       "      <td>7.0</td>\n",
       "      <td>5.0</td>\n",
       "      <td>20.0</td>\n",
       "      <td>10.0</td>\n",
       "      <td>6.0</td>\n",
       "      <td>5285988458456.0</td>\n",
       "      <td>8.0</td>\n",
       "      <td>18.0</td>\n",
       "    </tr>\n",
       "    <tr>\n",
       "      <th>price_range</th>\n",
       "      <td>5285988458456.0</td>\n",
       "      <td>0.0</td>\n",
       "      <td>nhbgvfrtd 56gyub</td>\n",
       "      <td>5285988458456.0</td>\n",
       "      <td>0.0</td>\n",
       "      <td>2.0</td>\n",
       "      <td>1.0</td>\n",
       "      <td>2.0</td>\n",
       "      <td>0.0</td>\n",
       "      <td>0.0</td>\n",
       "    </tr>\n",
       "    <tr>\n",
       "      <th>blue</th>\n",
       "      <td>5285988458456.0</td>\n",
       "      <td>0.0</td>\n",
       "      <td>nhbgvfrtd 56gyub</td>\n",
       "      <td>0.0</td>\n",
       "      <td>1.0</td>\n",
       "      <td>0.0</td>\n",
       "      <td>1.0</td>\n",
       "      <td>0.0</td>\n",
       "      <td>0.0</td>\n",
       "      <td>5285988458456.0</td>\n",
       "    </tr>\n",
       "    <tr>\n",
       "      <th>n_cores</th>\n",
       "      <td>5.0</td>\n",
       "      <td>1.0</td>\n",
       "      <td>7.0</td>\n",
       "      <td>5285988458456.0</td>\n",
       "      <td>3.0</td>\n",
       "      <td>7.0</td>\n",
       "      <td>4.0</td>\n",
       "      <td>2.0</td>\n",
       "      <td>1.0</td>\n",
       "      <td>1.0</td>\n",
       "    </tr>\n",
       "    <tr>\n",
       "      <th>wifi</th>\n",
       "      <td>0.0</td>\n",
       "      <td>0.0</td>\n",
       "      <td>nhbgvfrtd 56gyub</td>\n",
       "      <td>1.0</td>\n",
       "      <td>0.0</td>\n",
       "      <td>1.0</td>\n",
       "      <td>??????</td>\n",
       "      <td>0.0</td>\n",
       "      <td>1.0</td>\n",
       "      <td>5285988458456.0</td>\n",
       "    </tr>\n",
       "    <tr>\n",
       "      <th>dual_sim</th>\n",
       "      <td>0.0</td>\n",
       "      <td>1.0</td>\n",
       "      <td>0.0</td>\n",
       "      <td>1.0</td>\n",
       "      <td>1.0</td>\n",
       "      <td>1.0</td>\n",
       "      <td>1.0</td>\n",
       "      <td>1.0</td>\n",
       "      <td>1.0</td>\n",
       "      <td>0.0</td>\n",
       "    </tr>\n",
       "    <tr>\n",
       "      <th>ram</th>\n",
       "      <td>5285988458456.0</td>\n",
       "      <td>361.0</td>\n",
       "      <td>2335.0</td>\n",
       "      <td>609.0</td>\n",
       "      <td>-948961565145.0</td>\n",
       "      <td>2552.0</td>\n",
       "      <td>1927.0</td>\n",
       "      <td>2842.0</td>\n",
       "      <td>1028.0</td>\n",
       "      <td>656.0</td>\n",
       "    </tr>\n",
       "    <tr>\n",
       "      <th>werf</th>\n",
       "      <td>9156615</td>\n",
       "      <td>9156615</td>\n",
       "      <td>9156615</td>\n",
       "      <td>9156615</td>\n",
       "      <td>9156615</td>\n",
       "      <td>9156615</td>\n",
       "      <td>9156615</td>\n",
       "      <td>9156615</td>\n",
       "      <td>9156615</td>\n",
       "      <td>9156615</td>\n",
       "    </tr>\n",
       "    <tr>\n",
       "      <th>int_memory</th>\n",
       "      <td>NaN</td>\n",
       "      <td>5.0</td>\n",
       "      <td>6.0</td>\n",
       "      <td>10.0</td>\n",
       "      <td>-948961565145.0</td>\n",
       "      <td>11.0</td>\n",
       "      <td>38.0</td>\n",
       "      <td>5285988458456.0</td>\n",
       "      <td>13.0</td>\n",
       "      <td>53.0</td>\n",
       "    </tr>\n",
       "    <tr>\n",
       "      <th>px_height</th>\n",
       "      <td>5285988458456.0</td>\n",
       "      <td>651.0</td>\n",
       "      <td>205.0</td>\n",
       "      <td>258.0</td>\n",
       "      <td>466.0</td>\n",
       "      <td>1222.0</td>\n",
       "      <td>??????</td>\n",
       "      <td>1176.0</td>\n",
       "      <td>179.0</td>\n",
       "      <td>191.0</td>\n",
       "    </tr>\n",
       "    <tr>\n",
       "      <th>clock_speed</th>\n",
       "      <td>0.7</td>\n",
       "      <td>2.9</td>\n",
       "      <td>1.7</td>\n",
       "      <td>1.3</td>\n",
       "      <td>2.8</td>\n",
       "      <td>nhbgvfrtd 56gyub</td>\n",
       "      <td>1.9</td>\n",
       "      <td>5285988458456.0</td>\n",
       "      <td>2.4</td>\n",
       "      <td>3.0</td>\n",
       "    </tr>\n",
       "  </tbody>\n",
       "</table>\n",
       "</div>"
      ],
      "text/plain": [
       "                         47874    65322             5573             42804  \\\n",
       "Unnamed: 0               47874    65322              5573            42804   \n",
       "index                     1820     1650               461             1753   \n",
       "talk_time                 15.0     10.0               7.0              5.0   \n",
       "battery_power  5285988458456.0   1948.0            1512.0            995.0   \n",
       "pc             5285988458456.0     13.0              17.0  5285988458456.0   \n",
       "three_g                    1.0      0.0               1.0              1.0   \n",
       "mobile_wt                185.0    136.0             162.0  5285988458456.0   \n",
       "px_width                1804.0    700.0             884.0           1889.0   \n",
       "sc_h                       5.0      6.0              15.0             11.0   \n",
       "sc_w           5285988458456.0      1.0               7.0              3.0   \n",
       "m_dep                      0.1      0.2  nhbgvfrtd 56gyub              0.1   \n",
       "touch_screen   5285988458456.0      1.0  nhbgvfrtd 56gyub              0.0   \n",
       "fc                         0.0      4.0              12.0  5285988458456.0   \n",
       "four_g                     1.0      0.0               0.0              0.0   \n",
       "hgv                       15.0     10.0               7.0              5.0   \n",
       "price_range    5285988458456.0      0.0  nhbgvfrtd 56gyub  5285988458456.0   \n",
       "blue           5285988458456.0      0.0  nhbgvfrtd 56gyub              0.0   \n",
       "n_cores                    5.0      1.0               7.0  5285988458456.0   \n",
       "wifi                       0.0      0.0  nhbgvfrtd 56gyub              1.0   \n",
       "dual_sim                   0.0      1.0               0.0              1.0   \n",
       "ram            5285988458456.0    361.0            2335.0            609.0   \n",
       "werf                   9156615  9156615           9156615          9156615   \n",
       "int_memory                 NaN      5.0               6.0             10.0   \n",
       "px_height      5285988458456.0    651.0             205.0            258.0   \n",
       "clock_speed                0.7      2.9               1.7              1.3   \n",
       "\n",
       "                         61104             9952     50452            23444  \\\n",
       "Unnamed: 0               61104              9952    50452            23444   \n",
       "index                       23               864      926             2075   \n",
       "talk_time                 20.0              10.0      6.0  5285988458456.0   \n",
       "battery_power           1602.0            1296.0   1496.0            947.0   \n",
       "pc             -948961565145.0               4.0     14.0             13.0   \n",
       "three_g        -948961565145.0               1.0      0.0              1.0   \n",
       "mobile_wt                114.0             129.0    126.0            197.0   \n",
       "px_width                 788.0  nhbgvfrtd 56gyub    506.0           1220.0   \n",
       "sc_h                       8.0              19.0     17.0             16.0   \n",
       "sc_w                       7.0               8.0      4.0             12.0   \n",
       "m_dep          -948961565145.0               0.2      0.1              0.1   \n",
       "touch_screen               0.0               1.0      0.0              0.0   \n",
       "fc             -948961565145.0  nhbgvfrtd 56gyub   ??????              0.0   \n",
       "four_g                     1.0               0.0      0.0              1.0   \n",
       "hgv                       20.0              10.0      6.0  5285988458456.0   \n",
       "price_range                0.0               2.0      1.0              2.0   \n",
       "blue                       1.0               0.0      1.0              0.0   \n",
       "n_cores                    3.0               7.0      4.0              2.0   \n",
       "wifi                       0.0               1.0   ??????              0.0   \n",
       "dual_sim                   1.0               1.0      1.0              1.0   \n",
       "ram            -948961565145.0            2552.0   1927.0           2842.0   \n",
       "werf                   9156615           9156615  9156615          9156615   \n",
       "int_memory     -948961565145.0              11.0     38.0  5285988458456.0   \n",
       "px_height                466.0            1222.0   ??????           1176.0   \n",
       "clock_speed                2.8  nhbgvfrtd 56gyub      1.9  5285988458456.0   \n",
       "\n",
       "                         57588            24850  \n",
       "Unnamed: 0               57588            24850  \n",
       "index                      559              907  \n",
       "talk_time                  8.0             18.0  \n",
       "battery_power  -948961565145.0  5285988458456.0  \n",
       "pc                         7.0             12.0  \n",
       "three_g                    1.0  5285988458456.0  \n",
       "mobile_wt                169.0             87.0  \n",
       "px_width       -948961565145.0           1108.0  \n",
       "sc_h                      14.0             14.0  \n",
       "sc_w           -948961565145.0             10.0  \n",
       "m_dep                      0.9              0.3  \n",
       "touch_screen   -948961565145.0              0.0  \n",
       "fc             -948961565145.0              5.0  \n",
       "four_g         -948961565145.0              0.0  \n",
       "hgv                        8.0             18.0  \n",
       "price_range                0.0              0.0  \n",
       "blue                       0.0  5285988458456.0  \n",
       "n_cores                    1.0              1.0  \n",
       "wifi                       1.0  5285988458456.0  \n",
       "dual_sim                   1.0              0.0  \n",
       "ram                     1028.0            656.0  \n",
       "werf                   9156615          9156615  \n",
       "int_memory                13.0             53.0  \n",
       "px_height                179.0            191.0  \n",
       "clock_speed                2.4              3.0  "
      ]
     },
     "execution_count": 7,
     "metadata": {},
     "output_type": "execute_result"
    }
   ],
   "source": [
    "# Se mira 10 valores aleatorios para dar un primer vistado al ds\n",
    "ds.sample(10).T"
   ]
  },
  {
   "cell_type": "code",
   "execution_count": 8,
   "metadata": {},
   "outputs": [
    {
     "name": "stdout",
     "output_type": "stream",
     "text": [
      "-------------------------------------------------------------\n",
      "Unnamed: 0 = [    0     1     2 ... 74787 74788 74789]\n",
      "Number option 74790\n",
      "-------------------------------------------------------------\n",
      "index = [1517  911 1493 ... 1192 1495 1181]\n",
      "Number option 2493\n",
      "-------------------------------------------------------------\n",
      "talk_time = ['11.0' '9.0' '3.0' '-948961565145.0' '6.0' 'nhbgvfrtd 56gyub' '12.0'\n",
      " '8.0' '16.0' '20.0' '13.0' '5285988458456.0' '14.0' '7.0' nan '19.0'\n",
      " '10.0' '15.0' '4.0' '18.0' '??????' '17.0' '5.0' '2.0']\n",
      "Number option 24\n",
      "-------------------------------------------------------------\n",
      "battery_power = ['911.0' '1284.0' '1183.0' ... '527.0' '1542.0' '846.0']\n",
      "Number option 1099\n",
      "-------------------------------------------------------------\n",
      "pc = ['4.0' '14.0' 'nhbgvfrtd 56gyub' '9.0' '11.0' '20.0' '1.0' '??????' '0.0'\n",
      " '16.0' '7.0' '5.0' '5285988458456.0' '10.0' '8.0' '12.0' '6.0' '2.0'\n",
      " '13.0' '17.0' '19.0' '18.0' '15.0' '-948961565145.0' nan '3.0']\n",
      "Number option 26\n",
      "-------------------------------------------------------------\n",
      "three_g = ['0.0' '1.0' '??????' 'nhbgvfrtd 56gyub' nan '-948961565145.0'\n",
      " '5285988458456.0']\n",
      "Number option 7\n",
      "-------------------------------------------------------------\n",
      "mobile_wt = ['199.0' '155.0' '120.0' '102.0' '134.0' '88.0' '157.0' '??????' '83.0'\n",
      " '97.0' '198.0' '196.0' '5285988458456.0' '190.0' '181.0' '188.0' '81.0'\n",
      " '160.0' '195.0' nan '89.0' '172.0' '143.0' '130.0' '82.0' '129.0' '182.0'\n",
      " '176.0' '92.0' '164.0' '112.0' '138.0' '137.0' '135.0' '103.0' '85.0'\n",
      " '200.0' '166.0' '148.0' '147.0' '108.0' '144.0' '104.0' '86.0' '101.0'\n",
      " '117.0' '152.0' '197.0' '187.0' '189.0' '111.0' '116.0' '178.0' '122.0'\n",
      " 'nhbgvfrtd 56gyub' '150.0' '153.0' '96.0' '105.0' '149.0' '154.0' '194.0'\n",
      " '118.0' '115.0' '128.0' '161.0' '80.0' '170.0' '-948961565145.0' '173.0'\n",
      " '123.0' '100.0' '106.0' '124.0' '163.0' '126.0' '84.0' '184.0' '139.0'\n",
      " '114.0' '191.0' '159.0' '109.0' '168.0' '107.0' '180.0' '145.0' '121.0'\n",
      " '177.0' '127.0' '165.0' '151.0' '95.0' '146.0' '133.0' '186.0' '192.0'\n",
      " '193.0' '141.0' '93.0' '185.0' '183.0' '119.0' '167.0' '136.0' '175.0'\n",
      " '156.0' '125.0' '169.0' '132.0' '87.0' '142.0' '113.0' '179.0' '162.0'\n",
      " '140.0' '99.0' '94.0' '158.0' '174.0' '90.0' '110.0' '171.0' '91.0'\n",
      " '98.0' '131.0']\n",
      "Number option 126\n",
      "-------------------------------------------------------------\n",
      "px_width = ['1692.0' '-948961565145.0' 'nhbgvfrtd 56gyub' ... '529.0' '1375.0'\n",
      " '1788.0']\n",
      "Number option 1113\n",
      "-------------------------------------------------------------\n",
      "sc_h = ['16.0' 'nhbgvfrtd 56gyub' '7.0' '-948961565145.0' '17.0' '11.0' '5.0'\n",
      " '12.0' nan '19.0' '13.0' '5285988458456.0' '??????' '8.0' '18.0' '6.0'\n",
      " '14.0' '15.0' '10.0' '9.0']\n",
      "Number option 20\n",
      "-------------------------------------------------------------\n",
      "sc_w = ['3.0' '2.0' '0.0' '7.0' '8.0' nan '-948961565145.0' '10.0' '4.0' '??????'\n",
      " '6.0' '5.0' '9.0' '15.0' '13.0' '5285988458456.0' '1.0' '14.0' '11.0'\n",
      " 'nhbgvfrtd 56gyub' '16.0' '17.0' '12.0' '18.0']\n",
      "Number option 24\n",
      "-------------------------------------------------------------\n",
      "m_dep = ['0.7' '-948961565145.0' '0.1' '0.2' '0.3' 'nhbgvfrtd 56gyub' '??????'\n",
      " '0.8' '0.5' nan '0.6' '0.9' '5285988458456.0' '1.0' '0.4']\n",
      "Number option 15\n",
      "-------------------------------------------------------------\n",
      "touch_screen = ['1.0' '0.0' 'nhbgvfrtd 56gyub' nan '??????' '5285988458456.0'\n",
      " '-948961565145.0']\n",
      "Number option 7\n",
      "-------------------------------------------------------------\n",
      "fc = ['3.0' '0.0' nan '8.0' '1.0' 'nhbgvfrtd 56gyub' '7.0' '2.0' '5.0' '??????'\n",
      " '6.0' '-948961565145.0' '5285988458456.0' '4.0' '10.0' '9.0' '17.0'\n",
      " '14.0' '11.0' '15.0' '16.0' '18.0' '12.0' '13.0' '19.0']\n",
      "Number option 25\n",
      "-------------------------------------------------------------\n",
      "four_g = ['0.0' '1.0' '5285988458456.0' nan '-948961565145.0' '??????'\n",
      " 'nhbgvfrtd 56gyub']\n",
      "Number option 7\n",
      "-------------------------------------------------------------\n",
      "hgv = ['11.0' '9.0' '3.0' '-948961565145.0' '6.0' 'nhbgvfrtd 56gyub' '12.0'\n",
      " '8.0' '16.0' '20.0' '13.0' '5285988458456.0' '14.0' '7.0' nan '19.0'\n",
      " '10.0' '15.0' '4.0' '18.0' '??????' '17.0' '5.0' '2.0']\n",
      "Number option 24\n",
      "-------------------------------------------------------------\n",
      "price_range = ['3.0' '1.0' '0.0' 'nhbgvfrtd 56gyub' nan '??????' '2.0' '-948961565145.0'\n",
      " '5285988458456.0']\n",
      "Number option 9\n",
      "-------------------------------------------------------------\n",
      "blue = ['0.0' '1.0' nan '5285988458456.0' '-948961565145.0' 'nhbgvfrtd 56gyub'\n",
      " '??????']\n",
      "Number option 7\n",
      "-------------------------------------------------------------\n",
      "n_cores = ['4.0' '2.0' '8.0' '6.0' '7.0' '5.0' '-948961565145.0' nan '??????'\n",
      " '5285988458456.0' '1.0' '3.0' 'nhbgvfrtd 56gyub']\n",
      "Number option 13\n",
      "-------------------------------------------------------------\n",
      "wifi = ['0.0' '1.0' '-948961565145.0' nan '5285988458456.0' 'nhbgvfrtd 56gyub'\n",
      " '??????']\n",
      "Number option 7\n",
      "-------------------------------------------------------------\n",
      "dual_sim = ['1.0' 'nhbgvfrtd 56gyub' '0.0' '-948961565145.0' '5285988458456.0' nan\n",
      " '??????']\n",
      "Number option 7\n",
      "-------------------------------------------------------------\n",
      "ram = ['2933.0' '2197.0' 'nhbgvfrtd 56gyub' ... '1788.0' '2487.0' '2351.0']\n",
      "Number option 1565\n",
      "-------------------------------------------------------------\n",
      "werf = [9156615]\n",
      "Number option 1\n",
      "-------------------------------------------------------------\n",
      "int_memory = ['14.0' '10.0' 'nhbgvfrtd 56gyub' '63.0' '32.0' '29.0' '49.0' '15.0'\n",
      " '60.0' '6.0' '53.0' '5285988458456.0' nan '57.0' '??????' '18.0' '46.0'\n",
      " '61.0' '26.0' '43.0' '17.0' '45.0' '50.0' '5.0' '4.0' '40.0' '31.0'\n",
      " '21.0' '-948961565145.0' '2.0' '25.0' '28.0' '34.0' '42.0' '36.0' '27.0'\n",
      " '19.0' '16.0' '52.0' '38.0' '37.0' '9.0' '33.0' '8.0' '62.0' '20.0'\n",
      " '51.0' '56.0' '39.0' '30.0' '11.0' '58.0' '7.0' '35.0' '54.0' '12.0'\n",
      " '22.0' '24.0' '59.0' '41.0' '55.0' '3.0' '48.0' '13.0' '47.0' '44.0'\n",
      " '23.0' '64.0']\n",
      "Number option 68\n",
      "-------------------------------------------------------------\n",
      "px_height = ['1563.0' '160.0' '268.0' ... '1406.0' '616.0' '1260.0']\n",
      "Number option 1142\n",
      "-------------------------------------------------------------\n",
      "clock_speed = ['1.4' '2.8' '0.5' '1.6' '2.1' '2.4' '0.7' '1.5' '-948961565145.0' '2.3'\n",
      " '1.1' '2.5' nan '5285988458456.0' 'nhbgvfrtd 56gyub' '2.7' '0.6' '1.3'\n",
      " '2.2' '1.2' '1.0' '0.8' '??????' '2.6' '2.9' '1.9' '0.9' '1.7' '1.8'\n",
      " '3.0' '2.0']\n",
      "Number option 31\n",
      "-------------------------------------------------------------\n"
     ]
    }
   ],
   "source": [
    "# se observan los valores de cada columna\n",
    "\n",
    "print(\"-------------------------------------------------------------\")\n",
    "for col in ds:\n",
    "    print(f\"{col} = {ds[col].unique()}\")\n",
    "    print(\"Number option\",f\"{len(ds[col].unique())}\")\n",
    "    print(\"-------------------------------------------------------------\")"
   ]
  },
  {
   "cell_type": "code",
   "execution_count": 18,
   "metadata": {},
   "outputs": [
    {
     "data": {
      "application/vnd.plotly.v1+json": {
       "config": {
        "plotlyServerURL": "https://plot.ly"
       },
       "data": [
        {
         "alignmentgroup": "True",
         "hovertemplate": "color=Unnamed: 0<br>index=%{x}<br>value=%{y}<extra></extra>",
         "legendgroup": "Unnamed: 0",
         "marker": {
          "color": "#636efa",
          "pattern": {
           "shape": ""
          }
         },
         "name": "Unnamed: 0",
         "offsetgroup": "Unnamed: 0",
         "orientation": "v",
         "showlegend": true,
         "textposition": "auto",
         "type": "bar",
         "x": [
          "Unnamed: 0"
         ],
         "xaxis": "x",
         "y": [
          0
         ],
         "yaxis": "y"
        },
        {
         "alignmentgroup": "True",
         "hovertemplate": "color=index<br>index=%{x}<br>value=%{y}<extra></extra>",
         "legendgroup": "index",
         "marker": {
          "color": "#EF553B",
          "pattern": {
           "shape": ""
          }
         },
         "name": "index",
         "offsetgroup": "index",
         "orientation": "v",
         "showlegend": true,
         "textposition": "auto",
         "type": "bar",
         "x": [
          "index"
         ],
         "xaxis": "x",
         "y": [
          0
         ],
         "yaxis": "y"
        },
        {
         "alignmentgroup": "True",
         "hovertemplate": "color=talk_time<br>index=%{x}<br>value=%{y}<extra></extra>",
         "legendgroup": "talk_time",
         "marker": {
          "color": "#00cc96",
          "pattern": {
           "shape": ""
          }
         },
         "name": "talk_time",
         "offsetgroup": "talk_time",
         "orientation": "v",
         "showlegend": true,
         "textposition": "auto",
         "type": "bar",
         "x": [
          "talk_time"
         ],
         "xaxis": "x",
         "y": [
          2800
         ],
         "yaxis": "y"
        },
        {
         "alignmentgroup": "True",
         "hovertemplate": "color=battery_power<br>index=%{x}<br>value=%{y}<extra></extra>",
         "legendgroup": "battery_power",
         "marker": {
          "color": "#ab63fa",
          "pattern": {
           "shape": ""
          }
         },
         "name": "battery_power",
         "offsetgroup": "battery_power",
         "orientation": "v",
         "showlegend": true,
         "textposition": "auto",
         "type": "bar",
         "x": [
          "battery_power"
         ],
         "xaxis": "x",
         "y": [
          2820
         ],
         "yaxis": "y"
        },
        {
         "alignmentgroup": "True",
         "hovertemplate": "color=pc<br>index=%{x}<br>value=%{y}<extra></extra>",
         "legendgroup": "pc",
         "marker": {
          "color": "#FFA15A",
          "pattern": {
           "shape": ""
          }
         },
         "name": "pc",
         "offsetgroup": "pc",
         "orientation": "v",
         "showlegend": true,
         "textposition": "auto",
         "type": "bar",
         "x": [
          "pc"
         ],
         "xaxis": "x",
         "y": [
          2650
         ],
         "yaxis": "y"
        },
        {
         "alignmentgroup": "True",
         "hovertemplate": "color=three_g<br>index=%{x}<br>value=%{y}<extra></extra>",
         "legendgroup": "three_g",
         "marker": {
          "color": "#19d3f3",
          "pattern": {
           "shape": ""
          }
         },
         "name": "three_g",
         "offsetgroup": "three_g",
         "orientation": "v",
         "showlegend": true,
         "textposition": "auto",
         "type": "bar",
         "x": [
          "three_g"
         ],
         "xaxis": "x",
         "y": [
          2720
         ],
         "yaxis": "y"
        },
        {
         "alignmentgroup": "True",
         "hovertemplate": "color=mobile_wt<br>index=%{x}<br>value=%{y}<extra></extra>",
         "legendgroup": "mobile_wt",
         "marker": {
          "color": "#FF6692",
          "pattern": {
           "shape": ""
          }
         },
         "name": "mobile_wt",
         "offsetgroup": "mobile_wt",
         "orientation": "v",
         "showlegend": true,
         "textposition": "auto",
         "type": "bar",
         "x": [
          "mobile_wt"
         ],
         "xaxis": "x",
         "y": [
          2740
         ],
         "yaxis": "y"
        },
        {
         "alignmentgroup": "True",
         "hovertemplate": "color=px_width<br>index=%{x}<br>value=%{y}<extra></extra>",
         "legendgroup": "px_width",
         "marker": {
          "color": "#B6E880",
          "pattern": {
           "shape": ""
          }
         },
         "name": "px_width",
         "offsetgroup": "px_width",
         "orientation": "v",
         "showlegend": true,
         "textposition": "auto",
         "type": "bar",
         "x": [
          "px_width"
         ],
         "xaxis": "x",
         "y": [
          2820
         ],
         "yaxis": "y"
        },
        {
         "alignmentgroup": "True",
         "hovertemplate": "color=sc_h<br>index=%{x}<br>value=%{y}<extra></extra>",
         "legendgroup": "sc_h",
         "marker": {
          "color": "#FF97FF",
          "pattern": {
           "shape": ""
          }
         },
         "name": "sc_h",
         "offsetgroup": "sc_h",
         "orientation": "v",
         "showlegend": true,
         "textposition": "auto",
         "type": "bar",
         "x": [
          "sc_h"
         ],
         "xaxis": "x",
         "y": [
          2895
         ],
         "yaxis": "y"
        },
        {
         "alignmentgroup": "True",
         "hovertemplate": "color=sc_w<br>index=%{x}<br>value=%{y}<extra></extra>",
         "legendgroup": "sc_w",
         "marker": {
          "color": "#FECB52",
          "pattern": {
           "shape": ""
          }
         },
         "name": "sc_w",
         "offsetgroup": "sc_w",
         "orientation": "v",
         "showlegend": true,
         "textposition": "auto",
         "type": "bar",
         "x": [
          "sc_w"
         ],
         "xaxis": "x",
         "y": [
          2675
         ],
         "yaxis": "y"
        },
        {
         "alignmentgroup": "True",
         "hovertemplate": "color=m_dep<br>index=%{x}<br>value=%{y}<extra></extra>",
         "legendgroup": "m_dep",
         "marker": {
          "color": "#636efa",
          "pattern": {
           "shape": ""
          }
         },
         "name": "m_dep",
         "offsetgroup": "m_dep",
         "orientation": "v",
         "showlegend": true,
         "textposition": "auto",
         "type": "bar",
         "x": [
          "m_dep"
         ],
         "xaxis": "x",
         "y": [
          2835
         ],
         "yaxis": "y"
        },
        {
         "alignmentgroup": "True",
         "hovertemplate": "color=touch_screen<br>index=%{x}<br>value=%{y}<extra></extra>",
         "legendgroup": "touch_screen",
         "marker": {
          "color": "#EF553B",
          "pattern": {
           "shape": ""
          }
         },
         "name": "touch_screen",
         "offsetgroup": "touch_screen",
         "orientation": "v",
         "showlegend": true,
         "textposition": "auto",
         "type": "bar",
         "x": [
          "touch_screen"
         ],
         "xaxis": "x",
         "y": [
          2660
         ],
         "yaxis": "y"
        },
        {
         "alignmentgroup": "True",
         "hovertemplate": "color=fc<br>index=%{x}<br>value=%{y}<extra></extra>",
         "legendgroup": "fc",
         "marker": {
          "color": "#00cc96",
          "pattern": {
           "shape": ""
          }
         },
         "name": "fc",
         "offsetgroup": "fc",
         "orientation": "v",
         "showlegend": true,
         "textposition": "auto",
         "type": "bar",
         "x": [
          "fc"
         ],
         "xaxis": "x",
         "y": [
          2990
         ],
         "yaxis": "y"
        },
        {
         "alignmentgroup": "True",
         "hovertemplate": "color=four_g<br>index=%{x}<br>value=%{y}<extra></extra>",
         "legendgroup": "four_g",
         "marker": {
          "color": "#ab63fa",
          "pattern": {
           "shape": ""
          }
         },
         "name": "four_g",
         "offsetgroup": "four_g",
         "orientation": "v",
         "showlegend": true,
         "textposition": "auto",
         "type": "bar",
         "x": [
          "four_g"
         ],
         "xaxis": "x",
         "y": [
          2965
         ],
         "yaxis": "y"
        },
        {
         "alignmentgroup": "True",
         "hovertemplate": "color=hgv<br>index=%{x}<br>value=%{y}<extra></extra>",
         "legendgroup": "hgv",
         "marker": {
          "color": "#FFA15A",
          "pattern": {
           "shape": ""
          }
         },
         "name": "hgv",
         "offsetgroup": "hgv",
         "orientation": "v",
         "showlegend": true,
         "textposition": "auto",
         "type": "bar",
         "x": [
          "hgv"
         ],
         "xaxis": "x",
         "y": [
          2800
         ],
         "yaxis": "y"
        },
        {
         "alignmentgroup": "True",
         "hovertemplate": "color=price_range<br>index=%{x}<br>value=%{y}<extra></extra>",
         "legendgroup": "price_range",
         "marker": {
          "color": "#19d3f3",
          "pattern": {
           "shape": ""
          }
         },
         "name": "price_range",
         "offsetgroup": "price_range",
         "orientation": "v",
         "showlegend": true,
         "textposition": "auto",
         "type": "bar",
         "x": [
          "price_range"
         ],
         "xaxis": "x",
         "y": [
          3425
         ],
         "yaxis": "y"
        },
        {
         "alignmentgroup": "True",
         "hovertemplate": "color=blue<br>index=%{x}<br>value=%{y}<extra></extra>",
         "legendgroup": "blue",
         "marker": {
          "color": "#FF6692",
          "pattern": {
           "shape": ""
          }
         },
         "name": "blue",
         "offsetgroup": "blue",
         "orientation": "v",
         "showlegend": true,
         "textposition": "auto",
         "type": "bar",
         "x": [
          "blue"
         ],
         "xaxis": "x",
         "y": [
          3005
         ],
         "yaxis": "y"
        },
        {
         "alignmentgroup": "True",
         "hovertemplate": "color=n_cores<br>index=%{x}<br>value=%{y}<extra></extra>",
         "legendgroup": "n_cores",
         "marker": {
          "color": "#B6E880",
          "pattern": {
           "shape": ""
          }
         },
         "name": "n_cores",
         "offsetgroup": "n_cores",
         "orientation": "v",
         "showlegend": true,
         "textposition": "auto",
         "type": "bar",
         "x": [
          "n_cores"
         ],
         "xaxis": "x",
         "y": [
          2775
         ],
         "yaxis": "y"
        },
        {
         "alignmentgroup": "True",
         "hovertemplate": "color=wifi<br>index=%{x}<br>value=%{y}<extra></extra>",
         "legendgroup": "wifi",
         "marker": {
          "color": "#FF97FF",
          "pattern": {
           "shape": ""
          }
         },
         "name": "wifi",
         "offsetgroup": "wifi",
         "orientation": "v",
         "showlegend": true,
         "textposition": "auto",
         "type": "bar",
         "x": [
          "wifi"
         ],
         "xaxis": "x",
         "y": [
          2720
         ],
         "yaxis": "y"
        },
        {
         "alignmentgroup": "True",
         "hovertemplate": "color=dual_sim<br>index=%{x}<br>value=%{y}<extra></extra>",
         "legendgroup": "dual_sim",
         "marker": {
          "color": "#FECB52",
          "pattern": {
           "shape": ""
          }
         },
         "name": "dual_sim",
         "offsetgroup": "dual_sim",
         "orientation": "v",
         "showlegend": true,
         "textposition": "auto",
         "type": "bar",
         "x": [
          "dual_sim"
         ],
         "xaxis": "x",
         "y": [
          2645
         ],
         "yaxis": "y"
        },
        {
         "alignmentgroup": "True",
         "hovertemplate": "color=ram<br>index=%{x}<br>value=%{y}<extra></extra>",
         "legendgroup": "ram",
         "marker": {
          "color": "#636efa",
          "pattern": {
           "shape": ""
          }
         },
         "name": "ram",
         "offsetgroup": "ram",
         "orientation": "v",
         "showlegend": true,
         "textposition": "auto",
         "type": "bar",
         "x": [
          "ram"
         ],
         "xaxis": "x",
         "y": [
          3005
         ],
         "yaxis": "y"
        },
        {
         "alignmentgroup": "True",
         "hovertemplate": "color=werf<br>index=%{x}<br>value=%{y}<extra></extra>",
         "legendgroup": "werf",
         "marker": {
          "color": "#EF553B",
          "pattern": {
           "shape": ""
          }
         },
         "name": "werf",
         "offsetgroup": "werf",
         "orientation": "v",
         "showlegend": true,
         "textposition": "auto",
         "type": "bar",
         "x": [
          "werf"
         ],
         "xaxis": "x",
         "y": [
          0
         ],
         "yaxis": "y"
        },
        {
         "alignmentgroup": "True",
         "hovertemplate": "color=int_memory<br>index=%{x}<br>value=%{y}<extra></extra>",
         "legendgroup": "int_memory",
         "marker": {
          "color": "#00cc96",
          "pattern": {
           "shape": ""
          }
         },
         "name": "int_memory",
         "offsetgroup": "int_memory",
         "orientation": "v",
         "showlegend": true,
         "textposition": "auto",
         "type": "bar",
         "x": [
          "int_memory"
         ],
         "xaxis": "x",
         "y": [
          2885
         ],
         "yaxis": "y"
        },
        {
         "alignmentgroup": "True",
         "hovertemplate": "color=px_height<br>index=%{x}<br>value=%{y}<extra></extra>",
         "legendgroup": "px_height",
         "marker": {
          "color": "#ab63fa",
          "pattern": {
           "shape": ""
          }
         },
         "name": "px_height",
         "offsetgroup": "px_height",
         "orientation": "v",
         "showlegend": true,
         "textposition": "auto",
         "type": "bar",
         "x": [
          "px_height"
         ],
         "xaxis": "x",
         "y": [
          2885
         ],
         "yaxis": "y"
        },
        {
         "alignmentgroup": "True",
         "hovertemplate": "color=clock_speed<br>index=%{x}<br>value=%{y}<extra></extra>",
         "legendgroup": "clock_speed",
         "marker": {
          "color": "#FFA15A",
          "pattern": {
           "shape": ""
          }
         },
         "name": "clock_speed",
         "offsetgroup": "clock_speed",
         "orientation": "v",
         "showlegend": true,
         "textposition": "auto",
         "type": "bar",
         "x": [
          "clock_speed"
         ],
         "xaxis": "x",
         "y": [
          2745
         ],
         "yaxis": "y"
        }
       ],
       "layout": {
        "barmode": "relative",
        "legend": {
         "title": {
          "text": "color"
         },
         "tracegroupgap": 0
        },
        "template": {
         "data": {
          "bar": [
           {
            "error_x": {
             "color": "#2a3f5f"
            },
            "error_y": {
             "color": "#2a3f5f"
            },
            "marker": {
             "line": {
              "color": "#E5ECF6",
              "width": 0.5
             },
             "pattern": {
              "fillmode": "overlay",
              "size": 10,
              "solidity": 0.2
             }
            },
            "type": "bar"
           }
          ],
          "barpolar": [
           {
            "marker": {
             "line": {
              "color": "#E5ECF6",
              "width": 0.5
             },
             "pattern": {
              "fillmode": "overlay",
              "size": 10,
              "solidity": 0.2
             }
            },
            "type": "barpolar"
           }
          ],
          "carpet": [
           {
            "aaxis": {
             "endlinecolor": "#2a3f5f",
             "gridcolor": "white",
             "linecolor": "white",
             "minorgridcolor": "white",
             "startlinecolor": "#2a3f5f"
            },
            "baxis": {
             "endlinecolor": "#2a3f5f",
             "gridcolor": "white",
             "linecolor": "white",
             "minorgridcolor": "white",
             "startlinecolor": "#2a3f5f"
            },
            "type": "carpet"
           }
          ],
          "choropleth": [
           {
            "colorbar": {
             "outlinewidth": 0,
             "ticks": ""
            },
            "type": "choropleth"
           }
          ],
          "contour": [
           {
            "colorbar": {
             "outlinewidth": 0,
             "ticks": ""
            },
            "colorscale": [
             [
              0,
              "#0d0887"
             ],
             [
              0.1111111111111111,
              "#46039f"
             ],
             [
              0.2222222222222222,
              "#7201a8"
             ],
             [
              0.3333333333333333,
              "#9c179e"
             ],
             [
              0.4444444444444444,
              "#bd3786"
             ],
             [
              0.5555555555555556,
              "#d8576b"
             ],
             [
              0.6666666666666666,
              "#ed7953"
             ],
             [
              0.7777777777777778,
              "#fb9f3a"
             ],
             [
              0.8888888888888888,
              "#fdca26"
             ],
             [
              1,
              "#f0f921"
             ]
            ],
            "type": "contour"
           }
          ],
          "contourcarpet": [
           {
            "colorbar": {
             "outlinewidth": 0,
             "ticks": ""
            },
            "type": "contourcarpet"
           }
          ],
          "heatmap": [
           {
            "colorbar": {
             "outlinewidth": 0,
             "ticks": ""
            },
            "colorscale": [
             [
              0,
              "#0d0887"
             ],
             [
              0.1111111111111111,
              "#46039f"
             ],
             [
              0.2222222222222222,
              "#7201a8"
             ],
             [
              0.3333333333333333,
              "#9c179e"
             ],
             [
              0.4444444444444444,
              "#bd3786"
             ],
             [
              0.5555555555555556,
              "#d8576b"
             ],
             [
              0.6666666666666666,
              "#ed7953"
             ],
             [
              0.7777777777777778,
              "#fb9f3a"
             ],
             [
              0.8888888888888888,
              "#fdca26"
             ],
             [
              1,
              "#f0f921"
             ]
            ],
            "type": "heatmap"
           }
          ],
          "heatmapgl": [
           {
            "colorbar": {
             "outlinewidth": 0,
             "ticks": ""
            },
            "colorscale": [
             [
              0,
              "#0d0887"
             ],
             [
              0.1111111111111111,
              "#46039f"
             ],
             [
              0.2222222222222222,
              "#7201a8"
             ],
             [
              0.3333333333333333,
              "#9c179e"
             ],
             [
              0.4444444444444444,
              "#bd3786"
             ],
             [
              0.5555555555555556,
              "#d8576b"
             ],
             [
              0.6666666666666666,
              "#ed7953"
             ],
             [
              0.7777777777777778,
              "#fb9f3a"
             ],
             [
              0.8888888888888888,
              "#fdca26"
             ],
             [
              1,
              "#f0f921"
             ]
            ],
            "type": "heatmapgl"
           }
          ],
          "histogram": [
           {
            "marker": {
             "pattern": {
              "fillmode": "overlay",
              "size": 10,
              "solidity": 0.2
             }
            },
            "type": "histogram"
           }
          ],
          "histogram2d": [
           {
            "colorbar": {
             "outlinewidth": 0,
             "ticks": ""
            },
            "colorscale": [
             [
              0,
              "#0d0887"
             ],
             [
              0.1111111111111111,
              "#46039f"
             ],
             [
              0.2222222222222222,
              "#7201a8"
             ],
             [
              0.3333333333333333,
              "#9c179e"
             ],
             [
              0.4444444444444444,
              "#bd3786"
             ],
             [
              0.5555555555555556,
              "#d8576b"
             ],
             [
              0.6666666666666666,
              "#ed7953"
             ],
             [
              0.7777777777777778,
              "#fb9f3a"
             ],
             [
              0.8888888888888888,
              "#fdca26"
             ],
             [
              1,
              "#f0f921"
             ]
            ],
            "type": "histogram2d"
           }
          ],
          "histogram2dcontour": [
           {
            "colorbar": {
             "outlinewidth": 0,
             "ticks": ""
            },
            "colorscale": [
             [
              0,
              "#0d0887"
             ],
             [
              0.1111111111111111,
              "#46039f"
             ],
             [
              0.2222222222222222,
              "#7201a8"
             ],
             [
              0.3333333333333333,
              "#9c179e"
             ],
             [
              0.4444444444444444,
              "#bd3786"
             ],
             [
              0.5555555555555556,
              "#d8576b"
             ],
             [
              0.6666666666666666,
              "#ed7953"
             ],
             [
              0.7777777777777778,
              "#fb9f3a"
             ],
             [
              0.8888888888888888,
              "#fdca26"
             ],
             [
              1,
              "#f0f921"
             ]
            ],
            "type": "histogram2dcontour"
           }
          ],
          "mesh3d": [
           {
            "colorbar": {
             "outlinewidth": 0,
             "ticks": ""
            },
            "type": "mesh3d"
           }
          ],
          "parcoords": [
           {
            "line": {
             "colorbar": {
              "outlinewidth": 0,
              "ticks": ""
             }
            },
            "type": "parcoords"
           }
          ],
          "pie": [
           {
            "automargin": true,
            "type": "pie"
           }
          ],
          "scatter": [
           {
            "fillpattern": {
             "fillmode": "overlay",
             "size": 10,
             "solidity": 0.2
            },
            "type": "scatter"
           }
          ],
          "scatter3d": [
           {
            "line": {
             "colorbar": {
              "outlinewidth": 0,
              "ticks": ""
             }
            },
            "marker": {
             "colorbar": {
              "outlinewidth": 0,
              "ticks": ""
             }
            },
            "type": "scatter3d"
           }
          ],
          "scattercarpet": [
           {
            "marker": {
             "colorbar": {
              "outlinewidth": 0,
              "ticks": ""
             }
            },
            "type": "scattercarpet"
           }
          ],
          "scattergeo": [
           {
            "marker": {
             "colorbar": {
              "outlinewidth": 0,
              "ticks": ""
             }
            },
            "type": "scattergeo"
           }
          ],
          "scattergl": [
           {
            "marker": {
             "colorbar": {
              "outlinewidth": 0,
              "ticks": ""
             }
            },
            "type": "scattergl"
           }
          ],
          "scattermapbox": [
           {
            "marker": {
             "colorbar": {
              "outlinewidth": 0,
              "ticks": ""
             }
            },
            "type": "scattermapbox"
           }
          ],
          "scatterpolar": [
           {
            "marker": {
             "colorbar": {
              "outlinewidth": 0,
              "ticks": ""
             }
            },
            "type": "scatterpolar"
           }
          ],
          "scatterpolargl": [
           {
            "marker": {
             "colorbar": {
              "outlinewidth": 0,
              "ticks": ""
             }
            },
            "type": "scatterpolargl"
           }
          ],
          "scatterternary": [
           {
            "marker": {
             "colorbar": {
              "outlinewidth": 0,
              "ticks": ""
             }
            },
            "type": "scatterternary"
           }
          ],
          "surface": [
           {
            "colorbar": {
             "outlinewidth": 0,
             "ticks": ""
            },
            "colorscale": [
             [
              0,
              "#0d0887"
             ],
             [
              0.1111111111111111,
              "#46039f"
             ],
             [
              0.2222222222222222,
              "#7201a8"
             ],
             [
              0.3333333333333333,
              "#9c179e"
             ],
             [
              0.4444444444444444,
              "#bd3786"
             ],
             [
              0.5555555555555556,
              "#d8576b"
             ],
             [
              0.6666666666666666,
              "#ed7953"
             ],
             [
              0.7777777777777778,
              "#fb9f3a"
             ],
             [
              0.8888888888888888,
              "#fdca26"
             ],
             [
              1,
              "#f0f921"
             ]
            ],
            "type": "surface"
           }
          ],
          "table": [
           {
            "cells": {
             "fill": {
              "color": "#EBF0F8"
             },
             "line": {
              "color": "white"
             }
            },
            "header": {
             "fill": {
              "color": "#C8D4E3"
             },
             "line": {
              "color": "white"
             }
            },
            "type": "table"
           }
          ]
         },
         "layout": {
          "annotationdefaults": {
           "arrowcolor": "#2a3f5f",
           "arrowhead": 0,
           "arrowwidth": 1
          },
          "autotypenumbers": "strict",
          "coloraxis": {
           "colorbar": {
            "outlinewidth": 0,
            "ticks": ""
           }
          },
          "colorscale": {
           "diverging": [
            [
             0,
             "#8e0152"
            ],
            [
             0.1,
             "#c51b7d"
            ],
            [
             0.2,
             "#de77ae"
            ],
            [
             0.3,
             "#f1b6da"
            ],
            [
             0.4,
             "#fde0ef"
            ],
            [
             0.5,
             "#f7f7f7"
            ],
            [
             0.6,
             "#e6f5d0"
            ],
            [
             0.7,
             "#b8e186"
            ],
            [
             0.8,
             "#7fbc41"
            ],
            [
             0.9,
             "#4d9221"
            ],
            [
             1,
             "#276419"
            ]
           ],
           "sequential": [
            [
             0,
             "#0d0887"
            ],
            [
             0.1111111111111111,
             "#46039f"
            ],
            [
             0.2222222222222222,
             "#7201a8"
            ],
            [
             0.3333333333333333,
             "#9c179e"
            ],
            [
             0.4444444444444444,
             "#bd3786"
            ],
            [
             0.5555555555555556,
             "#d8576b"
            ],
            [
             0.6666666666666666,
             "#ed7953"
            ],
            [
             0.7777777777777778,
             "#fb9f3a"
            ],
            [
             0.8888888888888888,
             "#fdca26"
            ],
            [
             1,
             "#f0f921"
            ]
           ],
           "sequentialminus": [
            [
             0,
             "#0d0887"
            ],
            [
             0.1111111111111111,
             "#46039f"
            ],
            [
             0.2222222222222222,
             "#7201a8"
            ],
            [
             0.3333333333333333,
             "#9c179e"
            ],
            [
             0.4444444444444444,
             "#bd3786"
            ],
            [
             0.5555555555555556,
             "#d8576b"
            ],
            [
             0.6666666666666666,
             "#ed7953"
            ],
            [
             0.7777777777777778,
             "#fb9f3a"
            ],
            [
             0.8888888888888888,
             "#fdca26"
            ],
            [
             1,
             "#f0f921"
            ]
           ]
          },
          "colorway": [
           "#636efa",
           "#EF553B",
           "#00cc96",
           "#ab63fa",
           "#FFA15A",
           "#19d3f3",
           "#FF6692",
           "#B6E880",
           "#FF97FF",
           "#FECB52"
          ],
          "font": {
           "color": "#2a3f5f"
          },
          "geo": {
           "bgcolor": "white",
           "lakecolor": "white",
           "landcolor": "#E5ECF6",
           "showlakes": true,
           "showland": true,
           "subunitcolor": "white"
          },
          "hoverlabel": {
           "align": "left"
          },
          "hovermode": "closest",
          "mapbox": {
           "style": "light"
          },
          "paper_bgcolor": "white",
          "plot_bgcolor": "#E5ECF6",
          "polar": {
           "angularaxis": {
            "gridcolor": "white",
            "linecolor": "white",
            "ticks": ""
           },
           "bgcolor": "#E5ECF6",
           "radialaxis": {
            "gridcolor": "white",
            "linecolor": "white",
            "ticks": ""
           }
          },
          "scene": {
           "xaxis": {
            "backgroundcolor": "#E5ECF6",
            "gridcolor": "white",
            "gridwidth": 2,
            "linecolor": "white",
            "showbackground": true,
            "ticks": "",
            "zerolinecolor": "white"
           },
           "yaxis": {
            "backgroundcolor": "#E5ECF6",
            "gridcolor": "white",
            "gridwidth": 2,
            "linecolor": "white",
            "showbackground": true,
            "ticks": "",
            "zerolinecolor": "white"
           },
           "zaxis": {
            "backgroundcolor": "#E5ECF6",
            "gridcolor": "white",
            "gridwidth": 2,
            "linecolor": "white",
            "showbackground": true,
            "ticks": "",
            "zerolinecolor": "white"
           }
          },
          "shapedefaults": {
           "line": {
            "color": "#2a3f5f"
           }
          },
          "ternary": {
           "aaxis": {
            "gridcolor": "white",
            "linecolor": "white",
            "ticks": ""
           },
           "baxis": {
            "gridcolor": "white",
            "linecolor": "white",
            "ticks": ""
           },
           "bgcolor": "#E5ECF6",
           "caxis": {
            "gridcolor": "white",
            "linecolor": "white",
            "ticks": ""
           }
          },
          "title": {
           "x": 0.05
          },
          "xaxis": {
           "automargin": true,
           "gridcolor": "white",
           "linecolor": "white",
           "ticks": "",
           "title": {
            "standoff": 15
           },
           "zerolinecolor": "white",
           "zerolinewidth": 2
          },
          "yaxis": {
           "automargin": true,
           "gridcolor": "white",
           "linecolor": "white",
           "ticks": "",
           "title": {
            "standoff": 15
           },
           "zerolinecolor": "white",
           "zerolinewidth": 2
          }
         }
        },
        "title": {
         "text": "Percentage of Missing Values per column"
        },
        "xaxis": {
         "anchor": "y",
         "domain": [
          0,
          1
         ],
         "title": {
          "text": "index"
         }
        },
        "yaxis": {
         "anchor": "x",
         "domain": [
          0,
          1
         ],
         "title": {
          "text": "value"
         }
        }
       }
      }
     },
     "metadata": {},
     "output_type": "display_data"
    }
   ],
   "source": [
    "# Cantidad de nulos \n",
    "# pip install nbformat \n",
    "# (ds.isnull().sum()*100/len(ds)).plot.bar(title = 'Percentage of Missing Values per column',color=ds.columns)\n",
    "(ds.isnull().sum()).plot.bar(title = 'Percentage of Missing Values per column',color=ds.columns)"
   ]
  },
  {
   "cell_type": "code",
   "execution_count": 10,
   "metadata": {},
   "outputs": [
    {
     "data": {
      "text/plain": [
       "talk_time        3.743816\n",
       "battery_power    3.770558\n",
       "pc               3.543254\n",
       "three_g          3.636850\n",
       "mobile_wt        3.663591\n",
       "px_width         3.770558\n",
       "sc_h             3.870838\n",
       "sc_w             3.576681\n",
       "m_dep            3.790614\n",
       "touch_screen     3.556625\n",
       "fc               3.997861\n",
       "four_g           3.964434\n",
       "hgv              3.743816\n",
       "price_range      4.579489\n",
       "blue             4.017917\n",
       "n_cores          3.710389\n",
       "wifi             3.636850\n",
       "dual_sim         3.536569\n",
       "ram              4.017917\n",
       "int_memory       3.857468\n",
       "px_height        3.857468\n",
       "clock_speed      3.670277\n",
       "dtype: float64"
      ]
     },
     "execution_count": 10,
     "metadata": {},
     "output_type": "execute_result"
    }
   ],
   "source": [
    "# ver el porcentaje de nulos de forma numerica\n",
    "ds.isnull().sum()*100/len(ds)\n",
    "# otra opción\n",
    "missing = ds.isnull().sum()\n",
    "missing[missing>0]*100/len(ds)"
   ]
  },
  {
   "cell_type": "code",
   "execution_count": 13,
   "metadata": {},
   "outputs": [
    {
     "name": "stdout",
     "output_type": "stream",
     "text": [
      "['??????' 'nan' 'nhbgvfrtd 56gyub']\n"
     ]
    }
   ],
   "source": [
    "import re\n",
    "# siendo que la mayoria de los datos de las columnas son numericos, se realiza la busqueda de atipicos \n",
    "# buscando caracteres no numericos, esto se dedujo gracias al previo analisis del data set.\n",
    "\n",
    "atipic_value=[]\n",
    "for col in ds:\n",
    "    for i in range(len(ds)):\n",
    "        if ds[col].dtype == object:\n",
    "            line = re.sub(r'[a-zA-z/?]', 'nan', str(ds[col][i]))\n",
    "            if re.search(\"nan\", line):\n",
    "                atipic_value.append(ds[col][i])\n",
    "value_unique = np.array(atipic_value)\n",
    "value_unique = np.unique(value_unique)\n",
    "print(value_unique)\n"
   ]
  },
  {
   "cell_type": "code",
   "execution_count": 14,
   "metadata": {},
   "outputs": [
    {
     "name": "stdout",
     "output_type": "stream",
     "text": [
      "-------------------------------------------------------------\n",
      "Calores iguales a  ??????\n",
      "talk_time = 2495\n",
      "battery_power = 2495\n",
      "pc = 2495\n",
      "three_g = 2495\n",
      "mobile_wt = 2495\n",
      "px_width = 2495\n",
      "sc_h = 2495\n",
      "sc_w = 2495\n",
      "m_dep = 2495\n",
      "touch_screen = 2495\n",
      "fc = 2495\n",
      "four_g = 2495\n",
      "hgv = 2495\n",
      "price_range = 2495\n",
      "blue = 2495\n",
      "n_cores = 2495\n",
      "wifi = 2495\n",
      "dual_sim = 2495\n",
      "ram = 2495\n",
      "int_memory = 2495\n",
      "px_height = 2495\n",
      "clock_speed = 2495\n",
      "Calores iguales a  nan\n",
      "Calores iguales a  nhbgvfrtd 56gyub\n",
      "talk_time = 2495\n",
      "battery_power = 2495\n",
      "pc = 2495\n",
      "three_g = 2495\n",
      "mobile_wt = 2495\n",
      "px_width = 2495\n",
      "sc_h = 2495\n",
      "sc_w = 2495\n",
      "m_dep = 2495\n",
      "touch_screen = 2495\n",
      "fc = 2495\n",
      "four_g = 2495\n",
      "hgv = 2495\n",
      "price_range = 2495\n",
      "blue = 2495\n",
      "n_cores = 2495\n",
      "wifi = 2495\n",
      "dual_sim = 2495\n",
      "ram = 2495\n",
      "int_memory = 2495\n",
      "px_height = 2495\n",
      "clock_speed = 2495\n",
      "-------------------------------------------------------------\n"
     ]
    }
   ],
   "source": [
    "print(\"-------------------------------------------------------------\")\n",
    "# print(f\"{frec_1}\")\n",
    "for i in range(len(value_unique)):\n",
    "    print(\"Calores iguales a \",value_unique[i])\n",
    "    frec=ds[ds == value_unique[i]].count()\n",
    "    for col in ds:\n",
    "        if frec[col] > 0:\n",
    "            print(f\"{col} = {frec[col]}\")\n",
    "print(\"-------------------------------------------------------------\")"
   ]
  }
 ],
 "metadata": {
  "kernelspec": {
   "display_name": "Python 3.10.4 64-bit",
   "language": "python",
   "name": "python3"
  },
  "language_info": {
   "codemirror_mode": {
    "name": "ipython",
    "version": 3
   },
   "file_extension": ".py",
   "mimetype": "text/x-python",
   "name": "python",
   "nbconvert_exporter": "python",
   "pygments_lexer": "ipython3",
   "version": "3.10.4"
  },
  "orig_nbformat": 4,
  "vscode": {
   "interpreter": {
    "hash": "916dbcbb3f70747c44a77c7bcd40155683ae19c65e1c03b4aa3499c5328201f1"
   }
  }
 },
 "nbformat": 4,
 "nbformat_minor": 2
}
